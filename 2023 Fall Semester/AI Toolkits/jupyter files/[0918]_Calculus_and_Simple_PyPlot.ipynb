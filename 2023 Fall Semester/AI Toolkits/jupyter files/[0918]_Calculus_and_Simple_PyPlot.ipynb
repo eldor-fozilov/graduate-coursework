{
  "nbformat": 4,
  "nbformat_minor": 0,
  "metadata": {
    "colab": {
      "provenance": []
    },
    "kernelspec": {
      "name": "python3",
      "display_name": "Python 3"
    },
    "language_info": {
      "name": "python"
    }
  },
  "cells": [
    {
      "cell_type": "markdown",
      "source": [
        "### Simple Calculus"
      ],
      "metadata": {
        "id": "KM0Rix8Jqt1t"
      }
    },
    {
      "cell_type": "code",
      "source": [
        "%matplotlib inline\n",
        "import numpy as np\n",
        "import matplotlib.pyplot as plt"
      ],
      "metadata": {
        "id": "5xww-waxZHfq"
      },
      "execution_count": null,
      "outputs": []
    },
    {
      "cell_type": "markdown",
      "source": [
        "### Differentiation and Visualization\n",
        "$f(x) = 3x^2-4x$\n",
        "\n",
        "$f'(x) = \\lim_{h\\rightarrow 0} \\frac{f(x+h)-f(x)}{h} = 6x-4$"
      ],
      "metadata": {
        "id": "gV1yLjH9q1qO"
      }
    },
    {
      "cell_type": "code",
      "source": [
        "def f(x):\n",
        "    return 3 * x ** 2 - 4 * x"
      ],
      "metadata": {
        "id": "VdU4uvzKW-i2"
      },
      "execution_count": null,
      "outputs": []
    },
    {
      "cell_type": "code",
      "source": [
        "pt = 1\n",
        "print('numerically differentiating f(x) at x=', pt)\n",
        "for h in 10.0**np.arange(-1, -6, -1):\n",
        "    print(f'h={h:.5f}, numerical limit={(f(pt+h)-f(pt))/h:.5f}')\n",
        "\n",
        "slope = (f(pt+h)-f(pt))/h\n",
        "intercept = f(pt) - slope * pt"
      ],
      "metadata": {
        "colab": {
          "base_uri": "https://localhost:8080/"
        },
        "id": "pNorTLB-ZEQA",
        "outputId": "b890b228-518f-4f4b-ef66-6d96a40dba07"
      },
      "execution_count": null,
      "outputs": [
        {
          "output_type": "stream",
          "name": "stdout",
          "text": [
            "numerically differentiating f(x) at x= 1\n",
            "h=0.10000, numerical limit=2.30000\n",
            "h=0.01000, numerical limit=2.03000\n",
            "h=0.00100, numerical limit=2.00300\n",
            "h=0.00010, numerical limit=2.00030\n",
            "h=0.00001, numerical limit=2.00003\n"
          ]
        }
      ]
    },
    {
      "cell_type": "code",
      "source": [
        "x = np.arange(0, 3, 0.1)\n",
        "\n",
        "plt.figure(figsize=(4, 3))\n",
        "plt.plot(x, f(x), '-')\n",
        "plt.plot(x, slope * x + intercept, 'g--')\n",
        "plt.plot(pt, f(pt), 'ro')\n",
        "plt.legend(['f(x)', 'Tangent Line (x = 1)', 'point'])"
      ],
      "metadata": {
        "colab": {
          "base_uri": "https://localhost:8080/",
          "height": 309
        },
        "id": "U1o8siATZFxy",
        "outputId": "f4a8c0ff-2d09-4343-9463-99bc0ffe2cce"
      },
      "execution_count": null,
      "outputs": [
        {
          "output_type": "execute_result",
          "data": {
            "text/plain": [
              "<matplotlib.legend.Legend at 0x7db14534c0a0>"
            ]
          },
          "metadata": {},
          "execution_count": 25
        },
        {
          "output_type": "display_data",
          "data": {
            "text/plain": [
              "<Figure size 400x300 with 1 Axes>"
            ],
            "image/png": "[encoded data removed]"
          },
          "metadata": {}
        }
      ]
    }
  ]
}