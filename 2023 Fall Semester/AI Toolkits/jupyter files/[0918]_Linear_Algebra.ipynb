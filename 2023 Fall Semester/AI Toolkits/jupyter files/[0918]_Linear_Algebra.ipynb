{
  "nbformat": 4,
  "nbformat_minor": 0,
  "metadata": {
    "colab": {
      "provenance": []
    },
    "kernelspec": {
      "name": "python3",
      "display_name": "Python 3"
    },
    "language_info": {
      "name": "python"
    }
  },
  "cells": [
    {
      "cell_type": "code",
      "execution_count": null,
      "metadata": {
        "id": "mRI9HuZW_K7B"
      },
      "outputs": [],
      "source": [
        "import torch"
      ]
    },
    {
      "cell_type": "markdown",
      "source": [
        "## Linear Algebra"
      ],
      "metadata": {
        "id": "qPzGBs4HqrTm"
      }
    },
    {
      "cell_type": "markdown",
      "source": [
        "### Scalars\n",
        "Usually denoted with a lower case letter, such that $x \\in \\mathbb{R}$."
      ],
      "metadata": {
        "id": "Q8eLNQ6gQG7L"
      }
    },
    {
      "cell_type": "code",
      "source": [
        "a = torch.tensor(3.0)\n",
        "b = torch.tensor(2.0)\n",
        "print(a.item())\n",
        "print(a+b, a*b, a/b, a**b)"
      ],
      "metadata": {
        "colab": {
          "base_uri": "https://localhost:8080/"
        },
        "id": "nVLUJSWxCEf6",
        "outputId": "a5d3236a-45e8-42cc-a26c-faca7fe998be"
      },
      "execution_count": null,
      "outputs": [
        {
          "output_type": "stream",
          "name": "stdout",
          "text": [
            "3.0\n",
            "tensor(5.) tensor(6.) tensor(1.5000) tensor(9.)\n"
          ]
        }
      ]
    },
    {
      "cell_type": "markdown",
      "source": [
        "### Vectors\n",
        "Usually denoted with a bold lower case letter, such that $\\mathbf{x} \\in \\mathbb{R}^d$, where $\\mathbf{x}$ is a $d$-dimensional vector."
      ],
      "metadata": {
        "id": "PbPEtBfTQYcD"
      }
    },
    {
      "cell_type": "code",
      "source": [
        "x = torch.arange(3, dtype=torch.float32)\n",
        "print('Original Vector x: \\t\\t\\t', x)\n",
        "print('3rd element of x: \\t\\t\\t', x[2])\n",
        "print('length/dimension of vector: \\t\\t', len(x))\n",
        "print('shape of x, defined in torch: \\t\\t', x.shape)\n",
        "print('Sum of elements in x: \\t\\t\\t', x.sum())\n",
        "print()\n",
        "\n",
        "y = torch.ones(3, dtype=torch.float32)\n",
        "print('Original Vector y: \\t\\t\\t', y)\n",
        "print('Inner product between x and y (ver1): \\t', torch.dot(x, y))\n",
        "print('Inner product between x and y (ver2): \\t', torch.sum(x*y))"
      ],
      "metadata": {
        "colab": {
          "base_uri": "https://localhost:8080/"
        },
        "id": "_RmZLaUjCJfL",
        "outputId": "7686b9c1-8a38-4fd1-9321-fc284eed9f11"
      },
      "execution_count": null,
      "outputs": [
        {
          "output_type": "stream",
          "name": "stdout",
          "text": [
            "Original Vector x: \t\t\t tensor([0., 1., 2.])\n",
            "3rd element of x: \t\t\t tensor(2.)\n",
            "length/dimension of vector: \t\t 3\n",
            "shape of x, defined in torch: \t\t torch.Size([3])\n",
            "Sum of elements in x: \t\t\t tensor(3.)\n",
            "\n",
            "Original Vector y: \t\t\t tensor([1., 1., 1.])\n",
            "Inner product between x and y (ver1): \t tensor(3.)\n",
            "Inner product between x and y (ver2): \t tensor(3.)\n"
          ]
        }
      ]
    },
    {
      "cell_type": "markdown",
      "source": [
        "### Matrices\n",
        "Usually denoted with bold upper case letter, such that $\\mathbf{A} \\in \\mathbb{R}^{m \\times n}$, where $\\mathbf{A}$ has $m$ rows and $n$ columns."
      ],
      "metadata": {
        "id": "i4FpXGsVRRpt"
      }
    },
    {
      "cell_type": "code",
      "source": [
        "A = torch.arange(6, dtype=torch.float32).reshape(2, 3)\n",
        "\n",
        "print('Original matrix A: ')\n",
        "print(A)\n",
        "print()\n",
        "\n",
        "print('Transpose of matrix A: ')\n",
        "print(A.T)"
      ],
      "metadata": {
        "colab": {
          "base_uri": "https://localhost:8080/"
        },
        "id": "9-cJ2SoOCLdS",
        "outputId": "a3104588-2281-41c7-fc99-d0a25c6e86a1"
      },
      "execution_count": null,
      "outputs": [
        {
          "output_type": "stream",
          "name": "stdout",
          "text": [
            "Original matrix A: \n",
            "tensor([[0., 1., 2.],\n",
            "        [3., 4., 5.]])\n",
            "\n",
            "Transpose of matrix A: \n",
            "tensor([[0., 3.],\n",
            "        [1., 4.],\n",
            "        [2., 5.]])\n"
          ]
        }
      ]
    },
    {
      "cell_type": "code",
      "source": [
        "print('Shape of A, defined in torch: \\t\\t', A.shape)\n",
        "print('Sum of all elements in A: \\t\\t', A.sum())\n",
        "print('Sum of each column of A: \\t\\t', A.sum(dim=0))\n",
        "print('Shape of A after summing each column: \\t', A.sum(dim=0).shape)\n",
        "print()\n",
        "\n",
        "print('Sum of each column in A, w/o dimension reduction: \\t\\t', A.sum(dim=0, keepdims=True))\n",
        "print('Shape of A after summing each column, w/o dimension reduction: \\t', A.sum(dim=0, keepdims=True).shape)\n",
        "print()"
      ],
      "metadata": {
        "colab": {
          "base_uri": "https://localhost:8080/"
        },
        "id": "covtUT238xUs",
        "outputId": "dd1d882d-0e69-45b5-d37a-57a702c20ffb"
      },
      "execution_count": null,
      "outputs": [
        {
          "output_type": "stream",
          "name": "stdout",
          "text": [
            "Shape of A, defined in torch: \t\t torch.Size([2, 3])\n",
            "Sum of all elements in A: \t\t tensor(15.)\n",
            "Sum of each column of A: \t\t tensor([3., 5., 7.])\n",
            "Shape of A after summing each column: \t torch.Size([3])\n",
            "\n",
            "Sum of each column in A, w/o dimension reduction: \t\t tensor([[3., 5., 7.]])\n",
            "Shape of A after summing each column, w/o dimension reduction: \t torch.Size([1, 3])\n",
            "\n"
          ]
        }
      ]
    },
    {
      "cell_type": "code",
      "source": [
        "A = torch.arange(12, dtype=torch.float32).reshape(4, 3)\n",
        "print('Original matrix A: ')\n",
        "print(A)\n",
        "print()\n",
        "\n",
        "print('Cumulative summation for each column')\n",
        "print(A.cumsum(dim=0))\n",
        "print()\n",
        "\n",
        "print('Mean of elements in A (ver1): \\t\\t', A.mean())\n",
        "print('Mean of elements in A (ver2): \\t\\t', A.sum()/A.numel())\n",
        "print('Mean of elements in each column of A: \\t', A.mean(dim=0))\n",
        "print()\n",
        "\n",
        "sum_A = A.sum(dim=1, keepdims=True)\n",
        "print('Shape of A after summing each row, w/o dimension reduction: ')\n",
        "print(sum_A)\n",
        "print()\n",
        "\n",
        "print('Division between A and sum_A by Broadcasting: ')\n",
        "print(A/sum_A)"
      ],
      "metadata": {
        "colab": {
          "base_uri": "https://localhost:8080/"
        },
        "id": "n2abZdBG8z0g",
        "outputId": "67cbf200-01da-4e9f-8d5f-17833dba5da3"
      },
      "execution_count": null,
      "outputs": [
        {
          "output_type": "stream",
          "name": "stdout",
          "text": [
            "Original matrix A: \n",
            "tensor([[ 0.,  1.,  2.],\n",
            "        [ 3.,  4.,  5.],\n",
            "        [ 6.,  7.,  8.],\n",
            "        [ 9., 10., 11.]])\n",
            "\n",
            "Cumulative summation for each column\n",
            "tensor([[ 0.,  1.,  2.],\n",
            "        [ 3.,  5.,  7.],\n",
            "        [ 9., 12., 15.],\n",
            "        [18., 22., 26.]])\n",
            "\n",
            "Mean of elements in A (ver1): \t\t tensor(5.5000)\n",
            "Mean of elements in A (ver2): \t\t tensor(5.5000)\n",
            "Mean of elements in each column of A: \t tensor([4.5000, 5.5000, 6.5000])\n",
            "\n",
            "Shape of A after summing each row, w/o dimension reduction: \n",
            "tensor([[ 3.],\n",
            "        [12.],\n",
            "        [21.],\n",
            "        [30.]])\n",
            "\n",
            "Division between A and sum_A by Broadcasting: \n",
            "tensor([[0.0000, 0.3333, 0.6667],\n",
            "        [0.2500, 0.3333, 0.4167],\n",
            "        [0.2857, 0.3333, 0.3810],\n",
            "        [0.3000, 0.3333, 0.3667]])\n"
          ]
        }
      ]
    },
    {
      "cell_type": "code",
      "source": [
        "A = torch.arange(24).reshape(2, 3, 4)\n",
        "print(A.shape)\n",
        "# print(A)\n",
        "\n",
        "sum_A = A.sum(dim=(0, 2), keepdims=True)\n",
        "print(sum_A.shape)\n",
        "\n",
        "print(A/sum_A)"
      ],
      "metadata": {
        "colab": {
          "base_uri": "https://localhost:8080/"
        },
        "id": "F6Wx9HH71eiT",
        "outputId": "7e022119-14e6-4554-b956-de080b5b1b43"
      },
      "execution_count": null,
      "outputs": [
        {
          "output_type": "stream",
          "name": "stdout",
          "text": [
            "torch.Size([2, 3, 4])\n",
            "torch.Size([1, 3, 1])\n",
            "tensor([[[0.0000, 0.0167, 0.0333, 0.0500],\n",
            "         [0.0435, 0.0543, 0.0652, 0.0761],\n",
            "         [0.0645, 0.0726, 0.0806, 0.0887]],\n",
            "\n",
            "        [[0.2000, 0.2167, 0.2333, 0.2500],\n",
            "         [0.1739, 0.1848, 0.1957, 0.2065],\n",
            "         [0.1613, 0.1694, 0.1774, 0.1855]]])\n"
          ]
        }
      ]
    },
    {
      "cell_type": "markdown",
      "source": [
        "### Multiplication with Matrix"
      ],
      "metadata": {
        "id": "EPN_OnBRmOSD"
      }
    },
    {
      "cell_type": "code",
      "source": [
        "A = torch.arange(6, dtype=torch.float32).reshape(2, 3)\n",
        "print('Original matrix A, with shape: ', A.shape)\n",
        "print(A)\n",
        "print()\n",
        "\n",
        "B = torch.ones(3, 4)\n",
        "print('Original matrix B, with shape: ', B.shape)\n",
        "print(B)\n",
        "print()\n",
        "\n",
        "x = torch.arange(3, dtype=torch.float32)\n",
        "print('Original Vector: \\t', x)"
      ],
      "metadata": {
        "colab": {
          "base_uri": "https://localhost:8080/"
        },
        "id": "kPCa2aLXWk8l",
        "outputId": "ddf1607e-3f9e-4b30-c479-98c7e9152e5b"
      },
      "execution_count": null,
      "outputs": [
        {
          "output_type": "stream",
          "name": "stdout",
          "text": [
            "Original matrix A, with shape:  torch.Size([2, 3])\n",
            "tensor([[0., 1., 2.],\n",
            "        [3., 4., 5.]])\n",
            "\n",
            "Original matrix B, with shape:  torch.Size([3, 4])\n",
            "tensor([[1., 1., 1., 1.],\n",
            "        [1., 1., 1., 1.],\n",
            "        [1., 1., 1., 1.]])\n",
            "\n",
            "Original Vector: \t tensor([0., 1., 2.])\n"
          ]
        }
      ]
    },
    {
      "cell_type": "code",
      "source": [
        "print('Shape of matrix A: \\t', A.shape)\n",
        "print('Shape of vector x: \\t', x.shape)\n",
        "print('Result of Ax (ver1): \\t', torch.mv(A, x), ' with shape ', torch.mv(A, x).shape)\n",
        "print('Result of Ax (ver2): \\t', (A@x), ' with shape ', (A@x).shape)\n",
        "print()\n",
        "\n",
        "print('Result of AB (ver1), with shape ', torch.mm(A, B).shape)\n",
        "print(torch.mm(A, B))\n",
        "print()\n",
        "\n",
        "print('Result of AB (ver2), with shape ', (A@B).shape)\n",
        "print(A@B)"
      ],
      "metadata": {
        "colab": {
          "base_uri": "https://localhost:8080/"
        },
        "id": "-PTZ4og48_gW",
        "outputId": "c30a04fa-286f-4bd7-aaf3-dc523105db2c"
      },
      "execution_count": null,
      "outputs": [
        {
          "output_type": "stream",
          "name": "stdout",
          "text": [
            "Shape of matrix A: \t torch.Size([2, 3])\n",
            "Shape of vector x: \t torch.Size([3])\n",
            "Result of Ax (ver1): \t tensor([ 5., 14.])  with shape  torch.Size([2])\n",
            "Result of Ax (ver2): \t tensor([ 5., 14.])  with shape  torch.Size([2])\n",
            "\n",
            "Result of AB (ver1), with shape  torch.Size([2, 4])\n",
            "tensor([[ 3.,  3.,  3.,  3.],\n",
            "        [12., 12., 12., 12.]])\n",
            "\n",
            "Result of AB (ver2), with shape  torch.Size([2, 4])\n",
            "tensor([[ 3.,  3.,  3.,  3.],\n",
            "        [12., 12., 12., 12.]])\n"
          ]
        }
      ]
    },
    {
      "cell_type": "code",
      "source": [
        "batch_size = 64\n",
        "w = 10\n",
        "h = 5\n",
        "l = 7\n",
        "\n",
        "A = torch.rand(batch_size, w, h)\n",
        "B = torch.rand(batch_size, h, l)\n",
        "\n",
        "result = torch.bmm(A, B)\n",
        "print(result.shape)"
      ],
      "metadata": {
        "colab": {
          "base_uri": "https://localhost:8080/"
        },
        "id": "uPi54mg72-PB",
        "outputId": "c4c07924-a697-4275-aedc-28ff5e98b178"
      },
      "execution_count": null,
      "outputs": [
        {
          "output_type": "stream",
          "name": "stdout",
          "text": [
            "torch.Size([64, 10, 7])\n"
          ]
        }
      ]
    },
    {
      "cell_type": "markdown",
      "source": [
        "### Tensor\n",
        "A generic way of describing extensions to $n$-th order arrays."
      ],
      "metadata": {
        "id": "JrmAXWIVofbC"
      }
    },
    {
      "cell_type": "code",
      "source": [
        "B = torch.arange(24).reshape(2, 3, 4)\n",
        "print('Original Tensor B, with shape: ', B.shape)\n",
        "print(B)"
      ],
      "metadata": {
        "colab": {
          "base_uri": "https://localhost:8080/"
        },
        "id": "CJHixW02U9tB",
        "outputId": "5d011a6d-c35d-40bd-9737-e844bc523124"
      },
      "execution_count": null,
      "outputs": [
        {
          "output_type": "stream",
          "name": "stdout",
          "text": [
            "Original Tensor B, with shape:  torch.Size([2, 3, 4])\n",
            "tensor([[[ 0,  1,  2,  3],\n",
            "         [ 4,  5,  6,  7],\n",
            "         [ 8,  9, 10, 11]],\n",
            "\n",
            "        [[12, 13, 14, 15],\n",
            "         [16, 17, 18, 19],\n",
            "         [20, 21, 22, 23]]])\n"
          ]
        }
      ]
    },
    {
      "cell_type": "markdown",
      "source": [
        "### Basic Properties of Tensor Arithmetic"
      ],
      "metadata": {
        "id": "oA5eGMg7oyFh"
      }
    },
    {
      "cell_type": "markdown",
      "source": [
        "#### Cloning the Tensor"
      ],
      "metadata": {
        "id": "kWWk2Mg1o9Kq"
      }
    },
    {
      "cell_type": "code",
      "source": [
        "import copy\n",
        "\n",
        "A = torch.arange(6, dtype=torch.float32).reshape(2, 3)\n",
        "# B = A.clone() # make copy of A by assigning new memory to B\n",
        "B = copy.deepcopy(A)\n",
        "print('Original Matrix A:')\n",
        "print(A)\n",
        "print()\n",
        "\n",
        "print('Matrix 2*A: ')\n",
        "print(A+B)\n",
        "print()\n",
        "\n",
        "print('Matrix A.*A (element-wise multiplication): ')\n",
        "print(A*B)"
      ],
      "metadata": {
        "colab": {
          "base_uri": "https://localhost:8080/"
        },
        "id": "2hEOSlu8CWdi",
        "outputId": "83e42b57-5526-4b4d-b157-da958e844753"
      },
      "execution_count": null,
      "outputs": [
        {
          "output_type": "stream",
          "name": "stdout",
          "text": [
            "Original Matrix A:\n",
            "tensor([[0., 1., 2.],\n",
            "        [3., 4., 5.]])\n",
            "\n",
            "Matrix 2*A: \n",
            "tensor([[ 0.,  2.,  4.],\n",
            "        [ 6.,  8., 10.]])\n",
            "\n",
            "Matrix A.*A (element-wise multiplication): \n",
            "tensor([[ 0.,  1.,  4.],\n",
            "        [ 9., 16., 25.]])\n"
          ]
        }
      ]
    },
    {
      "cell_type": "markdown",
      "source": [
        "### Adding the constant"
      ],
      "metadata": {
        "id": "pP2gux1upFBq"
      }
    },
    {
      "cell_type": "code",
      "source": [
        "a = 2\n",
        "X = torch.arange(24).reshape(2, 3, 4)\n",
        "\n",
        "print('Result of adding constant a to Tensor X, with shape: ', (a+X).shape)\n",
        "print(a+X)"
      ],
      "metadata": {
        "colab": {
          "base_uri": "https://localhost:8080/"
        },
        "id": "Ny1ohMVUVO0F",
        "outputId": "38d2627a-3232-4ce5-aacc-31c9164f2818"
      },
      "execution_count": null,
      "outputs": [
        {
          "output_type": "stream",
          "name": "stdout",
          "text": [
            "Result of adding constant a to Tensor X, with shape:  torch.Size([2, 3, 4])\n",
            "tensor([[[ 2,  3,  4,  5],\n",
            "         [ 6,  7,  8,  9],\n",
            "         [10, 11, 12, 13]],\n",
            "\n",
            "        [[14, 15, 16, 17],\n",
            "         [18, 19, 20, 21],\n",
            "         [22, 23, 24, 25]]])\n"
          ]
        }
      ]
    },
    {
      "cell_type": "markdown",
      "source": [
        "### Norms\n",
        "$l_p$ norm of vector $\\mathbf{x}$: $\\|\\mathbf{x}\\|_p = \\Big( \\sum_{i=1}^n |x_i|^p\\Big)^{1/p}$\n",
        "\n",
        "Frobenius norm for matrix $\\mathbf{X}$: $\\|\\mathbf{X}\\|_F = \\sqrt{\\sum_{i=1}^m \\sum_{j=1}^n x_{ij}^2}$"
      ],
      "metadata": {
        "id": "vqJWUWXjpdsy"
      }
    },
    {
      "cell_type": "code",
      "source": [
        "u = torch.tensor([3.0, -4.0])\n",
        "print('Original vector u: \\t\\t', u)\n",
        "print('l2(Euclidean) norm of u: \\t', torch.norm(u))\n",
        "print('l1 norm of u (ver1): \\t\\t', torch.abs(u).sum())\n",
        "print('l1 norm of u (ver2): \\t\\t', torch.norm(u, p=1))\n",
        "\n",
        "A = torch.ones(4, 9)\n",
        "print('Original Matrix A:')\n",
        "print(A)\n",
        "print('Frobenius Norm of A: ', torch.norm(A))"
      ],
      "metadata": {
        "colab": {
          "base_uri": "https://localhost:8080/"
        },
        "id": "ZeyxOZVYVVww",
        "outputId": "37560585-7c0a-46a3-b7bf-757bc9272b10"
      },
      "execution_count": null,
      "outputs": [
        {
          "output_type": "stream",
          "name": "stdout",
          "text": [
            "Original vector u: \t\t tensor([ 3., -4.])\n",
            "l2(Euclidean) norm of u: \t tensor(5.)\n",
            "l1 norm of u (ver1): \t\t tensor(7.)\n",
            "l1 norm of u (ver2): \t\t tensor(7.)\n",
            "Original Matrix A:\n",
            "tensor([[1., 1., 1., 1., 1., 1., 1., 1., 1.],\n",
            "        [1., 1., 1., 1., 1., 1., 1., 1., 1.],\n",
            "        [1., 1., 1., 1., 1., 1., 1., 1., 1.],\n",
            "        [1., 1., 1., 1., 1., 1., 1., 1., 1.]])\n",
            "Frobenius Norm of A:  tensor(6.)\n"
          ]
        }
      ]
    }
  ]
}