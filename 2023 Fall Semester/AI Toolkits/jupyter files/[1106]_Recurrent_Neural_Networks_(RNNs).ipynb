{
  "nbformat": 4,
  "nbformat_minor": 0,
  "metadata": {
    "colab": {
      "provenance": []
    },
    "kernelspec": {
      "name": "python3",
      "display_name": "Python 3"
    },
    "accelerator": "GPU",
    "widgets": {
      "application/vnd.jupyter.widget-state+json": {
        "3d57adc7afa04541b8ecff62fc8fe736": {
          "model_module": "@jupyter-widgets/controls",
          "model_name": "HBoxModel",
          "model_module_version": "1.5.0",
          "state": {
            "_dom_classes": [],
            "_model_module": "@jupyter-widgets/controls",
            "_model_module_version": "1.5.0",
            "_model_name": "HBoxModel",
            "_view_count": null,
            "_view_module": "@jupyter-widgets/controls",
            "_view_module_version": "1.5.0",
            "_view_name": "HBoxView",
            "box_style": "",
            "children": [
              "IPY_MODEL_46ba8fd209af407bb7d89d86f46c3860",
              "IPY_MODEL_5da2668c498643a2a0fafdf20ccf8d3c",
              "IPY_MODEL_0c858a10087e4cdf8617fb4183775eac"
            ],
            "layout": "IPY_MODEL_3c63714ebc59447f916ceafea828d9e5"
          }
        },
        "46ba8fd209af407bb7d89d86f46c3860": {
          "model_module": "@jupyter-widgets/controls",
          "model_name": "HTMLModel",
          "model_module_version": "1.5.0",
          "state": {
            "_dom_classes": [],
            "_model_module": "@jupyter-widgets/controls",
            "_model_module_version": "1.5.0",
            "_model_name": "HTMLModel",
            "_view_count": null,
            "_view_module": "@jupyter-widgets/controls",
            "_view_module_version": "1.5.0",
            "_view_name": "HTMLView",
            "description": "",
            "description_tooltip": null,
            "layout": "IPY_MODEL_688f1fcf059a46beaf54d01ff96c6ee4",
            "placeholder": "​",
            "style": "IPY_MODEL_04e828bbd2ee4c6ca9d39b0a47743177",
            "value": "100%"
          }
        },
        "5da2668c498643a2a0fafdf20ccf8d3c": {
          "model_module": "@jupyter-widgets/controls",
          "model_name": "FloatProgressModel",
          "model_module_version": "1.5.0",
          "state": {
            "_dom_classes": [],
            "_model_module": "@jupyter-widgets/controls",
            "_model_module_version": "1.5.0",
            "_model_name": "FloatProgressModel",
            "_view_count": null,
            "_view_module": "@jupyter-widgets/controls",
            "_view_module_version": "1.5.0",
            "_view_name": "ProgressView",
            "bar_style": "success",
            "description": "",
            "description_tooltip": null,
            "layout": "IPY_MODEL_4a8d31199a5844408f95749fbaa93511",
            "max": 100,
            "min": 0,
            "orientation": "horizontal",
            "style": "IPY_MODEL_a62ed32fa25b47509087c8026218a8ef",
            "value": 100
          }
        },
        "0c858a10087e4cdf8617fb4183775eac": {
          "model_module": "@jupyter-widgets/controls",
          "model_name": "HTMLModel",
          "model_module_version": "1.5.0",
          "state": {
            "_dom_classes": [],
            "_model_module": "@jupyter-widgets/controls",
            "_model_module_version": "1.5.0",
            "_model_name": "HTMLModel",
            "_view_count": null,
            "_view_module": "@jupyter-widgets/controls",
            "_view_module_version": "1.5.0",
            "_view_name": "HTMLView",
            "description": "",
            "description_tooltip": null,
            "layout": "IPY_MODEL_d3086312c0384b1ba1885ad67a12ca1c",
            "placeholder": "​",
            "style": "IPY_MODEL_7e83c5232a414aa3ae3d67bd5a4725a1",
            "value": " 100/100 [00:33&lt;00:00,  3.42it/s]"
          }
        },
        "3c63714ebc59447f916ceafea828d9e5": {
          "model_module": "@jupyter-widgets/base",
          "model_name": "LayoutModel",
          "model_module_version": "1.2.0",
          "state": {
            "_model_module": "@jupyter-widgets/base",
            "_model_module_version": "1.2.0",
            "_model_name": "LayoutModel",
            "_view_count": null,
            "_view_module": "@jupyter-widgets/base",
            "_view_module_version": "1.2.0",
            "_view_name": "LayoutView",
            "align_content": null,
            "align_items": null,
            "align_self": null,
            "border": null,
            "bottom": null,
            "display": null,
            "flex": null,
            "flex_flow": null,
            "grid_area": null,
            "grid_auto_columns": null,
            "grid_auto_flow": null,
            "grid_auto_rows": null,
            "grid_column": null,
            "grid_gap": null,
            "grid_row": null,
            "grid_template_areas": null,
            "grid_template_columns": null,
            "grid_template_rows": null,
            "height": null,
            "justify_content": null,
            "justify_items": null,
            "left": null,
            "margin": null,
            "max_height": null,
            "max_width": null,
            "min_height": null,
            "min_width": null,
            "object_fit": null,
            "object_position": null,
            "order": null,
            "overflow": null,
            "overflow_x": null,
            "overflow_y": null,
            "padding": null,
            "right": null,
            "top": null,
            "visibility": null,
            "width": null
          }
        },
        "688f1fcf059a46beaf54d01ff96c6ee4": {
          "model_module": "@jupyter-widgets/base",
          "model_name": "LayoutModel",
          "model_module_version": "1.2.0",
          "state": {
            "_model_module": "@jupyter-widgets/base",
            "_model_module_version": "1.2.0",
            "_model_name": "LayoutModel",
            "_view_count": null,
            "_view_module": "@jupyter-widgets/base",
            "_view_module_version": "1.2.0",
            "_view_name": "LayoutView",
            "align_content": null,
            "align_items": null,
            "align_self": null,
            "border": null,
            "bottom": null,
            "display": null,
            "flex": null,
            "flex_flow": null,
            "grid_area": null,
            "grid_auto_columns": null,
            "grid_auto_flow": null,
            "grid_auto_rows": null,
            "grid_column": null,
            "grid_gap": null,
            "grid_row": null,
            "grid_template_areas": null,
            "grid_template_columns": null,
            "grid_template_rows": null,
            "height": null,
            "justify_content": null,
            "justify_items": null,
            "left": null,
            "margin": null,
            "max_height": null,
            "max_width": null,
            "min_height": null,
            "min_width": null,
            "object_fit": null,
            "object_position": null,
            "order": null,
            "overflow": null,
            "overflow_x": null,
            "overflow_y": null,
            "padding": null,
            "right": null,
            "top": null,
            "visibility": null,
            "width": null
          }
        },
        "04e828bbd2ee4c6ca9d39b0a47743177": {
          "model_module": "@jupyter-widgets/controls",
          "model_name": "DescriptionStyleModel",
          "model_module_version": "1.5.0",
          "state": {
            "_model_module": "@jupyter-widgets/controls",
            "_model_module_version": "1.5.0",
            "_model_name": "DescriptionStyleModel",
            "_view_count": null,
            "_view_module": "@jupyter-widgets/base",
            "_view_module_version": "1.2.0",
            "_view_name": "StyleView",
            "description_width": ""
          }
        },
        "4a8d31199a5844408f95749fbaa93511": {
          "model_module": "@jupyter-widgets/base",
          "model_name": "LayoutModel",
          "model_module_version": "1.2.0",
          "state": {
            "_model_module": "@jupyter-widgets/base",
            "_model_module_version": "1.2.0",
            "_model_name": "LayoutModel",
            "_view_count": null,
            "_view_module": "@jupyter-widgets/base",
            "_view_module_version": "1.2.0",
            "_view_name": "LayoutView",
            "align_content": null,
            "align_items": null,
            "align_self": null,
            "border": null,
            "bottom": null,
            "display": null,
            "flex": null,
            "flex_flow": null,
            "grid_area": null,
            "grid_auto_columns": null,
            "grid_auto_flow": null,
            "grid_auto_rows": null,
            "grid_column": null,
            "grid_gap": null,
            "grid_row": null,
            "grid_template_areas": null,
            "grid_template_columns": null,
            "grid_template_rows": null,
            "height": null,
            "justify_content": null,
            "justify_items": null,
            "left": null,
            "margin": null,
            "max_height": null,
            "max_width": null,
            "min_height": null,
            "min_width": null,
            "object_fit": null,
            "object_position": null,
            "order": null,
            "overflow": null,
            "overflow_x": null,
            "overflow_y": null,
            "padding": null,
            "right": null,
            "top": null,
            "visibility": null,
            "width": null
          }
        },
        "a62ed32fa25b47509087c8026218a8ef": {
          "model_module": "@jupyter-widgets/controls",
          "model_name": "ProgressStyleModel",
          "model_module_version": "1.5.0",
          "state": {
            "_model_module": "@jupyter-widgets/controls",
            "_model_module_version": "1.5.0",
            "_model_name": "ProgressStyleModel",
            "_view_count": null,
            "_view_module": "@jupyter-widgets/base",
            "_view_module_version": "1.2.0",
            "_view_name": "StyleView",
            "bar_color": null,
            "description_width": ""
          }
        },
        "d3086312c0384b1ba1885ad67a12ca1c": {
          "model_module": "@jupyter-widgets/base",
          "model_name": "LayoutModel",
          "model_module_version": "1.2.0",
          "state": {
            "_model_module": "@jupyter-widgets/base",
            "_model_module_version": "1.2.0",
            "_model_name": "LayoutModel",
            "_view_count": null,
            "_view_module": "@jupyter-widgets/base",
            "_view_module_version": "1.2.0",
            "_view_name": "LayoutView",
            "align_content": null,
            "align_items": null,
            "align_self": null,
            "border": null,
            "bottom": null,
            "display": null,
            "flex": null,
            "flex_flow": null,
            "grid_area": null,
            "grid_auto_columns": null,
            "grid_auto_flow": null,
            "grid_auto_rows": null,
            "grid_column": null,
            "grid_gap": null,
            "grid_row": null,
            "grid_template_areas": null,
            "grid_template_columns": null,
            "grid_template_rows": null,
            "height": null,
            "justify_content": null,
            "justify_items": null,
            "left": null,
            "margin": null,
            "max_height": null,
            "max_width": null,
            "min_height": null,
            "min_width": null,
            "object_fit": null,
            "object_position": null,
            "order": null,
            "overflow": null,
            "overflow_x": null,
            "overflow_y": null,
            "padding": null,
            "right": null,
            "top": null,
            "visibility": null,
            "width": null
          }
        },
        "7e83c5232a414aa3ae3d67bd5a4725a1": {
          "model_module": "@jupyter-widgets/controls",
          "model_name": "DescriptionStyleModel",
          "model_module_version": "1.5.0",
          "state": {
            "_model_module": "@jupyter-widgets/controls",
            "_model_module_version": "1.5.0",
            "_model_name": "DescriptionStyleModel",
            "_view_count": null,
            "_view_module": "@jupyter-widgets/base",
            "_view_module_version": "1.2.0",
            "_view_name": "StyleView",
            "description_width": ""
          }
        }
      }
    }
  },
  "cells": [
    {
      "cell_type": "code",
      "metadata": {
        "id": "rQO90yEK24X8"
      },
      "source": [
        "import numpy as np\n",
        "import torch\n",
        "import torch.nn as nn\n",
        "from torch.utils.data import Dataset, DataLoader\n",
        "\n",
        "from tqdm.notebook import tqdm"
      ],
      "execution_count": null,
      "outputs": []
    },
    {
      "cell_type": "code",
      "metadata": {
        "colab": {
          "base_uri": "https://localhost:8080/"
        },
        "id": "xcdpjvBb2psF",
        "outputId": "6d53e56d-ca33-44a1-f10c-9b4a1100ce90"
      },
      "source": [
        "!wget http://www.cs.cmu.edu/afs/cs/project/ai-repository/ai/areas/nlp/corpora/names/female.txt"
      ],
      "execution_count": null,
      "outputs": [
        {
          "output_type": "stream",
          "name": "stdout",
          "text": [
            "--2023-11-06 05:34:35--  http://www.cs.cmu.edu/afs/cs/project/ai-repository/ai/areas/nlp/corpora/names/female.txt\n",
            "Resolving www.cs.cmu.edu (www.cs.cmu.edu)... 128.2.42.95\n",
            "Connecting to www.cs.cmu.edu (www.cs.cmu.edu)|128.2.42.95|:80... connected.\n",
            "HTTP request sent, awaiting response... 200 OK\n",
            "Length: 35751 (35K) [text/plain]\n",
            "Saving to: ‘female.txt’\n",
            "\n",
            "female.txt          100%[===================>]  34.91K   225KB/s    in 0.2s    \n",
            "\n",
            "2023-11-06 05:34:36 (225 KB/s) - ‘female.txt’ saved [35751/35751]\n",
            "\n"
          ]
        }
      ]
    },
    {
      "cell_type": "code",
      "metadata": {
        "id": "M494X00Js1ig"
      },
      "source": [
        "device = 'cuda' if torch.cuda.is_available() else 'cpu'"
      ],
      "execution_count": null,
      "outputs": []
    },
    {
      "cell_type": "code",
      "metadata": {
        "colab": {
          "base_uri": "https://localhost:8080/"
        },
        "id": "toeJz1ewgdmF",
        "outputId": "ad3ebc6f-53ad-4582-b78d-2e56d32dde7c"
      },
      "source": [
        "# read the lines\n",
        "with open('female.txt', 'r') as f:\n",
        "    lines = f.readlines()\n",
        "print(lines)"
      ],
      "execution_count": null,
      "outputs": [
        {
          "output_type": "stream",
          "name": "stdout",
          "text": [
            "['# List of common female names.\\n', '# Copyright (c) January 1991 by Mark Kantrowitz.\\n', '# 4987 names\\n', '# Thanks to Bill.Ross for about 1000 additional names.\\n', '# Version 1.3 (29-MAR-94)\\n', '\\n', 'Abagael\\n', 'Abagail\\n', 'Abbe\\n', 'Abbey\\n', 'Abbi\\n', 'Abbie\\n', 'Abby\\n', 'Abigael\\n', 'Abigail\\n', 'Abigale\\n', 'Abra\\n', 'Acacia\\n', 'Ada\\n', 'Adah\\n', 'Adaline\\n', 'Adara\\n', 'Addie\\n', 'Addis\\n', 'Adel\\n', 'Adela\\n', 'Adelaide\\n', 'Adele\\n', 'Adelice\\n', 'Adelina\\n', 'Adelind\\n', 'Adeline\\n', 'Adella\\n', 'Adelle\\n', 'Adena\\n', 'Adey\\n', 'Adi\\n', 'Adiana\\n', 'Adina\\n', 'Adora\\n', 'Adore\\n', 'Adoree\\n', 'Adorne\\n', 'Adrea\\n', 'Adria\\n', 'Adriaens\\n', 'Adrian\\n', 'Adriana\\n', 'Adriane\\n', 'Adrianna\\n', 'Adrianne\\n', 'Adrien\\n', 'Adriena\\n', 'Adrienne\\n', 'Aeriel\\n', 'Aeriela\\n', 'Aeriell\\n', 'Ag\\n', 'Agace\\n', 'Agata\\n', 'Agatha\\n', 'Agathe\\n', 'Aggi\\n', 'Aggie\\n', 'Aggy\\n', 'Agna\\n', 'Agnella\\n', 'Agnes\\n', 'Agnese\\n', 'Agnesse\\n', 'Agneta\\n', 'Agnola\\n', 'Agretha\\n', 'Aida\\n', 'Aidan\\n', 'Aigneis\\n', 'Aila\\n', 'Aile\\n', 'Ailee\\n', 'Aileen\\n', 'Ailene\\n', 'Ailey\\n', 'Aili\\n', 'Ailina\\n', 'Ailyn\\n', 'Aime\\n', 'Aimee\\n', 'Aimil\\n', 'Aina\\n', 'Aindrea\\n', 'Ainslee\\n', 'Ainsley\\n', 'Ainslie\\n', 'Ajay\\n', 'Alaine\\n', 'Alameda\\n', 'Alana\\n', 'Alanah\\n', 'Alane\\n', 'Alanna\\n', 'Alayne\\n', 'Alberta\\n', 'Albertina\\n', 'Albertine\\n', 'Albina\\n', 'Alecia\\n', 'Aleda\\n', 'Aleece\\n', 'Aleecia\\n', 'Aleen\\n', 'Alejandra\\n', 'Alejandrina\\n', 'Alena\\n', 'Alene\\n', 'Alessandra\\n', 'Aleta\\n', 'Alethea\\n', 'Alex\\n', 'Alexa\\n', 'Alexandra\\n', 'Alexandrina\\n', 'Alexi\\n', 'Alexia\\n', 'Alexina\\n', 'Alexine\\n', 'Alexis\\n', 'Alfie\\n', 'Alfreda\\n', 'Ali\\n', 'Alia\\n', 'Alica\\n', 'Alice\\n', 'Alicea\\n', 'Alicia\\n', 'Alida\\n', 'Alidia\\n', 'Alina\\n', 'Aline\\n', 'Alis\\n', 'Alisa\\n', 'Alisha\\n', 'Alison\\n', 'Alissa\\n', 'Alisun\\n', 'Alix\\n', 'Aliza\\n', 'Alla\\n', 'Alleen\\n', 'Allegra\\n', 'Allene\\n', 'Alli\\n', 'Allianora\\n', 'Allie\\n', 'Allina\\n', 'Allis\\n', 'Allison\\n', 'Allissa\\n', 'Allsun\\n', 'Ally\\n', 'Allyce\\n', 'Allyn\\n', 'Allys\\n', 'Allyson\\n', 'Alma\\n', 'Almeda\\n', 'Almeria\\n', 'Almeta\\n', 'Almira\\n', 'Almire\\n', 'Aloise\\n', 'Aloisia\\n', 'Aloysia\\n', 'Alpa\\n', 'Alta\\n', 'Althea\\n', 'Alvera\\n', 'Alvina\\n', 'Alvinia\\n', 'Alvira\\n', 'Alyce\\n', 'Alyda\\n', 'Alys\\n', 'Alysa\\n', 'Alyse\\n', 'Alysia\\n', 'Alyson\\n', 'Alyss\\n', 'Alyssa\\n', 'Amabel\\n', 'Amabelle\\n', 'Amalea\\n', 'Amalee\\n', 'Amaleta\\n', 'Amalia\\n', 'Amalie\\n', 'Amalita\\n', 'Amalle\\n', 'Amanda\\n', 'Amandi\\n', 'Amandie\\n', 'Amandy\\n', 'Amara\\n', 'Amargo\\n', 'Amata\\n', 'Amber\\n', 'Amberly\\n', 'Ambrosia\\n', 'Ambur\\n', 'Ame\\n', 'Amelia\\n', 'Amelie\\n', 'Amelina\\n', 'Ameline\\n', 'Amelita\\n', 'Ami\\n', 'Amie\\n', 'Amity\\n', 'Ammamaria\\n', 'Amy\\n', 'Ana\\n', 'Anabel\\n', 'Anabella\\n', 'Anabelle\\n', 'Anais\\n', 'Analiese\\n', 'Analise\\n', 'Anallese\\n', 'Anallise\\n', 'Anastasia\\n', 'Anastasie\\n', 'Anastassia\\n', 'Anatola\\n', 'Andee\\n', 'Andi\\n', 'Andie\\n', 'Andra\\n', 'Andrea\\n', 'Andreana\\n', 'Andree\\n', 'Andrei\\n', 'Andria\\n', 'Andriana\\n', 'Andriette\\n', 'Andromache\\n', 'Andromeda\\n', 'Andy\\n', 'Anestassia\\n', 'Anet\\n', 'Anett\\n', 'Anetta\\n', 'Anette\\n', 'Ange\\n', 'Angel\\n', 'Angela\\n', 'Angele\\n', 'Angelia\\n', 'Angelica\\n', 'Angelika\\n', 'Angelina\\n', 'Angeline\\n', 'Angelique\\n', 'Angelita\\n', 'Angelle\\n', 'Angie\\n', 'Angil\\n', 'Angy\\n', 'Ania\\n', 'Anica\\n', 'Anissa\\n', 'Anita\\n', 'Anitra\\n', 'Anja\\n', 'Anjanette\\n', 'Anjela\\n', 'Ann\\n', 'Ann-Mari\\n', 'Ann-Marie\\n', 'Anna\\n', 'Anna-Diana\\n', 'Anna-Diane\\n', 'Anna-Maria\\n', 'Annabal\\n', 'Annabel\\n', 'Annabela\\n', 'Annabell\\n', 'Annabella\\n', 'Annabelle\\n', 'Annadiana\\n', 'Annadiane\\n', 'Annalee\\n', 'Annalena\\n', 'Annaliese\\n', 'Annalisa\\n', 'Annalise\\n', 'Annalyse\\n', 'Annamari\\n', 'Annamaria\\n', 'Annamarie\\n', 'Anne\\n', 'Anne-Corinne\\n', 'Anne-Mar\\n', 'Anne-Marie\\n', 'Annecorinne\\n', 'Anneliese\\n', 'Annelise\\n', 'Annemarie\\n', 'Annetta\\n', 'Annette\\n', 'Anni\\n', 'Annice\\n', 'Annie\\n', 'Annissa\\n', 'Annmaria\\n', 'Annmarie\\n', 'Annnora\\n', 'Annora\\n', 'Anny\\n', 'Anselma\\n', 'Ansley\\n', 'Anstice\\n', 'Anthe\\n', 'Anthea\\n', 'Anthia\\n', 'Antoinette\\n', 'Antonella\\n', 'Antonetta\\n', 'Antonia\\n', 'Antonie\\n', 'Antonietta\\n', 'Antonina\\n', 'Anya\\n', 'Aphrodite\\n', 'Appolonia\\n', 'April\\n', 'Aprilette\\n', 'Ara\\n', 'Arabel\\n', 'Arabela\\n', 'Arabele\\n', 'Arabella\\n', 'Arabelle\\n', 'Arda\\n', 'Ardath\\n', 'Ardeen\\n', 'Ardelia\\n', 'Ardelis\\n', 'Ardella\\n', 'Ardelle\\n', 'Arden\\n', 'Ardene\\n', 'Ardenia\\n', 'Ardine\\n', 'Ardis\\n', 'Ardith\\n', 'Ardra\\n', 'Ardyce\\n', 'Ardys\\n', 'Ardyth\\n', 'Aretha\\n', 'Ariadne\\n', 'Ariana\\n', 'Arianne\\n', 'Aridatha\\n', 'Ariel\\n', 'Ariela\\n', 'Ariella\\n', 'Arielle\\n', 'Arlana\\n', 'Arlee\\n', 'Arleen\\n', 'Arlen\\n', 'Arlena\\n', 'Arlene\\n', 'Arleta\\n', 'Arlette\\n', 'Arleyne\\n', 'Arlie\\n', 'Arliene\\n', 'Arlina\\n', 'Arlinda\\n', 'Arline\\n', 'Arly\\n', 'Arlyn\\n', 'Arlyne\\n', 'Aryn\\n', 'Ashely\\n', 'Ashlee\\n', 'Ashleigh\\n', 'Ashlen\\n', 'Ashley\\n', 'Ashli\\n', 'Ashlie\\n', 'Ashly\\n', 'Asia\\n', 'Astra\\n', 'Astrid\\n', 'Astrix\\n', 'Atalanta\\n', 'Athena\\n', 'Athene\\n', 'Atlanta\\n', 'Atlante\\n', 'Auberta\\n', 'Aubine\\n', 'Aubree\\n', 'Aubrette\\n', 'Aubrey\\n', 'Aubrie\\n', 'Aubry\\n', 'Audi\\n', 'Audie\\n', 'Audra\\n', 'Audre\\n', 'Audrey\\n', 'Audrie\\n', 'Audry\\n', 'Audrye\\n', 'Audy\\n', 'Augusta\\n', 'Auguste\\n', 'Augustina\\n', 'Augustine\\n', 'Aura\\n', 'Aurea\\n', 'Aurel\\n', 'Aurelea\\n', 'Aurelia\\n', 'Aurelie\\n', 'Auria\\n', 'Aurie\\n', 'Aurilia\\n', 'Aurlie\\n', 'Auroora\\n', 'Aurora\\n', 'Aurore\\n', 'Austin\\n', 'Austina\\n', 'Austine\\n', 'Ava\\n', 'Aveline\\n', 'Averil\\n', 'Averyl\\n', 'Avie\\n', 'Avis\\n', 'Aviva\\n', 'Avivah\\n', 'Avril\\n', 'Avrit\\n', 'Ayn\\n', 'Bab\\n', 'Babara\\n', 'Babette\\n', 'Babita\\n', 'Babs\\n', 'Bambi\\n', 'Bambie\\n', 'Bamby\\n', 'Barb\\n', 'Barbabra\\n', 'Barbara\\n', 'Barbara-Anne\\n', 'Barbaraanne\\n', 'Barbe\\n', 'Barbee\\n', 'Barbette\\n', 'Barbey\\n', 'Barbi\\n', 'Barbie\\n', 'Barbra\\n', 'Barby\\n', 'Bari\\n', 'Barrie\\n', 'Barry\\n', 'Basia\\n', 'Bathsheba\\n', 'Batsheva\\n', 'Bea\\n', 'Beatrice\\n', 'Beatrisa\\n', 'Beatrix\\n', 'Beatriz\\n', 'Beau\\n', 'Bebe\\n', 'Becca\\n', 'Becka\\n', 'Becki\\n', 'Beckie\\n', 'Becky\\n', 'Bee\\n', 'Beilul\\n', 'Beitris\\n', 'Bekki\\n', 'Bel\\n', 'Belia\\n', 'Belicia\\n', 'Belinda\\n', 'Belita\\n', 'Bell\\n', 'Bella\\n', 'Bellamy\\n', 'Bellanca\\n', 'Belle\\n', 'Bellina\\n', 'Belva\\n', 'Belvia\\n', 'Bendite\\n', 'Benedetta\\n', 'Benedicta\\n', 'Benedikta\\n', 'Benetta\\n', 'Benita\\n', 'Benni\\n', 'Bennie\\n', 'Benny\\n', 'Benoite\\n', 'Berenice\\n', 'Beret\\n', 'Berget\\n', 'Berna\\n', 'Bernadene\\n', 'Bernadette\\n', 'Bernadina\\n', 'Bernadine\\n', 'Bernardina\\n', 'Bernardine\\n', 'Bernelle\\n', 'Bernete\\n', 'Bernetta\\n', 'Bernette\\n', 'Berni\\n', 'Bernice\\n', 'Bernie\\n', 'Bernita\\n', 'Berny\\n', 'Berri\\n', 'Berrie\\n', 'Berry\\n', 'Bert\\n', 'Berta\\n', 'Berte\\n', 'Bertha\\n', 'Berthe\\n', 'Berti\\n', 'Bertie\\n', 'Bertina\\n', 'Bertine\\n', 'Berty\\n', 'Beryl\\n', 'Beryle\\n', 'Bess\\n', 'Bessie\\n', 'Bessy\\n', 'Beth\\n', 'Bethanne\\n', 'Bethany\\n', 'Bethena\\n', 'Bethina\\n', 'Betsey\\n', 'Betsy\\n', 'Betta\\n', 'Bette\\n', 'Bette-Ann\\n', 'Betteann\\n', 'Betteanne\\n', 'Betti\\n', 'Bettie\\n', 'Bettina\\n', 'Bettine\\n', 'Betty\\n', 'Bettye\\n', 'Beulah\\n', 'Bev\\n', 'Beverie\\n', 'Beverlee\\n', 'Beverlie\\n', 'Beverly\\n', 'Bevvy\\n', 'Bianca\\n', 'Bianka\\n', 'Biddy\\n', 'Bidget\\n', 'Bill\\n', 'Billi\\n', 'Billie\\n', 'Billy\\n', 'Binni\\n', 'Binnie\\n', 'Binny\\n', 'Bird\\n', 'Birdie\\n', 'Birgit\\n', 'Birgitta\\n', 'Blair\\n', 'Blaire\\n', 'Blake\\n', 'Blakelee\\n', 'Blakeley\\n', 'Blanca\\n', 'Blanch\\n', 'Blancha\\n', 'Blanche\\n', 'Blinni\\n', 'Blinnie\\n', 'Blinny\\n', 'Bliss\\n', 'Blisse\\n', 'Blithe\\n', 'Blondell\\n', 'Blondelle\\n', 'Blondie\\n', 'Blondy\\n', 'Blythe\\n', 'Bo\\n', 'Bobbette\\n', 'Bobbi\\n', 'Bobbie\\n', 'Bobby\\n', 'Bobette\\n', 'Bobina\\n', 'Bobine\\n', 'Bobinette\\n', 'Bonita\\n', 'Bonnee\\n', 'Bonni\\n', 'Bonnie\\n', 'Bonny\\n', 'Brana\\n', 'Brandais\\n', 'Brande\\n', 'Brandea\\n', 'Brandi\\n', 'Brandice\\n', 'Brandie\\n', 'Brandise\\n', 'Brandy\\n', 'Brea\\n', 'Breanne\\n', 'Brear\\n', 'Bree\\n', 'Breena\\n', 'Bren\\n', 'Brena\\n', 'Brenda\\n', 'Brenn\\n', 'Brenna\\n', 'Brett\\n', 'Bria\\n', 'Briana\\n', 'Brianna\\n', 'Brianne\\n', 'Bride\\n', 'Bridget\\n', 'Bridgett\\n', 'Bridgette\\n', 'Bridie\\n', 'Brier\\n', 'Brietta\\n', 'Brigid\\n', 'Brigida\\n', 'Brigit\\n', 'Brigitta\\n', 'Brigitte\\n', 'Brina\\n', 'Briney\\n', 'Briny\\n', 'Brit\\n', 'Brita\\n', 'Britaney\\n', 'Britani\\n', 'Briteny\\n', 'Britney\\n', 'Britni\\n', 'Britt\\n', 'Britta\\n', 'Brittan\\n', 'Brittany\\n', 'Britte\\n', 'Brittney\\n', 'Brook\\n', 'Brooke\\n', 'Brooks\\n', 'Brunella\\n', 'Brunhilda\\n', 'Brunhilde\\n', 'Bryana\\n', 'Bryn\\n', 'Bryna\\n', 'Brynn\\n', 'Brynna\\n', 'Brynne\\n', 'Buffy\\n', 'Bunni\\n', 'Bunnie\\n', 'Bunny\\n', 'Burta\\n', 'Cabrina\\n', 'Cacilia\\n', 'Cacilie\\n', 'Caitlin\\n', 'Caitrin\\n', 'Cal\\n', 'Calida\\n', 'Calla\\n', 'Calley\\n', 'Calli\\n', 'Callida\\n', 'Callie\\n', 'Cally\\n', 'Calypso\\n', 'Cam\\n', 'Camala\\n', 'Camel\\n', 'Camella\\n', 'Camellia\\n', 'Cameo\\n', 'Cami\\n', 'Camila\\n', 'Camile\\n', 'Camilla\\n', 'Camille\\n', 'Cammi\\n', 'Cammie\\n', 'Cammy\\n', 'Canada\\n', 'Candace\\n', 'Candi\\n', 'Candice\\n', 'Candida\\n', 'Candide\\n', 'Candie\\n', 'Candis\\n', 'Candra\\n', 'Candy\\n', 'Cappella\\n', 'Caprice\\n', 'Cara\\n', 'Caralie\\n', 'Caren\\n', 'Carena\\n', 'Caresa\\n', 'Caressa\\n', 'Caresse\\n', 'Carey\\n', 'Cari\\n', 'Caria\\n', 'Carie\\n', 'Caril\\n', 'Carilyn\\n', 'Carin\\n', 'Carina\\n', 'Carine\\n', 'Cariotta\\n', 'Carissa\\n', 'Carita\\n', 'Caritta\\n', 'Carla\\n', 'Carlee\\n', 'Carleen\\n', 'Carlen\\n', 'Carlena\\n', 'Carlene\\n', 'Carley\\n', 'Carli\\n', 'Carlie\\n', 'Carlin\\n', 'Carlina\\n', 'Carline\\n', 'Carlisle\\n', 'Carlita\\n', 'Carlota\\n', 'Carlotta\\n', 'Carly\\n', 'Carlye\\n', 'Carlyn\\n', 'Carlynn\\n', 'Carlynne\\n', 'Carma\\n', 'Carmel\\n', 'Carmela\\n', 'Carmelia\\n', 'Carmelina\\n', 'Carmelita\\n', 'Carmella\\n', 'Carmelle\\n', 'Carmen\\n', 'Carmina\\n', 'Carmine\\n', 'Carmita\\n', 'Carmon\\n', 'Caro\\n', 'Carol\\n', 'Carol-Jean\\n', 'Carola\\n', 'Carolan\\n', 'Carolann\\n', 'Carole\\n', 'Carolee\\n', 'Caroleen\\n', 'Carolie\\n', 'Carolin\\n', 'Carolina\\n', 'Caroline\\n', 'Caroljean\\n', 'Carolyn\\n', 'Carolyne\\n', 'Carolynn\\n', 'Caron\\n', 'Carree\\n', 'Carri\\n', 'Carrie\\n', 'Carrissa\\n', 'Carrol\\n', 'Carroll\\n', 'Carry\\n', 'Cary\\n', 'Caryl\\n', 'Caryn\\n', 'Casandra\\n', 'Casey\\n', 'Casi\\n', 'Casia\\n', 'Casie\\n', 'Cass\\n', 'Cassandra\\n', 'Cassandre\\n', 'Cassandry\\n', 'Cassaundra\\n', 'Cassey\\n', 'Cassi\\n', 'Cassie\\n', 'Cassondra\\n', 'Cassy\\n', 'Cat\\n', 'Catarina\\n', 'Cate\\n', 'Caterina\\n', 'Catha\\n', 'Catharina\\n', 'Catharine\\n', 'Cathe\\n', 'Cathee\\n', 'Catherin\\n', 'Catherina\\n', 'Catherine\\n', 'Cathi\\n', 'Cathie\\n', 'Cathleen\\n', 'Cathlene\\n', 'Cathrin\\n', 'Cathrine\\n', 'Cathryn\\n', 'Cathy\\n', 'Cathyleen\\n', 'Cati\\n', 'Catie\\n', 'Catina\\n', 'Catlaina\\n', 'Catlee\\n', 'Catlin\\n', 'Catrina\\n', 'Catriona\\n', 'Caty\\n', 'Cayla\\n', 'Cecelia\\n', 'Cecil\\n', 'Cecile\\n', 'Ceciley\\n', 'Cecilia\\n', 'Cecilla\\n', 'Cecily\\n', 'Ceil\\n', 'Cele\\n', 'Celene\\n', 'Celesta\\n', 'Celeste\\n', 'Celestia\\n', 'Celestina\\n', 'Celestine\\n', 'Celestyn\\n', 'Celestyna\\n', 'Celia\\n', 'Celie\\n', 'Celina\\n', 'Celinda\\n', 'Celine\\n', 'Celinka\\n', 'Celisse\\n', 'Celle\\n', 'Cesya\\n', 'Chad\\n', 'Chanda\\n', 'Chandal\\n', 'Chandra\\n', 'Channa\\n', 'Chantal\\n', 'Chantalle\\n', 'Charil\\n', 'Charin\\n', 'Charis\\n', 'Charissa\\n', 'Charisse\\n', 'Charita\\n', 'Charity\\n', 'Charla\\n', 'Charlean\\n', 'Charleen\\n', 'Charlena\\n', 'Charlene\\n', 'Charline\\n', 'Charlot\\n', 'Charlott\\n', 'Charlotta\\n', 'Charlotte\\n', 'Charmain\\n', 'Charmaine\\n', 'Charmane\\n', 'Charmian\\n', 'Charmine\\n', 'Charmion\\n', 'Charo\\n', 'Charyl\\n', 'Chastity\\n', 'Chelsae\\n', 'Chelsea\\n', 'Chelsey\\n', 'Chelsie\\n', 'Chelsy\\n', 'Cher\\n', 'Chere\\n', 'Cherey\\n', 'Cheri\\n', 'Cherianne\\n', 'Cherice\\n', 'Cherida\\n', 'Cherie\\n', 'Cherilyn\\n', 'Cherilynn\\n', 'Cherin\\n', 'Cherise\\n', 'Cherish\\n', 'Cherlyn\\n', 'Cherri\\n', 'Cherrita\\n', 'Cherry\\n', 'Chery\\n', 'Cherye\\n', 'Cheryl\\n', 'Cheslie\\n', 'Chiarra\\n', 'Chickie\\n', 'Chicky\\n', 'Chiquita\\n', 'Chloe\\n', 'Chloette\\n', 'Chloris\\n', 'Chris\\n', 'Chriss\\n', 'Chrissa\\n', 'Chrissie\\n', 'Chrissy\\n', 'Christa\\n', 'Christabel\\n', 'Christabella\\n', 'Christabelle\\n', 'Christal\\n', 'Christalle\\n', 'Christan\\n', 'Christean\\n', 'Christel\\n', 'Christen\\n', 'Christi\\n', 'Christian\\n', 'Christiana\\n', 'Christiane\\n', 'Christie\\n', 'Christin\\n', 'Christina\\n', 'Christine\\n', 'Christy\\n', 'Christyna\\n', 'Chrysa\\n', 'Chrysler\\n', 'Chrystal\\n', 'Chryste\\n', 'Chrystel\\n', 'Ciara\\n', 'Cicely\\n', 'Cicily\\n', 'Ciel\\n', 'Cilka\\n', 'Cinda\\n', 'Cindee\\n', 'Cindelyn\\n', 'Cinderella\\n', 'Cindi\\n', 'Cindie\\n', 'Cindra\\n', 'Cindy\\n', 'Cinnamon\\n', 'Cissie\\n', 'Cissy\\n', 'Clair\\n', 'Claire\\n', 'Clara\\n', 'Clarabelle\\n', 'Clare\\n', 'Claresta\\n', 'Clareta\\n', 'Claretta\\n', 'Clarette\\n', 'Clarey\\n', 'Clari\\n', 'Claribel\\n', 'Clarice\\n', 'Clarie\\n', 'Clarinda\\n', 'Clarine\\n', 'Clarisa\\n', 'Clarissa\\n', 'Clarisse\\n', 'Clarita\\n', 'Clary\\n', 'Claude\\n', 'Claudelle\\n', 'Claudetta\\n', 'Claudette\\n', 'Claudia\\n', 'Claudie\\n', 'Claudina\\n', 'Claudine\\n', 'Clea\\n', 'Clem\\n', 'Clemence\\n', 'Clementia\\n', 'Clementina\\n', 'Clementine\\n', 'Clemmie\\n', 'Clemmy\\n', 'Cleo\\n', 'Cleopatra\\n', 'Clerissa\\n', 'Cleva\\n', 'Clio\\n', 'Clo\\n', 'Cloe\\n', 'Cloris\\n', 'Clotilda\\n', 'Clovis\\n', 'Codee\\n', 'Codi\\n', 'Codie\\n', 'Cody\\n', 'Coleen\\n', 'Colene\\n', 'Coletta\\n', 'Colette\\n', 'Colleen\\n', 'Collete\\n', 'Collette\\n', 'Collie\\n', 'Colline\\n', 'Colly\\n', 'Con\\n', 'Concettina\\n', 'Conchita\\n', 'Concordia\\n', 'Conney\\n', 'Conni\\n', 'Connie\\n', 'Conny\\n', 'Consolata\\n', 'Constance\\n', 'Constancia\\n', 'Constancy\\n', 'Constanta\\n', 'Constantia\\n', 'Constantina\\n', 'Constantine\\n', 'Consuela\\n', 'Consuelo\\n', 'Cookie\\n', 'Cora\\n', 'Corabel\\n', 'Corabella\\n', 'Corabelle\\n', 'Coral\\n', 'Coralie\\n', 'Coraline\\n', 'Coralyn\\n', 'Cordelia\\n', 'Cordelie\\n', 'Cordey\\n', 'Cordie\\n', 'Cordula\\n', 'Cordy\\n', 'Coreen\\n', 'Corella\\n', 'Corena\\n', 'Corenda\\n', 'Corene\\n', 'Coretta\\n', 'Corette\\n', 'Corey\\n', 'Cori\\n', 'Corie\\n', 'Corilla\\n', 'Corina\\n', 'Corine\\n', 'Corinna\\n', 'Corinne\\n', 'Coriss\\n', 'Corissa\\n', 'Corliss\\n', 'Corly\\n', 'Cornela\\n', 'Cornelia\\n', 'Cornelle\\n', 'Cornie\\n', 'Corny\\n', 'Correna\\n', 'Correy\\n', 'Corri\\n', 'Corrianne\\n', 'Corrie\\n', 'Corrina\\n', 'Corrine\\n', 'Corrinne\\n', 'Corry\\n', 'Cortney\\n', 'Cory\\n', 'Cosetta\\n', 'Cosette\\n', 'Courtenay\\n', 'Courtney\\n', 'Cresa\\n', 'Cris\\n', 'Crissie\\n', 'Crissy\\n', 'Crista\\n', 'Cristabel\\n', 'Cristal\\n', 'Cristen\\n', 'Cristi\\n', 'Cristie\\n', 'Cristin\\n', 'Cristina\\n', 'Cristine\\n', 'Cristionna\\n', 'Cristy\\n', 'Crysta\\n', 'Crystal\\n', 'Crystie\\n', 'Cyb\\n', 'Cybal\\n', 'Cybel\\n', 'Cybelle\\n', 'Cybil\\n', 'Cybill\\n', 'Cyndi\\n', 'Cyndy\\n', 'Cynthea\\n', 'Cynthia\\n', 'Cynthie\\n', 'Cynthy\\n', 'Dacey\\n', 'Dacia\\n', 'Dacie\\n', 'Dacy\\n', 'Dael\\n', 'Daffi\\n', 'Daffie\\n', 'Daffy\\n', 'Dafna\\n', 'Dagmar\\n', 'Dahlia\\n', 'Daile\\n', 'Daisey\\n', 'Daisi\\n', 'Daisie\\n', 'Daisy\\n', 'Dale\\n', 'Dalenna\\n', 'Dalia\\n', 'Dalila\\n', 'Dallas\\n', 'Daloris\\n', 'Damara\\n', 'Damaris\\n', 'Damita\\n', 'Dana\\n', 'Danell\\n', 'Danella\\n', 'Danelle\\n', 'Danette\\n', 'Dani\\n', 'Dania\\n', 'Danica\\n', 'Danice\\n', 'Daniel\\n', 'Daniela\\n', 'Daniele\\n', 'Daniella\\n', 'Danielle\\n', 'Danika\\n', 'Danila\\n', 'Danit\\n', 'Danita\\n', 'Danna\\n', 'Danni\\n', 'Dannie\\n', 'Danny\\n', 'Dannye\\n', 'Danya\\n', 'Danyelle\\n', 'Danyette\\n', 'Daphene\\n', 'Daphna\\n', 'Daphne\\n', 'Dara\\n', 'Darb\\n', 'Darbie\\n', 'Darby\\n', 'Darcee\\n', 'Darcey\\n', 'Darci\\n', 'Darcie\\n', 'Darcy\\n', 'Darda\\n', 'Dareen\\n', 'Darell\\n', 'Darelle\\n', 'Dari\\n', 'Daria\\n', 'Darice\\n', 'Darla\\n', 'Darleen\\n', 'Darlene\\n', 'Darline\\n', 'Darryl\\n', 'Darsey\\n', 'Darsie\\n', 'Darya\\n', 'Daryl\\n', 'Daryn\\n', 'Dasha\\n', 'Dasi\\n', 'Dasie\\n', 'Dasya\\n', 'Datha\\n', 'Daune\\n', 'Daveen\\n', 'Daveta\\n', 'Davida\\n', 'Davina\\n', 'Davine\\n', 'Davita\\n', 'Dawn\\n', 'Dawna\\n', 'Dayle\\n', 'Dayna\\n', 'Dea\\n', 'Deana\\n', 'Deane\\n', 'Deanna\\n', 'Deanne\\n', 'Deb\\n', 'Debbi\\n', 'Debbie\\n', 'Debbra\\n', 'Debby\\n', 'Debee\\n', 'Debera\\n', 'Debi\\n', 'Debor\\n', 'Debora\\n', 'Deborah\\n', 'Debra\\n', 'Dede\\n', 'Dedie\\n', 'Dedra\\n', 'Dee\\n', 'Dee Dee\\n', 'Deeann\\n', 'Deeanne\\n', 'Deedee\\n', 'Deena\\n', 'Deerdre\\n', 'Dehlia\\n', 'Deidre\\n', 'Deina\\n', 'Deirdre\\n', 'Del\\n', 'Dela\\n', 'Delaney\\n', 'Delcina\\n', 'Delcine\\n', 'Delia\\n', 'Delila\\n', 'Delilah\\n', 'Delinda\\n', 'Dell\\n', 'Della\\n', 'Delly\\n', 'Delora\\n', 'Delores\\n', 'Deloria\\n', 'Deloris\\n', 'Delphina\\n', 'Delphine\\n', 'Delphinia\\n', 'Demeter\\n', 'Demetra\\n', 'Demetria\\n', 'Demetris\\n', 'Dena\\n', 'Deni\\n', 'Denice\\n', 'Denise\\n', 'Denna\\n', 'Denni\\n', 'Dennie\\n', 'Denny\\n', 'Deny\\n', 'Denys\\n', 'Denyse\\n', 'Deonne\\n', 'Desaree\\n', 'Desdemona\\n', 'Desirae\\n', 'Desiree\\n', 'Desiri\\n', 'Deva\\n', 'Devan\\n', 'Devi\\n', 'Devin\\n', 'Devina\\n', 'Devinne\\n', 'Devon\\n', 'Devondra\\n', 'Devonna\\n', 'Devonne\\n', 'Devora\\n', 'Dew\\n', 'Di\\n', 'Diahann\\n', 'Diamond\\n', 'Dian\\n', 'Diana\\n', 'Diandra\\n', 'Diane\\n', 'Diane-Marie\\n', 'Dianemarie\\n', 'Diann\\n', 'Dianna\\n', 'Dianne\\n', 'Diannne\\n', 'Didi\\n', 'Dido\\n', 'Diena\\n', 'Dierdre\\n', 'Dina\\n', 'Dinah\\n', 'Dinnie\\n', 'Dinny\\n', 'Dion\\n', 'Dione\\n', 'Dionis\\n', 'Dionne\\n', 'Dita\\n', 'Dix\\n', 'Dixie\\n', 'Dode\\n', 'Dodi\\n', 'Dodie\\n', 'Dody\\n', 'Doe\\n', 'Doll\\n', 'Dolley\\n', 'Dolli\\n', 'Dollie\\n', 'Dolly\\n', 'Dolora\\n', 'Dolores\\n', 'Dolorita\\n', 'Doloritas\\n', 'Dominica\\n', 'Dominique\\n', 'Dona\\n', 'Donella\\n', 'Donelle\\n', 'Donetta\\n', 'Donia\\n', 'Donica\\n', 'Donielle\\n', 'Donna\\n', 'Donnajean\\n', 'Donnamarie\\n', 'Donni\\n', 'Donnie\\n', 'Donny\\n', 'Dora\\n', 'Doralia\\n', 'Doralin\\n', 'Doralyn\\n', 'Doralynn\\n', 'Doralynne\\n', 'Dorcas\\n', 'Dore\\n', 'Doreen\\n', 'Dorelia\\n', 'Dorella\\n', 'Dorelle\\n', 'Dorena\\n', 'Dorene\\n', 'Doretta\\n', 'Dorette\\n', 'Dorey\\n', 'Dori\\n', 'Doria\\n', 'Dorian\\n', 'Dorice\\n', 'Dorie\\n', 'Dorine\\n', 'Doris\\n', 'Dorisa\\n', 'Dorise\\n', 'Dorit\\n', 'Dorita\\n', 'Doro\\n', 'Dorolice\\n', 'Dorolisa\\n', 'Dorotea\\n', 'Doroteya\\n', 'Dorothea\\n', 'Dorothee\\n', 'Dorothy\\n', 'Dorree\\n', 'Dorri\\n', 'Dorrie\\n', 'Dorris\\n', 'Dorry\\n', 'Dorthea\\n', 'Dorthy\\n', 'Dory\\n', 'Dosi\\n', 'Dot\\n', 'Doti\\n', 'Dotti\\n', 'Dottie\\n', 'Dotty\\n', 'Dove\\n', 'Drea\\n', 'Drew\\n', 'Dulce\\n', 'Dulcea\\n', 'Dulci\\n', 'Dulcia\\n', 'Dulciana\\n', 'Dulcie\\n', 'Dulcine\\n', 'Dulcinea\\n', 'Dulcy\\n', 'Dulsea\\n', 'Dusty\\n', 'Dyan\\n', 'Dyana\\n', 'Dyane\\n', 'Dyann\\n', 'Dyanna\\n', 'Dyanne\\n', 'Dyna\\n', 'Dynah\\n', \"E'Lane\\n\", 'Eada\\n', 'Eadie\\n', 'Eadith\\n', 'Ealasaid\\n', 'Eartha\\n', 'Easter\\n', 'Eba\\n', 'Ebba\\n', 'Ebonee\\n', 'Ebony\\n', 'Eda\\n', 'Eddi\\n', 'Eddie\\n', 'Eddy\\n', 'Ede\\n', 'Edee\\n', 'Edeline\\n', 'Eden\\n', 'Edi\\n', 'Edie\\n', 'Edin\\n', 'Edita\\n', 'Edith\\n', 'Editha\\n', 'Edithe\\n', 'Ediva\\n', 'Edna\\n', 'Edwina\\n', 'Edy\\n', 'Edyth\\n', 'Edythe\\n', 'Effie\\n', 'Eileen\\n', 'Eilis\\n', 'Eimile\\n', 'Eirena\\n', 'Ekaterina\\n', 'Elaina\\n', 'Elaine\\n', 'Elana\\n', 'Elane\\n', 'Elayne\\n', 'Elberta\\n', 'Elbertina\\n', 'Elbertine\\n', 'Eleanor\\n', 'Eleanora\\n', 'Eleanore\\n', 'Electra\\n', 'Elena\\n', 'Elene\\n', 'Eleni\\n', 'Elenore\\n', 'Eleonora\\n', 'Eleonore\\n', 'Elfie\\n', 'Elfreda\\n', 'Elfrida\\n', 'Elfrieda\\n', 'Elga\\n', 'Elianora\\n', 'Elianore\\n', 'Elicia\\n', 'Elie\\n', 'Elinor\\n', 'Elinore\\n', 'Elisa\\n', 'Elisabet\\n', 'Elisabeth\\n', 'Elisabetta\\n', 'Elise\\n', 'Elisha\\n', 'Elissa\\n', 'Elita\\n', 'Eliza\\n', 'Elizabet\\n', 'Elizabeth\\n', 'Elka\\n', 'Elke\\n', 'Ella\\n', 'Elladine\\n', 'Elle\\n', 'Ellen\\n', 'Ellene\\n', 'Ellette\\n', 'Elli\\n', 'Ellie\\n', 'Ellissa\\n', 'Elly\\n', 'Ellyn\\n', 'Ellynn\\n', 'Elmira\\n', 'Elna\\n', 'Elnora\\n', 'Elnore\\n', 'Eloisa\\n', 'Eloise\\n', 'Elonore\\n', 'Elora\\n', 'Elsa\\n', 'Elsbeth\\n', 'Else\\n', 'Elsey\\n', 'Elsi\\n', 'Elsie\\n', 'Elsinore\\n', 'Elspeth\\n', 'Elsy\\n', 'Elva\\n', 'Elvera\\n', 'Elvina\\n', 'Elvira\\n', 'Elwina\\n', 'Elwira\\n', 'Elyn\\n', 'Elyse\\n', 'Elysee\\n', 'Elysha\\n', 'Elysia\\n', 'Elyssa\\n', 'Em\\n', 'Ema\\n', 'Emalee\\n', 'Emalia\\n', 'Emanuela\\n', 'Emelda\\n', 'Emelia\\n', 'Emelina\\n', 'Emeline\\n', 'Emelita\\n', 'Emelyne\\n', 'Emera\\n', 'Emilee\\n', 'Emili\\n', 'Emilia\\n', 'Emilie\\n', 'Emiline\\n', 'Emily\\n', 'Emlyn\\n', 'Emlynn\\n', 'Emlynne\\n', 'Emma\\n', 'Emmalee\\n', 'Emmaline\\n', 'Emmalyn\\n', 'Emmalynn\\n', 'Emmalynne\\n', 'Emmeline\\n', 'Emmey\\n', 'Emmi\\n', 'Emmie\\n', 'Emmy\\n', 'Emmye\\n', 'Emogene\\n', 'Emyle\\n', 'Emylee\\n', 'Endora\\n', 'Engracia\\n', 'Enid\\n', 'Enrica\\n', 'Enrichetta\\n', 'Enrika\\n', 'Enriqueta\\n', 'Enya\\n', 'Eolanda\\n', 'Eolande\\n', 'Eran\\n', 'Erda\\n', 'Erena\\n', 'Erica\\n', 'Ericha\\n', 'Ericka\\n', 'Erika\\n', 'Erin\\n', 'Erina\\n', 'Erinn\\n', 'Erinna\\n', 'Erma\\n', 'Ermengarde\\n', 'Ermentrude\\n', 'Ermina\\n', 'Erminia\\n', 'Erminie\\n', 'Erna\\n', 'Ernaline\\n', 'Ernesta\\n', 'Ernestine\\n', 'Ertha\\n', 'Eryn\\n', 'Esma\\n', 'Esmaria\\n', 'Esme\\n', 'Esmeralda\\n', 'Esmerelda\\n', 'Essa\\n', 'Essie\\n', 'Essy\\n', 'Esta\\n', 'Estel\\n', 'Estele\\n', 'Estell\\n', 'Estella\\n', 'Estelle\\n', 'Ester\\n', 'Esther\\n', 'Estrella\\n', 'Estrellita\\n', 'Ethel\\n', 'Ethelda\\n', 'Ethelin\\n', 'Ethelind\\n', 'Etheline\\n', 'Ethelyn\\n', 'Ethyl\\n', 'Etta\\n', 'Etti\\n', 'Ettie\\n', 'Etty\\n', 'Eudora\\n', 'Eugenia\\n', 'Eugenie\\n', 'Eugine\\n', 'Eula\\n', 'Eulalie\\n', 'Eunice\\n', 'Euphemia\\n', 'Eustacia\\n', 'Eva\\n', 'Evaleen\\n', 'Evangelia\\n', 'Evangelin\\n', 'Evangelina\\n', 'Evangeline\\n', 'Evania\\n', 'Evanne\\n', 'Eve\\n', 'Eveleen\\n', 'Evelina\\n', 'Eveline\\n', 'Evelyn\\n', 'Evette\\n', 'Evey\\n', 'Evie\\n', 'Evita\\n', 'Evonne\\n', 'Evvie\\n', 'Evvy\\n', 'Evy\\n', 'Eyde\\n', 'Eydie\\n', 'Fabrianne\\n', 'Fabrice\\n', 'Fae\\n', 'Faina\\n', 'Faith\\n', 'Fallon\\n', 'Fan\\n', 'Fanchette\\n', 'Fanchon\\n', 'Fancie\\n', 'Fancy\\n', 'Fanechka\\n', 'Fania\\n', 'Fanni\\n', 'Fannie\\n', 'Fanny\\n', 'Fanya\\n', 'Fara\\n', 'Farah\\n', 'Farand\\n', 'Farica\\n', 'Farra\\n', 'Farrah\\n', 'Farrand\\n', 'Fatima\\n', 'Faun\\n', 'Faunie\\n', 'Faustina\\n', 'Faustine\\n', 'Fawn\\n', 'Fawna\\n', 'Fawne\\n', 'Fawnia\\n', 'Fay\\n', 'Faydra\\n', 'Faye\\n', 'Fayette\\n', 'Fayina\\n', 'Fayre\\n', 'Fayth\\n', 'Faythe\\n', 'Federica\\n', 'Fedora\\n', 'Felecia\\n', 'Felicdad\\n', 'Felice\\n', 'Felicia\\n', 'Felicity\\n', 'Felicle\\n', 'Felipa\\n', 'Felisha\\n', 'Felita\\n', 'Feliza\\n', 'Fenelia\\n', 'Feodora\\n', 'Ferdinanda\\n', 'Ferdinande\\n', 'Fern\\n', 'Fernanda\\n', 'Fernande\\n', 'Fernandina\\n', 'Ferne\\n', 'Fey\\n', 'Fiann\\n', 'Fianna\\n', 'Fidela\\n', 'Fidelia\\n', 'Fidelity\\n', 'Fifi\\n', 'Fifine\\n', 'Filia\\n', 'Filide\\n', 'Filippa\\n', 'Fina\\n', 'Fiona\\n', 'Fionna\\n', 'Fionnula\\n', 'Fiorenze\\n', 'Fleur\\n', 'Fleurette\\n', 'Flo\\n', 'Flor\\n', 'Flora\\n', 'Florance\\n', 'Flore\\n', 'Florella\\n', 'Florence\\n', 'Florencia\\n', 'Florentia\\n', 'Florenza\\n', 'Florette\\n', 'Flori\\n', 'Floria\\n', 'Florice\\n', 'Florida\\n', 'Florie\\n', 'Florina\\n', 'Florinda\\n', 'Floris\\n', 'Florri\\n', 'Florrie\\n', 'Florry\\n', 'Flory\\n', 'Flossi\\n', 'Flossie\\n', 'Flossy\\n', 'Flower\\n', 'Fortuna\\n', 'Fortune\\n', 'Fran\\n', 'France\\n', 'Francene\\n', 'Frances\\n', 'Francesca\\n', 'Francesmary\\n', 'Francine\\n', 'Francis\\n', 'Francisca\\n', 'Franciska\\n', 'Francoise\\n', 'Francyne\\n', 'Frank\\n', 'Frankie\\n', 'Franky\\n', 'Franni\\n', 'Frannie\\n', 'Franny\\n', 'Frayda\\n', 'Fred\\n', 'Freda\\n', 'Freddi\\n', 'Freddie\\n', 'Freddy\\n', 'Fredelia\\n', 'Frederica\\n', 'Fredericka\\n', 'Fredi\\n', 'Fredia\\n', 'Fredra\\n', 'Fredrika\\n', 'Freida\\n', 'Frieda\\n', 'Friederike\\n', 'Fulvia\\n', 'Gabbey\\n', 'Gabbi\\n', 'Gabbie\\n', 'Gabey\\n', 'Gabi\\n', 'Gabie\\n', 'Gabriel\\n', 'Gabriela\\n', 'Gabriell\\n', 'Gabriella\\n', 'Gabrielle\\n', 'Gabriellia\\n', 'Gabrila\\n', 'Gaby\\n', 'Gae\\n', 'Gael\\n', 'Gail\\n', 'Gale\\n', 'Gale \\n', 'Galina\\n', 'Garland\\n', 'Garnet\\n', 'Garnette\\n', 'Gates\\n', 'Gavra\\n', 'Gavrielle\\n', 'Gay\\n', 'Gayla\\n', 'Gayle\\n', 'Gayleen\\n', 'Gaylene\\n', 'Gaynor\\n', 'Gelya\\n', 'Gen\\n', 'Gena\\n', 'Gene\\n', 'Geneva\\n', 'Genevieve\\n', 'Genevra\\n', 'Genia\\n', 'Genna\\n', 'Genni\\n', 'Gennie\\n', 'Gennifer\\n', 'Genny\\n', 'Genovera\\n', 'Genvieve\\n', 'George\\n', 'Georgeanna\\n', 'Georgeanne\\n', 'Georgena\\n', 'Georgeta\\n', 'Georgetta\\n', 'Georgette\\n', 'Georgia\\n', 'Georgiamay\\n', 'Georgiana\\n', 'Georgianna\\n', 'Georgianne\\n', 'Georgie\\n', 'Georgina\\n', 'Georgine\\n', 'Gera\\n', 'Geralda\\n', 'Geraldina\\n', 'Geraldine\\n', 'Gerda\\n', 'Gerhardine\\n', 'Geri\\n', 'Gerianna\\n', 'Gerianne\\n', 'Gerladina\\n', 'Germain\\n', 'Germaine\\n', 'Germana\\n', 'Gerri\\n', 'Gerrie\\n', 'Gerrilee\\n', 'Gerry\\n', 'Gert\\n', 'Gerta\\n', 'Gerti\\n', 'Gertie\\n', 'Gertrud\\n', 'Gertruda\\n', 'Gertrude\\n', 'Gertrudis\\n', 'Gerty\\n', 'Giacinta\\n', 'Giana\\n', 'Gianina\\n', 'Gianna\\n', 'Gigi\\n', 'Gilberta\\n', 'Gilberte\\n', 'Gilbertina\\n', 'Gilbertine\\n', 'Gilda\\n', 'Gill\\n', 'Gillan\\n', 'Gilli\\n', 'Gillian\\n', 'Gillie\\n', 'Gilligan\\n', 'Gilly\\n', 'Gina\\n', 'Ginelle\\n', 'Ginevra\\n', 'Ginger\\n', 'Ginni\\n', 'Ginnie\\n', 'Ginnifer\\n', 'Ginny\\n', 'Giorgia\\n', 'Giovanna\\n', 'Gipsy\\n', 'Giralda\\n', 'Gisela\\n', 'Gisele\\n', 'Gisella\\n', 'Giselle\\n', 'Gizela\\n', 'Glad\\n', 'Gladi\\n', 'Gladis\\n', 'Gladys\\n', 'Gleda\\n', 'Glen\\n', 'Glenda\\n', 'Glenine\\n', 'Glenn\\n', 'Glenna\\n', 'Glennie\\n', 'Glennis\\n', 'Glori\\n', 'Gloria\\n', 'Gloriana\\n', 'Gloriane\\n', 'Glorianna\\n', 'Glory\\n', 'Glyn\\n', 'Glynda\\n', 'Glynis\\n', 'Glynnis\\n', 'Godiva\\n', 'Golda\\n', 'Goldarina\\n', 'Goldi\\n', 'Goldia\\n', 'Goldie\\n', 'Goldina\\n', 'Goldy\\n', 'Grace\\n', 'Gracia\\n', 'Gracie\\n', 'Grata\\n', 'Gratia\\n', 'Gratiana\\n', 'Gray\\n', 'Grayce\\n', 'Grazia\\n', 'Gredel\\n', 'Greer\\n', 'Greta\\n', 'Gretal\\n', 'Gretchen\\n', 'Grete\\n', 'Gretel\\n', 'Grethel\\n', 'Gretna\\n', 'Gretta\\n', 'Grier\\n', 'Griselda\\n', 'Grissel\\n', 'Guendolen\\n', 'Guenevere\\n', 'Guenna\\n', 'Guglielma\\n', 'Gui\\n', 'Guillema\\n', 'Guillemette\\n', 'Guinevere\\n', 'Guinna\\n', 'Gunilla\\n', 'Gunvor\\n', 'Gus\\n', 'Gusella\\n', 'Gussi\\n', 'Gussie\\n', 'Gussy\\n', 'Gusta\\n', 'Gusti\\n', 'Gustie\\n', 'Gusty\\n', 'Gwen\\n', 'Gwendolen\\n', 'Gwendolin\\n', 'Gwendolyn\\n', 'Gweneth\\n', 'Gwenette\\n', 'Gwenn\\n', 'Gwenneth\\n', 'Gwenni\\n', 'Gwennie\\n', 'Gwenny\\n', 'Gwenora\\n', 'Gwenore\\n', 'Gwyn\\n', 'Gwyneth\\n', 'Gwynne\\n', 'Gypsy\\n', 'Hadria\\n', 'Hailee\\n', 'Haily\\n', 'Haleigh\\n', 'Halette\\n', 'Haley\\n', 'Hali\\n', 'Halie\\n', 'Halimeda\\n', 'Halley\\n', 'Halli\\n', 'Hallie\\n', 'Hally\\n', 'Hana\\n', 'Hanna\\n', 'Hannah\\n', 'Hanni\\n', 'Hannibal\\n', 'Hannie\\n', 'Hannis\\n', 'Hanny\\n', 'Happy\\n', 'Harlene\\n', 'Harley\\n', 'Harli\\n', 'Harlie\\n', 'Harmonia\\n', 'Harmonie\\n', 'Harmony\\n', 'Harri\\n', 'Harrie\\n', 'Harriet\\n', 'Harriett\\n', 'Harrietta\\n', 'Harriette\\n', 'Harriot\\n', 'Harriott\\n', 'Hatti\\n', 'Hattie\\n', 'Hatty\\n', 'Havivah\\n', 'Hayley\\n', 'Hazel\\n', 'Heath\\n', 'Heather\\n', 'Heda\\n', 'Hedda\\n', 'Heddi\\n', 'Heddie\\n', 'Hedi\\n', 'Hedvig\\n', 'Hedwig\\n', 'Hedy\\n', 'Heida\\n', 'Heide\\n', 'Heidi\\n', 'Heidie\\n', 'Helaina\\n', 'Helaine\\n', 'Helen\\n', 'Helen-Elizabeth\\n', 'Helena\\n', 'Helene\\n', 'Helga\\n', 'Helge\\n', 'Helise\\n', 'Hellene\\n', 'Helli\\n', 'Heloise\\n', 'Helsa\\n', 'Helyn\\n', 'Hendrika\\n', 'Henka\\n', 'Henrie\\n', 'Henrieta\\n', 'Henrietta\\n', 'Henriette\\n', 'Henryetta\\n', 'Hephzibah\\n', 'Hermia\\n', 'Hermina\\n', 'Hermine\\n', 'Herminia\\n', 'Hermione\\n', 'Herta\\n', 'Hertha\\n', 'Hester\\n', 'Hesther\\n', 'Hestia\\n', 'Hetti\\n', 'Hettie\\n', 'Hetty\\n', 'Hilarie\\n', 'Hilary\\n', 'Hilda\\n', 'Hildagard\\n', 'Hildagarde\\n', 'Hilde\\n', 'Hildegaard\\n', 'Hildegarde\\n', 'Hildy\\n', 'Hillary\\n', 'Hilliary\\n', 'Hinda\\n', 'Holley\\n', 'Holli\\n', 'Hollie\\n', 'Holly\\n', 'Holly-Anne\\n', 'Hollyanne\\n', 'Honey\\n', 'Honor\\n', 'Honoria\\n', 'Hope\\n', 'Horatia\\n', 'Hortense\\n', 'Hortensia\\n', 'Hulda\\n', 'Hyacinth\\n', 'Hyacintha\\n', 'Hyacinthe\\n', 'Hyacinthia\\n', 'Hyacinthie\\n', 'Hynda\\n', 'Ianthe\\n', 'Ibbie\\n', 'Ibby\\n', 'Ida\\n', 'Idalia\\n', 'Idalina\\n', 'Idaline\\n', 'Idell\\n', 'Idelle\\n', 'Idette\\n', 'Ike\\n', 'Ikey\\n', 'Ilana\\n', 'Ileana\\n', 'Ileane\\n', 'Ilene\\n', 'Ilise\\n', 'Ilka\\n', 'Illa\\n', 'Ilona\\n', 'Ilsa\\n', 'Ilse\\n', 'Ilysa\\n', 'Ilyse\\n', 'Ilyssa\\n', 'Imelda\\n', 'Imogen\\n', 'Imogene\\n', 'Imojean\\n', 'Ina\\n', 'Inci\\n', 'Indira\\n', 'Ines\\n', 'Inesita\\n', 'Inessa\\n', 'Inez\\n', 'Inga\\n', 'Ingaberg\\n', 'Ingaborg\\n', 'Inge\\n', 'Ingeberg\\n', 'Ingeborg\\n', 'Inger\\n', 'Ingrid\\n', 'Ingunna\\n', 'Inna\\n', 'Ioana\\n', 'Iolande\\n', 'Iolanthe\\n', 'Iona\\n', 'Iormina\\n', 'Ira\\n', 'Irena\\n', 'Irene\\n', 'Irina\\n', 'Iris\\n', 'Irita\\n', 'Irma\\n', 'Isa\\n', 'Isabeau\\n', 'Isabel\\n', 'Isabelita\\n', 'Isabella\\n', 'Isabelle\\n', 'Isador\\n', 'Isadora\\n', 'Isadore\\n', 'Isahella\\n', 'Iseabal\\n', 'Isidora\\n', 'Isis\\n', 'Isobel\\n', 'Issi\\n', 'Issie\\n', 'Issy\\n', 'Ivett\\n', 'Ivette\\n', 'Ivie\\n', 'Ivonne\\n', 'Ivory\\n', 'Ivy\\n', 'Izabel\\n', 'Izzi\\n', 'Jacenta\\n', 'Jacinda\\n', 'Jacinta\\n', 'Jacintha\\n', 'Jacinthe\\n', 'Jackelyn\\n', 'Jacki\\n', 'Jackie\\n', 'Jacklin\\n', 'Jacklyn\\n', 'Jackquelin\\n', 'Jackqueline\\n', 'Jacky\\n', 'Jaclin\\n', 'Jaclyn\\n', 'Jacquelin\\n', 'Jacqueline\\n', 'Jacquelyn\\n', 'Jacquelynn\\n', 'Jacquenetta\\n', 'Jacquenette\\n', 'Jacquetta\\n', 'Jacquette\\n', 'Jacqui\\n', 'Jacquie\\n', 'Jacynth\\n', 'Jada\\n', 'Jade\\n', 'Jaime\\n', 'Jaimie\\n', 'Jaine\\n', 'Jaleh\\n', 'Jami\\n', 'Jamie\\n', 'Jamima\\n', 'Jammie\\n', 'Jan\\n', 'Jana\\n', 'Janaya\\n', 'Janaye\\n', 'Jandy\\n', 'Jane\\n', 'Janean\\n', 'Janeczka\\n', 'Janeen\\n', 'Janel\\n', 'Janela\\n', 'Janella\\n', 'Janelle\\n', 'Janene\\n', 'Janenna\\n', 'Janessa\\n', 'Janet\\n', 'Janeta\\n', 'Janetta\\n', 'Janette\\n', 'Janeva\\n', 'Janey\\n', 'Jania\\n', 'Janice\\n', 'Janie\\n', 'Janifer\\n', 'Janina\\n', 'Janine\\n', 'Janis\\n', 'Janith\\n', 'Janka\\n', 'Janna\\n', 'Jannel\\n', 'Jannelle\\n', 'Janot\\n', 'Jany\\n', 'Jaquelin\\n', 'Jaquelyn\\n', 'Jaquenetta\\n', 'Jaquenette\\n', 'Jaquith\\n', 'Jasmin\\n', 'Jasmina\\n', 'Jasmine\\n', 'Jayme\\n', 'Jaymee\\n', 'Jayne\\n', 'Jaynell\\n', 'Jazmin\\n', 'Jean\\n', 'Jeana\\n', 'Jeane\\n', 'Jeanelle\\n', 'Jeanette\\n', 'Jeanie\\n', 'Jeanine\\n', 'Jeanna\\n', 'Jeanne\\n', 'Jeannette\\n', 'Jeannie\\n', 'Jeannine\\n', 'Jehanna\\n', 'Jelene\\n', 'Jemie\\n', 'Jemima\\n', 'Jemimah\\n', 'Jemmie\\n', 'Jemmy\\n', 'Jen\\n', 'Jena\\n', 'Jenda\\n', 'Jenelle\\n', 'Jenette\\n', 'Jeni\\n', 'Jenica\\n', 'Jeniece\\n', 'Jenifer\\n', 'Jeniffer\\n', 'Jenilee\\n', 'Jenine\\n', 'Jenn\\n', 'Jenna\\n', 'Jennee\\n', 'Jennette\\n', 'Jenni\\n', 'Jennica\\n', 'Jennie\\n', 'Jennifer\\n', 'Jennilee\\n', 'Jennine\\n', 'Jenny\\n', 'Jeraldine\\n', 'Jeralee\\n', 'Jere\\n', 'Jeri\\n', 'Jermaine\\n', 'Jerrie\\n', 'Jerrilee\\n', 'Jerrilyn\\n', 'Jerrine\\n', 'Jerry\\n', 'Jerrylee\\n', 'Jess\\n', 'Jessa\\n', 'Jessalin\\n', 'Jessalyn\\n', 'Jessamine\\n', 'Jessamyn\\n', 'Jesse\\n', 'Jesselyn\\n', 'Jessi\\n', 'Jessica\\n', 'Jessie\\n', 'Jessika\\n', 'Jessy\\n', 'Jewel\\n', 'Jewell\\n', 'Jewelle\\n', 'Jill\\n', 'Jillana\\n', 'Jillane\\n', 'Jillayne\\n', 'Jilleen\\n', 'Jillene\\n', 'Jilli\\n', 'Jillian\\n', 'Jillie\\n', 'Jilly\\n', 'Jinny\\n', 'Jo\\n', 'Jo Ann\\n', 'Jo-Ann\\n', 'Jo-Anne\\n', 'JoAnn\\n', 'JoAnne\\n', 'Joan\\n', 'Joana\\n', 'Joane\\n', 'Joanie\\n', 'Joann\\n', 'Joanna\\n', 'Joanne\\n', 'Joannes\\n', 'Jobey\\n', 'Jobi\\n', 'Jobie\\n', 'Jobina\\n', 'Joby\\n', 'Jobye\\n', 'Jobyna\\n', 'Jocelin\\n', 'Joceline\\n', 'Jocelyn\\n', 'Jocelyne\\n', 'Jodee\\n', 'Jodi\\n', 'Jodie\\n', 'Jody\\n', 'Joela\\n', 'Joelie\\n', 'Joell\\n', 'Joella\\n', 'Joelle\\n', 'Joellen\\n', 'Joelly\\n', 'Joellyn\\n', 'Joelynn\\n', 'Joete\\n', 'Joey\\n', 'Johanna\\n', 'Johannah\\n', 'Johnette\\n', 'Johnna\\n', 'Joice\\n', 'Jojo\\n', 'Jolee\\n', 'Joleen\\n', 'Jolene\\n', 'Joletta\\n', 'Joli\\n', 'Jolie\\n', 'Joline\\n', 'Joly\\n', 'Jolyn\\n', 'Jolynn\\n', 'Jonell\\n', 'Joni\\n', 'Jonie\\n', 'Jonis\\n', 'Jordain\\n', 'Jordan\\n', 'Jordana\\n', 'Jordanna\\n', 'Jorey\\n', 'Jori\\n', 'Jorie\\n', 'Jorrie\\n', 'Jorry\\n', 'Joscelin\\n', 'Josee\\n', 'Josefa\\n', 'Josefina\\n', 'Joselyn\\n', 'Josepha\\n', 'Josephina\\n', 'Josephine\\n', 'Josey\\n', 'Josi\\n', 'Josie\\n', 'Joslyn\\n', 'Josselyn\\n', 'Josy\\n', 'Jourdan\\n', 'Joy\\n', 'Joya\\n', 'Joyan\\n', 'Joyann\\n', 'Joyce\\n', 'Joycelin\\n', 'Joye\\n', 'Joyous\\n', 'Juana\\n', 'Juanita\\n', 'Jude\\n', 'Judi\\n', 'Judie\\n', 'Judith\\n', 'Juditha\\n', 'Judy\\n', 'Judye\\n', 'Julee\\n', 'Juli\\n', 'Julia\\n', 'Juliana\\n', 'Juliane\\n', 'Juliann\\n', 'Julianna\\n', 'Julianne\\n', 'Julie\\n', 'Julienne\\n', 'Juliet\\n', 'Julieta\\n', 'Julietta\\n', 'Juliette\\n', 'Julina\\n', 'Juline\\n', 'Julissa\\n', 'Julita\\n', 'June\\n', 'Junette\\n', 'Junia\\n', 'Junie\\n', 'Junina\\n', 'Justin\\n', 'Justina\\n', 'Justine\\n', 'Jyoti\\n', 'Kacey\\n', 'Kacie\\n', 'Kacy\\n', 'Kai\\n', 'Kaia\\n', 'Kaila\\n', 'Kaile\\n', 'Kailey\\n', 'Kaitlin\\n', 'Kaitlyn\\n', 'Kaitlynn\\n', 'Kaja\\n', 'Kakalina\\n', 'Kala\\n', 'Kaleena\\n', 'Kali\\n', 'Kalie\\n', 'Kalila\\n', 'Kalina\\n', 'Kalinda\\n', 'Kalindi\\n', 'Kalli\\n', 'Kally\\n', 'Kameko\\n', 'Kamila\\n', 'Kamilah\\n', 'Kamillah\\n', 'Kandace\\n', 'Kandy\\n', 'Kania\\n', 'Kanya\\n', 'Kara\\n', 'Kara-Lynn\\n', 'Karalee\\n', 'Karalynn\\n', 'Kare\\n', 'Karee\\n', 'Karel\\n', 'Karen\\n', 'Karena\\n', 'Kari\\n', 'Karia\\n', 'Karie\\n', 'Karil\\n', 'Karilynn\\n', 'Karin\\n', 'Karina\\n', 'Karine\\n', 'Kariotta\\n', 'Karisa\\n', 'Karissa\\n', 'Karita\\n', 'Karla\\n', 'Karlee\\n', 'Karleen\\n', 'Karlen\\n', 'Karlene\\n', 'Karlie\\n', 'Karlotta\\n', 'Karlotte\\n', 'Karly\\n', 'Karlyn\\n', 'Karmen\\n', 'Karna\\n', 'Karol\\n', 'Karola\\n', 'Karole\\n', 'Karolina\\n', 'Karoline\\n', 'Karoly\\n', 'Karon\\n', 'Karrah\\n', 'Karrie\\n', 'Karry\\n', 'Kary\\n', 'Karyl\\n', 'Karylin\\n', 'Karyn\\n', 'Kasey\\n', 'Kass\\n', 'Kassandra\\n', 'Kassey\\n', 'Kassi\\n', 'Kassia\\n', 'Kassie\\n', 'Kaster\\n', 'Kat\\n', 'Kata\\n', 'Katalin\\n', 'Kate\\n', 'Katee\\n', 'Katerina\\n', 'Katerine\\n', 'Katey\\n', 'Kath\\n', 'Katha\\n', 'Katharina\\n', 'Katharine\\n', 'Katharyn\\n', 'Kathe\\n', 'Katheleen\\n', 'Katherina\\n', 'Katherine\\n', 'Katheryn\\n', 'Kathi\\n', 'Kathie\\n', 'Kathleen\\n', 'Kathlene\\n', 'Kathlin\\n', 'Kathrine\\n', 'Kathryn\\n', 'Kathryne\\n', 'Kathy\\n', 'Kathye\\n', 'Kati\\n', 'Katie\\n', 'Katina\\n', 'Katine\\n', 'Katinka\\n', 'Katleen\\n', 'Katlin\\n', 'Katrina\\n', 'Katrine\\n', 'Katrinka\\n', 'Katti\\n', 'Kattie\\n', 'Katuscha\\n', 'Katusha\\n', 'Katy\\n', 'Katya\\n', 'Kay\\n', 'Kaycee\\n', 'Kaye\\n', 'Kayla\\n', 'Kayle\\n', 'Kaylee\\n', 'Kayley\\n', 'Kaylil\\n', 'Kaylyn\\n', 'Kee\\n', 'Keeley\\n', 'Keelia\\n', 'Keely\\n', 'Kelcey\\n', 'Kelci\\n', 'Kelcie\\n', 'Kelcy\\n', 'Kelila\\n', 'Kellen\\n', 'Kelley\\n', 'Kelli\\n', 'Kellia\\n', 'Kellie\\n', 'Kellina\\n', 'Kellsie\\n', 'Kelly\\n', 'Kellyann\\n', 'Kelsey\\n', 'Kelsi\\n', 'Kelsy\\n', 'Kendra\\n', 'Kendre\\n', 'Kenna\\n', 'Keren\\n', 'Keri\\n', 'Keriann\\n', 'Kerianne\\n', 'Kerri\\n', 'Kerrie\\n', 'Kerrill\\n', 'Kerrin\\n', 'Kerry\\n', 'Kerstin\\n', 'Kesley\\n', 'Keslie\\n', 'Kessia\\n', 'Kessiah\\n', 'Ketti\\n', 'Kettie\\n', 'Ketty\\n', 'Kevina\\n', 'Kevyn\\n', 'Ki\\n', 'Kia\\n', 'Kiah\\n', 'Kial\\n', 'Kiele\\n', 'Kiersten\\n', 'Kikelia\\n', 'Kiley\\n', 'Kim\\n', 'Kimberlee\\n', 'Kimberley\\n', 'Kimberli\\n', 'Kimberly\\n', 'Kimberlyn\\n', 'Kimbra\\n', 'Kimmi\\n', 'Kimmie\\n', 'Kimmy\\n', 'Kinna\\n', 'Kip\\n', 'Kipp\\n', 'Kippie\\n', 'Kippy\\n', 'Kira\\n', 'Kirbee\\n', 'Kirbie\\n', 'Kirby\\n', 'Kiri\\n', 'Kirsten\\n', 'Kirsteni\\n', 'Kirsti\\n', 'Kirstie\\n', 'Kirstin\\n', 'Kirstyn\\n', 'Kissee\\n', 'Kissiah\\n', 'Kissie\\n', 'Kit\\n', 'Kitti\\n', 'Kittie\\n', 'Kitty\\n', 'Kizzee\\n', 'Kizzie\\n', 'Klara\\n', 'Klarika\\n', 'Klarrisa\\n', 'Konstance\\n', 'Konstanze\\n', 'Koo\\n', 'Kora\\n', 'Koral\\n', 'Koralle\\n', 'Kordula\\n', 'Kore\\n', 'Korella\\n', 'Koren\\n', 'Koressa\\n', 'Kori\\n', 'Korie\\n', 'Korney\\n', 'Korrie\\n', 'Korry\\n', 'Kourtney\\n', 'Kris\\n', 'Krissie\\n', 'Krissy\\n', 'Krista\\n', 'Kristal\\n', 'Kristan\\n', 'Kriste\\n', 'Kristel\\n', 'Kristen\\n', 'Kristi\\n', 'Kristien\\n', 'Kristin\\n', 'Kristina\\n', 'Kristine\\n', 'Kristy\\n', 'Kristyn\\n', 'Krysta\\n', 'Krystal\\n', 'Krystalle\\n', 'Krystle\\n', 'Krystyna\\n', 'Kyla\\n', 'Kyle\\n', 'Kylen\\n', 'Kylie\\n', 'Kylila\\n', 'Kylynn\\n', 'Kym\\n', 'Kynthia\\n', 'Kyrstin\\n', 'La\\n', 'Lacee\\n', 'Lacey\\n', 'Lacie\\n', 'Lacy\\n', 'Ladonna\\n', 'Laetitia\\n', 'Laila\\n', 'Laina\\n', 'Lainey\\n', 'Lamb\\n', 'Lana\\n', 'Lane\\n', 'Lanette\\n', 'Laney\\n', 'Lani\\n', 'Lanie\\n', 'Lanita\\n', 'Lanna\\n', 'Lanni\\n', 'Lanny\\n', 'Lara\\n', 'Laraine\\n', 'Lari\\n', 'Larina\\n', 'Larine\\n', 'Larisa\\n', 'Larissa\\n', 'Lark\\n', 'Laryssa\\n', 'Latashia\\n', 'Latia\\n', 'Latisha\\n', 'Latrena\\n', 'Latrina\\n', 'Laura\\n', 'Lauraine\\n', 'Laural\\n', 'Lauralee\\n', 'Laure\\n', 'Lauree\\n', 'Laureen\\n', 'Laurel\\n', 'Laurella\\n', 'Lauren\\n', 'Laurena\\n', 'Laurene\\n', 'Lauretta\\n', 'Laurette\\n', 'Lauri\\n', 'Laurianne\\n', 'Laurice\\n', 'Laurie\\n', 'Lauryn\\n', 'Lavena\\n', 'Laverna\\n', 'Laverne\\n', 'Lavina\\n', 'Lavinia\\n', 'Lavinie\\n', 'Layla\\n', 'Layne\\n', 'Layney\\n', 'Lea\\n', 'Leah\\n', 'Leandra\\n', 'Leann\\n', 'Leanna\\n', 'Leanne\\n', 'Leanor\\n', 'Leanora\\n', 'Lebbie\\n', 'Leda\\n', 'Lee\\n', 'LeeAnn\\n', 'Leeann\\n', 'Leeanne\\n', 'Leela\\n', 'Leelah\\n', 'Leena\\n', 'Leesa\\n', 'Leese\\n', 'Legra\\n', 'Leia\\n', 'Leiah\\n', 'Leigh\\n', 'Leigha\\n', 'Leila\\n', 'Leilah\\n', 'Leisha\\n', 'Lela\\n', 'Lelah\\n', 'Leland\\n', 'Lelia\\n', 'Lena\\n', 'Lenee\\n', 'Lenette\\n', 'Lenka\\n', 'Lenna\\n', 'Lenora\\n', 'Lenore\\n', 'Leodora\\n', 'Leoine\\n', 'Leola\\n', 'Leoline\\n', 'Leona\\n', 'Leonanie\\n', 'Leone\\n', 'Leonelle\\n', 'Leonie\\n', 'Leonora\\n', 'Leonore\\n', 'Leontine\\n', 'Leontyne\\n', 'Leora\\n', 'Leorah\\n', 'Leshia\\n', 'Lesley\\n', 'Lesli\\n', 'Leslie\\n', 'Lesly\\n', 'Lesya\\n', 'Leta\\n', 'Lethia\\n', 'Leticia\\n', 'Letisha\\n', 'Letitia\\n', 'Letta\\n', 'Letti\\n', 'Lettie\\n', 'Letty\\n', 'Leyla\\n', 'Lezlie\\n', 'Lia\\n', 'Lian\\n', 'Liana\\n', 'Liane\\n', 'Lianna\\n', 'Lianne\\n', 'Lib\\n', 'Libbey\\n', 'Libbi\\n', 'Libbie\\n', 'Libby\\n', 'Licha\\n', 'Lida\\n', 'Lidia\\n', 'Lil\\n', 'Lila\\n', 'Lilah\\n', 'Lilas\\n', 'Lilia\\n', 'Lilian\\n', 'Liliane\\n', 'Lilias\\n', 'Lilith\\n', 'Lilla\\n', 'Lilli\\n', 'Lillian\\n', 'Lillis\\n', 'Lilllie\\n', 'Lilly\\n', 'Lily\\n', 'Lilyan\\n', 'Lin\\n', 'Lina\\n', 'Lind\\n', 'Linda\\n', 'Lindi\\n', 'Lindie\\n', 'Lindsay\\n', 'Lindsey\\n', 'Lindsy\\n', 'Lindy\\n', 'Linea\\n', 'Linell\\n', 'Linet\\n', 'Linette\\n', 'Linn\\n', 'Linnea\\n', 'Linnell\\n', 'Linnet\\n', 'Linnie\\n', 'Linzy\\n', 'Liora\\n', 'Liorah\\n', 'Lira\\n', 'Lisa\\n', 'Lisabeth\\n', 'Lisandra\\n', 'Lisbeth\\n', 'Lise\\n', 'Lisetta\\n', 'Lisette\\n', 'Lisha\\n', 'Lishe\\n', 'Lissa\\n', 'Lissi\\n', 'Lissie\\n', 'Lissy\\n', 'Lita\\n', 'Liuka\\n', 'Livia\\n', 'Liz\\n', 'Liza\\n', 'Lizabeth\\n', 'Lizbeth\\n', 'Lizette\\n', 'Lizzie\\n', 'Lizzy\\n', 'Loella\\n', 'Lois\\n', 'Loise\\n', 'Lola\\n', 'Lolande\\n', 'Loleta\\n', 'Lolita\\n', 'Lolly\\n', 'Lona\\n', 'Lonee\\n', 'Loni\\n', 'Lonna\\n', 'Lonni\\n', 'Lonnie\\n', 'Lora\\n', 'Lorain\\n', 'Loraine\\n', 'Loralee\\n', 'Loralie\\n', 'Loralyn\\n', 'Loree\\n', 'Loreen\\n', 'Lorelei\\n', 'Lorelle\\n', 'Loren\\n', 'Lorena\\n', 'Lorene\\n', 'Lorenza\\n', 'Loretta\\n', 'Lorettalorna\\n', 'Lorette\\n', 'Lori\\n', 'Loria\\n', 'Lorianna\\n', 'Lorianne\\n', 'Lorie\\n', 'Lorilee\\n', 'Lorilyn\\n', 'Lorinda\\n', 'Lorine\\n', 'Lorita\\n', 'Lorna\\n', 'Lorne\\n', 'Lorraine\\n', 'Lorrayne\\n', 'Lorri\\n', 'Lorrie\\n', 'Lorrin\\n', 'Lorry\\n', 'Lory\\n', 'Lotta\\n', 'Lotte\\n', 'Lotti\\n', 'Lottie\\n', 'Lotty\\n', 'Lou\\n', 'Louella\\n', 'Louisa\\n', 'Louise\\n', 'Louisette\\n', 'Love\\n', 'Luana\\n', 'Luanna\\n', 'Luce\\n', 'Luci\\n', 'Lucia\\n', 'Luciana\\n', 'Lucie\\n', 'Lucienne\\n', 'Lucila\\n', 'Lucilia\\n', 'Lucille\\n', 'Lucina\\n', 'Lucinda\\n', 'Lucine\\n', 'Lucita\\n', 'Lucky\\n', 'Lucretia\\n', 'Lucy\\n', 'Luella\\n', 'Luelle\\n', 'Luisa\\n', 'Luise\\n', 'Lula\\n', 'Lulita\\n', 'Lulu\\n', 'Luna\\n', 'Lura\\n', 'Lurette\\n', 'Lurleen\\n', 'Lurlene\\n', 'Lurline\\n', 'Lusa\\n', 'Lust\\n', 'Lyda\\n', 'Lydia\\n', 'Lydie\\n', 'Lyn\\n', 'Lynda\\n', 'Lynde\\n', 'Lyndel\\n', 'Lyndell\\n', 'Lyndsay\\n', 'Lyndsey\\n', 'Lyndsie\\n', 'Lyndy\\n', 'Lynea\\n', 'Lynelle\\n', 'Lynett\\n', 'Lynette\\n', 'Lynn\\n', 'Lynna\\n', 'Lynne\\n', 'Lynnea\\n', 'Lynnell\\n', 'Lynnelle\\n', 'Lynnet\\n', 'Lynnett\\n', 'Lynnette\\n', 'Lynsey\\n', 'Lysandra\\n', 'Lyssa\\n', 'Mab\\n', 'Mabel\\n', 'Mabelle\\n', 'Mable\\n', 'Mada\\n', 'Madalena\\n', 'Madalyn\\n', 'Maddalena\\n', 'Maddi\\n', 'Maddie\\n', 'Maddy\\n', 'Madel\\n', 'Madelaine\\n', 'Madeleine\\n', 'Madelena\\n', 'Madelene\\n', 'Madelin\\n', 'Madelina\\n', 'Madeline\\n', 'Madella\\n', 'Madelle\\n', 'Madelon\\n', 'Madelyn\\n', 'Madge\\n', 'Madlen\\n', 'Madlin\\n', 'Madona\\n', 'Madonna\\n', 'Mady\\n', 'Mae\\n', 'Maegan\\n', 'Mag\\n', 'Magda\\n', 'Magdaia\\n', 'Magdalen\\n', 'Magdalena\\n', 'Magdalene\\n', 'Maggee\\n', 'Maggi\\n', 'Maggie\\n', 'Maggy\\n', 'Magna\\n', 'Mahala\\n', 'Mahalia\\n', 'Maia\\n', 'Maible\\n', 'Maiga\\n', 'Mair\\n', 'Maire\\n', 'Mairead\\n', 'Maisey\\n', 'Maisie\\n', 'Mala\\n', 'Malanie\\n', 'Malcah\\n', 'Malena\\n', 'Malia\\n', 'Malina\\n', 'Malinda\\n', 'Malinde\\n', 'Malissa\\n', 'Malissia\\n', 'Malka\\n', 'Malkah\\n', 'Mallissa\\n', 'Mallorie\\n', 'Mallory\\n', 'Malorie\\n', 'Malory\\n', 'Malva\\n', 'Malvina\\n', 'Malynda\\n', 'Mame\\n', 'Mamie\\n', 'Manda\\n', 'Mandi\\n', 'Mandie\\n', 'Mandy\\n', 'Manon\\n', 'Manya\\n', 'Mara\\n', 'Marabel\\n', 'Marcela\\n', 'Marcelia\\n', 'Marcella\\n', 'Marcelle\\n', 'Marcellina\\n', 'Marcelline\\n', 'Marchelle\\n', 'Marci\\n', 'Marcia\\n', 'Marcie\\n', 'Marcile\\n', 'Marcille\\n', 'Marcy\\n', 'Mareah\\n', 'Maren\\n', 'Marena\\n', 'Maressa\\n', 'Marga\\n', 'Margalit\\n', 'Margalo\\n', 'Margaret\\n', 'Margareta\\n', 'Margarete\\n', 'Margaretha\\n', 'Margarethe\\n', 'Margaretta\\n', 'Margarette\\n', 'Margarita\\n', 'Margaux\\n', 'Marge\\n', 'Margeaux\\n', 'Margery\\n', 'Marget\\n', 'Margette\\n', 'Margi\\n', 'Margie\\n', 'Margit\\n', 'Marglerite\\n', 'Margo\\n', 'Margot\\n', 'Margret\\n', 'Marguerite\\n', 'Margurite\\n', 'Margy\\n', 'Mari\\n', 'Maria\\n', 'Mariam\\n', 'Marian\\n', 'Mariana\\n', 'Mariann\\n', 'Marianna\\n', 'Marianne\\n', 'Maribel\\n', 'Maribelle\\n', 'Maribeth\\n', 'Marice\\n', 'Maridel\\n', 'Marie\\n', 'Marie-Ann\\n', 'Marie-Jeanne\\n', 'Marieann\\n', 'Mariejeanne\\n', 'Mariel\\n', 'Mariele\\n', 'Marielle\\n', 'Mariellen\\n', 'Marietta\\n', 'Mariette\\n', 'Marigold\\n', 'Marijo\\n', 'Marika\\n', 'Marilee\\n', 'Marilin\\n', 'Marillin\\n', 'Marilyn\\n', 'Marin\\n', 'Marina\\n', 'Marinna\\n', 'Marion\\n', 'Mariquilla\\n', 'Maris\\n', 'Marisa\\n', 'Mariska\\n', 'Marissa\\n', 'Marit\\n', 'Marita\\n', 'Maritsa\\n', 'Mariya\\n', 'Marj\\n', 'Marja\\n', 'Marje\\n', 'Marji\\n', 'Marjie\\n', 'Marjorie\\n', 'Marjory\\n', 'Marjy\\n', 'Marketa\\n', 'Marla\\n', 'Marlane\\n', 'Marleah\\n', 'Marlee\\n', 'Marleen\\n', 'Marlena\\n', 'Marlene\\n', 'Marley\\n', 'Marlie\\n', 'Marline\\n', 'Marlo\\n', 'Marlyn\\n', 'Marna\\n', 'Marne\\n', 'Marney\\n', 'Marni\\n', 'Marnia\\n', 'Marnie\\n', 'Marquita\\n', 'Marrilee\\n', 'Marris\\n', 'Marrissa\\n', 'Marry\\n', 'Marsha\\n', 'Marsiella\\n', 'Marta\\n', 'Martelle\\n', 'Martguerita\\n', 'Martha\\n', 'Marthe\\n', 'Marthena\\n', 'Marti\\n', 'Martica\\n', 'Martie\\n', 'Martina\\n', 'Martita\\n', 'Marty\\n', 'Martynne\\n', 'Mary\\n', 'Marya\\n', 'Maryangelyn\\n', 'Maryann\\n', 'Maryanna\\n', 'Maryanne\\n', 'Marybelle\\n', 'Marybeth\\n', 'Maryellen\\n', 'Maryjane\\n', 'Maryjo\\n', 'Maryl\\n', 'Marylee\\n', 'Marylin\\n', 'Marylinda\\n', 'Marylou\\n', 'Marylynne\\n', 'Maryrose\\n', 'Marys\\n', 'Marysa\\n', 'Masha\\n', 'Matelda\\n', 'Mathilda\\n', 'Mathilde\\n', 'Matilda\\n', 'Matilde\\n', 'Matti\\n', 'Mattie\\n', 'Matty\\n', 'Maud\\n', 'Maude\\n', 'Maudie\\n', 'Maura\\n', 'Maure\\n', 'Maureen\\n', 'Maureene\\n', 'Maurene\\n', 'Maurine\\n', 'Maurise\\n', 'Maurita\\n', 'Mavis\\n', 'Mavra\\n', 'Max\\n', 'Maxi\\n', 'Maxie\\n', 'Maxine\\n', 'Maxy\\n', 'May\\n', 'Maya\\n', 'Maybelle\\n', 'Mayda\\n', 'Maye\\n', 'Mead\\n', 'Meade\\n', 'Meagan\\n', 'Meaghan\\n', 'Meara\\n', 'Mechelle\\n', 'Meg\\n', 'Megan\\n', 'Megen\\n', 'Meggan\\n', 'Meggi\\n', 'Meggie\\n', 'Meggy\\n', 'Meghan\\n', 'Meghann\\n', 'Mehetabel\\n', 'Mei\\n', 'Meira\\n', 'Mel\\n', 'Mela\\n', 'Melamie\\n', 'Melania\\n', 'Melanie\\n', 'Melantha\\n', 'Melany\\n', 'Melba\\n', 'Melesa\\n', 'Melessa\\n', 'Melicent\\n', 'Melina\\n', 'Melinda\\n', 'Melinde\\n', 'Melisa\\n', 'Melisande\\n', 'Melisandra\\n', 'Melisenda\\n', 'Melisent\\n', 'Melissa\\n', 'Melisse\\n', 'Melita\\n', 'Melitta\\n', 'Mella\\n', 'Melli\\n', 'Mellicent\\n', 'Mellie\\n', 'Mellisa\\n', 'Mellisent\\n', 'Mellissa\\n', 'Melloney\\n', 'Melly\\n', 'Melodee\\n', 'Melodie\\n', 'Melody\\n', 'Melonie\\n', 'Melony\\n', 'Melosa\\n', 'Melva\\n', 'Mercedes\\n', 'Merci\\n', 'Mercie\\n', 'Mercy\\n', 'Meredith\\n', 'Meredithe\\n', 'Meridel\\n', 'Meridith\\n', 'Meriel\\n', 'Merilee\\n', 'Merilyn\\n', 'Meris\\n', 'Merissa\\n', 'Merl\\n', 'Merla\\n', 'Merle\\n', 'Merlina\\n', 'Merline\\n', 'Merna\\n', 'Merola\\n', 'Merralee\\n', 'Merridie\\n', 'Merrie\\n', 'Merrielle\\n', 'Merrile\\n', 'Merrilee\\n', 'Merrili\\n', 'Merrill\\n', 'Merrily\\n', 'Merry\\n', 'Mersey\\n', 'Meryl\\n', 'Meta\\n', 'Mia\\n', 'Micaela\\n', 'Michaela\\n', 'Michaelina\\n', 'Michaeline\\n', 'Michaella\\n', 'Michal\\n', 'Michel\\n', 'Michele\\n', 'Michelina\\n', 'Micheline\\n', 'Michell\\n', 'Michelle\\n', 'Micki\\n', 'Mickie\\n', 'Micky\\n', 'Midge\\n', 'Mignon\\n', 'Mignonne\\n', 'Miguela\\n', 'Miguelita\\n', 'Mildred\\n', 'Mildrid\\n', 'Milena\\n', 'Milicent\\n', 'Milissent\\n', 'Milka\\n', 'Milli\\n', 'Millicent\\n', 'Millie\\n', 'Millisent\\n', 'Milly\\n', 'Milzie\\n', 'Mimi\\n', 'Min\\n', 'Mina\\n', 'Minda\\n', 'Mindy\\n', 'Minerva\\n', 'Minetta\\n', 'Minette\\n', 'Minna\\n', 'Minni\\n', 'Minnie\\n', 'Minny\\n', 'Minta\\n', 'Miquela\\n', 'Mira\\n', 'Mirabel\\n', 'Mirabella\\n', 'Mirabelle\\n', 'Miran\\n', 'Miranda\\n', 'Mireielle\\n', 'Mireille\\n', 'Mirella\\n', 'Mirelle\\n', 'Miriam\\n', 'Mirilla\\n', 'Mirna\\n', 'Misha\\n', 'Missie\\n', 'Missy\\n', 'Misti\\n', 'Misty\\n', 'Mitra\\n', 'Mitzi\\n', 'Mmarianne\\n', 'Modesta\\n', 'Modestia\\n', 'Modestine\\n', 'Modesty\\n', 'Moina\\n', 'Moira\\n', 'Moll\\n', 'Mollee\\n', 'Molli\\n', 'Mollie\\n', 'Molly\\n', 'Mommy\\n', 'Mona\\n', 'Monah\\n', 'Monica\\n', 'Monika\\n', 'Monique\\n', 'Mora\\n', 'Moreen\\n', 'Morena\\n', 'Morgan\\n', 'Morgana\\n', 'Morganica\\n', 'Morganne\\n', 'Morgen\\n', 'Moria\\n', 'Morissa\\n', 'Morlee\\n', 'Morna\\n', 'Moselle\\n', 'Moya\\n', 'Moyna\\n', 'Moyra\\n', 'Mozelle\\n', 'Muffin\\n', 'Mufi\\n', 'Mufinella\\n', 'Muire\\n', 'Mureil\\n', 'Murial\\n', 'Muriel\\n', 'Murielle\\n', 'Myna\\n', 'Myra\\n', 'Myrah\\n', 'Myranda\\n', 'Myriam\\n', 'Myrilla\\n', 'Myrle\\n', 'Myrlene\\n', 'Myrna\\n', 'Myrta\\n', 'Myrtia\\n', 'Myrtice\\n', 'Myrtie\\n', 'Myrtle\\n', 'Nada\\n', 'Nadean\\n', 'Nadeen\\n', 'Nadia\\n', 'Nadine\\n', 'Nadiya\\n', 'Nady\\n', 'Nadya\\n', 'Nalani\\n', 'Nan\\n', 'Nana\\n', 'Nananne\\n', 'Nance\\n', 'Nancee\\n', 'Nancey\\n', 'Nanci\\n', 'Nancie\\n', 'Nancy\\n', 'Nanete\\n', 'Nanette\\n', 'Nani\\n', 'Nanice\\n', 'Nanine\\n', 'Nannette\\n', 'Nanni\\n', 'Nannie\\n', 'Nanny\\n', 'Nanon\\n', 'Naoma\\n', 'Naomi\\n', 'Nara\\n', 'Nari\\n', 'Nariko\\n', 'Nat\\n', 'Nata\\n', 'Natala\\n', 'Natalee\\n', 'Natalia\\n', 'Natalie\\n', 'Natalina\\n', 'Nataline\\n', 'Natalya\\n', 'Natasha\\n', 'Natassia\\n', 'Nathalia\\n', 'Nathalie\\n', 'Natka\\n', 'Natty\\n', 'Neala\\n', 'Neda\\n', 'Nedda\\n', 'Nedi\\n', 'Neely\\n', 'Neila\\n', 'Neile\\n', 'Neilla\\n', 'Neille\\n', 'Nela\\n', 'Nelia\\n', 'Nelie\\n', 'Nell\\n', 'Nelle\\n', 'Nelli\\n', 'Nellie\\n', 'Nelly\\n', 'Nena\\n', 'Nerissa\\n', 'Nerita\\n', 'Nert\\n', 'Nerta\\n', 'Nerte\\n', 'Nerti\\n', 'Nertie\\n', 'Nerty\\n', 'Nessa\\n', 'Nessi\\n', 'Nessie\\n', 'Nessy\\n', 'Nesta\\n', 'Netta\\n', 'Netti\\n', 'Nettie\\n', 'Nettle\\n', 'Netty\\n', 'Nevsa\\n', 'Neysa\\n', 'Nichol\\n', 'Nichole\\n', 'Nicholle\\n', 'Nicki\\n', 'Nickie\\n', 'Nicky\\n', 'Nicol\\n', 'Nicola\\n', 'Nicole\\n', 'Nicolea\\n', 'Nicolette\\n', 'Nicoli\\n', 'Nicolina\\n', 'Nicoline\\n', 'Nicolle\\n', 'Nidia\\n', 'Nike\\n', 'Niki\\n', 'Nikki\\n', 'Nikkie\\n', 'Nikoletta\\n', 'Nikolia\\n', 'Nil\\n', 'Nina\\n', 'Ninetta\\n', 'Ninette\\n', 'Ninnetta\\n', 'Ninnette\\n', 'Ninon\\n', 'Nisa\\n', 'Nissa\\n', 'Nisse\\n', 'Nissie\\n', 'Nissy\\n', 'Nita\\n', 'Nitin\\n', 'Nixie\\n', 'Noami\\n', 'Noel\\n', 'Noelani\\n', 'Noell\\n', 'Noella\\n', 'Noelle\\n', 'Noellyn\\n', 'Noelyn\\n', 'Noemi\\n', 'Nola\\n', 'Nolana\\n', 'Nolie\\n', 'Nollie\\n', 'Nomi\\n', 'Nona\\n', 'Nonah\\n', 'Noni\\n', 'Nonie\\n', 'Nonna\\n', 'Nonnah\\n', 'Nora\\n', 'Norah\\n', 'Norean\\n', 'Noreen\\n', 'Norene\\n', 'Norina\\n', 'Norine\\n', 'Norma\\n', 'Norri\\n', 'Norrie\\n', 'Norry\\n', 'Nova\\n', 'Novelia\\n', 'Nydia\\n', 'Nyssa\\n', 'Octavia\\n', 'Odele\\n', 'Odelia\\n', 'Odelinda\\n', 'Odella\\n', 'Odelle\\n', 'Odessa\\n', 'Odetta\\n', 'Odette\\n', 'Odilia\\n', 'Odille\\n', 'Ofelia\\n', 'Ofella\\n', 'Ofilia\\n', 'Ola\\n', 'Olenka\\n', 'Olga\\n', 'Olia\\n', 'Olimpia\\n', 'Olive\\n', 'Olivette\\n', 'Olivia\\n', 'Olivie\\n', 'Oliy\\n', 'Ollie\\n', 'Olly\\n', 'Olva\\n', 'Olwen\\n', 'Olympe\\n', 'Olympia\\n', 'Olympie\\n', 'Ondrea\\n', 'Oneida\\n', 'Onida\\n', 'Onlea\\n', 'Oona\\n', 'Opal\\n', 'Opalina\\n', 'Opaline\\n', 'Ophelia\\n', 'Ophelie\\n', 'Oprah\\n', 'Ora\\n', 'Oralee\\n', 'Oralia\\n', 'Oralie\\n', 'Oralla\\n', 'Oralle\\n', 'Orel\\n', 'Orelee\\n', 'Orelia\\n', 'Orelie\\n', 'Orella\\n', 'Orelle\\n', 'Oreste\\n', 'Oriana\\n', 'Orly\\n', 'Orsa\\n', 'Orsola\\n', 'Ortensia\\n', 'Otha\\n', 'Othelia\\n', 'Othella\\n', 'Othilia\\n', 'Othilie\\n', 'Ottilie\\n', 'Pacifica\\n', 'Page\\n', 'Paige\\n', 'Paloma\\n', 'Pam\\n', 'Pamela\\n', 'Pamelina\\n', 'Pamella\\n', 'Pammi\\n', 'Pammie\\n', 'Pammy\\n', 'Pandora\\n', 'Pansie\\n', 'Pansy\\n', 'Paola\\n', 'Paolina\\n', 'Parwane\\n', 'Pat\\n', 'Patience\\n', 'Patrica\\n', 'Patrice\\n', 'Patricia\\n', 'Patrizia\\n', 'Patsy\\n', 'Patti\\n', 'Pattie\\n', 'Patty\\n', 'Paula\\n', 'Paula-Grace\\n', 'Paule\\n', 'Pauletta\\n', 'Paulette\\n', 'Pauli\\n', 'Paulie\\n', 'Paulina\\n', 'Pauline\\n', 'Paulita\\n', 'Pauly\\n', 'Pavia\\n', 'Pavla\\n', 'Pearl\\n', 'Pearla\\n', 'Pearle\\n', 'Pearline\\n', 'Peg\\n', 'Pegeen\\n', 'Peggi\\n', 'Peggie\\n', 'Peggy\\n', 'Pen\\n', 'Penelopa\\n', 'Penelope\\n', 'Penni\\n', 'Pennie\\n', 'Penny\\n', 'Pepi\\n', 'Pepita\\n', 'Peri\\n', 'Peria\\n', 'Perl\\n', 'Perla\\n', 'Perle\\n', 'Perri\\n', 'Perrine\\n', 'Perry\\n', 'Persis\\n', 'Pet\\n', 'Peta\\n', 'Petra\\n', 'Petrina\\n', 'Petronella\\n', 'Petronia\\n', 'Petronilla\\n', 'Petronille\\n', 'Petunia\\n', 'Phaedra\\n', 'Phaidra\\n', 'Phebe\\n', 'Phedra\\n', 'Phelia\\n', 'Phil\\n', 'Philipa\\n', 'Philippa\\n', 'Philippe\\n', 'Philippine\\n', 'Philis\\n', 'Phillida\\n', 'Phillie\\n', 'Phillis\\n', 'Philly\\n', 'Philomena\\n', 'Phoebe\\n', 'Phylis\\n', 'Phyllida\\n', 'Phyllis\\n', 'Phyllys\\n', 'Phylys\\n', 'Pia\\n', 'Pier\\n', 'Pierette\\n', 'Pierrette\\n', 'Pietra\\n', 'Piper\\n', 'Pippa\\n', 'Pippy\\n', 'Polly\\n', 'Pollyanna\\n', 'Pooh\\n', 'Poppy\\n', 'Portia\\n', 'Pris\\n', 'Prisca\\n', 'Priscella\\n', 'Priscilla\\n', 'Prissie\\n', 'Pru\\n', 'Prudence\\n', 'Prudi\\n', 'Prudy\\n', 'Prue\\n', 'Prunella\\n', 'Queada\\n', 'Queenie\\n', 'Quentin\\n', 'Querida\\n', 'Quinn\\n', 'Quinta\\n', 'Quintana\\n', 'Quintilla\\n', 'Quintina\\n', 'Rachael\\n', 'Rachel\\n', 'Rachele\\n', 'Rachelle\\n', 'Rae\\n', 'Raf\\n', 'Rafa\\n', 'Rafaela\\n', 'Rafaelia\\n', 'Rafaelita\\n', 'Ragnhild\\n', 'Rahal\\n', 'Rahel\\n', 'Raina\\n', 'Raine\\n', 'Rakel\\n', 'Ralina\\n', 'Ramona\\n', 'Ramonda\\n', 'Rana\\n', 'Randa\\n', 'Randee\\n', 'Randene\\n', 'Randi\\n', 'Randie\\n', 'Randy\\n', 'Ranee\\n', 'Rani\\n', 'Rania\\n', 'Ranice\\n', 'Ranique\\n', 'Ranna\\n', 'Raphaela\\n', 'Raquel\\n', 'Raquela\\n', 'Rasia\\n', 'Rasla\\n', 'Raven\\n', 'Ray\\n', 'Raychel\\n', 'Raye\\n', 'Rayna\\n', 'Raynell\\n', 'Rayshell\\n', 'Rea\\n', 'Reba\\n', 'Rebbecca\\n', 'Rebe\\n', 'Rebeca\\n', 'Rebecca\\n', 'Rebecka\\n', 'Rebeka\\n', 'Rebekah\\n', 'Rebekkah\\n', 'Ree\\n', 'Reeba\\n', 'Reena\\n', 'Reeta\\n', 'Reeva\\n', 'Regan\\n', 'Reggi\\n', 'Reggie\\n', 'Regina\\n', 'Regine\\n', 'Reiko\\n', 'Reina\\n', 'Reine\\n', 'Remy\\n', 'Rena\\n', 'Renae\\n', 'Renata\\n', 'Renate\\n', 'Rene\\n', 'Renee\\n', 'Renel\\n', 'Renell\\n', 'Renelle\\n', 'Renie\\n', 'Rennie\\n', 'Reta\\n', 'Retha\\n', 'Revkah\\n', 'Rey\\n', 'Reyna\\n', 'Rhea\\n', 'Rheba\\n', 'Rheta\\n', 'Rhetta\\n', 'Rhiamon\\n', 'Rhianna\\n', 'Rhianon\\n', 'Rhoda\\n', 'Rhodia\\n', 'Rhodie\\n', 'Rhody\\n', 'Rhona\\n', 'Rhonda\\n', 'Riane\\n', 'Riannon\\n', 'Rianon\\n', 'Rica\\n', 'Ricca\\n', 'Rici\\n', 'Ricki\\n', 'Rickie\\n', 'Ricky\\n', 'Riki\\n', 'Rikki\\n', 'Rina\\n', 'Risa\\n', 'Rissa\\n', 'Rita\\n', 'Riva\\n', 'Rivalee\\n', 'Rivi\\n', 'Rivkah\\n', 'Rivy\\n', 'Roana\\n', 'Roanna\\n', 'Roanne\\n', 'Robbi\\n', 'Robbie\\n', 'Robbin\\n', 'Robby\\n', 'Robbyn\\n', 'Robena\\n', 'Robenia\\n', 'Roberta\\n', 'Robin\\n', 'Robina\\n', 'Robinet\\n', 'Robinett\\n', 'Robinetta\\n', 'Robinette\\n', 'Robinia\\n', 'Roby\\n', 'Robyn\\n', 'Roch\\n', 'Rochell\\n', 'Rochella\\n', 'Rochelle\\n', 'Rochette\\n', 'Roda\\n', 'Rodi\\n', 'Rodie\\n', 'Rodina\\n', 'Romola\\n', 'Romona\\n', 'Romonda\\n', 'Romy\\n', 'Rona\\n', 'Ronalda\\n', 'Ronda\\n', 'Ronica\\n', 'Ronna\\n', 'Ronni\\n', 'Ronnica\\n', 'Ronnie\\n', 'Ronny\\n', 'Roobbie\\n', 'Rora\\n', 'Rori\\n', 'Rorie\\n', 'Rory\\n', 'Ros\\n', 'Rosa\\n', 'Rosabel\\n', 'Rosabella\\n', 'Rosabelle\\n', 'Rosaleen\\n', 'Rosalia\\n', 'Rosalie\\n', 'Rosalind\\n', 'Rosalinda\\n', 'Rosalinde\\n', 'Rosaline\\n', 'Rosalyn\\n', 'Rosalynd\\n', 'Rosamond\\n', 'Rosamund\\n', 'Rosana\\n', 'Rosanna\\n', 'Rosanne\\n', 'Rosario\\n', 'Rose\\n', 'Roseann\\n', 'Roseanna\\n', 'Roseanne\\n', 'Roselia\\n', 'Roselin\\n', 'Roseline\\n', 'Rosella\\n', 'Roselle\\n', 'Roselyn\\n', 'Rosemaria\\n', 'Rosemarie\\n', 'Rosemary\\n', 'Rosemonde\\n', 'Rosene\\n', 'Rosetta\\n', 'Rosette\\n', 'Roshelle\\n', 'Rosie\\n', 'Rosina\\n', 'Rosita\\n', 'Roslyn\\n', 'Rosmunda\\n', 'Rosy\\n', 'Row\\n', 'Rowe\\n', 'Rowena\\n', 'Roxana\\n', 'Roxane\\n', 'Roxanna\\n', 'Roxanne\\n', 'Roxi\\n', 'Roxie\\n', 'Roxine\\n', 'Roxy\\n', 'Roz\\n', 'Rozalie\\n', 'Rozalin\\n', 'Rozamond\\n', 'Rozanna\\n', 'Rozanne\\n', 'Roze\\n', 'Rozele\\n', 'Rozella\\n', 'Rozelle\\n', 'Rozina\\n', 'Rubetta\\n', 'Rubi\\n', 'Rubia\\n', 'Rubie\\n', 'Rubina\\n', 'Ruby\\n', 'Ruella\\n', 'Ruperta\\n', 'Ruth\\n', 'Ruthann\\n', 'Ruthanne\\n', 'Ruthe\\n', 'Ruthi\\n', 'Ruthie\\n', 'Ruthy\\n', 'Ryann\\n', 'Rycca\\n', 'Saba\\n', 'Sabina\\n', 'Sabine\\n', 'Sabra\\n', 'Sabrina\\n', 'Sacha\\n', 'Sada\\n', 'Sadella\\n', 'Sadie\\n', 'Sal\\n', 'Sallee\\n', 'Salli\\n', 'Sallie\\n', 'Sally\\n', 'Sallyann\\n', 'Sallyanne\\n', 'Salome\\n', 'Sam\\n', 'Samantha\\n', 'Samara\\n', 'Samaria\\n', 'Sammy\\n', 'Samuela\\n', 'Samuella\\n', 'Sande\\n', 'Sandi\\n', 'Sandie\\n', 'Sandra\\n', 'Sandy\\n', 'Sandye\\n', 'Sapphira\\n', 'Sapphire\\n', 'Sara\\n', 'Sara-Ann\\n', 'Saraann\\n', 'Sarah\\n', 'Sarajane\\n', 'Saree\\n', 'Sarena\\n', 'Sarene\\n', 'Sarette\\n', 'Sari\\n', 'Sarina\\n', 'Sarine\\n', 'Sarita\\n', 'Sascha\\n', 'Sasha\\n', 'Sashenka\\n', 'Saudra\\n', 'Saundra\\n', 'Savina\\n', 'Sayre\\n', 'Scarlet\\n', 'Scarlett\\n', 'Scotty\\n', 'Sean\\n', 'Seana\\n', 'Secunda\\n', 'Seka\\n', 'Sela\\n', 'Selena\\n', 'Selene\\n', 'Selestina\\n', 'Selia\\n', 'Selie\\n', 'Selina\\n', 'Selinda\\n', 'Seline\\n', 'Sella\\n', 'Selle\\n', 'Selma\\n', 'Sena\\n', 'Sephira\\n', 'Serena\\n', 'Serene\\n', 'Shaina\\n', 'Shaine\\n', 'Shalna\\n', 'Shalne\\n', 'Shamit\\n', 'Shana\\n', 'Shanda\\n', 'Shandee\\n', 'Shandie\\n', 'Shandra\\n', 'Shandy\\n', 'Shane\\n', 'Shani\\n', 'Shanie\\n', 'Shanna\\n', 'Shannah\\n', 'Shannen\\n', 'Shannon\\n', 'Shanon\\n', 'Shanta\\n', 'Shantee\\n', 'Shara\\n', 'Sharai\\n', 'Shari\\n', 'Sharia\\n', 'Sharie\\n', 'Sharity\\n', 'Sharl\\n', 'Sharla\\n', 'Sharleen\\n', 'Sharlene\\n', 'Sharline\\n', 'Sharna\\n', 'Sharon\\n', 'Sharona\\n', 'Sharra\\n', 'Sharron\\n', 'Sharyl\\n', 'Shaun\\n', 'Shauna\\n', 'Shawn\\n', 'Shawna\\n', 'Shawnee\\n', 'Shay\\n', 'Shayla\\n', 'Shaylah\\n', 'Shaylyn\\n', 'Shaylynn\\n', 'Shayna\\n', 'Shayne\\n', 'Shea\\n', 'Sheba\\n', 'Sheela\\n', 'Sheelagh\\n', 'Sheelah\\n', 'Sheena\\n', 'Sheeree\\n', 'Sheila\\n', 'Sheila-Kathryn\\n', 'Sheilah\\n', 'Sheilakathryn\\n', 'Shel\\n', 'Shela\\n', 'Shelagh\\n', 'Shelba\\n', 'Shelbi\\n', 'Shelby\\n', 'Shelia\\n', 'Shell\\n', 'Shelley\\n', 'Shelli\\n', 'Shellie\\n', 'Shelly\\n', 'Shena\\n', 'Sher\\n', 'Sheree\\n', 'Sheri\\n', 'Sherie\\n', 'Sheril\\n', 'Sherill\\n', 'Sherilyn\\n', 'Sherline\\n', 'Sherri\\n', 'Sherrie\\n', 'Sherry\\n', 'Sherye\\n', 'Sheryl\\n', 'Shilpa\\n', 'Shina\\n', 'Shir\\n', 'Shira\\n', 'Shirah\\n', 'Shirl\\n', 'Shirlee\\n', 'Shirleen\\n', 'Shirlene\\n', 'Shirley\\n', 'Shirline\\n', 'Shoshana\\n', 'Shoshanna\\n', 'Shoshie\\n', 'Siana\\n', 'Sianna\\n', 'Sib\\n', 'Sibbie\\n', 'Sibby\\n', 'Sibeal\\n', 'Sibel\\n', 'Sibella\\n', 'Sibelle\\n', 'Sibilla\\n', 'Sibley\\n', 'Sibyl\\n', 'Sibylla\\n', 'Sibylle\\n', 'Sidoney\\n', 'Sidonia\\n', 'Sidonnie\\n', 'Sigrid\\n', 'Sile\\n', 'Sileas\\n', 'Silva\\n', 'Silvana\\n', 'Silvia\\n', 'Silvie\\n', 'Simona\\n', 'Simone\\n', 'Simonette\\n', 'Simonne\\n', 'Sindee\\n', 'Sinead\\n', 'Siobhan\\n', 'Sioux\\n', 'Siouxie\\n', 'Sisely\\n', 'Sisile\\n', 'Sissie\\n', 'Sissy\\n', 'Sofia\\n', 'Sofie\\n', 'Solange\\n', 'Sondra\\n', 'Sonia\\n', 'Sonja\\n', 'Sonni\\n', 'Sonnie\\n', 'Sonnnie\\n', 'Sonny\\n', 'Sonya\\n', 'Sophey\\n', 'Sophi\\n', 'Sophia\\n', 'Sophie\\n', 'Sophronia\\n', 'Sorcha\\n', 'Sosanna\\n', 'Stace\\n', 'Stacee\\n', 'Stacey\\n', 'Staci\\n', 'Stacia\\n', 'Stacie\\n', 'Stacy\\n', 'Stafani\\n', 'Star\\n', 'Starla\\n', 'Starlene\\n', 'Starlin\\n', 'Starr\\n', 'Stefa\\n', 'Stefania\\n', 'Stefanie\\n', 'Steffane\\n', 'Steffi\\n', 'Steffie\\n', 'Stella\\n', 'Stepha\\n', 'Stephana\\n', 'Stephani\\n', 'Stephanie\\n', 'Stephannie\\n', 'Stephenie\\n', 'Stephi\\n', 'Stephie\\n', 'Stephine\\n', 'Stesha\\n', 'Stevana\\n', 'Stevena\\n', 'Stoddard\\n', 'Storey\\n', 'Storm\\n', 'Stormi\\n', 'Stormie\\n', 'Stormy\\n', 'Sue\\n', 'Sue-elle\\n', 'Suellen\\n', 'Sukey\\n', 'Suki\\n', 'Sula\\n', 'Sunny\\n', 'Sunshine\\n', 'Susan\\n', 'Susana\\n', 'Susanetta\\n', 'Susann\\n', 'Susanna\\n', 'Susannah\\n', 'Susanne\\n', 'Susette\\n', 'Susi\\n', 'Susie\\n', 'Sussi\\n', 'Susy\\n', 'Suzan\\n', 'Suzann\\n', 'Suzanna\\n', 'Suzanne\\n', 'Suzetta\\n', 'Suzette\\n', 'Suzi\\n', 'Suzie\\n', 'Suzy\\n', 'Suzzy\\n', 'Sybil\\n', 'Sybila\\n', 'Sybilla\\n', 'Sybille\\n', 'Sybyl\\n', 'Sydel\\n', 'Sydelle\\n', 'Sydney\\n', 'Sylvia\\n', 'Sylvie\\n', 'Tabatha\\n', 'Tabbatha\\n', 'Tabbi\\n', 'Tabbie\\n', 'Tabbitha\\n', 'Tabby\\n', 'Tabina\\n', 'Tabitha\\n', 'Taffy\\n', 'Talia\\n', 'Tallia\\n', 'Tallie\\n', 'Tally\\n', 'Talya\\n', 'Talyah\\n', 'Tamar\\n', 'Tamara\\n', 'Tamarah\\n', 'Tamarra\\n', 'Tamera\\n', 'Tami\\n', 'Tamiko\\n', 'Tamma\\n', 'Tammara\\n', 'Tammi\\n', 'Tammie\\n', 'Tammy\\n', 'Tamra\\n', 'Tana\\n', 'Tandi\\n', 'Tandie\\n', 'Tandy\\n', 'Tani\\n', 'Tania\\n', 'Tansy\\n', 'Tanya\\n', 'Tara\\n', 'Tarah\\n', 'Tarra\\n', 'Tarrah\\n', 'Taryn\\n', 'Tasha\\n', 'Tasia\\n', 'Tate\\n', 'Tatiana\\n', 'Tatiania\\n', 'Tatum\\n', 'Tawnya\\n', 'Tawsha\\n', 'Teane\\n', 'Ted\\n', 'Tedda\\n', 'Teddi\\n', 'Teddie\\n', 'Teddy\\n', 'Tedi\\n', 'Tedra\\n', 'Teena\\n', 'Tella\\n', 'Teodora\\n', 'Tera\\n', 'Teresa\\n', 'TeresaAnne\\n', 'Terese\\n', 'Teresina\\n', 'Teresita\\n', 'Teressa\\n', 'Teri\\n', 'Teriann\\n', 'Terina\\n', 'Terra\\n', 'Terri\\n', 'Terri-Jo\\n', 'Terrianne\\n', 'Terrie\\n', 'Terry\\n', 'Terrye\\n', 'Tersina\\n', 'Teryl\\n', 'Terza\\n', 'Tess\\n', 'Tessa\\n', 'Tessi\\n', 'Tessie\\n', 'Tessy\\n', 'Thalia\\n', 'Thea\\n', 'Theada\\n', 'Theadora\\n', 'Theda\\n', 'Thekla\\n', 'Thelma\\n', 'Theo\\n', 'Theodora\\n', 'Theodosia\\n', 'Theresa\\n', 'Theresa-Marie\\n', 'Therese\\n', 'Theresina\\n', 'Theresita\\n', 'Theressa\\n', 'Therine\\n', 'Thia\\n', 'Thomasa\\n', 'Thomasin\\n', 'Thomasina\\n', 'Thomasine\\n', 'Tia\\n', 'Tiana\\n', 'Tiena\\n', 'Tierney\\n', 'Tiertza\\n', 'Tiff\\n', 'Tiffani\\n', 'Tiffanie\\n', 'Tiffany\\n', 'Tiffi\\n', 'Tiffie\\n', 'Tiffy\\n', 'Tilda\\n', 'Tildi\\n', 'Tildie\\n', 'Tildy\\n', 'Tillie\\n', 'Tilly\\n', 'Tim\\n', 'Timi\\n', 'Timmi\\n', 'Timmie\\n', 'Timmy\\n', 'Timothea\\n', 'Tina\\n', 'Tine\\n', 'Tiphani\\n', 'Tiphanie\\n', 'Tiphany\\n', 'Tish\\n', 'Tisha\\n', 'Tobe\\n', 'Tobey\\n', 'Tobi\\n', 'Tobie\\n', 'Toby\\n', 'Tobye\\n', 'Toinette\\n', 'Toma\\n', 'Tomasina\\n', 'Tomasine\\n', 'Tomi\\n', 'Tomiko\\n', 'Tommi\\n', 'Tommie\\n', 'Tommy\\n', 'Toni\\n', 'Tonia\\n', 'Tonie\\n', 'Tony\\n', 'Tonya\\n', 'Tootsie\\n', 'Torey\\n', 'Tori\\n', 'Torie\\n', 'Torrie\\n', 'Tory\\n', 'Tova\\n', 'Tove\\n', 'Trace\\n', 'Tracee\\n', 'Tracey\\n', 'Traci\\n', 'Tracie\\n', 'Tracy\\n', 'Trenna\\n', 'Tresa\\n', 'Trescha\\n', 'Tressa\\n', 'Tricia\\n', 'Trina\\n', 'Trish\\n', 'Trisha\\n', 'Trista\\n', 'Trix\\n', 'Trixi\\n', 'Trixie\\n', 'Trixy\\n', 'Truda\\n', 'Trude\\n', 'Trudey\\n', 'Trudi\\n', 'Trudie\\n', 'Trudy\\n', 'Trula\\n', 'Tuesday\\n', 'Twila\\n', 'Twyla\\n', 'Tybi\\n', 'Tybie\\n', 'Tyne\\n', 'Ula\\n', 'Ulla\\n', 'Ulrica\\n', 'Ulrika\\n', 'Ulrike\\n', 'Umeko\\n', 'Una\\n', 'Ursa\\n', 'Ursala\\n', 'Ursola\\n', 'Ursula\\n', 'Ursulina\\n', 'Ursuline\\n', 'Uta\\n', 'Val\\n', 'Valaree\\n', 'Valaria\\n', 'Vale\\n', 'Valeda\\n', 'Valencia\\n', 'Valene\\n', 'Valenka\\n', 'Valentia\\n', 'Valentina\\n', 'Valentine\\n', 'Valera\\n', 'Valeria\\n', 'Valerie\\n', 'Valery\\n', 'Valerye\\n', 'Valida\\n', 'Valina\\n', 'Valli\\n', 'Vallie\\n', 'Vally\\n', 'Valma\\n', 'Valry\\n', 'Van\\n', 'Vanda\\n', 'Vanessa\\n', 'Vania\\n', 'Vanna\\n', 'Vanni\\n', 'Vannie\\n', 'Vanny\\n', 'Vanya\\n', 'Veda\\n', 'Velma\\n', 'Velvet\\n', 'Vena\\n', 'Venita\\n', 'Ventura\\n', 'Venus\\n', 'Vera\\n', 'Veradis\\n', 'Vere\\n', 'Verena\\n', 'Verene\\n', 'Veriee\\n', 'Verile\\n', 'Verina\\n', 'Verine\\n', 'Verla\\n', 'Verna\\n', 'Vernice\\n', 'Veronica\\n', 'Veronika\\n', 'Veronike\\n', 'Veronique\\n', 'Vi\\n', 'Vicki\\n', 'Vickie\\n', 'Vicky\\n', 'Victoria\\n', 'Vida\\n', 'Viki\\n', 'Vikki\\n', 'Vikkie\\n', 'Vikky\\n', 'Vilhelmina\\n', 'Vilma\\n', 'Vin\\n', 'Vina\\n', 'Vinita\\n', 'Vinni\\n', 'Vinnie\\n', 'Vinny\\n', 'Viola\\n', 'Violante\\n', 'Viole\\n', 'Violet\\n', 'Violetta\\n', 'Violette\\n', 'Virgie\\n', 'Virgina\\n', 'Virginia\\n', 'Virginie\\n', 'Vita\\n', 'Vitia\\n', 'Vitoria\\n', 'Vittoria\\n', 'Viv\\n', 'Viva\\n', 'Vivi\\n', 'Vivia\\n', 'Vivian\\n', 'Viviana\\n', 'Vivianna\\n', 'Vivianne\\n', 'Vivie\\n', 'Vivien\\n', 'Viviene\\n', 'Vivienne\\n', 'Viviyan\\n', 'Vivyan\\n', 'Vivyanne\\n', 'Vonni\\n', 'Vonnie\\n', 'Vonny\\n', 'Wallie\\n', 'Wallis\\n', 'Wally\\n', 'Waly\\n', 'Wanda\\n', 'Wandie\\n', 'Wandis\\n', 'Waneta\\n', 'Wenda\\n', 'Wendeline\\n', 'Wendi\\n', 'Wendie\\n', 'Wendy\\n', 'Wenona\\n', 'Wenonah\\n', 'Whitney\\n', 'Wileen\\n', 'Wilhelmina\\n', 'Wilhelmine\\n', 'Wilie\\n', 'Willa\\n', 'Willabella\\n', 'Willamina\\n', 'Willetta\\n', 'Willette\\n', 'Willi\\n', 'Willie\\n', 'Willow\\n', 'Willy\\n', 'Willyt\\n', 'Wilma\\n', 'Wilmette\\n', 'Wilona\\n', 'Wilone\\n', 'Wilow\\n', 'Windy\\n', 'Wini\\n', 'Winifred\\n', 'Winna\\n', 'Winnah\\n', 'Winne\\n', 'Winni\\n', 'Winnie\\n', 'Winnifred\\n', 'Winny\\n', 'Winona\\n', 'Winonah\\n', 'Wren\\n', 'Wrennie\\n', 'Wylma\\n', 'Wynn\\n', 'Wynne\\n', 'Wynnie\\n', 'Wynny\\n', 'Xaviera\\n', 'Xena\\n', 'Xenia\\n', 'Xylia\\n', 'Xylina\\n', 'Yalonda\\n', 'Yehudit\\n', 'Yelena\\n', 'Yetta\\n', 'Yettie\\n', 'Yetty\\n', 'Yevette\\n', 'Yoko\\n', 'Yolanda\\n', 'Yolande\\n', 'Yolane\\n', 'Yolanthe\\n', 'Yonina\\n', 'Yoshi\\n', 'Yoshiko\\n', 'Yovonnda\\n', 'Yvette\\n', 'Yvonne\\n', 'Zabrina\\n', 'Zahara\\n', 'Zandra\\n', 'Zaneta\\n', 'Zara\\n', 'Zarah\\n', 'Zaria\\n', 'Zarla\\n', 'Zea\\n', 'Zelda\\n', 'Zelma\\n', 'Zena\\n', 'Zenia\\n', 'Zia\\n', 'Zilvia\\n', 'Zita\\n', 'Zitella\\n', 'Zoe\\n', 'Zola\\n', 'Zonda\\n', 'Zondra\\n', 'Zonnya\\n', 'Zora\\n', 'Zorah\\n', 'Zorana\\n', 'Zorina\\n', 'Zorine\\n', 'Zsa Zsa\\n', 'Zsazsa\\n', 'Zulema\\n', 'Zuzana\\n', 'Mikako\\n', 'Kaari\\n', 'Gita\\n', 'Geeta\\n']\n"
          ]
        }
      ]
    },
    {
      "cell_type": "code",
      "source": [
        "names = []\n",
        "max_len = 0\n",
        "# if max_len == 10\n",
        "# if name is 'TOM', I can make it TOM (+) 0000000\n",
        "for l in lines[6:]:\n",
        "    # delete last line spacing and make all lower case.\n",
        "    curr_name = l[:-1].lower()\n",
        "    if curr_name.isalpha():\n",
        "        names.append(curr_name)\n",
        "        max_len = max(len(curr_name), max_len)\n",
        "# if name is \"Tom\" what exactly generated is \"Tom<EndOfSignal>\"\n",
        "max_len += 1 # consider the 'EOS' (end of signal)\n",
        "print('Maximum Length : ' + str(max_len))\n",
        "print(names)"
      ],
      "metadata": {
        "colab": {
          "base_uri": "https://localhost:8080/"
        },
        "id": "4SU8fka-IgPH",
        "outputId": "e6109250-52de-4aac-a1ae-32f4ce0c817d"
      },
      "execution_count": null,
      "outputs": [
        {
          "output_type": "stream",
          "name": "stdout",
          "text": [
            "Maximum Length : 14\n",
            "['abagael', 'abagail', 'abbe', 'abbey', 'abbi', 'abbie', 'abby', 'abigael', 'abigail', 'abigale', 'abra', 'acacia', 'ada', 'adah', 'adaline', 'adara', 'addie', 'addis', 'adel', 'adela', 'adelaide', 'adele', 'adelice', 'adelina', 'adelind', 'adeline', 'adella', 'adelle', 'adena', 'adey', 'adi', 'adiana', 'adina', 'adora', 'adore', 'adoree', 'adorne', 'adrea', 'adria', 'adriaens', 'adrian', 'adriana', 'adriane', 'adrianna', 'adrianne', 'adrien', 'adriena', 'adrienne', 'aeriel', 'aeriela', 'aeriell', 'ag', 'agace', 'agata', 'agatha', 'agathe', 'aggi', 'aggie', 'aggy', 'agna', 'agnella', 'agnes', 'agnese', 'agnesse', 'agneta', 'agnola', 'agretha', 'aida', 'aidan', 'aigneis', 'aila', 'aile', 'ailee', 'aileen', 'ailene', 'ailey', 'aili', 'ailina', 'ailyn', 'aime', 'aimee', 'aimil', 'aina', 'aindrea', 'ainslee', 'ainsley', 'ainslie', 'ajay', 'alaine', 'alameda', 'alana', 'alanah', 'alane', 'alanna', 'alayne', 'alberta', 'albertina', 'albertine', 'albina', 'alecia', 'aleda', 'aleece', 'aleecia', 'aleen', 'alejandra', 'alejandrina', 'alena', 'alene', 'alessandra', 'aleta', 'alethea', 'alex', 'alexa', 'alexandra', 'alexandrina', 'alexi', 'alexia', 'alexina', 'alexine', 'alexis', 'alfie', 'alfreda', 'ali', 'alia', 'alica', 'alice', 'alicea', 'alicia', 'alida', 'alidia', 'alina', 'aline', 'alis', 'alisa', 'alisha', 'alison', 'alissa', 'alisun', 'alix', 'aliza', 'alla', 'alleen', 'allegra', 'allene', 'alli', 'allianora', 'allie', 'allina', 'allis', 'allison', 'allissa', 'allsun', 'ally', 'allyce', 'allyn', 'allys', 'allyson', 'alma', 'almeda', 'almeria', 'almeta', 'almira', 'almire', 'aloise', 'aloisia', 'aloysia', 'alpa', 'alta', 'althea', 'alvera', 'alvina', 'alvinia', 'alvira', 'alyce', 'alyda', 'alys', 'alysa', 'alyse', 'alysia', 'alyson', 'alyss', 'alyssa', 'amabel', 'amabelle', 'amalea', 'amalee', 'amaleta', 'amalia', 'amalie', 'amalita', 'amalle', 'amanda', 'amandi', 'amandie', 'amandy', 'amara', 'amargo', 'amata', 'amber', 'amberly', 'ambrosia', 'ambur', 'ame', 'amelia', 'amelie', 'amelina', 'ameline', 'amelita', 'ami', 'amie', 'amity', 'ammamaria', 'amy', 'ana', 'anabel', 'anabella', 'anabelle', 'anais', 'analiese', 'analise', 'anallese', 'anallise', 'anastasia', 'anastasie', 'anastassia', 'anatola', 'andee', 'andi', 'andie', 'andra', 'andrea', 'andreana', 'andree', 'andrei', 'andria', 'andriana', 'andriette', 'andromache', 'andromeda', 'andy', 'anestassia', 'anet', 'anett', 'anetta', 'anette', 'ange', 'angel', 'angela', 'angele', 'angelia', 'angelica', 'angelika', 'angelina', 'angeline', 'angelique', 'angelita', 'angelle', 'angie', 'angil', 'angy', 'ania', 'anica', 'anissa', 'anita', 'anitra', 'anja', 'anjanette', 'anjela', 'ann', 'anna', 'annabal', 'annabel', 'annabela', 'annabell', 'annabella', 'annabelle', 'annadiana', 'annadiane', 'annalee', 'annalena', 'annaliese', 'annalisa', 'annalise', 'annalyse', 'annamari', 'annamaria', 'annamarie', 'anne', 'annecorinne', 'anneliese', 'annelise', 'annemarie', 'annetta', 'annette', 'anni', 'annice', 'annie', 'annissa', 'annmaria', 'annmarie', 'annnora', 'annora', 'anny', 'anselma', 'ansley', 'anstice', 'anthe', 'anthea', 'anthia', 'antoinette', 'antonella', 'antonetta', 'antonia', 'antonie', 'antonietta', 'antonina', 'anya', 'aphrodite', 'appolonia', 'april', 'aprilette', 'ara', 'arabel', 'arabela', 'arabele', 'arabella', 'arabelle', 'arda', 'ardath', 'ardeen', 'ardelia', 'ardelis', 'ardella', 'ardelle', 'arden', 'ardene', 'ardenia', 'ardine', 'ardis', 'ardith', 'ardra', 'ardyce', 'ardys', 'ardyth', 'aretha', 'ariadne', 'ariana', 'arianne', 'aridatha', 'ariel', 'ariela', 'ariella', 'arielle', 'arlana', 'arlee', 'arleen', 'arlen', 'arlena', 'arlene', 'arleta', 'arlette', 'arleyne', 'arlie', 'arliene', 'arlina', 'arlinda', 'arline', 'arly', 'arlyn', 'arlyne', 'aryn', 'ashely', 'ashlee', 'ashleigh', 'ashlen', 'ashley', 'ashli', 'ashlie', 'ashly', 'asia', 'astra', 'astrid', 'astrix', 'atalanta', 'athena', 'athene', 'atlanta', 'atlante', 'auberta', 'aubine', 'aubree', 'aubrette', 'aubrey', 'aubrie', 'aubry', 'audi', 'audie', 'audra', 'audre', 'audrey', 'audrie', 'audry', 'audrye', 'audy', 'augusta', 'auguste', 'augustina', 'augustine', 'aura', 'aurea', 'aurel', 'aurelea', 'aurelia', 'aurelie', 'auria', 'aurie', 'aurilia', 'aurlie', 'auroora', 'aurora', 'aurore', 'austin', 'austina', 'austine', 'ava', 'aveline', 'averil', 'averyl', 'avie', 'avis', 'aviva', 'avivah', 'avril', 'avrit', 'ayn', 'bab', 'babara', 'babette', 'babita', 'babs', 'bambi', 'bambie', 'bamby', 'barb', 'barbabra', 'barbara', 'barbaraanne', 'barbe', 'barbee', 'barbette', 'barbey', 'barbi', 'barbie', 'barbra', 'barby', 'bari', 'barrie', 'barry', 'basia', 'bathsheba', 'batsheva', 'bea', 'beatrice', 'beatrisa', 'beatrix', 'beatriz', 'beau', 'bebe', 'becca', 'becka', 'becki', 'beckie', 'becky', 'bee', 'beilul', 'beitris', 'bekki', 'bel', 'belia', 'belicia', 'belinda', 'belita', 'bell', 'bella', 'bellamy', 'bellanca', 'belle', 'bellina', 'belva', 'belvia', 'bendite', 'benedetta', 'benedicta', 'benedikta', 'benetta', 'benita', 'benni', 'bennie', 'benny', 'benoite', 'berenice', 'beret', 'berget', 'berna', 'bernadene', 'bernadette', 'bernadina', 'bernadine', 'bernardina', 'bernardine', 'bernelle', 'bernete', 'bernetta', 'bernette', 'berni', 'bernice', 'bernie', 'bernita', 'berny', 'berri', 'berrie', 'berry', 'bert', 'berta', 'berte', 'bertha', 'berthe', 'berti', 'bertie', 'bertina', 'bertine', 'berty', 'beryl', 'beryle', 'bess', 'bessie', 'bessy', 'beth', 'bethanne', 'bethany', 'bethena', 'bethina', 'betsey', 'betsy', 'betta', 'bette', 'betteann', 'betteanne', 'betti', 'bettie', 'bettina', 'bettine', 'betty', 'bettye', 'beulah', 'bev', 'beverie', 'beverlee', 'beverlie', 'beverly', 'bevvy', 'bianca', 'bianka', 'biddy', 'bidget', 'bill', 'billi', 'billie', 'billy', 'binni', 'binnie', 'binny', 'bird', 'birdie', 'birgit', 'birgitta', 'blair', 'blaire', 'blake', 'blakelee', 'blakeley', 'blanca', 'blanch', 'blancha', 'blanche', 'blinni', 'blinnie', 'blinny', 'bliss', 'blisse', 'blithe', 'blondell', 'blondelle', 'blondie', 'blondy', 'blythe', 'bo', 'bobbette', 'bobbi', 'bobbie', 'bobby', 'bobette', 'bobina', 'bobine', 'bobinette', 'bonita', 'bonnee', 'bonni', 'bonnie', 'bonny', 'brana', 'brandais', 'brande', 'brandea', 'brandi', 'brandice', 'brandie', 'brandise', 'brandy', 'brea', 'breanne', 'brear', 'bree', 'breena', 'bren', 'brena', 'brenda', 'brenn', 'brenna', 'brett', 'bria', 'briana', 'brianna', 'brianne', 'bride', 'bridget', 'bridgett', 'bridgette', 'bridie', 'brier', 'brietta', 'brigid', 'brigida', 'brigit', 'brigitta', 'brigitte', 'brina', 'briney', 'briny', 'brit', 'brita', 'britaney', 'britani', 'briteny', 'britney', 'britni', 'britt', 'britta', 'brittan', 'brittany', 'britte', 'brittney', 'brook', 'brooke', 'brooks', 'brunella', 'brunhilda', 'brunhilde', 'bryana', 'bryn', 'bryna', 'brynn', 'brynna', 'brynne', 'buffy', 'bunni', 'bunnie', 'bunny', 'burta', 'cabrina', 'cacilia', 'cacilie', 'caitlin', 'caitrin', 'cal', 'calida', 'calla', 'calley', 'calli', 'callida', 'callie', 'cally', 'calypso', 'cam', 'camala', 'camel', 'camella', 'camellia', 'cameo', 'cami', 'camila', 'camile', 'camilla', 'camille', 'cammi', 'cammie', 'cammy', 'canada', 'candace', 'candi', 'candice', 'candida', 'candide', 'candie', 'candis', 'candra', 'candy', 'cappella', 'caprice', 'cara', 'caralie', 'caren', 'carena', 'caresa', 'caressa', 'caresse', 'carey', 'cari', 'caria', 'carie', 'caril', 'carilyn', 'carin', 'carina', 'carine', 'cariotta', 'carissa', 'carita', 'caritta', 'carla', 'carlee', 'carleen', 'carlen', 'carlena', 'carlene', 'carley', 'carli', 'carlie', 'carlin', 'carlina', 'carline', 'carlisle', 'carlita', 'carlota', 'carlotta', 'carly', 'carlye', 'carlyn', 'carlynn', 'carlynne', 'carma', 'carmel', 'carmela', 'carmelia', 'carmelina', 'carmelita', 'carmella', 'carmelle', 'carmen', 'carmina', 'carmine', 'carmita', 'carmon', 'caro', 'carol', 'carola', 'carolan', 'carolann', 'carole', 'carolee', 'caroleen', 'carolie', 'carolin', 'carolina', 'caroline', 'caroljean', 'carolyn', 'carolyne', 'carolynn', 'caron', 'carree', 'carri', 'carrie', 'carrissa', 'carrol', 'carroll', 'carry', 'cary', 'caryl', 'caryn', 'casandra', 'casey', 'casi', 'casia', 'casie', 'cass', 'cassandra', 'cassandre', 'cassandry', 'cassaundra', 'cassey', 'cassi', 'cassie', 'cassondra', 'cassy', 'cat', 'catarina', 'cate', 'caterina', 'catha', 'catharina', 'catharine', 'cathe', 'cathee', 'catherin', 'catherina', 'catherine', 'cathi', 'cathie', 'cathleen', 'cathlene', 'cathrin', 'cathrine', 'cathryn', 'cathy', 'cathyleen', 'cati', 'catie', 'catina', 'catlaina', 'catlee', 'catlin', 'catrina', 'catriona', 'caty', 'cayla', 'cecelia', 'cecil', 'cecile', 'ceciley', 'cecilia', 'cecilla', 'cecily', 'ceil', 'cele', 'celene', 'celesta', 'celeste', 'celestia', 'celestina', 'celestine', 'celestyn', 'celestyna', 'celia', 'celie', 'celina', 'celinda', 'celine', 'celinka', 'celisse', 'celle', 'cesya', 'chad', 'chanda', 'chandal', 'chandra', 'channa', 'chantal', 'chantalle', 'charil', 'charin', 'charis', 'charissa', 'charisse', 'charita', 'charity', 'charla', 'charlean', 'charleen', 'charlena', 'charlene', 'charline', 'charlot', 'charlott', 'charlotta', 'charlotte', 'charmain', 'charmaine', 'charmane', 'charmian', 'charmine', 'charmion', 'charo', 'charyl', 'chastity', 'chelsae', 'chelsea', 'chelsey', 'chelsie', 'chelsy', 'cher', 'chere', 'cherey', 'cheri', 'cherianne', 'cherice', 'cherida', 'cherie', 'cherilyn', 'cherilynn', 'cherin', 'cherise', 'cherish', 'cherlyn', 'cherri', 'cherrita', 'cherry', 'chery', 'cherye', 'cheryl', 'cheslie', 'chiarra', 'chickie', 'chicky', 'chiquita', 'chloe', 'chloette', 'chloris', 'chris', 'chriss', 'chrissa', 'chrissie', 'chrissy', 'christa', 'christabel', 'christabella', 'christabelle', 'christal', 'christalle', 'christan', 'christean', 'christel', 'christen', 'christi', 'christian', 'christiana', 'christiane', 'christie', 'christin', 'christina', 'christine', 'christy', 'christyna', 'chrysa', 'chrysler', 'chrystal', 'chryste', 'chrystel', 'ciara', 'cicely', 'cicily', 'ciel', 'cilka', 'cinda', 'cindee', 'cindelyn', 'cinderella', 'cindi', 'cindie', 'cindra', 'cindy', 'cinnamon', 'cissie', 'cissy', 'clair', 'claire', 'clara', 'clarabelle', 'clare', 'claresta', 'clareta', 'claretta', 'clarette', 'clarey', 'clari', 'claribel', 'clarice', 'clarie', 'clarinda', 'clarine', 'clarisa', 'clarissa', 'clarisse', 'clarita', 'clary', 'claude', 'claudelle', 'claudetta', 'claudette', 'claudia', 'claudie', 'claudina', 'claudine', 'clea', 'clem', 'clemence', 'clementia', 'clementina', 'clementine', 'clemmie', 'clemmy', 'cleo', 'cleopatra', 'clerissa', 'cleva', 'clio', 'clo', 'cloe', 'cloris', 'clotilda', 'clovis', 'codee', 'codi', 'codie', 'cody', 'coleen', 'colene', 'coletta', 'colette', 'colleen', 'collete', 'collette', 'collie', 'colline', 'colly', 'con', 'concettina', 'conchita', 'concordia', 'conney', 'conni', 'connie', 'conny', 'consolata', 'constance', 'constancia', 'constancy', 'constanta', 'constantia', 'constantina', 'constantine', 'consuela', 'consuelo', 'cookie', 'cora', 'corabel', 'corabella', 'corabelle', 'coral', 'coralie', 'coraline', 'coralyn', 'cordelia', 'cordelie', 'cordey', 'cordie', 'cordula', 'cordy', 'coreen', 'corella', 'corena', 'corenda', 'corene', 'coretta', 'corette', 'corey', 'cori', 'corie', 'corilla', 'corina', 'corine', 'corinna', 'corinne', 'coriss', 'corissa', 'corliss', 'corly', 'cornela', 'cornelia', 'cornelle', 'cornie', 'corny', 'correna', 'correy', 'corri', 'corrianne', 'corrie', 'corrina', 'corrine', 'corrinne', 'corry', 'cortney', 'cory', 'cosetta', 'cosette', 'courtenay', 'courtney', 'cresa', 'cris', 'crissie', 'crissy', 'crista', 'cristabel', 'cristal', 'cristen', 'cristi', 'cristie', 'cristin', 'cristina', 'cristine', 'cristionna', 'cristy', 'crysta', 'crystal', 'crystie', 'cyb', 'cybal', 'cybel', 'cybelle', 'cybil', 'cybill', 'cyndi', 'cyndy', 'cynthea', 'cynthia', 'cynthie', 'cynthy', 'dacey', 'dacia', 'dacie', 'dacy', 'dael', 'daffi', 'daffie', 'daffy', 'dafna', 'dagmar', 'dahlia', 'daile', 'daisey', 'daisi', 'daisie', 'daisy', 'dale', 'dalenna', 'dalia', 'dalila', 'dallas', 'daloris', 'damara', 'damaris', 'damita', 'dana', 'danell', 'danella', 'danelle', 'danette', 'dani', 'dania', 'danica', 'danice', 'daniel', 'daniela', 'daniele', 'daniella', 'danielle', 'danika', 'danila', 'danit', 'danita', 'danna', 'danni', 'dannie', 'danny', 'dannye', 'danya', 'danyelle', 'danyette', 'daphene', 'daphna', 'daphne', 'dara', 'darb', 'darbie', 'darby', 'darcee', 'darcey', 'darci', 'darcie', 'darcy', 'darda', 'dareen', 'darell', 'darelle', 'dari', 'daria', 'darice', 'darla', 'darleen', 'darlene', 'darline', 'darryl', 'darsey', 'darsie', 'darya', 'daryl', 'daryn', 'dasha', 'dasi', 'dasie', 'dasya', 'datha', 'daune', 'daveen', 'daveta', 'davida', 'davina', 'davine', 'davita', 'dawn', 'dawna', 'dayle', 'dayna', 'dea', 'deana', 'deane', 'deanna', 'deanne', 'deb', 'debbi', 'debbie', 'debbra', 'debby', 'debee', 'debera', 'debi', 'debor', 'debora', 'deborah', 'debra', 'dede', 'dedie', 'dedra', 'dee', 'deeann', 'deeanne', 'deedee', 'deena', 'deerdre', 'dehlia', 'deidre', 'deina', 'deirdre', 'del', 'dela', 'delaney', 'delcina', 'delcine', 'delia', 'delila', 'delilah', 'delinda', 'dell', 'della', 'delly', 'delora', 'delores', 'deloria', 'deloris', 'delphina', 'delphine', 'delphinia', 'demeter', 'demetra', 'demetria', 'demetris', 'dena', 'deni', 'denice', 'denise', 'denna', 'denni', 'dennie', 'denny', 'deny', 'denys', 'denyse', 'deonne', 'desaree', 'desdemona', 'desirae', 'desiree', 'desiri', 'deva', 'devan', 'devi', 'devin', 'devina', 'devinne', 'devon', 'devondra', 'devonna', 'devonne', 'devora', 'dew', 'di', 'diahann', 'diamond', 'dian', 'diana', 'diandra', 'diane', 'dianemarie', 'diann', 'dianna', 'dianne', 'diannne', 'didi', 'dido', 'diena', 'dierdre', 'dina', 'dinah', 'dinnie', 'dinny', 'dion', 'dione', 'dionis', 'dionne', 'dita', 'dix', 'dixie', 'dode', 'dodi', 'dodie', 'dody', 'doe', 'doll', 'dolley', 'dolli', 'dollie', 'dolly', 'dolora', 'dolores', 'dolorita', 'doloritas', 'dominica', 'dominique', 'dona', 'donella', 'donelle', 'donetta', 'donia', 'donica', 'donielle', 'donna', 'donnajean', 'donnamarie', 'donni', 'donnie', 'donny', 'dora', 'doralia', 'doralin', 'doralyn', 'doralynn', 'doralynne', 'dorcas', 'dore', 'doreen', 'dorelia', 'dorella', 'dorelle', 'dorena', 'dorene', 'doretta', 'dorette', 'dorey', 'dori', 'doria', 'dorian', 'dorice', 'dorie', 'dorine', 'doris', 'dorisa', 'dorise', 'dorit', 'dorita', 'doro', 'dorolice', 'dorolisa', 'dorotea', 'doroteya', 'dorothea', 'dorothee', 'dorothy', 'dorree', 'dorri', 'dorrie', 'dorris', 'dorry', 'dorthea', 'dorthy', 'dory', 'dosi', 'dot', 'doti', 'dotti', 'dottie', 'dotty', 'dove', 'drea', 'drew', 'dulce', 'dulcea', 'dulci', 'dulcia', 'dulciana', 'dulcie', 'dulcine', 'dulcinea', 'dulcy', 'dulsea', 'dusty', 'dyan', 'dyana', 'dyane', 'dyann', 'dyanna', 'dyanne', 'dyna', 'dynah', 'eada', 'eadie', 'eadith', 'ealasaid', 'eartha', 'easter', 'eba', 'ebba', 'ebonee', 'ebony', 'eda', 'eddi', 'eddie', 'eddy', 'ede', 'edee', 'edeline', 'eden', 'edi', 'edie', 'edin', 'edita', 'edith', 'editha', 'edithe', 'ediva', 'edna', 'edwina', 'edy', 'edyth', 'edythe', 'effie', 'eileen', 'eilis', 'eimile', 'eirena', 'ekaterina', 'elaina', 'elaine', 'elana', 'elane', 'elayne', 'elberta', 'elbertina', 'elbertine', 'eleanor', 'eleanora', 'eleanore', 'electra', 'elena', 'elene', 'eleni', 'elenore', 'eleonora', 'eleonore', 'elfie', 'elfreda', 'elfrida', 'elfrieda', 'elga', 'elianora', 'elianore', 'elicia', 'elie', 'elinor', 'elinore', 'elisa', 'elisabet', 'elisabeth', 'elisabetta', 'elise', 'elisha', 'elissa', 'elita', 'eliza', 'elizabet', 'elizabeth', 'elka', 'elke', 'ella', 'elladine', 'elle', 'ellen', 'ellene', 'ellette', 'elli', 'ellie', 'ellissa', 'elly', 'ellyn', 'ellynn', 'elmira', 'elna', 'elnora', 'elnore', 'eloisa', 'eloise', 'elonore', 'elora', 'elsa', 'elsbeth', 'else', 'elsey', 'elsi', 'elsie', 'elsinore', 'elspeth', 'elsy', 'elva', 'elvera', 'elvina', 'elvira', 'elwina', 'elwira', 'elyn', 'elyse', 'elysee', 'elysha', 'elysia', 'elyssa', 'em', 'ema', 'emalee', 'emalia', 'emanuela', 'emelda', 'emelia', 'emelina', 'emeline', 'emelita', 'emelyne', 'emera', 'emilee', 'emili', 'emilia', 'emilie', 'emiline', 'emily', 'emlyn', 'emlynn', 'emlynne', 'emma', 'emmalee', 'emmaline', 'emmalyn', 'emmalynn', 'emmalynne', 'emmeline', 'emmey', 'emmi', 'emmie', 'emmy', 'emmye', 'emogene', 'emyle', 'emylee', 'endora', 'engracia', 'enid', 'enrica', 'enrichetta', 'enrika', 'enriqueta', 'enya', 'eolanda', 'eolande', 'eran', 'erda', 'erena', 'erica', 'ericha', 'ericka', 'erika', 'erin', 'erina', 'erinn', 'erinna', 'erma', 'ermengarde', 'ermentrude', 'ermina', 'erminia', 'erminie', 'erna', 'ernaline', 'ernesta', 'ernestine', 'ertha', 'eryn', 'esma', 'esmaria', 'esme', 'esmeralda', 'esmerelda', 'essa', 'essie', 'essy', 'esta', 'estel', 'estele', 'estell', 'estella', 'estelle', 'ester', 'esther', 'estrella', 'estrellita', 'ethel', 'ethelda', 'ethelin', 'ethelind', 'etheline', 'ethelyn', 'ethyl', 'etta', 'etti', 'ettie', 'etty', 'eudora', 'eugenia', 'eugenie', 'eugine', 'eula', 'eulalie', 'eunice', 'euphemia', 'eustacia', 'eva', 'evaleen', 'evangelia', 'evangelin', 'evangelina', 'evangeline', 'evania', 'evanne', 'eve', 'eveleen', 'evelina', 'eveline', 'evelyn', 'evette', 'evey', 'evie', 'evita', 'evonne', 'evvie', 'evvy', 'evy', 'eyde', 'eydie', 'fabrianne', 'fabrice', 'fae', 'faina', 'faith', 'fallon', 'fan', 'fanchette', 'fanchon', 'fancie', 'fancy', 'fanechka', 'fania', 'fanni', 'fannie', 'fanny', 'fanya', 'fara', 'farah', 'farand', 'farica', 'farra', 'farrah', 'farrand', 'fatima', 'faun', 'faunie', 'faustina', 'faustine', 'fawn', 'fawna', 'fawne', 'fawnia', 'fay', 'faydra', 'faye', 'fayette', 'fayina', 'fayre', 'fayth', 'faythe', 'federica', 'fedora', 'felecia', 'felicdad', 'felice', 'felicia', 'felicity', 'felicle', 'felipa', 'felisha', 'felita', 'feliza', 'fenelia', 'feodora', 'ferdinanda', 'ferdinande', 'fern', 'fernanda', 'fernande', 'fernandina', 'ferne', 'fey', 'fiann', 'fianna', 'fidela', 'fidelia', 'fidelity', 'fifi', 'fifine', 'filia', 'filide', 'filippa', 'fina', 'fiona', 'fionna', 'fionnula', 'fiorenze', 'fleur', 'fleurette', 'flo', 'flor', 'flora', 'florance', 'flore', 'florella', 'florence', 'florencia', 'florentia', 'florenza', 'florette', 'flori', 'floria', 'florice', 'florida', 'florie', 'florina', 'florinda', 'floris', 'florri', 'florrie', 'florry', 'flory', 'flossi', 'flossie', 'flossy', 'flower', 'fortuna', 'fortune', 'fran', 'france', 'francene', 'frances', 'francesca', 'francesmary', 'francine', 'francis', 'francisca', 'franciska', 'francoise', 'francyne', 'frank', 'frankie', 'franky', 'franni', 'frannie', 'franny', 'frayda', 'fred', 'freda', 'freddi', 'freddie', 'freddy', 'fredelia', 'frederica', 'fredericka', 'fredi', 'fredia', 'fredra', 'fredrika', 'freida', 'frieda', 'friederike', 'fulvia', 'gabbey', 'gabbi', 'gabbie', 'gabey', 'gabi', 'gabie', 'gabriel', 'gabriela', 'gabriell', 'gabriella', 'gabrielle', 'gabriellia', 'gabrila', 'gaby', 'gae', 'gael', 'gail', 'gale', 'galina', 'garland', 'garnet', 'garnette', 'gates', 'gavra', 'gavrielle', 'gay', 'gayla', 'gayle', 'gayleen', 'gaylene', 'gaynor', 'gelya', 'gen', 'gena', 'gene', 'geneva', 'genevieve', 'genevra', 'genia', 'genna', 'genni', 'gennie', 'gennifer', 'genny', 'genovera', 'genvieve', 'george', 'georgeanna', 'georgeanne', 'georgena', 'georgeta', 'georgetta', 'georgette', 'georgia', 'georgiamay', 'georgiana', 'georgianna', 'georgianne', 'georgie', 'georgina', 'georgine', 'gera', 'geralda', 'geraldina', 'geraldine', 'gerda', 'gerhardine', 'geri', 'gerianna', 'gerianne', 'gerladina', 'germain', 'germaine', 'germana', 'gerri', 'gerrie', 'gerrilee', 'gerry', 'gert', 'gerta', 'gerti', 'gertie', 'gertrud', 'gertruda', 'gertrude', 'gertrudis', 'gerty', 'giacinta', 'giana', 'gianina', 'gianna', 'gigi', 'gilberta', 'gilberte', 'gilbertina', 'gilbertine', 'gilda', 'gill', 'gillan', 'gilli', 'gillian', 'gillie', 'gilligan', 'gilly', 'gina', 'ginelle', 'ginevra', 'ginger', 'ginni', 'ginnie', 'ginnifer', 'ginny', 'giorgia', 'giovanna', 'gipsy', 'giralda', 'gisela', 'gisele', 'gisella', 'giselle', 'gizela', 'glad', 'gladi', 'gladis', 'gladys', 'gleda', 'glen', 'glenda', 'glenine', 'glenn', 'glenna', 'glennie', 'glennis', 'glori', 'gloria', 'gloriana', 'gloriane', 'glorianna', 'glory', 'glyn', 'glynda', 'glynis', 'glynnis', 'godiva', 'golda', 'goldarina', 'goldi', 'goldia', 'goldie', 'goldina', 'goldy', 'grace', 'gracia', 'gracie', 'grata', 'gratia', 'gratiana', 'gray', 'grayce', 'grazia', 'gredel', 'greer', 'greta', 'gretal', 'gretchen', 'grete', 'gretel', 'grethel', 'gretna', 'gretta', 'grier', 'griselda', 'grissel', 'guendolen', 'guenevere', 'guenna', 'guglielma', 'gui', 'guillema', 'guillemette', 'guinevere', 'guinna', 'gunilla', 'gunvor', 'gus', 'gusella', 'gussi', 'gussie', 'gussy', 'gusta', 'gusti', 'gustie', 'gusty', 'gwen', 'gwendolen', 'gwendolin', 'gwendolyn', 'gweneth', 'gwenette', 'gwenn', 'gwenneth', 'gwenni', 'gwennie', 'gwenny', 'gwenora', 'gwenore', 'gwyn', 'gwyneth', 'gwynne', 'gypsy', 'hadria', 'hailee', 'haily', 'haleigh', 'halette', 'haley', 'hali', 'halie', 'halimeda', 'halley', 'halli', 'hallie', 'hally', 'hana', 'hanna', 'hannah', 'hanni', 'hannibal', 'hannie', 'hannis', 'hanny', 'happy', 'harlene', 'harley', 'harli', 'harlie', 'harmonia', 'harmonie', 'harmony', 'harri', 'harrie', 'harriet', 'harriett', 'harrietta', 'harriette', 'harriot', 'harriott', 'hatti', 'hattie', 'hatty', 'havivah', 'hayley', 'hazel', 'heath', 'heather', 'heda', 'hedda', 'heddi', 'heddie', 'hedi', 'hedvig', 'hedwig', 'hedy', 'heida', 'heide', 'heidi', 'heidie', 'helaina', 'helaine', 'helen', 'helena', 'helene', 'helga', 'helge', 'helise', 'hellene', 'helli', 'heloise', 'helsa', 'helyn', 'hendrika', 'henka', 'henrie', 'henrieta', 'henrietta', 'henriette', 'henryetta', 'hephzibah', 'hermia', 'hermina', 'hermine', 'herminia', 'hermione', 'herta', 'hertha', 'hester', 'hesther', 'hestia', 'hetti', 'hettie', 'hetty', 'hilarie', 'hilary', 'hilda', 'hildagard', 'hildagarde', 'hilde', 'hildegaard', 'hildegarde', 'hildy', 'hillary', 'hilliary', 'hinda', 'holley', 'holli', 'hollie', 'holly', 'hollyanne', 'honey', 'honor', 'honoria', 'hope', 'horatia', 'hortense', 'hortensia', 'hulda', 'hyacinth', 'hyacintha', 'hyacinthe', 'hyacinthia', 'hyacinthie', 'hynda', 'ianthe', 'ibbie', 'ibby', 'ida', 'idalia', 'idalina', 'idaline', 'idell', 'idelle', 'idette', 'ike', 'ikey', 'ilana', 'ileana', 'ileane', 'ilene', 'ilise', 'ilka', 'illa', 'ilona', 'ilsa', 'ilse', 'ilysa', 'ilyse', 'ilyssa', 'imelda', 'imogen', 'imogene', 'imojean', 'ina', 'inci', 'indira', 'ines', 'inesita', 'inessa', 'inez', 'inga', 'ingaberg', 'ingaborg', 'inge', 'ingeberg', 'ingeborg', 'inger', 'ingrid', 'ingunna', 'inna', 'ioana', 'iolande', 'iolanthe', 'iona', 'iormina', 'ira', 'irena', 'irene', 'irina', 'iris', 'irita', 'irma', 'isa', 'isabeau', 'isabel', 'isabelita', 'isabella', 'isabelle', 'isador', 'isadora', 'isadore', 'isahella', 'iseabal', 'isidora', 'isis', 'isobel', 'issi', 'issie', 'issy', 'ivett', 'ivette', 'ivie', 'ivonne', 'ivory', 'ivy', 'izabel', 'izzi', 'jacenta', 'jacinda', 'jacinta', 'jacintha', 'jacinthe', 'jackelyn', 'jacki', 'jackie', 'jacklin', 'jacklyn', 'jackquelin', 'jackqueline', 'jacky', 'jaclin', 'jaclyn', 'jacquelin', 'jacqueline', 'jacquelyn', 'jacquelynn', 'jacquenetta', 'jacquenette', 'jacquetta', 'jacquette', 'jacqui', 'jacquie', 'jacynth', 'jada', 'jade', 'jaime', 'jaimie', 'jaine', 'jaleh', 'jami', 'jamie', 'jamima', 'jammie', 'jan', 'jana', 'janaya', 'janaye', 'jandy', 'jane', 'janean', 'janeczka', 'janeen', 'janel', 'janela', 'janella', 'janelle', 'janene', 'janenna', 'janessa', 'janet', 'janeta', 'janetta', 'janette', 'janeva', 'janey', 'jania', 'janice', 'janie', 'janifer', 'janina', 'janine', 'janis', 'janith', 'janka', 'janna', 'jannel', 'jannelle', 'janot', 'jany', 'jaquelin', 'jaquelyn', 'jaquenetta', 'jaquenette', 'jaquith', 'jasmin', 'jasmina', 'jasmine', 'jayme', 'jaymee', 'jayne', 'jaynell', 'jazmin', 'jean', 'jeana', 'jeane', 'jeanelle', 'jeanette', 'jeanie', 'jeanine', 'jeanna', 'jeanne', 'jeannette', 'jeannie', 'jeannine', 'jehanna', 'jelene', 'jemie', 'jemima', 'jemimah', 'jemmie', 'jemmy', 'jen', 'jena', 'jenda', 'jenelle', 'jenette', 'jeni', 'jenica', 'jeniece', 'jenifer', 'jeniffer', 'jenilee', 'jenine', 'jenn', 'jenna', 'jennee', 'jennette', 'jenni', 'jennica', 'jennie', 'jennifer', 'jennilee', 'jennine', 'jenny', 'jeraldine', 'jeralee', 'jere', 'jeri', 'jermaine', 'jerrie', 'jerrilee', 'jerrilyn', 'jerrine', 'jerry', 'jerrylee', 'jess', 'jessa', 'jessalin', 'jessalyn', 'jessamine', 'jessamyn', 'jesse', 'jesselyn', 'jessi', 'jessica', 'jessie', 'jessika', 'jessy', 'jewel', 'jewell', 'jewelle', 'jill', 'jillana', 'jillane', 'jillayne', 'jilleen', 'jillene', 'jilli', 'jillian', 'jillie', 'jilly', 'jinny', 'jo', 'joann', 'joanne', 'joan', 'joana', 'joane', 'joanie', 'joann', 'joanna', 'joanne', 'joannes', 'jobey', 'jobi', 'jobie', 'jobina', 'joby', 'jobye', 'jobyna', 'jocelin', 'joceline', 'jocelyn', 'jocelyne', 'jodee', 'jodi', 'jodie', 'jody', 'joela', 'joelie', 'joell', 'joella', 'joelle', 'joellen', 'joelly', 'joellyn', 'joelynn', 'joete', 'joey', 'johanna', 'johannah', 'johnette', 'johnna', 'joice', 'jojo', 'jolee', 'joleen', 'jolene', 'joletta', 'joli', 'jolie', 'joline', 'joly', 'jolyn', 'jolynn', 'jonell', 'joni', 'jonie', 'jonis', 'jordain', 'jordan', 'jordana', 'jordanna', 'jorey', 'jori', 'jorie', 'jorrie', 'jorry', 'joscelin', 'josee', 'josefa', 'josefina', 'joselyn', 'josepha', 'josephina', 'josephine', 'josey', 'josi', 'josie', 'joslyn', 'josselyn', 'josy', 'jourdan', 'joy', 'joya', 'joyan', 'joyann', 'joyce', 'joycelin', 'joye', 'joyous', 'juana', 'juanita', 'jude', 'judi', 'judie', 'judith', 'juditha', 'judy', 'judye', 'julee', 'juli', 'julia', 'juliana', 'juliane', 'juliann', 'julianna', 'julianne', 'julie', 'julienne', 'juliet', 'julieta', 'julietta', 'juliette', 'julina', 'juline', 'julissa', 'julita', 'june', 'junette', 'junia', 'junie', 'junina', 'justin', 'justina', 'justine', 'jyoti', 'kacey', 'kacie', 'kacy', 'kai', 'kaia', 'kaila', 'kaile', 'kailey', 'kaitlin', 'kaitlyn', 'kaitlynn', 'kaja', 'kakalina', 'kala', 'kaleena', 'kali', 'kalie', 'kalila', 'kalina', 'kalinda', 'kalindi', 'kalli', 'kally', 'kameko', 'kamila', 'kamilah', 'kamillah', 'kandace', 'kandy', 'kania', 'kanya', 'kara', 'karalee', 'karalynn', 'kare', 'karee', 'karel', 'karen', 'karena', 'kari', 'karia', 'karie', 'karil', 'karilynn', 'karin', 'karina', 'karine', 'kariotta', 'karisa', 'karissa', 'karita', 'karla', 'karlee', 'karleen', 'karlen', 'karlene', 'karlie', 'karlotta', 'karlotte', 'karly', 'karlyn', 'karmen', 'karna', 'karol', 'karola', 'karole', 'karolina', 'karoline', 'karoly', 'karon', 'karrah', 'karrie', 'karry', 'kary', 'karyl', 'karylin', 'karyn', 'kasey', 'kass', 'kassandra', 'kassey', 'kassi', 'kassia', 'kassie', 'kaster', 'kat', 'kata', 'katalin', 'kate', 'katee', 'katerina', 'katerine', 'katey', 'kath', 'katha', 'katharina', 'katharine', 'katharyn', 'kathe', 'katheleen', 'katherina', 'katherine', 'katheryn', 'kathi', 'kathie', 'kathleen', 'kathlene', 'kathlin', 'kathrine', 'kathryn', 'kathryne', 'kathy', 'kathye', 'kati', 'katie', 'katina', 'katine', 'katinka', 'katleen', 'katlin', 'katrina', 'katrine', 'katrinka', 'katti', 'kattie', 'katuscha', 'katusha', 'katy', 'katya', 'kay', 'kaycee', 'kaye', 'kayla', 'kayle', 'kaylee', 'kayley', 'kaylil', 'kaylyn', 'kee', 'keeley', 'keelia', 'keely', 'kelcey', 'kelci', 'kelcie', 'kelcy', 'kelila', 'kellen', 'kelley', 'kelli', 'kellia', 'kellie', 'kellina', 'kellsie', 'kelly', 'kellyann', 'kelsey', 'kelsi', 'kelsy', 'kendra', 'kendre', 'kenna', 'keren', 'keri', 'keriann', 'kerianne', 'kerri', 'kerrie', 'kerrill', 'kerrin', 'kerry', 'kerstin', 'kesley', 'keslie', 'kessia', 'kessiah', 'ketti', 'kettie', 'ketty', 'kevina', 'kevyn', 'ki', 'kia', 'kiah', 'kial', 'kiele', 'kiersten', 'kikelia', 'kiley', 'kim', 'kimberlee', 'kimberley', 'kimberli', 'kimberly', 'kimberlyn', 'kimbra', 'kimmi', 'kimmie', 'kimmy', 'kinna', 'kip', 'kipp', 'kippie', 'kippy', 'kira', 'kirbee', 'kirbie', 'kirby', 'kiri', 'kirsten', 'kirsteni', 'kirsti', 'kirstie', 'kirstin', 'kirstyn', 'kissee', 'kissiah', 'kissie', 'kit', 'kitti', 'kittie', 'kitty', 'kizzee', 'kizzie', 'klara', 'klarika', 'klarrisa', 'konstance', 'konstanze', 'koo', 'kora', 'koral', 'koralle', 'kordula', 'kore', 'korella', 'koren', 'koressa', 'kori', 'korie', 'korney', 'korrie', 'korry', 'kourtney', 'kris', 'krissie', 'krissy', 'krista', 'kristal', 'kristan', 'kriste', 'kristel', 'kristen', 'kristi', 'kristien', 'kristin', 'kristina', 'kristine', 'kristy', 'kristyn', 'krysta', 'krystal', 'krystalle', 'krystle', 'krystyna', 'kyla', 'kyle', 'kylen', 'kylie', 'kylila', 'kylynn', 'kym', 'kynthia', 'kyrstin', 'la', 'lacee', 'lacey', 'lacie', 'lacy', 'ladonna', 'laetitia', 'laila', 'laina', 'lainey', 'lamb', 'lana', 'lane', 'lanette', 'laney', 'lani', 'lanie', 'lanita', 'lanna', 'lanni', 'lanny', 'lara', 'laraine', 'lari', 'larina', 'larine', 'larisa', 'larissa', 'lark', 'laryssa', 'latashia', 'latia', 'latisha', 'latrena', 'latrina', 'laura', 'lauraine', 'laural', 'lauralee', 'laure', 'lauree', 'laureen', 'laurel', 'laurella', 'lauren', 'laurena', 'laurene', 'lauretta', 'laurette', 'lauri', 'laurianne', 'laurice', 'laurie', 'lauryn', 'lavena', 'laverna', 'laverne', 'lavina', 'lavinia', 'lavinie', 'layla', 'layne', 'layney', 'lea', 'leah', 'leandra', 'leann', 'leanna', 'leanne', 'leanor', 'leanora', 'lebbie', 'leda', 'lee', 'leeann', 'leeann', 'leeanne', 'leela', 'leelah', 'leena', 'leesa', 'leese', 'legra', 'leia', 'leiah', 'leigh', 'leigha', 'leila', 'leilah', 'leisha', 'lela', 'lelah', 'leland', 'lelia', 'lena', 'lenee', 'lenette', 'lenka', 'lenna', 'lenora', 'lenore', 'leodora', 'leoine', 'leola', 'leoline', 'leona', 'leonanie', 'leone', 'leonelle', 'leonie', 'leonora', 'leonore', 'leontine', 'leontyne', 'leora', 'leorah', 'leshia', 'lesley', 'lesli', 'leslie', 'lesly', 'lesya', 'leta', 'lethia', 'leticia', 'letisha', 'letitia', 'letta', 'letti', 'lettie', 'letty', 'leyla', 'lezlie', 'lia', 'lian', 'liana', 'liane', 'lianna', 'lianne', 'lib', 'libbey', 'libbi', 'libbie', 'libby', 'licha', 'lida', 'lidia', 'lil', 'lila', 'lilah', 'lilas', 'lilia', 'lilian', 'liliane', 'lilias', 'lilith', 'lilla', 'lilli', 'lillian', 'lillis', 'lilllie', 'lilly', 'lily', 'lilyan', 'lin', 'lina', 'lind', 'linda', 'lindi', 'lindie', 'lindsay', 'lindsey', 'lindsy', 'lindy', 'linea', 'linell', 'linet', 'linette', 'linn', 'linnea', 'linnell', 'linnet', 'linnie', 'linzy', 'liora', 'liorah', 'lira', 'lisa', 'lisabeth', 'lisandra', 'lisbeth', 'lise', 'lisetta', 'lisette', 'lisha', 'lishe', 'lissa', 'lissi', 'lissie', 'lissy', 'lita', 'liuka', 'livia', 'liz', 'liza', 'lizabeth', 'lizbeth', 'lizette', 'lizzie', 'lizzy', 'loella', 'lois', 'loise', 'lola', 'lolande', 'loleta', 'lolita', 'lolly', 'lona', 'lonee', 'loni', 'lonna', 'lonni', 'lonnie', 'lora', 'lorain', 'loraine', 'loralee', 'loralie', 'loralyn', 'loree', 'loreen', 'lorelei', 'lorelle', 'loren', 'lorena', 'lorene', 'lorenza', 'loretta', 'lorettalorna', 'lorette', 'lori', 'loria', 'lorianna', 'lorianne', 'lorie', 'lorilee', 'lorilyn', 'lorinda', 'lorine', 'lorita', 'lorna', 'lorne', 'lorraine', 'lorrayne', 'lorri', 'lorrie', 'lorrin', 'lorry', 'lory', 'lotta', 'lotte', 'lotti', 'lottie', 'lotty', 'lou', 'louella', 'louisa', 'louise', 'louisette', 'love', 'luana', 'luanna', 'luce', 'luci', 'lucia', 'luciana', 'lucie', 'lucienne', 'lucila', 'lucilia', 'lucille', 'lucina', 'lucinda', 'lucine', 'lucita', 'lucky', 'lucretia', 'lucy', 'luella', 'luelle', 'luisa', 'luise', 'lula', 'lulita', 'lulu', 'luna', 'lura', 'lurette', 'lurleen', 'lurlene', 'lurline', 'lusa', 'lust', 'lyda', 'lydia', 'lydie', 'lyn', 'lynda', 'lynde', 'lyndel', 'lyndell', 'lyndsay', 'lyndsey', 'lyndsie', 'lyndy', 'lynea', 'lynelle', 'lynett', 'lynette', 'lynn', 'lynna', 'lynne', 'lynnea', 'lynnell', 'lynnelle', 'lynnet', 'lynnett', 'lynnette', 'lynsey', 'lysandra', 'lyssa', 'mab', 'mabel', 'mabelle', 'mable', 'mada', 'madalena', 'madalyn', 'maddalena', 'maddi', 'maddie', 'maddy', 'madel', 'madelaine', 'madeleine', 'madelena', 'madelene', 'madelin', 'madelina', 'madeline', 'madella', 'madelle', 'madelon', 'madelyn', 'madge', 'madlen', 'madlin', 'madona', 'madonna', 'mady', 'mae', 'maegan', 'mag', 'magda', 'magdaia', 'magdalen', 'magdalena', 'magdalene', 'maggee', 'maggi', 'maggie', 'maggy', 'magna', 'mahala', 'mahalia', 'maia', 'maible', 'maiga', 'mair', 'maire', 'mairead', 'maisey', 'maisie', 'mala', 'malanie', 'malcah', 'malena', 'malia', 'malina', 'malinda', 'malinde', 'malissa', 'malissia', 'malka', 'malkah', 'mallissa', 'mallorie', 'mallory', 'malorie', 'malory', 'malva', 'malvina', 'malynda', 'mame', 'mamie', 'manda', 'mandi', 'mandie', 'mandy', 'manon', 'manya', 'mara', 'marabel', 'marcela', 'marcelia', 'marcella', 'marcelle', 'marcellina', 'marcelline', 'marchelle', 'marci', 'marcia', 'marcie', 'marcile', 'marcille', 'marcy', 'mareah', 'maren', 'marena', 'maressa', 'marga', 'margalit', 'margalo', 'margaret', 'margareta', 'margarete', 'margaretha', 'margarethe', 'margaretta', 'margarette', 'margarita', 'margaux', 'marge', 'margeaux', 'margery', 'marget', 'margette', 'margi', 'margie', 'margit', 'marglerite', 'margo', 'margot', 'margret', 'marguerite', 'margurite', 'margy', 'mari', 'maria', 'mariam', 'marian', 'mariana', 'mariann', 'marianna', 'marianne', 'maribel', 'maribelle', 'maribeth', 'marice', 'maridel', 'marie', 'marieann', 'mariejeanne', 'mariel', 'mariele', 'marielle', 'mariellen', 'marietta', 'mariette', 'marigold', 'marijo', 'marika', 'marilee', 'marilin', 'marillin', 'marilyn', 'marin', 'marina', 'marinna', 'marion', 'mariquilla', 'maris', 'marisa', 'mariska', 'marissa', 'marit', 'marita', 'maritsa', 'mariya', 'marj', 'marja', 'marje', 'marji', 'marjie', 'marjorie', 'marjory', 'marjy', 'marketa', 'marla', 'marlane', 'marleah', 'marlee', 'marleen', 'marlena', 'marlene', 'marley', 'marlie', 'marline', 'marlo', 'marlyn', 'marna', 'marne', 'marney', 'marni', 'marnia', 'marnie', 'marquita', 'marrilee', 'marris', 'marrissa', 'marry', 'marsha', 'marsiella', 'marta', 'martelle', 'martguerita', 'martha', 'marthe', 'marthena', 'marti', 'martica', 'martie', 'martina', 'martita', 'marty', 'martynne', 'mary', 'marya', 'maryangelyn', 'maryann', 'maryanna', 'maryanne', 'marybelle', 'marybeth', 'maryellen', 'maryjane', 'maryjo', 'maryl', 'marylee', 'marylin', 'marylinda', 'marylou', 'marylynne', 'maryrose', 'marys', 'marysa', 'masha', 'matelda', 'mathilda', 'mathilde', 'matilda', 'matilde', 'matti', 'mattie', 'matty', 'maud', 'maude', 'maudie', 'maura', 'maure', 'maureen', 'maureene', 'maurene', 'maurine', 'maurise', 'maurita', 'mavis', 'mavra', 'max', 'maxi', 'maxie', 'maxine', 'maxy', 'may', 'maya', 'maybelle', 'mayda', 'maye', 'mead', 'meade', 'meagan', 'meaghan', 'meara', 'mechelle', 'meg', 'megan', 'megen', 'meggan', 'meggi', 'meggie', 'meggy', 'meghan', 'meghann', 'mehetabel', 'mei', 'meira', 'mel', 'mela', 'melamie', 'melania', 'melanie', 'melantha', 'melany', 'melba', 'melesa', 'melessa', 'melicent', 'melina', 'melinda', 'melinde', 'melisa', 'melisande', 'melisandra', 'melisenda', 'melisent', 'melissa', 'melisse', 'melita', 'melitta', 'mella', 'melli', 'mellicent', 'mellie', 'mellisa', 'mellisent', 'mellissa', 'melloney', 'melly', 'melodee', 'melodie', 'melody', 'melonie', 'melony', 'melosa', 'melva', 'mercedes', 'merci', 'mercie', 'mercy', 'meredith', 'meredithe', 'meridel', 'meridith', 'meriel', 'merilee', 'merilyn', 'meris', 'merissa', 'merl', 'merla', 'merle', 'merlina', 'merline', 'merna', 'merola', 'merralee', 'merridie', 'merrie', 'merrielle', 'merrile', 'merrilee', 'merrili', 'merrill', 'merrily', 'merry', 'mersey', 'meryl', 'meta', 'mia', 'micaela', 'michaela', 'michaelina', 'michaeline', 'michaella', 'michal', 'michel', 'michele', 'michelina', 'micheline', 'michell', 'michelle', 'micki', 'mickie', 'micky', 'midge', 'mignon', 'mignonne', 'miguela', 'miguelita', 'mildred', 'mildrid', 'milena', 'milicent', 'milissent', 'milka', 'milli', 'millicent', 'millie', 'millisent', 'milly', 'milzie', 'mimi', 'min', 'mina', 'minda', 'mindy', 'minerva', 'minetta', 'minette', 'minna', 'minni', 'minnie', 'minny', 'minta', 'miquela', 'mira', 'mirabel', 'mirabella', 'mirabelle', 'miran', 'miranda', 'mireielle', 'mireille', 'mirella', 'mirelle', 'miriam', 'mirilla', 'mirna', 'misha', 'missie', 'missy', 'misti', 'misty', 'mitra', 'mitzi', 'mmarianne', 'modesta', 'modestia', 'modestine', 'modesty', 'moina', 'moira', 'moll', 'mollee', 'molli', 'mollie', 'molly', 'mommy', 'mona', 'monah', 'monica', 'monika', 'monique', 'mora', 'moreen', 'morena', 'morgan', 'morgana', 'morganica', 'morganne', 'morgen', 'moria', 'morissa', 'morlee', 'morna', 'moselle', 'moya', 'moyna', 'moyra', 'mozelle', 'muffin', 'mufi', 'mufinella', 'muire', 'mureil', 'murial', 'muriel', 'murielle', 'myna', 'myra', 'myrah', 'myranda', 'myriam', 'myrilla', 'myrle', 'myrlene', 'myrna', 'myrta', 'myrtia', 'myrtice', 'myrtie', 'myrtle', 'nada', 'nadean', 'nadeen', 'nadia', 'nadine', 'nadiya', 'nady', 'nadya', 'nalani', 'nan', 'nana', 'nananne', 'nance', 'nancee', 'nancey', 'nanci', 'nancie', 'nancy', 'nanete', 'nanette', 'nani', 'nanice', 'nanine', 'nannette', 'nanni', 'nannie', 'nanny', 'nanon', 'naoma', 'naomi', 'nara', 'nari', 'nariko', 'nat', 'nata', 'natala', 'natalee', 'natalia', 'natalie', 'natalina', 'nataline', 'natalya', 'natasha', 'natassia', 'nathalia', 'nathalie', 'natka', 'natty', 'neala', 'neda', 'nedda', 'nedi', 'neely', 'neila', 'neile', 'neilla', 'neille', 'nela', 'nelia', 'nelie', 'nell', 'nelle', 'nelli', 'nellie', 'nelly', 'nena', 'nerissa', 'nerita', 'nert', 'nerta', 'nerte', 'nerti', 'nertie', 'nerty', 'nessa', 'nessi', 'nessie', 'nessy', 'nesta', 'netta', 'netti', 'nettie', 'nettle', 'netty', 'nevsa', 'neysa', 'nichol', 'nichole', 'nicholle', 'nicki', 'nickie', 'nicky', 'nicol', 'nicola', 'nicole', 'nicolea', 'nicolette', 'nicoli', 'nicolina', 'nicoline', 'nicolle', 'nidia', 'nike', 'niki', 'nikki', 'nikkie', 'nikoletta', 'nikolia', 'nil', 'nina', 'ninetta', 'ninette', 'ninnetta', 'ninnette', 'ninon', 'nisa', 'nissa', 'nisse', 'nissie', 'nissy', 'nita', 'nitin', 'nixie', 'noami', 'noel', 'noelani', 'noell', 'noella', 'noelle', 'noellyn', 'noelyn', 'noemi', 'nola', 'nolana', 'nolie', 'nollie', 'nomi', 'nona', 'nonah', 'noni', 'nonie', 'nonna', 'nonnah', 'nora', 'norah', 'norean', 'noreen', 'norene', 'norina', 'norine', 'norma', 'norri', 'norrie', 'norry', 'nova', 'novelia', 'nydia', 'nyssa', 'octavia', 'odele', 'odelia', 'odelinda', 'odella', 'odelle', 'odessa', 'odetta', 'odette', 'odilia', 'odille', 'ofelia', 'ofella', 'ofilia', 'ola', 'olenka', 'olga', 'olia', 'olimpia', 'olive', 'olivette', 'olivia', 'olivie', 'oliy', 'ollie', 'olly', 'olva', 'olwen', 'olympe', 'olympia', 'olympie', 'ondrea', 'oneida', 'onida', 'onlea', 'oona', 'opal', 'opalina', 'opaline', 'ophelia', 'ophelie', 'oprah', 'ora', 'oralee', 'oralia', 'oralie', 'oralla', 'oralle', 'orel', 'orelee', 'orelia', 'orelie', 'orella', 'orelle', 'oreste', 'oriana', 'orly', 'orsa', 'orsola', 'ortensia', 'otha', 'othelia', 'othella', 'othilia', 'othilie', 'ottilie', 'pacifica', 'page', 'paige', 'paloma', 'pam', 'pamela', 'pamelina', 'pamella', 'pammi', 'pammie', 'pammy', 'pandora', 'pansie', 'pansy', 'paola', 'paolina', 'parwane', 'pat', 'patience', 'patrica', 'patrice', 'patricia', 'patrizia', 'patsy', 'patti', 'pattie', 'patty', 'paula', 'paule', 'pauletta', 'paulette', 'pauli', 'paulie', 'paulina', 'pauline', 'paulita', 'pauly', 'pavia', 'pavla', 'pearl', 'pearla', 'pearle', 'pearline', 'peg', 'pegeen', 'peggi', 'peggie', 'peggy', 'pen', 'penelopa', 'penelope', 'penni', 'pennie', 'penny', 'pepi', 'pepita', 'peri', 'peria', 'perl', 'perla', 'perle', 'perri', 'perrine', 'perry', 'persis', 'pet', 'peta', 'petra', 'petrina', 'petronella', 'petronia', 'petronilla', 'petronille', 'petunia', 'phaedra', 'phaidra', 'phebe', 'phedra', 'phelia', 'phil', 'philipa', 'philippa', 'philippe', 'philippine', 'philis', 'phillida', 'phillie', 'phillis', 'philly', 'philomena', 'phoebe', 'phylis', 'phyllida', 'phyllis', 'phyllys', 'phylys', 'pia', 'pier', 'pierette', 'pierrette', 'pietra', 'piper', 'pippa', 'pippy', 'polly', 'pollyanna', 'pooh', 'poppy', 'portia', 'pris', 'prisca', 'priscella', 'priscilla', 'prissie', 'pru', 'prudence', 'prudi', 'prudy', 'prue', 'prunella', 'queada', 'queenie', 'quentin', 'querida', 'quinn', 'quinta', 'quintana', 'quintilla', 'quintina', 'rachael', 'rachel', 'rachele', 'rachelle', 'rae', 'raf', 'rafa', 'rafaela', 'rafaelia', 'rafaelita', 'ragnhild', 'rahal', 'rahel', 'raina', 'raine', 'rakel', 'ralina', 'ramona', 'ramonda', 'rana', 'randa', 'randee', 'randene', 'randi', 'randie', 'randy', 'ranee', 'rani', 'rania', 'ranice', 'ranique', 'ranna', 'raphaela', 'raquel', 'raquela', 'rasia', 'rasla', 'raven', 'ray', 'raychel', 'raye', 'rayna', 'raynell', 'rayshell', 'rea', 'reba', 'rebbecca', 'rebe', 'rebeca', 'rebecca', 'rebecka', 'rebeka', 'rebekah', 'rebekkah', 'ree', 'reeba', 'reena', 'reeta', 'reeva', 'regan', 'reggi', 'reggie', 'regina', 'regine', 'reiko', 'reina', 'reine', 'remy', 'rena', 'renae', 'renata', 'renate', 'rene', 'renee', 'renel', 'renell', 'renelle', 'renie', 'rennie', 'reta', 'retha', 'revkah', 'rey', 'reyna', 'rhea', 'rheba', 'rheta', 'rhetta', 'rhiamon', 'rhianna', 'rhianon', 'rhoda', 'rhodia', 'rhodie', 'rhody', 'rhona', 'rhonda', 'riane', 'riannon', 'rianon', 'rica', 'ricca', 'rici', 'ricki', 'rickie', 'ricky', 'riki', 'rikki', 'rina', 'risa', 'rissa', 'rita', 'riva', 'rivalee', 'rivi', 'rivkah', 'rivy', 'roana', 'roanna', 'roanne', 'robbi', 'robbie', 'robbin', 'robby', 'robbyn', 'robena', 'robenia', 'roberta', 'robin', 'robina', 'robinet', 'robinett', 'robinetta', 'robinette', 'robinia', 'roby', 'robyn', 'roch', 'rochell', 'rochella', 'rochelle', 'rochette', 'roda', 'rodi', 'rodie', 'rodina', 'romola', 'romona', 'romonda', 'romy', 'rona', 'ronalda', 'ronda', 'ronica', 'ronna', 'ronni', 'ronnica', 'ronnie', 'ronny', 'roobbie', 'rora', 'rori', 'rorie', 'rory', 'ros', 'rosa', 'rosabel', 'rosabella', 'rosabelle', 'rosaleen', 'rosalia', 'rosalie', 'rosalind', 'rosalinda', 'rosalinde', 'rosaline', 'rosalyn', 'rosalynd', 'rosamond', 'rosamund', 'rosana', 'rosanna', 'rosanne', 'rosario', 'rose', 'roseann', 'roseanna', 'roseanne', 'roselia', 'roselin', 'roseline', 'rosella', 'roselle', 'roselyn', 'rosemaria', 'rosemarie', 'rosemary', 'rosemonde', 'rosene', 'rosetta', 'rosette', 'roshelle', 'rosie', 'rosina', 'rosita', 'roslyn', 'rosmunda', 'rosy', 'row', 'rowe', 'rowena', 'roxana', 'roxane', 'roxanna', 'roxanne', 'roxi', 'roxie', 'roxine', 'roxy', 'roz', 'rozalie', 'rozalin', 'rozamond', 'rozanna', 'rozanne', 'roze', 'rozele', 'rozella', 'rozelle', 'rozina', 'rubetta', 'rubi', 'rubia', 'rubie', 'rubina', 'ruby', 'ruella', 'ruperta', 'ruth', 'ruthann', 'ruthanne', 'ruthe', 'ruthi', 'ruthie', 'ruthy', 'ryann', 'rycca', 'saba', 'sabina', 'sabine', 'sabra', 'sabrina', 'sacha', 'sada', 'sadella', 'sadie', 'sal', 'sallee', 'salli', 'sallie', 'sally', 'sallyann', 'sallyanne', 'salome', 'sam', 'samantha', 'samara', 'samaria', 'sammy', 'samuela', 'samuella', 'sande', 'sandi', 'sandie', 'sandra', 'sandy', 'sandye', 'sapphira', 'sapphire', 'sara', 'saraann', 'sarah', 'sarajane', 'saree', 'sarena', 'sarene', 'sarette', 'sari', 'sarina', 'sarine', 'sarita', 'sascha', 'sasha', 'sashenka', 'saudra', 'saundra', 'savina', 'sayre', 'scarlet', 'scarlett', 'scotty', 'sean', 'seana', 'secunda', 'seka', 'sela', 'selena', 'selene', 'selestina', 'selia', 'selie', 'selina', 'selinda', 'seline', 'sella', 'selle', 'selma', 'sena', 'sephira', 'serena', 'serene', 'shaina', 'shaine', 'shalna', 'shalne', 'shamit', 'shana', 'shanda', 'shandee', 'shandie', 'shandra', 'shandy', 'shane', 'shani', 'shanie', 'shanna', 'shannah', 'shannen', 'shannon', 'shanon', 'shanta', 'shantee', 'shara', 'sharai', 'shari', 'sharia', 'sharie', 'sharity', 'sharl', 'sharla', 'sharleen', 'sharlene', 'sharline', 'sharna', 'sharon', 'sharona', 'sharra', 'sharron', 'sharyl', 'shaun', 'shauna', 'shawn', 'shawna', 'shawnee', 'shay', 'shayla', 'shaylah', 'shaylyn', 'shaylynn', 'shayna', 'shayne', 'shea', 'sheba', 'sheela', 'sheelagh', 'sheelah', 'sheena', 'sheeree', 'sheila', 'sheilah', 'sheilakathryn', 'shel', 'shela', 'shelagh', 'shelba', 'shelbi', 'shelby', 'shelia', 'shell', 'shelley', 'shelli', 'shellie', 'shelly', 'shena', 'sher', 'sheree', 'sheri', 'sherie', 'sheril', 'sherill', 'sherilyn', 'sherline', 'sherri', 'sherrie', 'sherry', 'sherye', 'sheryl', 'shilpa', 'shina', 'shir', 'shira', 'shirah', 'shirl', 'shirlee', 'shirleen', 'shirlene', 'shirley', 'shirline', 'shoshana', 'shoshanna', 'shoshie', 'siana', 'sianna', 'sib', 'sibbie', 'sibby', 'sibeal', 'sibel', 'sibella', 'sibelle', 'sibilla', 'sibley', 'sibyl', 'sibylla', 'sibylle', 'sidoney', 'sidonia', 'sidonnie', 'sigrid', 'sile', 'sileas', 'silva', 'silvana', 'silvia', 'silvie', 'simona', 'simone', 'simonette', 'simonne', 'sindee', 'sinead', 'siobhan', 'sioux', 'siouxie', 'sisely', 'sisile', 'sissie', 'sissy', 'sofia', 'sofie', 'solange', 'sondra', 'sonia', 'sonja', 'sonni', 'sonnie', 'sonnnie', 'sonny', 'sonya', 'sophey', 'sophi', 'sophia', 'sophie', 'sophronia', 'sorcha', 'sosanna', 'stace', 'stacee', 'stacey', 'staci', 'stacia', 'stacie', 'stacy', 'stafani', 'star', 'starla', 'starlene', 'starlin', 'starr', 'stefa', 'stefania', 'stefanie', 'steffane', 'steffi', 'steffie', 'stella', 'stepha', 'stephana', 'stephani', 'stephanie', 'stephannie', 'stephenie', 'stephi', 'stephie', 'stephine', 'stesha', 'stevana', 'stevena', 'stoddard', 'storey', 'storm', 'stormi', 'stormie', 'stormy', 'sue', 'suellen', 'sukey', 'suki', 'sula', 'sunny', 'sunshine', 'susan', 'susana', 'susanetta', 'susann', 'susanna', 'susannah', 'susanne', 'susette', 'susi', 'susie', 'sussi', 'susy', 'suzan', 'suzann', 'suzanna', 'suzanne', 'suzetta', 'suzette', 'suzi', 'suzie', 'suzy', 'suzzy', 'sybil', 'sybila', 'sybilla', 'sybille', 'sybyl', 'sydel', 'sydelle', 'sydney', 'sylvia', 'sylvie', 'tabatha', 'tabbatha', 'tabbi', 'tabbie', 'tabbitha', 'tabby', 'tabina', 'tabitha', 'taffy', 'talia', 'tallia', 'tallie', 'tally', 'talya', 'talyah', 'tamar', 'tamara', 'tamarah', 'tamarra', 'tamera', 'tami', 'tamiko', 'tamma', 'tammara', 'tammi', 'tammie', 'tammy', 'tamra', 'tana', 'tandi', 'tandie', 'tandy', 'tani', 'tania', 'tansy', 'tanya', 'tara', 'tarah', 'tarra', 'tarrah', 'taryn', 'tasha', 'tasia', 'tate', 'tatiana', 'tatiania', 'tatum', 'tawnya', 'tawsha', 'teane', 'ted', 'tedda', 'teddi', 'teddie', 'teddy', 'tedi', 'tedra', 'teena', 'tella', 'teodora', 'tera', 'teresa', 'teresaanne', 'terese', 'teresina', 'teresita', 'teressa', 'teri', 'teriann', 'terina', 'terra', 'terri', 'terrianne', 'terrie', 'terry', 'terrye', 'tersina', 'teryl', 'terza', 'tess', 'tessa', 'tessi', 'tessie', 'tessy', 'thalia', 'thea', 'theada', 'theadora', 'theda', 'thekla', 'thelma', 'theo', 'theodora', 'theodosia', 'theresa', 'therese', 'theresina', 'theresita', 'theressa', 'therine', 'thia', 'thomasa', 'thomasin', 'thomasina', 'thomasine', 'tia', 'tiana', 'tiena', 'tierney', 'tiertza', 'tiff', 'tiffani', 'tiffanie', 'tiffany', 'tiffi', 'tiffie', 'tiffy', 'tilda', 'tildi', 'tildie', 'tildy', 'tillie', 'tilly', 'tim', 'timi', 'timmi', 'timmie', 'timmy', 'timothea', 'tina', 'tine', 'tiphani', 'tiphanie', 'tiphany', 'tish', 'tisha', 'tobe', 'tobey', 'tobi', 'tobie', 'toby', 'tobye', 'toinette', 'toma', 'tomasina', 'tomasine', 'tomi', 'tomiko', 'tommi', 'tommie', 'tommy', 'toni', 'tonia', 'tonie', 'tony', 'tonya', 'tootsie', 'torey', 'tori', 'torie', 'torrie', 'tory', 'tova', 'tove', 'trace', 'tracee', 'tracey', 'traci', 'tracie', 'tracy', 'trenna', 'tresa', 'trescha', 'tressa', 'tricia', 'trina', 'trish', 'trisha', 'trista', 'trix', 'trixi', 'trixie', 'trixy', 'truda', 'trude', 'trudey', 'trudi', 'trudie', 'trudy', 'trula', 'tuesday', 'twila', 'twyla', 'tybi', 'tybie', 'tyne', 'ula', 'ulla', 'ulrica', 'ulrika', 'ulrike', 'umeko', 'una', 'ursa', 'ursala', 'ursola', 'ursula', 'ursulina', 'ursuline', 'uta', 'val', 'valaree', 'valaria', 'vale', 'valeda', 'valencia', 'valene', 'valenka', 'valentia', 'valentina', 'valentine', 'valera', 'valeria', 'valerie', 'valery', 'valerye', 'valida', 'valina', 'valli', 'vallie', 'vally', 'valma', 'valry', 'van', 'vanda', 'vanessa', 'vania', 'vanna', 'vanni', 'vannie', 'vanny', 'vanya', 'veda', 'velma', 'velvet', 'vena', 'venita', 'ventura', 'venus', 'vera', 'veradis', 'vere', 'verena', 'verene', 'veriee', 'verile', 'verina', 'verine', 'verla', 'verna', 'vernice', 'veronica', 'veronika', 'veronike', 'veronique', 'vi', 'vicki', 'vickie', 'vicky', 'victoria', 'vida', 'viki', 'vikki', 'vikkie', 'vikky', 'vilhelmina', 'vilma', 'vin', 'vina', 'vinita', 'vinni', 'vinnie', 'vinny', 'viola', 'violante', 'viole', 'violet', 'violetta', 'violette', 'virgie', 'virgina', 'virginia', 'virginie', 'vita', 'vitia', 'vitoria', 'vittoria', 'viv', 'viva', 'vivi', 'vivia', 'vivian', 'viviana', 'vivianna', 'vivianne', 'vivie', 'vivien', 'viviene', 'vivienne', 'viviyan', 'vivyan', 'vivyanne', 'vonni', 'vonnie', 'vonny', 'wallie', 'wallis', 'wally', 'waly', 'wanda', 'wandie', 'wandis', 'waneta', 'wenda', 'wendeline', 'wendi', 'wendie', 'wendy', 'wenona', 'wenonah', 'whitney', 'wileen', 'wilhelmina', 'wilhelmine', 'wilie', 'willa', 'willabella', 'willamina', 'willetta', 'willette', 'willi', 'willie', 'willow', 'willy', 'willyt', 'wilma', 'wilmette', 'wilona', 'wilone', 'wilow', 'windy', 'wini', 'winifred', 'winna', 'winnah', 'winne', 'winni', 'winnie', 'winnifred', 'winny', 'winona', 'winonah', 'wren', 'wrennie', 'wylma', 'wynn', 'wynne', 'wynnie', 'wynny', 'xaviera', 'xena', 'xenia', 'xylia', 'xylina', 'yalonda', 'yehudit', 'yelena', 'yetta', 'yettie', 'yetty', 'yevette', 'yoko', 'yolanda', 'yolande', 'yolane', 'yolanthe', 'yonina', 'yoshi', 'yoshiko', 'yovonnda', 'yvette', 'yvonne', 'zabrina', 'zahara', 'zandra', 'zaneta', 'zara', 'zarah', 'zaria', 'zarla', 'zea', 'zelda', 'zelma', 'zena', 'zenia', 'zia', 'zilvia', 'zita', 'zitella', 'zoe', 'zola', 'zonda', 'zondra', 'zonnya', 'zora', 'zorah', 'zorana', 'zorina', 'zorine', 'zsazsa', 'zulema', 'zuzana', 'mikako', 'kaari', 'gita', 'geeta']\n"
          ]
        }
      ]
    },
    {
      "cell_type": "code",
      "source": [
        "print(ord('a'), ord('b'), ord('z'))\n",
        "print('Index of \"c\" :', ord('c')-ord('a'))"
      ],
      "metadata": {
        "colab": {
          "base_uri": "https://localhost:8080/"
        },
        "id": "X6C7i1YmLAZL",
        "outputId": "3f8f822f-ad89-4256-8a66-f89a1794cc14"
      },
      "execution_count": null,
      "outputs": [
        {
          "output_type": "stream",
          "name": "stdout",
          "text": [
            "97 98 122\n",
            "Index of \"c\" : 2\n"
          ]
        }
      ]
    },
    {
      "cell_type": "code",
      "metadata": {
        "id": "AclIiMX9f4ta"
      },
      "source": [
        "class NameDataset(Dataset):\n",
        "    def __init__(self, names, max_len):\n",
        "        self.names = names\n",
        "        self.max_len = max_len\n",
        "        self.a_order = ord('a')\n",
        "        self.z_order = ord('z')\n",
        "        self.num_classes = 26 + 1 # a-z + include the end of signal\n",
        "\n",
        "    def __len__(self):\n",
        "        return len(self.names)\n",
        "\n",
        "    def __getitem__(self, idx):\n",
        "        # buffer before padding 26(index of EOS) to the name info.\n",
        "        padded_name = [self.num_classes-1 for _ in range(self.max_len)] # [26, 26, ... 26]\n",
        "\n",
        "        # names[idx] : current alphabet name ('abe')\n",
        "        # curr_name : [0, 1, 4]\n",
        "        curr_name = [ord(n)-self.a_order for n in names[idx]]\n",
        "        # padded name : [0, 1, 4, 26, 26, 26, .... ]\n",
        "        padded_name[:len(curr_name)] = curr_name\n",
        "\n",
        "        # Slide the input to make a output\n",
        "        sample = dict()\n",
        "        sample['input'] = torch.LongTensor(padded_name[:-1]) # h y e m i n  -1 -1 -1\n",
        "        sample['output'] = torch.LongTensor(padded_name[1:]) # y e m i n -1 -1 -1 -1\n",
        "        sample['length'] = len(names[idx])\n",
        "        sample['original'] = names[idx]\n",
        "\n",
        "        return sample"
      ],
      "execution_count": null,
      "outputs": []
    },
    {
      "cell_type": "code",
      "metadata": {
        "id": "6eM0TZVpiuCf"
      },
      "source": [
        "batch_size = 64\n",
        "dataset = NameDataset(names, max_len)\n",
        "dataloader = DataLoader(dataset, batch_size=64, shuffle=True)"
      ],
      "execution_count": null,
      "outputs": []
    },
    {
      "cell_type": "code",
      "metadata": {
        "colab": {
          "base_uri": "https://localhost:8080/"
        },
        "id": "6yQkTkHMk9m1",
        "outputId": "7f096d2c-7a49-4017-d5d4-34f50a89f03b"
      },
      "source": [
        "sample = next(iter(dataloader))\n",
        "print(sample['input'][0])\n",
        "print(sample['output'][0])\n",
        "print(sample['length'][0])\n",
        "print(sample['original'][0])\n",
        "print(sample['input'].shape, sample['output'].shape)"
      ],
      "execution_count": null,
      "outputs": [
        {
          "output_type": "stream",
          "name": "stdout",
          "text": [
            "tensor([18, 20, 25,  0, 13, 13, 26, 26, 26, 26, 26, 26, 26])\n",
            "tensor([20, 25,  0, 13, 13, 26, 26, 26, 26, 26, 26, 26, 26])\n",
            "tensor(6)\n",
            "suzann\n",
            "torch.Size([64, 13]) torch.Size([64, 13])\n"
          ]
        }
      ]
    },
    {
      "cell_type": "code",
      "metadata": {
        "id": "aw0rHh8hlJ4z"
      },
      "source": [
        "# This could be useful with variable lengths\n",
        "total_lengths = sample['length']\n",
        "sort_length, sort_idx = torch.sort(total_lengths, descending=True)\n",
        "sort_input = sample['input'][sort_idx]\n",
        "sort_output = sample['output'][sort_idx]\n",
        "sort_original_name = [sample['original'][idx] for idx in sort_idx]\n",
        "# print(sort_length)\n",
        "# print(sort_input)\n",
        "# print(sort_original_name)"
      ],
      "execution_count": null,
      "outputs": []
    },
    {
      "cell_type": "code",
      "metadata": {
        "id": "j_i2kCPlnXO7"
      },
      "source": [
        "class RNNmodel(nn.Module):\n",
        "    def __init__(self,\n",
        "                 lstm_dim=256,\n",
        "                 num_classes=dataset.num_classes,\n",
        "                 max_len=max_len):\n",
        "        super(RNNmodel, self).__init__()\n",
        "        self.lstm_dim = lstm_dim\n",
        "        self.num_classes = num_classes\n",
        "        self.max_len = max_len\n",
        "        self.char_embedding = nn.Embedding(num_embeddings=num_classes,\n",
        "                                           embedding_dim=lstm_dim)\n",
        "        # nn.Embedding(num_embedings, embedding_dim)\n",
        "        # => We have (num_embedding) number of (embedding_dim)-dimesional vectors\n",
        "\n",
        "        self.lstm = nn.LSTM(input_size=lstm_dim,\n",
        "                            hidden_size=lstm_dim,\n",
        "                            num_layers=1,\n",
        "                            batch_first=True,\n",
        "                            )\n",
        "        # pytorch's LSTM receives (Length)x(Batch)x(Dimension) sized tensor\n",
        "        # if I set batch_first=True, LSTM will receive B x L x D sized tensor.\n",
        "\n",
        "        self.out_linear = nn.Linear(lstm_dim, num_classes)\n",
        "\n",
        "    def forward(self, sort_input, sort_output, sort_length):\n",
        "        ## originally, recommended to use torch.nn.utils.rnn.pack_padded_sequence,when we have variable lengths\n",
        "        ## but in this case, I just neglected it because beginners can be more confused with this\n",
        "\n",
        "        # sort_input: BxL-dimensional Tensor of index integers\n",
        "        # lstm_input : B x L x D\n",
        "        lstm_input = self.char_embedding(sort_input)\n",
        "        lstm_out, (h, c) = self.lstm(lstm_input)\n",
        "        out = self.out_linear(lstm_out) # ( batch x length x num_class ) -sized tensor\n",
        "\n",
        "        return out\n",
        "\n",
        "    def test(self, start_char):\n",
        "        generated_name = list()\n",
        "        generated_name.append(start_char)\n",
        "\n",
        "        start_order = torch.LongTensor([ord(start_char)]).to(device) - ord('a')\n",
        "        start_order = start_order.reshape(1, 1)\n",
        "        cnt = 0\n",
        "\n",
        "        while cnt <= self.max_len:\n",
        "            curr_embed = self.char_embedding(start_order)\n",
        "            if cnt == 0:\n",
        "                lstm_out, (h, c) = self.lstm(curr_embed)\n",
        "            else:\n",
        "                lstm_out, (h, c) = self.lstm(curr_embed, (h, c))\n",
        "            out = self.out_linear(lstm_out)\n",
        "\n",
        "            sample_next = torch.distributions.Categorical(logits = out[0, 0, :]).sample().item()\n",
        "            if sample_next == 26:\n",
        "                break\n",
        "            else:\n",
        "                generated_name.append(chr(ord('a')+sample_next))\n",
        "                sample_next = torch.LongTensor([sample_next]).to(device)\n",
        "                start_order = sample_next.reshape(1, 1)\n",
        "\n",
        "                cnt += 1\n",
        "\n",
        "        return ''.join(generated_name)\n"
      ],
      "execution_count": null,
      "outputs": []
    },
    {
      "cell_type": "code",
      "source": [
        "embed = nn.Embedding(10, 64)\n",
        "index = torch.LongTensor([[0, 2, 4], [1, 3, 5]]) # batch =2, length=3\n",
        "print(index)\n",
        "print(embed(index).shape)\n",
        "model = RNNmodel()\n",
        "model(index, None, None)\n"
      ],
      "metadata": {
        "colab": {
          "base_uri": "https://localhost:8080/"
        },
        "id": "E4Oxv8r4RtWt",
        "outputId": "98cba57f-3775-47af-e37d-73eae6065af4"
      },
      "execution_count": null,
      "outputs": [
        {
          "output_type": "stream",
          "name": "stdout",
          "text": [
            "tensor([[0, 2, 4],\n",
            "        [1, 3, 5]])\n",
            "torch.Size([2, 3, 64])\n",
            "lstm_out shape: torch.Size([2, 3, 256])\n",
            "output shape:  torch.Size([2, 3, 27])\n"
          ]
        },
        {
          "output_type": "execute_result",
          "data": {
            "text/plain": [
              "tensor([[[ 0.1587, -0.1036, -0.0233,  0.0709,  0.0006,  0.0240,  0.1768,\n",
              "           0.0077,  0.0111, -0.1287,  0.0874,  0.0460, -0.0621, -0.0659,\n",
              "           0.0432,  0.0526,  0.0275,  0.0164, -0.0060, -0.0249,  0.0481,\n",
              "           0.0010, -0.0263,  0.0498, -0.0647,  0.0189, -0.0413],\n",
              "         [ 0.0392, -0.0226, -0.0274,  0.0272,  0.0727,  0.0642,  0.1140,\n",
              "          -0.0487,  0.0154, -0.0379,  0.0908,  0.0371, -0.1874,  0.0232,\n",
              "           0.0342, -0.0167,  0.0416, -0.1923, -0.0844, -0.0020, -0.0384,\n",
              "           0.0038, -0.0151, -0.0216, -0.0455, -0.0372,  0.1321],\n",
              "         [-0.0011, -0.1578,  0.1219, -0.0084, -0.0186,  0.1530, -0.1066,\n",
              "          -0.1009,  0.0628,  0.1343,  0.0537,  0.1882, -0.1875, -0.0672,\n",
              "           0.1877, -0.0036,  0.0660, -0.1787, -0.0946, -0.1588, -0.0009,\n",
              "           0.0936, -0.0436, -0.1231, -0.0588,  0.0142,  0.0290]],\n",
              "\n",
              "        [[ 0.0669, -0.0831, -0.1083,  0.0769, -0.0404, -0.1208, -0.0057,\n",
              "          -0.0148,  0.0584, -0.0530,  0.0120, -0.0469,  0.0423, -0.1246,\n",
              "           0.0068, -0.0257,  0.0748,  0.0760, -0.0460, -0.0925,  0.0244,\n",
              "           0.0950, -0.0199,  0.0400, -0.0894,  0.0351, -0.0764],\n",
              "         [-0.0684, -0.1362, -0.1357,  0.0246, -0.1293, -0.1560, -0.0754,\n",
              "          -0.0601,  0.0184, -0.1119, -0.0012, -0.0179,  0.1354, -0.1170,\n",
              "          -0.1059,  0.0352,  0.1752,  0.0642,  0.0937,  0.0238, -0.0632,\n",
              "           0.0897, -0.0211,  0.0522,  0.0123, -0.0012, -0.0308],\n",
              "         [ 0.0231, -0.1061, -0.0354,  0.0850, -0.1255,  0.0003, -0.0360,\n",
              "           0.0305,  0.0636, -0.1045, -0.0313, -0.0295, -0.1199, -0.1877,\n",
              "           0.0348, -0.0160,  0.1891,  0.0299,  0.0369, -0.0349, -0.0861,\n",
              "           0.0289,  0.0272,  0.0474, -0.0030, -0.0456, -0.1738]]],\n",
              "       grad_fn=<AddBackward0>)"
            ]
          },
          "metadata": {},
          "execution_count": 39
        }
      ]
    },
    {
      "cell_type": "code",
      "metadata": {
        "id": "XPuT8GV8pJLX"
      },
      "source": [
        "model = RNNmodel()\n",
        "model(sample['input'], sample['output'], sample['length'])\n",
        "model = model.to(device)\n",
        "optimizer = torch.optim.Adam(model.parameters(), lr=1e-4)"
      ],
      "execution_count": null,
      "outputs": []
    },
    {
      "cell_type": "code",
      "metadata": {
        "id": "0Q-ep_yepepC"
      },
      "source": [
        "def train(model, optimizer, sample):\n",
        "    optimizer.zero_grad()\n",
        "    criteria = nn.CrossEntropyLoss()\n",
        "\n",
        "    total_lengths = sample['length']\n",
        "    sort_length, sort_idx = torch.sort(total_lengths, descending=True)\n",
        "\n",
        "    sort_input = sample['input'][sort_idx].to(device)\n",
        "    sort_output = sample['output'][sort_idx].to(device)\n",
        "    sort_length = sort_length.to(device)\n",
        "\n",
        "    pred = model(sort_input, sort_output, sort_length) # B T C\n",
        "    B, T, C = pred.shape\n",
        "\n",
        "    # sort_input : [[T, O, M], [A, M, Y]], B:2, T:3\n",
        "    # sort_output(gt): [[O, M, eos], [M, Y, eos]]\n",
        "    # prediction:      [[O, N, eos], [N, Y, eos]]\n",
        "\n",
        "    curr_loss = criteria(pred.reshape(B*T, C), sort_output.reshape(B*T))\n",
        "\n",
        "    curr_loss.backward()\n",
        "    optimizer.step()\n",
        "\n",
        "    return curr_loss.item()"
      ],
      "execution_count": null,
      "outputs": []
    },
    {
      "cell_type": "code",
      "metadata": {
        "colab": {
          "base_uri": "https://localhost:8080/",
          "height": 1000,
          "referenced_widgets": [
            "3d57adc7afa04541b8ecff62fc8fe736",
            "46ba8fd209af407bb7d89d86f46c3860",
            "5da2668c498643a2a0fafdf20ccf8d3c",
            "0c858a10087e4cdf8617fb4183775eac",
            "3c63714ebc59447f916ceafea828d9e5",
            "688f1fcf059a46beaf54d01ff96c6ee4",
            "04e828bbd2ee4c6ca9d39b0a47743177",
            "4a8d31199a5844408f95749fbaa93511",
            "a62ed32fa25b47509087c8026218a8ef",
            "d3086312c0384b1ba1885ad67a12ca1c",
            "7e83c5232a414aa3ae3d67bd5a4725a1"
          ]
        },
        "id": "UaMHeot3wzm_",
        "outputId": "b9d875ba-5aae-4282-ec0c-768663954c21"
      },
      "source": [
        "max_epoch = 100\n",
        "for epoch in tqdm(range(max_epoch)):\n",
        "    total_loss = 0.0\n",
        "    for sample in dataloader:\n",
        "        curr_loss = train(model, optimizer, sample)\n",
        "        total_loss += curr_loss / len(dataloader)\n",
        "\n",
        "    start_char = chr(np.random.randint(ord('a'), ord('z')))\n",
        "    print('[EPOCH {}] TRAIN LOSS: {}, SAMPLED NAME: {}'.format(epoch,\n",
        "                                                               total_loss,\n",
        "                                                               model.test(start_char)))\n",
        "\n"
      ],
      "execution_count": null,
      "outputs": [
        {
          "output_type": "display_data",
          "data": {
            "text/plain": [
              "  0%|          | 0/100 [00:00<?, ?it/s]"
            ],
            "application/vnd.jupyter.widget-view+json": {
              "version_major": 2,
              "version_minor": 0,
              "model_id": "3d57adc7afa04541b8ecff62fc8fe736"
            }
          },
          "metadata": {}
        },
        {
          "output_type": "stream",
          "name": "stdout",
          "text": [
            "[EPOCH 0] TRAIN LOSS: 1.9535719492496586, SAMPLED NAME: ymunwenui\n",
            "[EPOCH 1] TRAIN LOSS: 1.2529693505702875, SAMPLED NAME: jmgpdbae\n",
            "[EPOCH 2] TRAIN LOSS: 1.1354151964187622, SAMPLED NAME: uboea\n",
            "[EPOCH 3] TRAIN LOSS: 1.0730929397619686, SAMPLED NAME: jpdeolie\n",
            "[EPOCH 4] TRAIN LOSS: 1.0306071822459881, SAMPLED NAME: swvra\n",
            "[EPOCH 5] TRAIN LOSS: 0.9978405053798969, SAMPLED NAME: ha\n",
            "[EPOCH 6] TRAIN LOSS: 0.9717443203314758, SAMPLED NAME: t\n",
            "[EPOCH 7] TRAIN LOSS: 0.9501781257299277, SAMPLED NAME: rene\n",
            "[EPOCH 8] TRAIN LOSS: 0.9314880493359688, SAMPLED NAME: marir\n",
            "[EPOCH 9] TRAIN LOSS: 0.91518513743694, SAMPLED NAME: pharleq\n",
            "[EPOCH 10] TRAIN LOSS: 0.9010432156232686, SAMPLED NAME: bra\n",
            "[EPOCH 11] TRAIN LOSS: 0.8888701911155992, SAMPLED NAME: ronekle\n",
            "[EPOCH 12] TRAIN LOSS: 0.8779245821329263, SAMPLED NAME: ddodeta\n",
            "[EPOCH 13] TRAIN LOSS: 0.8679067652959087, SAMPLED NAME: lycania\n",
            "[EPOCH 14] TRAIN LOSS: 0.8583846703553811, SAMPLED NAME: karien\n",
            "[EPOCH 15] TRAIN LOSS: 0.849439060840851, SAMPLED NAME: jenita\n",
            "[EPOCH 16] TRAIN LOSS: 0.8415150214464234, SAMPLED NAME: calye\n",
            "[EPOCH 17] TRAIN LOSS: 0.8340099354585011, SAMPLED NAME: roret\n",
            "[EPOCH 18] TRAIN LOSS: 0.8266174984283935, SAMPLED NAME: kaqmomara\n",
            "[EPOCH 19] TRAIN LOSS: 0.8194851455016013, SAMPLED NAME: wermena\n",
            "[EPOCH 20] TRAIN LOSS: 0.8131816578217046, SAMPLED NAME: kalin\n",
            "[EPOCH 21] TRAIN LOSS: 0.8067455742603694, SAMPLED NAME: fuzetan\n",
            "[EPOCH 22] TRAIN LOSS: 0.8004314188773816, SAMPLED NAME: quatha\n",
            "[EPOCH 23] TRAIN LOSS: 0.7945703841172732, SAMPLED NAME: lisbetta\n",
            "[EPOCH 24] TRAIN LOSS: 0.7889650662740074, SAMPLED NAME: scarlena\n",
            "[EPOCH 25] TRAIN LOSS: 0.783219285500355, SAMPLED NAME: fincean\n",
            "[EPOCH 26] TRAIN LOSS: 0.7781744668116939, SAMPLED NAME: varyne\n",
            "[EPOCH 27] TRAIN LOSS: 0.7729723499371456, SAMPLED NAME: purilla\n",
            "[EPOCH 28] TRAIN LOSS: 0.7679432210249779, SAMPLED NAME: chlynssa\n",
            "[EPOCH 29] TRAIN LOSS: 0.7630330499930257, SAMPLED NAME: bbiirel\n",
            "[EPOCH 30] TRAIN LOSS: 0.7581774256168268, SAMPLED NAME: arilen\n",
            "[EPOCH 31] TRAIN LOSS: 0.7539410743957912, SAMPLED NAME: gben\n",
            "[EPOCH 32] TRAIN LOSS: 0.749485588990725, SAMPLED NAME: quel\n",
            "[EPOCH 33] TRAIN LOSS: 0.7445288331080707, SAMPLED NAME: mimga\n",
            "[EPOCH 34] TRAIN LOSS: 0.7407010938876712, SAMPLED NAME: pergin\n",
            "[EPOCH 35] TRAIN LOSS: 0.7362554654096947, SAMPLED NAME: vepristina\n",
            "[EPOCH 36] TRAIN LOSS: 0.7325931909756782, SAMPLED NAME: wethine\n",
            "[EPOCH 37] TRAIN LOSS: 0.7283307795341198, SAMPLED NAME: ylanna\n",
            "[EPOCH 38] TRAIN LOSS: 0.7243495247302913, SAMPLED NAME: anelene\n",
            "[EPOCH 39] TRAIN LOSS: 0.7206766223296145, SAMPLED NAME: mongy\n",
            "[EPOCH 40] TRAIN LOSS: 0.7165660521922967, SAMPLED NAME: iore\n",
            "[EPOCH 41] TRAIN LOSS: 0.7133355431067638, SAMPLED NAME: kailley\n",
            "[EPOCH 42] TRAIN LOSS: 0.7098931792454842, SAMPLED NAME: joelly\n",
            "[EPOCH 43] TRAIN LOSS: 0.7062462461300387, SAMPLED NAME: celmis\n",
            "[EPOCH 44] TRAIN LOSS: 0.703191897807977, SAMPLED NAME: dudie\n",
            "[EPOCH 45] TRAIN LOSS: 0.6995741679118229, SAMPLED NAME: shyllyne\n",
            "[EPOCH 46] TRAIN LOSS: 0.6962371147595916, SAMPLED NAME: jesy\n",
            "[EPOCH 47] TRAIN LOSS: 0.6930971520069321, SAMPLED NAME: yossy\n",
            "[EPOCH 48] TRAIN LOSS: 0.6897410230758863, SAMPLED NAME: otelia\n",
            "[EPOCH 49] TRAIN LOSS: 0.6873509150284985, SAMPLED NAME: soda\n",
            "[EPOCH 50] TRAIN LOSS: 0.6840384304523467, SAMPLED NAME: ponney\n",
            "[EPOCH 51] TRAIN LOSS: 0.6809640679603969, SAMPLED NAME: hmag\n",
            "[EPOCH 52] TRAIN LOSS: 0.678182779978483, SAMPLED NAME: gtaitin\n",
            "[EPOCH 53] TRAIN LOSS: 0.6751546959082286, SAMPLED NAME: winette\n",
            "[EPOCH 54] TRAIN LOSS: 0.6727913373555887, SAMPLED NAME: oriel\n",
            "[EPOCH 55] TRAIN LOSS: 0.6698698378526248, SAMPLED NAME: alentica\n",
            "[EPOCH 56] TRAIN LOSS: 0.6669842104117079, SAMPLED NAME: karole\n",
            "[EPOCH 57] TRAIN LOSS: 0.664654586559687, SAMPLED NAME: quetti\n",
            "[EPOCH 58] TRAIN LOSS: 0.6619155429876765, SAMPLED NAME: margeid\n",
            "[EPOCH 59] TRAIN LOSS: 0.6591461453682339, SAMPLED NAME: dais\n",
            "[EPOCH 60] TRAIN LOSS: 0.6568634632306222, SAMPLED NAME: emmajayne\n",
            "[EPOCH 61] TRAIN LOSS: 0.6543375826798953, SAMPLED NAME: gennite\n",
            "[EPOCH 62] TRAIN LOSS: 0.651799759039512, SAMPLED NAME: halse\n",
            "[EPOCH 63] TRAIN LOSS: 0.649430806056047, SAMPLED NAME: oleymi\n",
            "[EPOCH 64] TRAIN LOSS: 0.6471929290355779, SAMPLED NAME: darcy\n",
            "[EPOCH 65] TRAIN LOSS: 0.6446756307895366, SAMPLED NAME: deboone\n",
            "[EPOCH 66] TRAIN LOSS: 0.6426284129802996, SAMPLED NAME: avrile\n",
            "[EPOCH 67] TRAIN LOSS: 0.6406226929945823, SAMPLED NAME: urzan\n",
            "[EPOCH 68] TRAIN LOSS: 0.6381377631273024, SAMPLED NAME: neva\n",
            "[EPOCH 69] TRAIN LOSS: 0.6360541245876217, SAMPLED NAME: quitte\n",
            "[EPOCH 70] TRAIN LOSS: 0.6339166783369503, SAMPLED NAME: opepi\n",
            "[EPOCH 71] TRAIN LOSS: 0.6317144471865432, SAMPLED NAME: ynolea\n",
            "[EPOCH 72] TRAIN LOSS: 0.6295504348400311, SAMPLED NAME: ulmeta\n",
            "[EPOCH 73] TRAIN LOSS: 0.6280415256818136, SAMPLED NAME: yane\n",
            "[EPOCH 74] TRAIN LOSS: 0.6256950474702397, SAMPLED NAME: nacee\n",
            "[EPOCH 75] TRAIN LOSS: 0.6238532868715431, SAMPLED NAME: dilve\n",
            "[EPOCH 76] TRAIN LOSS: 0.6216937456375514, SAMPLED NAME: hardy\n",
            "[EPOCH 77] TRAIN LOSS: 0.6200428589796408, SAMPLED NAME: elyssa\n",
            "[EPOCH 78] TRAIN LOSS: 0.6182579787877892, SAMPLED NAME: elidah\n",
            "[EPOCH 79] TRAIN LOSS: 0.6164839924910133, SAMPLED NAME: brina\n",
            "[EPOCH 80] TRAIN LOSS: 0.6144324189577346, SAMPLED NAME: xanny\n",
            "[EPOCH 81] TRAIN LOSS: 0.6122069450525137, SAMPLED NAME: belcia\n",
            "[EPOCH 82] TRAIN LOSS: 0.6105785782520587, SAMPLED NAME: fana\n",
            "[EPOCH 83] TRAIN LOSS: 0.6091690201025743, SAMPLED NAME: martinde\n",
            "[EPOCH 84] TRAIN LOSS: 0.6076608177943105, SAMPLED NAME: peerry\n",
            "[EPOCH 85] TRAIN LOSS: 0.605397928219575, SAMPLED NAME: noelly\n",
            "[EPOCH 86] TRAIN LOSS: 0.6035824609108459, SAMPLED NAME: paula\n",
            "[EPOCH 87] TRAIN LOSS: 0.6023518809905419, SAMPLED NAME: trighala\n",
            "[EPOCH 88] TRAIN LOSS: 0.6002985720451061, SAMPLED NAME: brody\n",
            "[EPOCH 89] TRAIN LOSS: 0.5993210375308992, SAMPLED NAME: quindi\n",
            "[EPOCH 90] TRAIN LOSS: 0.5974846795583385, SAMPLED NAME: pris\n",
            "[EPOCH 91] TRAIN LOSS: 0.5963660883597837, SAMPLED NAME: ijas\n",
            "[EPOCH 92] TRAIN LOSS: 0.5944565083736029, SAMPLED NAME: ffeonie\n",
            "[EPOCH 93] TRAIN LOSS: 0.5928069498294438, SAMPLED NAME: pauly\n",
            "[EPOCH 94] TRAIN LOSS: 0.5913917177762743, SAMPLED NAME: meloria\n",
            "[EPOCH 95] TRAIN LOSS: 0.5896234718652871, SAMPLED NAME: flora\n",
            "[EPOCH 96] TRAIN LOSS: 0.5883970489868751, SAMPLED NAME: ursuline\n",
            "[EPOCH 97] TRAIN LOSS: 0.5868750038819436, SAMPLED NAME: linnel\n",
            "[EPOCH 98] TRAIN LOSS: 0.5855087164120797, SAMPLED NAME: dorrie\n",
            "[EPOCH 99] TRAIN LOSS: 0.5840809207696179, SAMPLED NAME: glindal\n"
          ]
        }
      ]
    },
    {
      "cell_type": "code",
      "metadata": {
        "id": "4iXvoXk-w2Gd"
      },
      "source": [],
      "execution_count": null,
      "outputs": []
    }
  ]
}