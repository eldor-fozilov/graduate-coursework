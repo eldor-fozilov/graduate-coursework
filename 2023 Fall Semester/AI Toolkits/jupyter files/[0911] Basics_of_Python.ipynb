{
  "nbformat": 4,
  "nbformat_minor": 0,
  "metadata": {
    "colab": {
      "provenance": []
    },
    "kernelspec": {
      "name": "python3",
      "display_name": "Python 3"
    }
  },
  "cells": [
    {
      "cell_type": "markdown",
      "metadata": {
        "id": "GB_dZ4eKDmwA"
      },
      "source": [
        "### SOURCE OF THIS TUTORIAL : https://docs.python.org/3/tutorial/introduction.html"
      ]
    },
    {
      "cell_type": "markdown",
      "metadata": {
        "id": "XcHcYc2SBCsY"
      },
      "source": [
        "print function\n",
        "- print(some value you want to see)\n",
        "- In Python 2, `print \"hello world\"` was okay.\n",
        "- But In Python 3, you must use \"( )\" for printing, like `print(\"hello world\")`."
      ]
    },
    {
      "cell_type": "code",
      "metadata": {
        "id": "15UjtD8rCQUN",
        "colab": {
          "base_uri": "https://localhost:8080/"
        },
        "outputId": "7a24e1f4-946e-4583-ee54-e62a912beba0"
      },
      "source": [
        "course_name = \"AI ToolKit\"\n",
        "num_courses = 10\n",
        "### Simple print function\n",
        "print('Hello world!')"
      ],
      "execution_count": null,
      "outputs": [
        {
          "output_type": "stream",
          "name": "stdout",
          "text": [
            "Hello world!\n"
          ]
        }
      ]
    },
    {
      "cell_type": "code",
      "source": [
        "### ADD STRING WITH '+' OPERATION\n",
        "print('Hello and welcome to ' + course_name)"
      ],
      "metadata": {
        "colab": {
          "base_uri": "https://localhost:8080/"
        },
        "id": "PPg5dxWwOyl7",
        "outputId": "31638b31-0f61-464c-9939-fd43b018c2f9"
      },
      "execution_count": null,
      "outputs": [
        {
          "output_type": "stream",
          "name": "stdout",
          "text": [
            "Hello and welcome to AI ToolKit\n"
          ]
        }
      ]
    },
    {
      "cell_type": "code",
      "source": [
        "### ADD STRING WITH {} & 'format' function\n",
        "### 'data' == '{}'.format('data')\n",
        "print('The course\\'s name is \\\"{}\\\"'.format(course_name))"
      ],
      "metadata": {
        "colab": {
          "base_uri": "https://localhost:8080/"
        },
        "id": "RRVRsC-2OziY",
        "outputId": "714c7260-680f-4b01-cb62-f70e8f32f253"
      },
      "execution_count": null,
      "outputs": [
        {
          "output_type": "stream",
          "name": "stdout",
          "text": [
            "The course's name is \"AI ToolKit\"\n"
          ]
        }
      ]
    },
    {
      "cell_type": "code",
      "source": [
        "### OR use %s (strings) %d (integer) %f (float) ...\n",
        "### \"text, 10\" == \"%s, %d\" %('text', 10)\n",
        "print('In %s course, we will learn various things! In total, %d courses will be provided.' %(course_name, num_courses))"
      ],
      "metadata": {
        "colab": {
          "base_uri": "https://localhost:8080/"
        },
        "id": "OVB_E419O0ZK",
        "outputId": "2e04cc67-d8f1-4895-d4ad-898b9b514d41"
      },
      "execution_count": null,
      "outputs": [
        {
          "output_type": "stream",
          "name": "stdout",
          "text": [
            "In AI ToolKit course, we will learn various things! In total, 10 courses will be provided.\n"
          ]
        }
      ]
    },
    {
      "cell_type": "markdown",
      "metadata": {
        "id": "WcxlRgL2DfBV"
      },
      "source": [
        "### Python as a Calculator\n"
      ]
    },
    {
      "cell_type": "code",
      "metadata": {
        "id": "DUXC3JC7Dfoh",
        "colab": {
          "base_uri": "https://localhost:8080/"
        },
        "outputId": "b46ac943-7fbe-4471-9be3-8209c1af5f1f"
      },
      "source": [
        "print(2+2)\n",
        "print(50-5*6)\n",
        "print()\n",
        "\n",
        "## Difference from Python 2 and Python 3 : division always makes the float result\n",
        "print(18/5)\n",
        "print()\n",
        "\n",
        "## Use // for generating integer result after division.\n",
        "print(18//5)\n",
        "print()\n",
        "\n",
        "## % for get the remainder of the division\n",
        "# if k % 10 == 0: (if k can be divided by 10 with 0 remainder, below will be run.)\n",
        "print(101 % 10)\n",
        "print()\n",
        "\n",
        "## ** for power.\n",
        "print(10 ** 2)\n",
        "print(10 ** 3)"
      ],
      "execution_count": null,
      "outputs": [
        {
          "output_type": "stream",
          "name": "stdout",
          "text": [
            "4\n",
            "20\n",
            "\n",
            "3.6\n",
            "\n",
            "3\n",
            "\n",
            "1\n",
            "\n",
            "100\n",
            "1000\n"
          ]
        }
      ]
    },
    {
      "cell_type": "markdown",
      "metadata": {
        "id": "upefgL9eE-HR"
      },
      "source": [
        "### Some useful string operations\n",
        "- s1.split()\n",
        "-s1.join()\n",
        "-s1.lower() and s1.upper()\n",
        "\n",
        "### Indexing in the string (list)\n",
        "```\n",
        " +---+---+---+---+---+---+\n",
        " | P | y | t | h | o | n |\n",
        " +---+---+---+---+---+---+\n",
        "   0   1   2   3   4   5   6\n",
        "  -6  -5  -4  -3  -2  -1\n",
        "```\n",
        "\n",
        "\n"
      ]
    },
    {
      "cell_type": "code",
      "metadata": {
        "id": "idLcjC3IE-p0",
        "colab": {
          "base_uri": "https://localhost:8080/"
        },
        "outputId": "2795bb89-5b61-4d36-8b22-00d4eccfcea3"
      },
      "source": [
        "## Split the string! the default is spliting with space\n",
        "curr_str = \"This is the string for you! / Thanks a lot\"\n",
        "print(curr_str.split())\n",
        "print(curr_str.split('/'))"
      ],
      "execution_count": null,
      "outputs": [
        {
          "output_type": "stream",
          "name": "stdout",
          "text": [
            "['This', 'is', 'the', 'string', 'for', 'you!', '/', 'Thanks', 'a', 'lot']\n",
            "['This is the string for you! ', ' Thanks a lot']\n"
          ]
        }
      ]
    },
    {
      "cell_type": "code",
      "source": [
        "## Join the strings in the list. s1.join(L) would make L[0] + s1 + L[1] + s1 + ....\n",
        "curr_char = ['w', 'h', 'a', 't', 'i', 's', 't', 'h', 'i', 's']\n",
        "print(' '.join(curr_char))\n",
        "print(''.join(curr_char))\n",
        "print('HHH'.join(curr_char))"
      ],
      "metadata": {
        "colab": {
          "base_uri": "https://localhost:8080/"
        },
        "id": "VkaAUL3KO5PG",
        "outputId": "3223e687-b82e-4839-f2df-113efd9f84e6"
      },
      "execution_count": null,
      "outputs": [
        {
          "output_type": "stream",
          "name": "stdout",
          "text": [
            "w h a t i s t h i s\n",
            "whatisthis\n",
            "wHHHhHHHaHHHtHHHiHHHsHHHtHHHhHHHiHHHs\n"
          ]
        }
      ]
    },
    {
      "cell_type": "code",
      "source": [
        "## String to lower / upper cases\n",
        "curr_str = \"This is the string for you! / Thanks a lot\"\n",
        "print(curr_str.lower())\n",
        "print(curr_str.upper())"
      ],
      "metadata": {
        "colab": {
          "base_uri": "https://localhost:8080/"
        },
        "id": "tbqz5j-rO66k",
        "outputId": "bfb22522-af26-4ffb-a697-f53d3d43fd00"
      },
      "execution_count": null,
      "outputs": [
        {
          "output_type": "stream",
          "name": "stdout",
          "text": [
            "this is the string for you! / thanks a lot\n",
            "THIS IS THE STRING FOR YOU! / THANKS A LOT\n"
          ]
        }
      ]
    },
    {
      "cell_type": "code",
      "source": [
        "## String can be indexed like a list (wait but what is the list?)!\n",
        "curr_str = \"This is the string for you! / Thanks a lot\"\n",
        "print(curr_str[0])\n",
        "print(curr_str[1])\n",
        "print(curr_str[-1])\n",
        "print(curr_str[-2])"
      ],
      "metadata": {
        "colab": {
          "base_uri": "https://localhost:8080/"
        },
        "id": "0YVjEarFO-F4",
        "outputId": "b4a0e795-fe5a-4677-c018-9e5d231f6eae"
      },
      "execution_count": null,
      "outputs": [
        {
          "output_type": "stream",
          "name": "stdout",
          "text": [
            "T\n",
            "h\n",
            "t\n",
            "o\n"
          ]
        }
      ]
    },
    {
      "cell_type": "markdown",
      "metadata": {
        "id": "7usbvvjsHCL2"
      },
      "source": [
        "### List in Python : group other values together!\n",
        "- Watch out for the indexing\n",
        "    - it starts from 0 1 2...\n",
        "    - If you want to go backward, it is -1, -2, -3, ....\n",
        "- L[a:b]\n",
        "    - slice the list \"L\" from index `a` to `b-1`. Number of the elements will be `b-a`\n",
        "- L1 + L2\n",
        "    - Concatenating two list L1 and L2\n",
        "- L.append(element)\n",
        "    - Add the element at the end of L. The length of L will be increased.\n",
        "- len(L)\n",
        "    - Number of elements inside the List L\n"
      ]
    },
    {
      "cell_type": "code",
      "metadata": {
        "id": "M_1yAlD0HCrA",
        "colab": {
          "base_uri": "https://localhost:8080/"
        },
        "outputId": "855bc9a4-63b1-4de2-e9e6-bfb4eb2f6273"
      },
      "source": [
        "my_list = [0, 1, 2, 'a', 'b','c']\n",
        "your_list = [3, 4, 5, 'd', 'e','f']\n",
        "\n",
        "## len(list_variable) => number of elements in list_variable.\n",
        "print(my_list, 'List can include elements from different types')\n",
        "print('Length of list : {}'.format(len(my_list)))"
      ],
      "execution_count": null,
      "outputs": [
        {
          "output_type": "stream",
          "name": "stdout",
          "text": [
            "[0, 1, 2, 'a', 'b', 'c'] List can include elements from different types\n",
            "Length of list : 6\n"
          ]
        }
      ]
    },
    {
      "cell_type": "code",
      "source": [
        "## Watch out for orders\n",
        "my_list = [0, 1, 2, 'a', 'b','c']\n",
        "print('First element: ', my_list[0])\n",
        "print('Second element: ', my_list[1])\n",
        "print('Third element: ', my_list[2])\n",
        "\n",
        "print('Last element: ', my_list[-1])\n",
        "print('Second Last element: ', my_list[-2])\n",
        "print('Third Last element: ', my_list[-3])"
      ],
      "metadata": {
        "colab": {
          "base_uri": "https://localhost:8080/"
        },
        "id": "sVivhbYaPBxx",
        "outputId": "ac0732e8-300e-4110-f924-be04492eee98"
      },
      "execution_count": null,
      "outputs": [
        {
          "output_type": "stream",
          "name": "stdout",
          "text": [
            "First element:  0\n",
            "Second element:  1\n",
            "Third element:  2\n",
            "Last element:  c\n",
            "Second Last element:  b\n",
            "Third Last element:  a\n"
          ]
        }
      ]
    },
    {
      "cell_type": "code",
      "source": [
        "## adding two list, make concatenation\n",
        "my_list = [0, 1, 2, 'a', 'b','c']\n",
        "your_list = [3, 4, 5, 'd', 'e','f']\n",
        "concat_list = my_list + your_list\n",
        "print('Concated List: ', concat_list)\n",
        "print()\n",
        "\n",
        "## add an element to concat_list\n",
        "concat_list.append('NEW FRIEND')\n",
        "print('List after adding new: ', concat_list)\n",
        "print()\n",
        "\n",
        "## Delete the element of list\n",
        "del concat_list[-1]\n",
        "print('List after erasing last: ', concat_list)\n",
        "print()\n",
        "\n",
        "## Delete the some part of the list\n",
        "concat_list[0:3] = []\n",
        "print('List after erasing block: ', concat_list)\n",
        "print()\n",
        "\n",
        "## find the INDEX of the element!\n",
        "print('3 is at the {}th order in concat_list'.format( concat_list.index(3) + 1 ) )"
      ],
      "metadata": {
        "colab": {
          "base_uri": "https://localhost:8080/"
        },
        "id": "7PBRkzhzPE8f",
        "outputId": "d0214993-d3fd-4580-f6ad-5c0420bf11a5"
      },
      "execution_count": null,
      "outputs": [
        {
          "output_type": "stream",
          "name": "stdout",
          "text": [
            "Concated List:  [0, 1, 2, 'a', 'b', 'c', 3, 4, 5, 'd', 'e', 'f']\n",
            "\n",
            "List after adding new:  [0, 1, 2, 'a', 'b', 'c', 3, 4, 5, 'd', 'e', 'f', 'NEW FRIEND']\n",
            "\n",
            "List after erasing last:  [0, 1, 2, 'a', 'b', 'c', 3, 4, 5, 'd', 'e', 'f']\n",
            "\n",
            "List after erasing block:  ['a', 'b', 'c', 3, 4, 5, 'd', 'e', 'f']\n",
            "\n",
            "3 is at the 4th order in concat_list\n"
          ]
        }
      ]
    },
    {
      "cell_type": "code",
      "source": [
        "## List can contain other list as element\n",
        "my_list = [0, 1, 2, 'a', 'b','c']\n",
        "your_list = [3, 4, 5, 'd', 'e','f']\n",
        "super_list = [my_list, your_list, [\"new!\"]]\n",
        "print(super_list)\n",
        "print()"
      ],
      "metadata": {
        "colab": {
          "base_uri": "https://localhost:8080/"
        },
        "id": "uhQbY6-rPHQj",
        "outputId": "885f2584-a290-4325-ed09-f8da742f917d"
      },
      "execution_count": null,
      "outputs": [
        {
          "output_type": "stream",
          "name": "stdout",
          "text": [
            "[3, 4, 5, 'd', 'e', 'f']\n",
            "\n"
          ]
        }
      ]
    },
    {
      "cell_type": "markdown",
      "metadata": {
        "id": "9lIdn_sQHEVc"
      },
      "source": [
        "### Dictionary in Python!\n",
        "- map 'key' with 'value'\n",
        "- D['key'] = value"
      ]
    },
    {
      "cell_type": "code",
      "metadata": {
        "id": "G-zs7_QsKgrw",
        "colab": {
          "base_uri": "https://localhost:8080/"
        },
        "outputId": "7cbae70f-b96c-4a99-ae47-c4ac14fc8689"
      },
      "source": [
        "## DEFINE SOME DICTIONARY\n",
        "deep_learning_tools = dict()\n",
        "deep_learning_tools['Google'] = 'Tensorflow'\n",
        "deep_learning_tools['Meta'] = 'PyTorch'\n",
        "deep_learning_tools['Apache'] = 'MXNet'\n",
        "\n",
        "print('Dictionary: \\t', deep_learning_tools)\n",
        "print('Keys: \\t\\t', deep_learning_tools.keys())\n",
        "print('Values: \\t', deep_learning_tools.values())"
      ],
      "execution_count": null,
      "outputs": [
        {
          "output_type": "stream",
          "name": "stdout",
          "text": [
            "Dictionary: \t {'Google': 'Tensorflow', 'Meta': 'PyTorch', 'Apache': 'MXNet'}\n",
            "Keys: \t\t dict_keys(['Google', 'Meta', 'Apache'])\n",
            "Values: \t dict_values(['Tensorflow', 'PyTorch', 'MXNet'])\n"
          ]
        }
      ]
    },
    {
      "cell_type": "code",
      "source": [
        "## Iterate with key and values!\n",
        "for k, v in deep_learning_tools.items():\n",
        "    print('{} \\t ---> \\t  {}'.format(k, v))\n",
        "\n",
        "## print the length\n",
        "print('Length of this dictionary : {}'.format(len(deep_learning_tools)))"
      ],
      "metadata": {
        "colab": {
          "base_uri": "https://localhost:8080/"
        },
        "id": "LdIcU5L7PVKd",
        "outputId": "e41a4abb-a04b-42cb-bff3-86c79f2839db"
      },
      "execution_count": null,
      "outputs": [
        {
          "output_type": "stream",
          "name": "stdout",
          "text": [
            "Google \t ---> \t  Tensorflow\n",
            "Meta \t ---> \t  PyTorch\n",
            "Apache \t ---> \t  MXNet\n",
            "Length of this dictionary : 3\n"
          ]
        }
      ]
    },
    {
      "cell_type": "markdown",
      "metadata": {
        "id": "h9exIbQwKhG4"
      },
      "source": [
        "### If statement\n",
        "- Consists of **if, elif, else**.\n",
        "```\n",
        "if [some condition] :\n",
        "    do something you want\n",
        "elif [another condition] :\n",
        "    do another thing you want\n",
        "else:\n",
        "    do others you want\n",
        "```\n",
        "- Always add ' : ' !\n",
        "- Grammar real English"
      ]
    },
    {
      "cell_type": "code",
      "metadata": {
        "id": "GJU5LEUbNc-F",
        "colab": {
          "base_uri": "https://localhost:8080/"
        },
        "outputId": "19d78438-fb67-4de2-b60b-ab8769fdead4"
      },
      "source": [
        "input_int = int(input('Enter your positive integer value! : '))\n",
        "if input_int < 0:\n",
        "    print('NEGATIVE INTEGER!')\n",
        "else:\n",
        "    if input_int % 5 == 0:\n",
        "        print('This integer can be divided by 5')\n",
        "    elif input_int % 5 == 1:\n",
        "        print('This integer leaves 1 after divided by 5')\n",
        "    else:\n",
        "        print('This interger leaves value larger than 1 after divided by 5')\n"
      ],
      "execution_count": null,
      "outputs": [
        {
          "output_type": "stream",
          "name": "stdout",
          "text": [
            "Enter your positive integer value! : 5\n",
            "This integer can be divided by 5\n"
          ]
        }
      ]
    },
    {
      "cell_type": "markdown",
      "metadata": {
        "id": "fx3n3HSmNdV3"
      },
      "source": [
        "### For statement and RANGE\n",
        "```\n",
        "for (something) in (something that can be iterated):\n",
        "    do what you want with (something)\n",
        "```\n",
        "```\n",
        "for idx in range(start, end, stride):\n",
        "    idx would be start, start+stride, start+2*stride .....\n",
        "```\n",
        "* Always add ' : ' !\n",
        "* Grammar like English"
      ]
    },
    {
      "cell_type": "code",
      "metadata": {
        "id": "K0h3p5jHKhRw",
        "colab": {
          "base_uri": "https://localhost:8080/"
        },
        "outputId": "19879004-1b02-4a76-94a1-807ae6364502"
      },
      "source": [
        "alphabet = ['a', 'b', 'c', 'd', 'e', 'f', 'g', 'h', 'i']\n",
        "### iterate elements in \"alphabet\"\n",
        "for ch in alphabet:\n",
        "    print(ch)\n",
        "print()\n",
        "\n",
        "### iterate elements in \"alphabet\" with index information\n",
        "for char_idx, char in enumerate(alphabet):\n",
        "    print(char_idx, char)"
      ],
      "execution_count": null,
      "outputs": [
        {
          "output_type": "stream",
          "name": "stdout",
          "text": [
            "a\n",
            "b\n",
            "c\n",
            "d\n",
            "e\n",
            "f\n",
            "g\n",
            "h\n",
            "i\n",
            "\n",
            "0 a\n",
            "1 b\n",
            "2 c\n",
            "3 d\n",
            "4 e\n",
            "5 f\n",
            "6 g\n",
            "7 h\n",
            "8 i\n"
          ]
        }
      ]
    },
    {
      "cell_type": "code",
      "source": [
        "for i in range(5, 0, -1):\n",
        "    print(i)"
      ],
      "metadata": {
        "colab": {
          "base_uri": "https://localhost:8080/"
        },
        "id": "84zOzlaJ7ZJp",
        "outputId": "e439b225-300a-48a5-beb6-1145ad60296f"
      },
      "execution_count": null,
      "outputs": [
        {
          "output_type": "stream",
          "name": "stdout",
          "text": [
            "5\n",
            "4\n",
            "3\n",
            "2\n",
            "1\n"
          ]
        }
      ]
    },
    {
      "cell_type": "code",
      "source": [
        "start_idx = 5\n",
        "end_idx = 0\n",
        "stride = -1\n",
        "alphabet = ['a', 'b', 'c', 'd', 'e', 'f', 'g', 'h', 'i']\n",
        "\n",
        "### iterate elements using \"range\"\n",
        "for idx in range(start_idx, end_idx, stride):\n",
        "    print(alphabet[idx])\n",
        "print()\n",
        "\n",
        "### iterate elements using index information directly.\n",
        "print(alphabet[start_idx:end_idx:stride])\n",
        "for char in alphabet[start_idx:end_idx:stride]:\n",
        "    print(char)\n",
        "\n",
        "print('Last character was : ' + char)"
      ],
      "metadata": {
        "colab": {
          "base_uri": "https://localhost:8080/"
        },
        "id": "xPwf_04ePf7p",
        "outputId": "73e1d896-7397-44a6-84b7-e3ce81322ebe"
      },
      "execution_count": null,
      "outputs": [
        {
          "output_type": "stream",
          "name": "stdout",
          "text": [
            "f\n",
            "e\n",
            "d\n",
            "c\n",
            "b\n",
            "\n",
            "['f', 'e', 'd', 'c', 'b']\n",
            "f\n",
            "e\n",
            "d\n",
            "c\n",
            "b\n",
            "Last character was : b\n"
          ]
        }
      ]
    },
    {
      "cell_type": "code",
      "source": [
        "for i in range(2):\n",
        "    for j in range(10):\n",
        "        value = i * 10 + j\n",
        "        if i == 1 and j == 5:\n",
        "            print('I want this number : '+str(value))\n",
        "            break\n",
        "        else:\n",
        "            print(value)"
      ],
      "metadata": {
        "colab": {
          "base_uri": "https://localhost:8080/"
        },
        "id": "eKXJFuPrPjle",
        "outputId": "fdb87f61-92e6-4d67-a5ef-818b631e8890"
      },
      "execution_count": null,
      "outputs": [
        {
          "output_type": "stream",
          "name": "stdout",
          "text": [
            "0\n",
            "1\n",
            "2\n",
            "3\n",
            "4\n",
            "5\n",
            "6\n",
            "7\n",
            "8\n",
            "9\n",
            "10\n",
            "11\n",
            "12\n",
            "13\n",
            "14\n",
            "I want this number : 15\n"
          ]
        }
      ]
    },
    {
      "cell_type": "code",
      "metadata": {
        "id": "fs6sHxhbRlcd",
        "colab": {
          "base_uri": "https://localhost:8080/"
        },
        "outputId": "5cef44d3-98c1-4367-de98-75a8c352d611"
      },
      "source": [
        "## Some tricks to make a list\n",
        "print([x for x in range(10)])\n",
        "print([x for x in range(10) if x % 2 == 0])\n",
        "print([x**2 for x in range(10) if x % 2 == 1])"
      ],
      "execution_count": null,
      "outputs": [
        {
          "output_type": "stream",
          "name": "stdout",
          "text": [
            "[0, 1, 2, 3, 4, 5, 6, 7, 8, 9]\n",
            "[0, 2, 4, 6, 8]\n",
            "[1, 9, 25, 49, 81]\n"
          ]
        }
      ]
    },
    {
      "cell_type": "code",
      "source": [
        "## Some useful operations for the list\n",
        "curr_list = [2, 5, 1, 3, 0, 8, 9, 9, 10, 10]\n",
        "# curr_list = ['b', 'd', 't', 's', 'h', 'a']\n",
        "print('Current List : ', curr_list)\n",
        "print('Sum of list : {}'.format(sum(curr_list)))\n",
        "print('Max of list : {}'.format(max(curr_list)))\n",
        "print('Min of list : {}'.format(min(curr_list)))\n",
        "print('Sorted List : ', sorted(curr_list))\n",
        "print('Unique set : ', set(curr_list))"
      ],
      "metadata": {
        "colab": {
          "base_uri": "https://localhost:8080/"
        },
        "id": "SXSl_1HGPntR",
        "outputId": "807ac53a-43b2-4385-f12d-a82defc9a0d2"
      },
      "execution_count": null,
      "outputs": [
        {
          "output_type": "stream",
          "name": "stdout",
          "text": [
            "Current List :  [2, 5, 1, 3, 0, 8, 9, 9, 10, 10]\n",
            "Sum of list : 57\n",
            "Max of list : 10\n",
            "Min of list : 0\n",
            "Sorted List :  [0, 1, 2, 3, 5, 8, 9, 9, 10, 10]\n",
            "Unique set :  {0, 1, 2, 3, 5, 8, 9, 10}\n"
          ]
        }
      ]
    },
    {
      "cell_type": "markdown",
      "metadata": {
        "id": "mTN2aG2zHEhn"
      },
      "source": [
        "### While statement\n",
        "```\n",
        "while (some condition to keep this while loop) :\n",
        "    do something you want\n",
        "```"
      ]
    },
    {
      "cell_type": "code",
      "metadata": {
        "id": "0n2xqZI2T9Kw",
        "colab": {
          "base_uri": "https://localhost:8080/"
        },
        "outputId": "2e99d1be-9922-4d3a-cd29-a9b46387f454"
      },
      "source": [
        "cnt = 0\n",
        "limit = 10\n",
        "middle_point = 5\n",
        "\n",
        "while cnt < limit:\n",
        "    print('Current Counter : ', cnt)\n",
        "    if cnt is middle_point:\n",
        "        print('STOP')\n",
        "        break\n",
        "    # always care about infinite loop!\n",
        "    cnt += 1\n",
        "\n",
        "print('Final Counter : ', cnt)"
      ],
      "execution_count": null,
      "outputs": [
        {
          "output_type": "stream",
          "name": "stdout",
          "text": [
            "Current Counter :  0\n",
            "Current Counter :  1\n",
            "Current Counter :  2\n",
            "Current Counter :  3\n",
            "Current Counter :  4\n",
            "Current Counter :  5\n",
            "STOP\n",
            "Final Counter :  5\n"
          ]
        }
      ]
    },
    {
      "cell_type": "markdown",
      "metadata": {
        "id": "3-g8AAI9T9R3"
      },
      "source": [
        "\n",
        "### Function Definition\n",
        "```\n",
        "def Name_of_Function(input1, input2, input3, ...) :\n",
        "    do something with input1, input2, input3,...\n",
        "    return something_you_want\n",
        "```"
      ]
    },
    {
      "cell_type": "code",
      "metadata": {
        "id": "pZOYBcZGUuBB"
      },
      "source": [
        "def Fibonacci(index):\n",
        "    '''\n",
        "    input : Generate a list until (index)-th of Fibonacci number.\n",
        "    '''\n",
        "    result = [1, 1]\n",
        "    if index < 1:\n",
        "        raise ValueError('Give the valid index, please')\n",
        "        return []\n",
        "\n",
        "    elif 1 <= index <= 2:\n",
        "        return result[:index]\n",
        "\n",
        "    else:\n",
        "        result = [1, 1]\n",
        "        for i in range(index-2):\n",
        "            result.append(result[-1]+result[-2])\n",
        "\n",
        "    return result"
      ],
      "execution_count": null,
      "outputs": []
    },
    {
      "cell_type": "code",
      "metadata": {
        "id": "T4cr2IV4UuIa",
        "colab": {
          "base_uri": "https://localhost:8080/"
        },
        "outputId": "f4b83c5e-59f7-4c6e-ea46-de16dc1e4625"
      },
      "source": [
        "inp_index = int(input('Which order of Fibonacci number you want? : '))\n",
        "print(Fibonacci(inp_index))"
      ],
      "execution_count": null,
      "outputs": [
        {
          "output_type": "stream",
          "name": "stdout",
          "text": [
            "Which order of Fibonacci number you want? : 9\n",
            "[1, 1, 2, 3, 5, 8, 13, 21, 34]\n"
          ]
        }
      ]
    },
    {
      "cell_type": "markdown",
      "metadata": {
        "id": "7lCxDwjxHEsa"
      },
      "source": [
        "### Class Definition\n",
        "```\n",
        "class ClassName(ParentClass):\n",
        "    def __init__(self, inp1, inp2, ...):\n",
        "        self.inp1 = inp1\n",
        "        self.inp2 = inp2\n",
        "        ...\n",
        "\n",
        "    def some_function_you_want(self, inp3, inp4):\n",
        "        return something_you_want\n",
        "```"
      ]
    },
    {
      "cell_type": "code",
      "metadata": {
        "id": "IVFLbLj6XZ42"
      },
      "source": [
        "class RockBand(object):\n",
        "    def __init__(self, name, num_members, start_year):\n",
        "        self.name = name\n",
        "        self.num_members = num_members\n",
        "        self.start_year = start_year\n",
        "        print('{} band created!'.format(self.name))\n",
        "\n",
        "    def add_new_member(self):\n",
        "        print('One member added to {}.'.format(self.name))\n",
        "        self.num_members += 1\n",
        "\n",
        "    def remove_one_member(self):\n",
        "        print('One member left from {}.'.format(self.name))\n",
        "        self.num_members -= 1\n",
        "\n",
        "    def change_name(self, new_name):\n",
        "        print('Band will change their name from {} to {}'.format(self.name, new_name))\n",
        "        self.name = new_name\n",
        "\n",
        "    def __str__(self):\n",
        "        return 'Band named %s, has %d members, and started from %d.' % (self.name, self.num_members, self.start_year)"
      ],
      "execution_count": null,
      "outputs": []
    },
    {
      "cell_type": "code",
      "metadata": {
        "id": "eusxct9lYl_P",
        "colab": {
          "base_uri": "https://localhost:8080/"
        },
        "outputId": "3efe9f8e-77b8-4de2-89a3-b94e4d18bb91"
      },
      "source": [
        "queen = RockBand('Queen', 4, 1970)\n",
        "print(queen)\n",
        "#\n",
        "led_zeppelin = RockBand('Led Zeppelin', 4, 1968)\n",
        "print(led_zeppelin)\n",
        "\n",
        "queen.remove_one_member()\n",
        "queen.add_new_member()\n",
        "queen.change_name('King')\n",
        "print(queen)"
      ],
      "execution_count": null,
      "outputs": [
        {
          "output_type": "stream",
          "name": "stdout",
          "text": [
            "Queen band created!\n",
            "Band named Queen, has 4 members, and started from 1970.\n",
            "Led Zeppelin band created!\n",
            "Band named Led Zeppelin, has 4 members, and started from 1968.\n",
            "One member left from Queen.\n",
            "One member added to Queen.\n",
            "Band will change their name from Queen to King\n",
            "Band named King, has 4 members, and started from 1970.\n"
          ]
        }
      ]
    }
  ]
}