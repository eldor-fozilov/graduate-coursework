{
  "nbformat": 4,
  "nbformat_minor": 0,
  "metadata": {
    "colab": {
      "provenance": []
    },
    "kernelspec": {
      "name": "python3",
      "display_name": "Python 3"
    },
    "language_info": {
      "name": "python"
    }
  },
  "cells": [
    {
      "cell_type": "markdown",
      "source": [
        "# Getting Started with NumPy and PyTorch\n",
        "\n"
      ],
      "metadata": {
        "id": "Xbyuk4vv9WUa"
      }
    },
    {
      "cell_type": "code",
      "execution_count": 1,
      "metadata": {
        "id": "hKOM00nZ8sLu"
      },
      "outputs": [],
      "source": [
        "import numpy as np\n",
        "import torch"
      ]
    },
    {
      "cell_type": "markdown",
      "source": [
        "## Why we need NumPy array?\n",
        "- To manipulte \"data\" more easily\n",
        "\n",
        "## What is PyTorch tensor?\n",
        "- It resembles NumPy's ndarray, but has more featrures\n",
        "    - Supports automatic differentiation\n",
        "    - Leverages GPUs to accelerate numerical computation\n",
        "        - NumPy only runs on CPUs!\n",
        "- These features make neural networks easy to code as well as fast to run"
      ],
      "metadata": {
        "id": "vnZHjZisDJFb"
      }
    },
    {
      "cell_type": "markdown",
      "source": [
        "#### What should we do if we want to sum up values inside two lists?"
      ],
      "metadata": {
        "id": "B7U_wJTkc4Qz"
      }
    },
    {
      "cell_type": "code",
      "source": [
        "data_list_1 = [[1, 3, 5], [2, 4, 6]]\n",
        "data_list_2 = [[-1, 0, -1], [0, -1, 0]]\n",
        "print('List 1: ', data_list_1)\n",
        "print('List 2: ', data_list_2)\n",
        "print()\n",
        "\n",
        "sum_list = data_list_1 + data_list_2\n",
        "print('When \"+\" two lists: ', sum_list)"
      ],
      "metadata": {
        "colab": {
          "base_uri": "https://localhost:8080/"
        },
        "id": "5cMaxcTiC_hC",
        "outputId": "bf783f3e-f8d8-4513-e11f-79cdda2b6f96"
      },
      "execution_count": 2,
      "outputs": [
        {
          "output_type": "stream",
          "name": "stdout",
          "text": [
            "List 1:  [[1, 3, 5], [2, 4, 6]]\n",
            "List 2:  [[-1, 0, -1], [0, -1, 0]]\n",
            "\n",
            "When \"+\" two lists:  [[1, 3, 5], [2, 4, 6], [-1, 0, -1], [0, -1, 0]]\n"
          ]
        }
      ]
    },
    {
      "cell_type": "markdown",
      "source": [
        "#### Make all as NUMPY array!"
      ],
      "metadata": {
        "id": "3bm6pVgrc9sf"
      }
    },
    {
      "cell_type": "code",
      "source": [
        "data_array_1 = np.array(data_list_1)\n",
        "data_array_2 = np.array(data_list_2)\n",
        "print('Array 1: ')\n",
        "print(data_array_1)\n",
        "print()\n",
        "\n",
        "print('Array 2: ')\n",
        "print(data_array_2)\n",
        "print()\n",
        "\n",
        "print('Transposed Array 2: ')\n",
        "print(data_array_2.T)"
      ],
      "metadata": {
        "colab": {
          "base_uri": "https://localhost:8080/"
        },
        "id": "KF9RhRl0OO1F",
        "outputId": "c7ea285b-0573-49b6-db51-5a84c5574d97"
      },
      "execution_count": 3,
      "outputs": [
        {
          "output_type": "stream",
          "name": "stdout",
          "text": [
            "Array 1: \n",
            "[[1 3 5]\n",
            " [2 4 6]]\n",
            "\n",
            "Array 2: \n",
            "[[-1  0 -1]\n",
            " [ 0 -1  0]]\n",
            "\n",
            "Transposed Array 2: \n",
            "[[-1  0]\n",
            " [ 0 -1]\n",
            " [-1  0]]\n"
          ]
        }
      ]
    },
    {
      "cell_type": "markdown",
      "source": [
        "#### Try various operaions with arrays!"
      ],
      "metadata": {
        "id": "NjOLZx4xdFKM"
      }
    },
    {
      "cell_type": "code",
      "source": [
        "sum_array = data_array_1 + data_array_2\n",
        "mul_array = data_array_1 * data_array_2\n",
        "matmul_array = np.matmul(data_array_1, data_array_2.T)\n",
        "\n",
        "print('When \"+\" two arrays: ')\n",
        "print(sum_array)\n",
        "print()\n",
        "\n",
        "print('When element-wise \"*\" two arrays: ')\n",
        "print(mul_array)\n",
        "print()\n",
        "\n",
        "print('When doing a matrix multiplication: ')\n",
        "print(matmul_array)"
      ],
      "metadata": {
        "colab": {
          "base_uri": "https://localhost:8080/"
        },
        "id": "UCpTwrRSORPt",
        "outputId": "15be8f0a-02b9-4c38-aec4-b2a67032c0f5"
      },
      "execution_count": 4,
      "outputs": [
        {
          "output_type": "stream",
          "name": "stdout",
          "text": [
            "When \"+\" two arrays: \n",
            "[[0 3 4]\n",
            " [2 3 6]]\n",
            "\n",
            "When element-wise \"*\" two arrays: \n",
            "[[-1  0 -5]\n",
            " [ 0 -4  0]]\n",
            "\n",
            "When doing a matrix multiplication: \n",
            "[[-6 -3]\n",
            " [-8 -4]]\n"
          ]
        }
      ]
    },
    {
      "cell_type": "markdown",
      "source": [
        "#### Make all as PyTorch tensor!"
      ],
      "metadata": {
        "id": "q5GTUsH6dNEk"
      }
    },
    {
      "cell_type": "code",
      "source": [
        "data_tensor_1 = torch.tensor(data_list_1)\n",
        "data_tensor_2 = torch.tensor(data_list_2)\n",
        "print('Tensor 1: ')\n",
        "print(data_tensor_1)\n",
        "print()\n",
        "\n",
        "print('Tensor 2: ')\n",
        "print(data_tensor_2)\n",
        "print()\n",
        "\n",
        "print('Transposed Tensor 2: ')\n",
        "print(data_tensor_2.T)"
      ],
      "metadata": {
        "colab": {
          "base_uri": "https://localhost:8080/"
        },
        "id": "MsZS1Ptkbcdy",
        "outputId": "c1a76d74-d585-47aa-9654-7e855b3590f4"
      },
      "execution_count": 5,
      "outputs": [
        {
          "output_type": "stream",
          "name": "stdout",
          "text": [
            "Tensor 1: \n",
            "tensor([[1, 3, 5],\n",
            "        [2, 4, 6]])\n",
            "\n",
            "Tensor 2: \n",
            "tensor([[-1,  0, -1],\n",
            "        [ 0, -1,  0]])\n",
            "\n",
            "Transposed Tensor 2: \n",
            "tensor([[-1,  0],\n",
            "        [ 0, -1],\n",
            "        [-1,  0]])\n"
          ]
        }
      ]
    },
    {
      "cell_type": "markdown",
      "source": [
        "#### Try various operaions with tensors!"
      ],
      "metadata": {
        "id": "7p-2SsuzdTms"
      }
    },
    {
      "cell_type": "code",
      "source": [
        "sum_tensor = data_tensor_1 + data_tensor_2\n",
        "mul_tensor = data_tensor_1 * data_tensor_2\n",
        "matmul_tensor = torch.matmul(data_tensor_1, data_tensor_2.T)\n",
        "\n",
        "print('When \"+\" two tensors: ')\n",
        "print(sum_tensor)\n",
        "print()\n",
        "\n",
        "print('When element-wise \"*\" two tensors: ')\n",
        "print(mul_tensor)\n",
        "print()\n",
        "\n",
        "print('When doing a matrix multiplication: ')\n",
        "print(matmul_tensor)"
      ],
      "metadata": {
        "colab": {
          "base_uri": "https://localhost:8080/"
        },
        "id": "ZEAQFyKCbnkC",
        "outputId": "fb40d37e-0384-46fb-91e7-fc0f0feb1b61"
      },
      "execution_count": 6,
      "outputs": [
        {
          "output_type": "stream",
          "name": "stdout",
          "text": [
            "When \"+\" two tensors: \n",
            "tensor([[0, 3, 4],\n",
            "        [2, 3, 6]])\n",
            "\n",
            "When element-wise \"*\" two tensors: \n",
            "tensor([[-1,  0, -5],\n",
            "        [ 0, -4,  0]])\n",
            "\n",
            "When doing a matrix multiplication: \n",
            "tensor([[-6, -3],\n",
            "        [-8, -4]])\n"
          ]
        }
      ]
    },
    {
      "cell_type": "markdown",
      "source": [
        "## Creating Arrays and Tensors"
      ],
      "metadata": {
        "id": "pBZJ-P0WE-jP"
      }
    },
    {
      "cell_type": "markdown",
      "source": [
        "#### Try various methods to create arrays!"
      ],
      "metadata": {
        "id": "erCJHat1dY30"
      }
    },
    {
      "cell_type": "code",
      "source": [
        "# a = np.arange(15, dtype=np.float32)\n",
        "# a = np.array([[0, 1, 2, 3, 4], [5, 6, 7, 8, 9], [10, 11, 12, 13, 14]], dtype=np.float32)\n",
        "# a = np.linspace(0, 14, 15)  # 15 numbers from 0 to 14\n",
        "# a = np.ones((3, 5))\n",
        "\n",
        "# a = np.zeros((3, 5), dtype = int)\n",
        "a = np.full((3, 5), 10)\n",
        "#\n",
        "# np.random.seed(0)\n",
        "# a = np.random.rand(3, 5)\n",
        "# a = np.random.randn(3, 5)\n",
        "\n",
        "print(a)\n",
        "print('Data Type: ', a.dtype)\n",
        "print()"
      ],
      "metadata": {
        "colab": {
          "base_uri": "https://localhost:8080/"
        },
        "id": "FFRsGrkvDZRa",
        "outputId": "cf6a63be-8cc5-4889-f766-61d546003d22"
      },
      "execution_count": 14,
      "outputs": [
        {
          "output_type": "stream",
          "name": "stdout",
          "text": [
            "[[10 10 10 10 10]\n",
            " [10 10 10 10 10]\n",
            " [10 10 10 10 10]]\n",
            "Data Type:  int64\n",
            "\n"
          ]
        }
      ]
    },
    {
      "cell_type": "markdown",
      "source": [
        "#### Try various methods to create tensors!"
      ],
      "metadata": {
        "id": "xPn_VDXmdc1G"
      }
    },
    {
      "cell_type": "code",
      "source": [
        "x = torch.arange(15, dtype=torch.float32)\n",
        "# x = torch.tensor([[0, 1, 2, 3, 4], [5, 6, 7, 8, 9], [10, 11, 12, 13, 14]], dtype=torch.float32)\n",
        "# x = torch.linspace(0, 14, 15)  # 15 numbers from 0 to 14\n",
        "# x = torch.ones((3, 5))\n",
        "\n",
        "# x = torch.zeros((3, 5), dtype = int)\n",
        "x = torch.full((3, 5), 10)\n",
        "\n",
        "torch.manual_seed(0)\n",
        "x = torch.rand(3, 5)\n",
        "# x = torch.randn(3, 5)\n",
        "\n",
        "print(x)\n",
        "print('Data Type: ', x.dtype)\n",
        "print()"
      ],
      "metadata": {
        "colab": {
          "base_uri": "https://localhost:8080/"
        },
        "id": "jmHOT3ILb4Eh",
        "outputId": "8524259b-970f-4914-8103-9d6be2a045f5"
      },
      "execution_count": 15,
      "outputs": [
        {
          "output_type": "stream",
          "name": "stdout",
          "text": [
            "tensor([[0.4963, 0.7682, 0.0885, 0.1320, 0.3074],\n",
            "        [0.6341, 0.4901, 0.8964, 0.4556, 0.6323],\n",
            "        [0.3489, 0.4017, 0.0223, 0.1689, 0.2939]])\n",
            "Data Type:  torch.float32\n",
            "\n"
          ]
        }
      ]
    },
    {
      "cell_type": "markdown",
      "source": [
        "#### Shape of Arrays : how do we reshape, transpose, and check shape info."
      ],
      "metadata": {
        "id": "2cMdtMb3dg8c"
      }
    },
    {
      "cell_type": "code",
      "source": [
        "### Watch out how array is reshaped. This would be different from the MATLAB\n",
        "a = np.arange(15)\n",
        "# a = a.reshape(3, 5)\n",
        "a = a.reshape(-1, 5)\n",
        "# a = np.arange(15).reshape(-1, 5) # -1 calculates the rest dimension automatically\n",
        "\n",
        "print(a)\n",
        "print(a.T) # transposing the array\n",
        "print(a.shape, a.ndim)\n",
        "print()\n",
        "\n",
        "print('When adding new axis in the middle')\n",
        "a = a[:, np.newaxis, :]\n",
        "# a = a[:, None, :]\n",
        "print(a.shape, a.ndim)\n",
        "print()\n",
        "\n",
        "print('Creating new ones or zeros array with same shape as given array')\n",
        "b = np.ones_like(a)\n",
        "# b = np.zeros_like(a)\n",
        "print(b.shape)\n",
        "print(a)\n",
        "print(b)"
      ],
      "metadata": {
        "colab": {
          "base_uri": "https://localhost:8080/"
        },
        "id": "GjYzzPu9OfB3",
        "outputId": "50343368-54d0-477b-fbec-f4e3e489c7b5"
      },
      "execution_count": 16,
      "outputs": [
        {
          "output_type": "stream",
          "name": "stdout",
          "text": [
            "[[ 0  1  2  3  4]\n",
            " [ 5  6  7  8  9]\n",
            " [10 11 12 13 14]]\n",
            "[[ 0  5 10]\n",
            " [ 1  6 11]\n",
            " [ 2  7 12]\n",
            " [ 3  8 13]\n",
            " [ 4  9 14]]\n",
            "(3, 5) 2\n",
            "\n",
            "When adding new axis in the middle\n",
            "(3, 1, 5) 3\n",
            "\n",
            "Creating new ones or zeros array with same shape as given array\n",
            "(3, 1, 5)\n",
            "[[[ 0  1  2  3  4]]\n",
            "\n",
            " [[ 5  6  7  8  9]]\n",
            "\n",
            " [[10 11 12 13 14]]]\n",
            "[[[1 1 1 1 1]]\n",
            "\n",
            " [[1 1 1 1 1]]\n",
            "\n",
            " [[1 1 1 1 1]]]\n"
          ]
        }
      ]
    },
    {
      "cell_type": "markdown",
      "source": [
        "#### Shape of Tensors : how do we reshape, transpose, and check shape info."
      ],
      "metadata": {
        "id": "X4AS5PnweKUt"
      }
    },
    {
      "cell_type": "code",
      "source": [
        "x = torch.arange(15)\n",
        "x = x.reshape(3, 5)\n",
        "# x = x.reshape(-1, 5)\n",
        "# x = torch.arange(15).reshape(-1, 5) # -1 calculates the rest dimension automatically\n",
        "\n",
        "print(x)\n",
        "print(x.T) # transposing the array\n",
        "print(x.shape, x.ndim, x.numel())\n",
        "print()\n",
        "\n",
        "print('When adding new axis in the middle')\n",
        "# x = x[:, None, :]\n",
        "x = x.unsqueeze(1)\n",
        "print(x.shape, x.ndim, x.numel())\n",
        "print()\n",
        "\n",
        "print('Creating new ones or zeros array with same shape as given array')\n",
        "y = torch.ones_like(x)\n",
        "# y = torch.zeros_like(x)\n",
        "print(y.shape)\n",
        "print(y)"
      ],
      "metadata": {
        "colab": {
          "base_uri": "https://localhost:8080/"
        },
        "id": "BrhANpWzOled",
        "outputId": "c92b5299-770f-4c10-da1d-87abacbb97ba"
      },
      "execution_count": 19,
      "outputs": [
        {
          "output_type": "stream",
          "name": "stdout",
          "text": [
            "tensor([[ 0,  1,  2,  3,  4],\n",
            "        [ 5,  6,  7,  8,  9],\n",
            "        [10, 11, 12, 13, 14]])\n",
            "tensor([[ 0,  5, 10],\n",
            "        [ 1,  6, 11],\n",
            "        [ 2,  7, 12],\n",
            "        [ 3,  8, 13],\n",
            "        [ 4,  9, 14]])\n",
            "torch.Size([3, 5]) 2 15\n",
            "\n",
            "When adding new axis in the middle\n",
            "torch.Size([3, 1, 5]) 3 15\n",
            "\n",
            "Creating new ones or zeros array with same shape as given array\n",
            "torch.Size([3, 1, 5])\n",
            "tensor([[[1, 1, 1, 1, 1]],\n",
            "\n",
            "        [[1, 1, 1, 1, 1]],\n",
            "\n",
            "        [[1, 1, 1, 1, 1]]])\n"
          ]
        }
      ]
    },
    {
      "cell_type": "markdown",
      "source": [
        "## Indexing and Slicing"
      ],
      "metadata": {
        "id": "SHSNJvjQImnN"
      }
    },
    {
      "cell_type": "code",
      "source": [
        "a = np.arange(25).reshape(-1, 5)\n",
        "print('Original Array')\n",
        "print(a)\n",
        "print()\n",
        "x = torch.arange(25).reshape(-1, 5)\n",
        "print('Original Tensor')\n",
        "print(x)\n",
        "print()"
      ],
      "metadata": {
        "colab": {
          "base_uri": "https://localhost:8080/"
        },
        "id": "RkargpgHFHPw",
        "outputId": "a2ea5056-e2cd-47f2-9d65-12cc938286a9"
      },
      "execution_count": 20,
      "outputs": [
        {
          "output_type": "stream",
          "name": "stdout",
          "text": [
            "Original Array\n",
            "[[ 0  1  2  3  4]\n",
            " [ 5  6  7  8  9]\n",
            " [10 11 12 13 14]\n",
            " [15 16 17 18 19]\n",
            " [20 21 22 23 24]]\n",
            "\n",
            "Original Tensor\n",
            "tensor([[ 0,  1,  2,  3,  4],\n",
            "        [ 5,  6,  7,  8,  9],\n",
            "        [10, 11, 12, 13, 14],\n",
            "        [15, 16, 17, 18, 19],\n",
            "        [20, 21, 22, 23, 24]])\n",
            "\n"
          ]
        }
      ]
    },
    {
      "cell_type": "markdown",
      "source": [
        "#### Slicing array and tensor"
      ],
      "metadata": {
        "id": "f6oLxATEfAXX"
      }
    },
    {
      "cell_type": "code",
      "source": [
        "target = a\n",
        "# target = x\n",
        "\n",
        "print('Last row of target: ', target[-1])\n",
        "print('Second and Third rows of target: ')\n",
        "print(target[1:3])\n",
        "print()\n",
        "\n",
        "print('Slice the middle 3x3 of target')\n",
        "partial = target[1:4, 1:4]\n",
        "print(partial)\n",
        "print()\n",
        "\n"
      ],
      "metadata": {
        "colab": {
          "base_uri": "https://localhost:8080/"
        },
        "id": "DfHO1CvLOpno",
        "outputId": "12609edd-086c-4923-b14b-cf0494fb7ce4"
      },
      "execution_count": 21,
      "outputs": [
        {
          "output_type": "stream",
          "name": "stdout",
          "text": [
            "Last row of target:  [20 21 22 23 24]\n",
            "Second and Third rows of target: \n",
            "[[ 5  6  7  8  9]\n",
            " [10 11 12 13 14]]\n",
            "\n",
            "Slice the middle 3x3 of target\n",
            "[[ 6  7  8]\n",
            " [11 12 13]\n",
            " [16 17 18]]\n",
            "\n"
          ]
        }
      ]
    },
    {
      "cell_type": "markdown",
      "source": [
        "#### Write elements to the array and tensor"
      ],
      "metadata": {
        "id": "-ikUvFF4fP9H"
      }
    },
    {
      "cell_type": "code",
      "source": [
        "target = a\n",
        "# target = x\n",
        "\n",
        "target[1, 2] = 17\n",
        "print('After writing value on (1, 2)')\n",
        "print(target)\n",
        "print()\n",
        "\n",
        "target[:2, :] = 12\n",
        "print('After writing values on 1st and 2nd rows')\n",
        "print(target)"
      ],
      "metadata": {
        "colab": {
          "base_uri": "https://localhost:8080/"
        },
        "id": "WNh3jZcfOsW8",
        "outputId": "b9c2113e-29fc-448d-bf6c-0c0b06436e82"
      },
      "execution_count": null,
      "outputs": [
        {
          "output_type": "stream",
          "name": "stdout",
          "text": [
            "After writing value on (1, 2)\n",
            "[[ 0  0  0  0  0]\n",
            " [ 0  0 17  0  0]\n",
            " [10 11 12 13 14]\n",
            " [15 16 17 18 19]\n",
            " [20 21 22 23 24]]\n",
            "\n",
            "After writing values on 1st and 2nd rows\n",
            "[[12 12 12 12 12]\n",
            " [12 12 12 12 12]\n",
            " [10 11 12 13 14]\n",
            " [15 16 17 18 19]\n",
            " [20 21 22 23 24]]\n"
          ]
        }
      ]
    },
    {
      "cell_type": "markdown",
      "source": [
        "## Operations"
      ],
      "metadata": {
        "id": "8oCiCF4rJ4WI"
      }
    },
    {
      "cell_type": "markdown",
      "source": [
        "#### Exponential and log"
      ],
      "metadata": {
        "id": "HRhlvqgTfj-g"
      }
    },
    {
      "cell_type": "code",
      "source": [
        "a = np.random.randn(3, 3)\n",
        "print('original array')\n",
        "print(a)\n",
        "print()\n",
        "print('after exponential')\n",
        "print(np.exp(a))\n",
        "print()\n",
        "print('after log to exponential == original array')\n",
        "print(np.log(np.exp(a)))\n",
        "print()\n",
        "print('='*50)\n",
        "\n",
        "x = torch.randn(3, 3)\n",
        "print('original tensor')\n",
        "print(x)\n",
        "print()\n",
        "print('after exponential')\n",
        "print(torch.exp(x))\n",
        "print()\n",
        "print('after log to exponential == original tensor')\n",
        "print(torch.log(torch.exp(x)))\n",
        "print()"
      ],
      "metadata": {
        "colab": {
          "base_uri": "https://localhost:8080/"
        },
        "id": "HOFuLGLuJvCl",
        "outputId": "0fc209e6-17c1-48bb-eed7-aa8ffa0856f5"
      },
      "execution_count": 31,
      "outputs": [
        {
          "output_type": "stream",
          "name": "stdout",
          "text": [
            "original array\n",
            "[[ 1.76405235  0.40015721  0.97873798]\n",
            " [ 2.2408932   1.86755799 -0.97727788]\n",
            " [ 0.95008842 -0.15135721 -0.10321885]]\n",
            "\n",
            "after exponential\n",
            "[[5.83603919 1.49205924 2.66109578]\n",
            " [9.40172515 6.47247125 0.37633413]\n",
            " [2.58593829 0.85954061 0.90192956]]\n",
            "\n",
            "after log to exponential == original array\n",
            "[[ 1.76405235  0.40015721  0.97873798]\n",
            " [ 2.2408932   1.86755799 -0.97727788]\n",
            " [ 0.95008842 -0.15135721 -0.10321885]]\n",
            "\n",
            "==================================================\n",
            "original tensor\n",
            "tensor([[ 0.6035,  0.8110, -0.0451],\n",
            "        [ 0.8797,  1.0482, -0.0445],\n",
            "        [-0.7229,  2.8663, -0.5655]])\n",
            "\n",
            "after exponential\n",
            "tensor([[ 1.8286,  2.2501,  0.9559],\n",
            "        [ 2.4102,  2.8525,  0.9565],\n",
            "        [ 0.4854, 17.5726,  0.5681]])\n",
            "\n",
            "after log to exponential == original tensor\n",
            "tensor([[ 0.6035,  0.8110, -0.0451],\n",
            "        [ 0.8797,  1.0482, -0.0445],\n",
            "        [-0.7229,  2.8663, -0.5655]])\n",
            "\n"
          ]
        }
      ]
    },
    {
      "cell_type": "markdown",
      "source": [
        "#### Numerical Operations"
      ],
      "metadata": {
        "id": "YskXcBBmf1O3"
      }
    },
    {
      "cell_type": "code",
      "source": [
        "a = np.array([1, 2, 3, 4], dtype=np.float32)\n",
        "b = np.array([3, 3, 3, 3], dtype=np.float32)\n",
        "print(a+b)\n",
        "print(a-b)\n",
        "print(a*b)\n",
        "print(a/b)\n",
        "print(a**b)\n",
        "print()\n",
        "print('='*50)\n",
        "\n",
        "x = torch.tensor([1, 2, 3, 4], dtype=torch.float32)\n",
        "y = torch.tensor([3, 3, 3, 3], dtype=torch.float32)\n",
        "print(x+y)\n",
        "print(x-y)\n",
        "print(x*y)\n",
        "print(x/y)\n",
        "print(x**y)"
      ],
      "metadata": {
        "colab": {
          "base_uri": "https://localhost:8080/"
        },
        "id": "j2Wv5uiCNteh",
        "outputId": "86460811-4904-442b-9163-d5283939ee53"
      },
      "execution_count": 32,
      "outputs": [
        {
          "output_type": "stream",
          "name": "stdout",
          "text": [
            "[4. 5. 6. 7.]\n",
            "[-2. -1.  0.  1.]\n",
            "[ 3.  6.  9. 12.]\n",
            "[0.33333334 0.6666667  1.         1.3333334 ]\n",
            "[ 1.  8. 27. 64.]\n",
            "\n",
            "==================================================\n",
            "tensor([4., 5., 6., 7.])\n",
            "tensor([-2., -1.,  0.,  1.])\n",
            "tensor([ 3.,  6.,  9., 12.])\n",
            "tensor([0.3333, 0.6667, 1.0000, 1.3333])\n",
            "tensor([ 1.,  8., 27., 64.])\n"
          ]
        }
      ]
    },
    {
      "cell_type": "markdown",
      "source": [
        "#### Concatenation: NumPy Array"
      ],
      "metadata": {
        "id": "twQ1-9FfgEjw"
      }
    },
    {
      "cell_type": "code",
      "source": [
        "a = np.arange(12, dtype=np.float32).reshape(3, 4)\n",
        "b = np.array([[1, 1, 2, 2], [4, 4, 6, 6], [8, 8, 10, 10]], dtype=np.float32)\n",
        "\n",
        "print('vertical stack - using np.concatenate')\n",
        "print(np.concatenate([a, b], axis=0))\n",
        "print()\n",
        "\n",
        "print('vertical stack - using np.vstack')\n",
        "print(np.vstack([a, b]))\n",
        "print()\n",
        "\n",
        "print('horizontal stack - using np.concatenate')\n",
        "print(np.concatenate([a, b], axis=1))\n",
        "print()\n",
        "\n",
        "print('horizontal stack - using np.hstack')\n",
        "print(np.hstack([a, b]))\n",
        "print()\n",
        "\n",
        "print(\"z-axis stack\")\n",
        "print(np.concatenate([a[:, :, None], b[:, :, None]], axis=-1))"
      ],
      "metadata": {
        "colab": {
          "base_uri": "https://localhost:8080/"
        },
        "id": "69GDJf1_P42K",
        "outputId": "4681b4c5-76dc-4bff-8199-56d5c0c067b5"
      },
      "execution_count": 39,
      "outputs": [
        {
          "output_type": "stream",
          "name": "stdout",
          "text": [
            "vertical stack - using np.concatenate\n",
            "[[ 0.  1.  2.  3.]\n",
            " [ 4.  5.  6.  7.]\n",
            " [ 8.  9. 10. 11.]\n",
            " [ 1.  1.  2.  2.]\n",
            " [ 4.  4.  6.  6.]\n",
            " [ 8.  8. 10. 10.]]\n",
            "\n",
            "vertical stack - using np.vstack\n",
            "[[ 0.  1.  2.  3.]\n",
            " [ 4.  5.  6.  7.]\n",
            " [ 8.  9. 10. 11.]\n",
            " [ 1.  1.  2.  2.]\n",
            " [ 4.  4.  6.  6.]\n",
            " [ 8.  8. 10. 10.]]\n",
            "\n",
            "horizontal stack - using np.concatenate\n",
            "[[ 0.  1.  2.  3.  1.  1.  2.  2.]\n",
            " [ 4.  5.  6.  7.  4.  4.  6.  6.]\n",
            " [ 8.  9. 10. 11.  8.  8. 10. 10.]]\n",
            "\n",
            "horizontal stack - using np.hstack\n",
            "[[ 0.  1.  2.  3.  1.  1.  2.  2.]\n",
            " [ 4.  5.  6.  7.  4.  4.  6.  6.]\n",
            " [ 8.  9. 10. 11.  8.  8. 10. 10.]]\n",
            "\n",
            "z-axis stack\n",
            "[[[ 0.  1.]\n",
            "  [ 1.  1.]\n",
            "  [ 2.  2.]\n",
            "  [ 3.  2.]]\n",
            "\n",
            " [[ 4.  4.]\n",
            "  [ 5.  4.]\n",
            "  [ 6.  6.]\n",
            "  [ 7.  6.]]\n",
            "\n",
            " [[ 8.  8.]\n",
            "  [ 9.  8.]\n",
            "  [10. 10.]\n",
            "  [11. 10.]]]\n"
          ]
        }
      ]
    },
    {
      "cell_type": "markdown",
      "source": [
        "#### Concatenation: PyTorch Tensor"
      ],
      "metadata": {
        "id": "0l0ZMdRpgIzo"
      }
    },
    {
      "cell_type": "code",
      "source": [
        "x = torch.arange(12, dtype=torch.float32).reshape(3, 4)\n",
        "y = torch.tensor([[1, 1, 2, 2], [4, 4, 6, 6], [8, 8, 10, 10]], dtype=torch.float32)\n",
        "\n",
        "print('vertical stack - using torch.cat')\n",
        "print(torch.cat([x, y], dim=0))\n",
        "print()\n",
        "\n",
        "print('vertical stack - using torch.vstack')\n",
        "print(torch.vstack([x, y]))\n",
        "print()\n",
        "\n",
        "print('horizontal stack - using torch.cat')\n",
        "print(torch.cat([x, y], dim=1))\n",
        "print()\n",
        "\n",
        "print('horizontal stack - using torch.hstack')\n",
        "print(torch.hstack([x, y]))\n",
        "print()"
      ],
      "metadata": {
        "colab": {
          "base_uri": "https://localhost:8080/"
        },
        "id": "FWdec6IogM8w",
        "outputId": "a5cdb88a-47e8-4ba9-b632-d6800175de53"
      },
      "execution_count": 40,
      "outputs": [
        {
          "output_type": "stream",
          "name": "stdout",
          "text": [
            "vertical stack - using torch.cat\n",
            "tensor([[ 0.,  1.,  2.,  3.],\n",
            "        [ 4.,  5.,  6.,  7.],\n",
            "        [ 8.,  9., 10., 11.],\n",
            "        [ 1.,  1.,  2.,  2.],\n",
            "        [ 4.,  4.,  6.,  6.],\n",
            "        [ 8.,  8., 10., 10.]])\n",
            "\n",
            "vertical stack - using torch.vstack\n",
            "tensor([[ 0.,  1.,  2.,  3.],\n",
            "        [ 4.,  5.,  6.,  7.],\n",
            "        [ 8.,  9., 10., 11.],\n",
            "        [ 1.,  1.,  2.,  2.],\n",
            "        [ 4.,  4.,  6.,  6.],\n",
            "        [ 8.,  8., 10., 10.]])\n",
            "\n",
            "horizontal stack - using torch.cat\n",
            "tensor([[ 0.,  1.,  2.,  3.,  1.,  1.,  2.,  2.],\n",
            "        [ 4.,  5.,  6.,  7.,  4.,  4.,  6.,  6.],\n",
            "        [ 8.,  9., 10., 11.,  8.,  8., 10., 10.]])\n",
            "\n",
            "horizontal stack - using torch.hstack\n",
            "tensor([[ 0.,  1.,  2.,  3.,  1.,  1.,  2.,  2.],\n",
            "        [ 4.,  5.,  6.,  7.,  4.,  4.,  6.,  6.],\n",
            "        [ 8.,  9., 10., 11.,  8.,  8., 10., 10.]])\n",
            "\n"
          ]
        }
      ]
    },
    {
      "cell_type": "markdown",
      "source": [
        "#### Element-wise Logical Statements"
      ],
      "metadata": {
        "id": "r_jCiHl2gmdR"
      }
    },
    {
      "cell_type": "code",
      "source": [
        "### element-wise logical statements\n",
        "a = np.arange(12, dtype=np.float32).reshape(3, 4)\n",
        "b = np.array([[1, 1, 2, 2], [4, 4, 6, 6], [8, 8, 10, 10]], dtype=np.float32)\n",
        "\n",
        "x = torch.arange(12, dtype=torch.float32).reshape(3, 4)\n",
        "y = torch.tensor([[1, 1, 2, 2], [4, 4, 6, 6], [8, 8, 10, 10]], dtype=torch.float32)\n",
        "\n",
        "###\n",
        "\n",
        "t1 = x\n",
        "t2 = y\n",
        "\n",
        "print('target 1')\n",
        "print(t1)\n",
        "print()\n",
        "\n",
        "print('target 2')\n",
        "print(t2)\n",
        "print()\n",
        "\n",
        "print('element-wise comparison: check equal')\n",
        "print(t1 == t2)\n",
        "print(torch.sum(t1==t2)/(t1==t2).numel())\n",
        "print()\n",
        "\n",
        "print('element-wise comparison: check t1 > t2')\n",
        "print(t1 > t2)\n",
        "print()\n",
        "\n",
        "print('element-wise comparison: check t1 < t2')\n",
        "print(t1 < t2)\n",
        "print()\n"
      ],
      "metadata": {
        "colab": {
          "base_uri": "https://localhost:8080/"
        },
        "id": "RoY93Q9mQn4n",
        "outputId": "6c8fa3f8-c7c0-4a2e-d6ea-9c74f60b9838"
      },
      "execution_count": 41,
      "outputs": [
        {
          "output_type": "stream",
          "name": "stdout",
          "text": [
            "target 1\n",
            "tensor([[ 0.,  1.,  2.,  3.],\n",
            "        [ 4.,  5.,  6.,  7.],\n",
            "        [ 8.,  9., 10., 11.]])\n",
            "\n",
            "target 2\n",
            "tensor([[ 1.,  1.,  2.,  2.],\n",
            "        [ 4.,  4.,  6.,  6.],\n",
            "        [ 8.,  8., 10., 10.]])\n",
            "\n",
            "element-wise comparison: check equal\n",
            "tensor([[False,  True,  True, False],\n",
            "        [ True, False,  True, False],\n",
            "        [ True, False,  True, False]])\n",
            "tensor(0.5000)\n",
            "\n",
            "element-wise comparison: check t1 > t2\n",
            "tensor([[False, False, False,  True],\n",
            "        [False,  True, False,  True],\n",
            "        [False,  True, False,  True]])\n",
            "\n",
            "element-wise comparison: check t1 < t2\n",
            "tensor([[ True, False, False, False],\n",
            "        [False, False, False, False],\n",
            "        [False, False, False, False]])\n",
            "\n"
          ]
        }
      ]
    },
    {
      "cell_type": "markdown",
      "source": [
        "#### Sum, Max, Min, Mean, Std"
      ],
      "metadata": {
        "id": "snz7JmLsy0MX"
      }
    },
    {
      "cell_type": "code",
      "source": [
        "a = np.arange(12, dtype=np.float32).reshape(3, 4)\n",
        "x = torch.arange(12, dtype=torch.float32).reshape(3, 4)\n",
        "\n",
        "target = x\n",
        "\n",
        "print(target.sum())\n",
        "print(target.max())\n",
        "print(target.min())\n",
        "print(target.mean())\n",
        "print(target.std())"
      ],
      "metadata": {
        "colab": {
          "base_uri": "https://localhost:8080/"
        },
        "id": "SQJpmARDRKg3",
        "outputId": "99007498-52a5-4778-f698-5a14a80a2ab5"
      },
      "execution_count": 42,
      "outputs": [
        {
          "output_type": "stream",
          "name": "stdout",
          "text": [
            "tensor(66.)\n",
            "tensor(11.)\n",
            "tensor(0.)\n",
            "tensor(5.5000)\n",
            "tensor(3.6056)\n"
          ]
        }
      ]
    },
    {
      "cell_type": "markdown",
      "source": [
        "#### Broadcasting\n",
        "![broadcasting.png](data:image/png;base64,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)"
      ],
      "metadata": {
        "id": "ChIHvS6PRpNT"
      }
    },
    {
      "cell_type": "code",
      "source": [
        "a = np.arange(3).reshape(3, 1)\n",
        "b = np.arange(2).reshape(1, 2)\n",
        "\n",
        "x = torch.arange(3).reshape(3, 1)\n",
        "y = torch.arange(2).reshape(1, 2)\n",
        "\n",
        "t1 = a\n",
        "t2 = b\n",
        "\n",
        "print(t1)\n",
        "print(t2)\n",
        "print()\n",
        "\n",
        "print(t1+t2)"
      ],
      "metadata": {
        "colab": {
          "base_uri": "https://localhost:8080/"
        },
        "id": "rsDNXorSRecq",
        "outputId": "eed44833-4b4b-451b-8a94-763782f5cd87"
      },
      "execution_count": 43,
      "outputs": [
        {
          "output_type": "stream",
          "name": "stdout",
          "text": [
            "[[0]\n",
            " [1]\n",
            " [2]]\n",
            "[[0 1]]\n",
            "\n",
            "[[0 1]\n",
            " [1 2]\n",
            " [2 3]]\n"
          ]
        }
      ]
    },
    {
      "cell_type": "markdown",
      "source": [
        "#### Address and In-place operation"
      ],
      "metadata": {
        "id": "467tV4KvRtg6"
      }
    },
    {
      "cell_type": "code",
      "source": [
        "a = np.arange(3).reshape(3, 1)\n",
        "b = np.arange(2).reshape(1, 2)\n",
        "\n",
        "x = torch.arange(3).reshape(3, 1)\n",
        "y = torch.arange(2).reshape(1, 2)\n",
        "\n",
        "t1 = x\n",
        "t2 = y\n",
        "\n",
        "before = id(t2)\n",
        "t2 = t1+t2\n",
        "print(id(t2) == before)\n",
        "print(t2.shape)"
      ],
      "metadata": {
        "colab": {
          "base_uri": "https://localhost:8080/"
        },
        "id": "_c0tqx1_RudK",
        "outputId": "806166ed-2908-4241-e377-3f605e0a7a90"
      },
      "execution_count": 44,
      "outputs": [
        {
          "output_type": "stream",
          "name": "stdout",
          "text": [
            "False\n",
            "torch.Size([3, 2])\n"
          ]
        }
      ]
    },
    {
      "cell_type": "code",
      "source": [
        "# X[:] = <expression> assigns the result from an operation to a previously allocated array X.\n",
        "t3 = torch.zeros_like(t2)\n",
        "print('id(c): ', id(t3))\n",
        "t3[:] = t1+t2\n",
        "print('id(c): ', id(t3))"
      ],
      "metadata": {
        "colab": {
          "base_uri": "https://localhost:8080/"
        },
        "id": "AA7tzu-oV2qd",
        "outputId": "3f9550c8-d47c-4e38-8958-3e3e27f8de33"
      },
      "execution_count": 45,
      "outputs": [
        {
          "output_type": "stream",
          "name": "stdout",
          "text": [
            "id(c):  136840816554880\n",
            "id(c):  136840816554880\n"
          ]
        }
      ]
    },
    {
      "cell_type": "code",
      "source": [
        "a = np.arange(3)\n",
        "b = np.arange(3)*2\n",
        "\n",
        "before = id(a)\n",
        "a += b # in-place operation.\n",
        "print(id(a) == before)"
      ],
      "metadata": {
        "colab": {
          "base_uri": "https://localhost:8080/"
        },
        "id": "K4_qZSWuWAul",
        "outputId": "fb35bcb3-0773-4671-9982-149772412bc5"
      },
      "execution_count": 46,
      "outputs": [
        {
          "output_type": "stream",
          "name": "stdout",
          "text": [
            "True\n"
          ]
        }
      ]
    },
    {
      "cell_type": "markdown",
      "source": [
        "#### Type Conversion"
      ],
      "metadata": {
        "id": "3ykshDBiRydC"
      }
    },
    {
      "cell_type": "code",
      "source": [
        "x = torch.arange(3)\n",
        "a = x.numpy()\n",
        "b = torch.from_numpy(a)\n",
        "#\n",
        "# if x results from network and that network is on GPU\n",
        "# a = x.detach().cpu().numpy()\n",
        "print(type(a), type(b))"
      ],
      "metadata": {
        "colab": {
          "base_uri": "https://localhost:8080/"
        },
        "id": "KH4DfBULRzjN",
        "outputId": "3630bd72-60d7-4785-af88-34c9b4b61e08"
      },
      "execution_count": 47,
      "outputs": [
        {
          "output_type": "stream",
          "name": "stdout",
          "text": [
            "<class 'numpy.ndarray'> <class 'torch.Tensor'>\n"
          ]
        }
      ]
    },
    {
      "cell_type": "code",
      "source": [
        "a = torch.tensor([3.5], dtype=torch.float)\n",
        "print(a)\n",
        "print(a.item())\n",
        "print(float(a))\n",
        "print(int(a))"
      ],
      "metadata": {
        "colab": {
          "base_uri": "https://localhost:8080/"
        },
        "id": "eHsIRBnlWgIF",
        "outputId": "ea4dc2eb-aa07-4d71-e8fc-f9aa27805fa1"
      },
      "execution_count": 48,
      "outputs": [
        {
          "output_type": "stream",
          "name": "stdout",
          "text": [
            "tensor([3.5000])\n",
            "3.5\n",
            "3.5\n",
            "3\n"
          ]
        }
      ]
    }
  ]
}