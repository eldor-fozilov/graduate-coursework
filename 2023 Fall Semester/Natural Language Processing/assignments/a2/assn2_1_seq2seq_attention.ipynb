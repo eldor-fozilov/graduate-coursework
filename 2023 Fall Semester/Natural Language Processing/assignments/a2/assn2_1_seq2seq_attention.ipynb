{
  "cells": [
    {
      "cell_type": "markdown",
      "metadata": {
        "id": "5GzL8nGqDUkq"
      },
      "source": [
        "# **Implementing sequence-to-sequence model with attention**\n",
        "- Please make sure you use GPU by setting the menu: Runtime > change runtime type > GPU"
      ]
    },
    {
      "cell_type": "markdown",
      "metadata": {
        "id": "t8b4PpSBDUkt"
      },
      "source": [
        "## **Preparing Data**"
      ]
    },
    {
      "cell_type": "code",
      "execution_count": 1,
      "metadata": {
        "collapsed": true,
        "colab": {
          "base_uri": "https://localhost:8080/"
        },
        "id": "ehK1VZkaDUku",
        "outputId": "21ed82cf-4b2a-4e2d-9230-2bc13fba4bf3"
      },
      "outputs": [
        {
          "output_type": "stream",
          "name": "stdout",
          "text": [
            "Reading package lists... Done\n",
            "Building dependency tree... Done\n",
            "Reading state information... Done\n",
            "The following additional packages will be installed:\n",
            "  libpython3.7-minimal libpython3.7-stdlib mailcap mime-support python3.7-minimal\n",
            "Suggested packages:\n",
            "  python3.7-venv binfmt-support\n",
            "The following NEW packages will be installed:\n",
            "  libpython3.7-minimal libpython3.7-stdlib mailcap mime-support python3.7 python3.7-minimal\n",
            "0 upgraded, 6 newly installed, 0 to remove and 6 not upgraded.\n",
            "Need to get 4,698 kB of archives.\n",
            "After this operation, 17.8 MB of additional disk space will be used.\n",
            "Get:1 http://archive.ubuntu.com/ubuntu jammy/main amd64 mailcap all 3.70+nmu1ubuntu1 [23.8 kB]\n",
            "Get:2 http://archive.ubuntu.com/ubuntu jammy/main amd64 mime-support all 3.66 [3,696 B]\n",
            "Get:3 https://ppa.launchpadcontent.net/deadsnakes/ppa/ubuntu jammy/main amd64 libpython3.7-minimal amd64 3.7.17-1+jammy1 [608 kB]\n",
            "Get:4 https://ppa.launchpadcontent.net/deadsnakes/ppa/ubuntu jammy/main amd64 python3.7-minimal amd64 3.7.17-1+jammy1 [1,837 kB]\n",
            "Get:5 https://ppa.launchpadcontent.net/deadsnakes/ppa/ubuntu jammy/main amd64 libpython3.7-stdlib amd64 3.7.17-1+jammy1 [1,864 kB]\n",
            "Get:6 https://ppa.launchpadcontent.net/deadsnakes/ppa/ubuntu jammy/main amd64 python3.7 amd64 3.7.17-1+jammy1 [362 kB]\n",
            "Fetched 4,698 kB in 2s (2,819 kB/s)\n",
            "Selecting previously unselected package libpython3.7-minimal:amd64.\n",
            "(Reading database ... 120872 files and directories currently installed.)\n",
            "Preparing to unpack .../0-libpython3.7-minimal_3.7.17-1+jammy1_amd64.deb ...\n",
            "Unpacking libpython3.7-minimal:amd64 (3.7.17-1+jammy1) ...\n",
            "Selecting previously unselected package python3.7-minimal.\n",
            "Preparing to unpack .../1-python3.7-minimal_3.7.17-1+jammy1_amd64.deb ...\n",
            "Unpacking python3.7-minimal (3.7.17-1+jammy1) ...\n",
            "Selecting previously unselected package mailcap.\n",
            "Preparing to unpack .../2-mailcap_3.70+nmu1ubuntu1_all.deb ...\n",
            "Unpacking mailcap (3.70+nmu1ubuntu1) ...\n",
            "Selecting previously unselected package mime-support.\n",
            "Preparing to unpack .../3-mime-support_3.66_all.deb ...\n",
            "Unpacking mime-support (3.66) ...\n",
            "Selecting previously unselected package libpython3.7-stdlib:amd64.\n",
            "Preparing to unpack .../4-libpython3.7-stdlib_3.7.17-1+jammy1_amd64.deb ...\n",
            "Unpacking libpython3.7-stdlib:amd64 (3.7.17-1+jammy1) ...\n",
            "Selecting previously unselected package python3.7.\n",
            "Preparing to unpack .../5-python3.7_3.7.17-1+jammy1_amd64.deb ...\n",
            "Unpacking python3.7 (3.7.17-1+jammy1) ...\n",
            "Setting up libpython3.7-minimal:amd64 (3.7.17-1+jammy1) ...\n",
            "Setting up python3.7-minimal (3.7.17-1+jammy1) ...\n",
            "Setting up mailcap (3.70+nmu1ubuntu1) ...\n",
            "Setting up mime-support (3.66) ...\n",
            "Setting up libpython3.7-stdlib:amd64 (3.7.17-1+jammy1) ...\n",
            "Setting up python3.7 (3.7.17-1+jammy1) ...\n",
            "Processing triggers for man-db (2.10.2-1) ...\n",
            "Collecting torchtext==0.6.0\n",
            "  Downloading torchtext-0.6.0-py3-none-any.whl (64 kB)\n",
            "\u001b[2K     \u001b[90m━━━━━━━━━━━━━━━━━━━━━━━━━━━━━━━━━━━━━━━━\u001b[0m \u001b[32m64.2/64.2 kB\u001b[0m \u001b[31m4.0 MB/s\u001b[0m eta \u001b[36m0:00:00\u001b[0m\n",
            "\u001b[?25hRequirement already satisfied: tqdm in /usr/local/lib/python3.10/dist-packages (from torchtext==0.6.0) (4.66.1)\n",
            "Requirement already satisfied: requests in /usr/local/lib/python3.10/dist-packages (from torchtext==0.6.0) (2.31.0)\n",
            "Requirement already satisfied: torch in /usr/local/lib/python3.10/dist-packages (from torchtext==0.6.0) (2.1.0+cu118)\n",
            "Requirement already satisfied: numpy in /usr/local/lib/python3.10/dist-packages (from torchtext==0.6.0) (1.23.5)\n",
            "Requirement already satisfied: six in /usr/local/lib/python3.10/dist-packages (from torchtext==0.6.0) (1.16.0)\n",
            "Collecting sentencepiece (from torchtext==0.6.0)\n",
            "  Downloading sentencepiece-0.1.99-cp310-cp310-manylinux_2_17_x86_64.manylinux2014_x86_64.whl (1.3 MB)\n",
            "\u001b[2K     \u001b[90m━━━━━━━━━━━━━━━━━━━━━━━━━━━━━━━━━━━━━━━━\u001b[0m \u001b[32m1.3/1.3 MB\u001b[0m \u001b[31m13.9 MB/s\u001b[0m eta \u001b[36m0:00:00\u001b[0m\n",
            "\u001b[?25hRequirement already satisfied: charset-normalizer<4,>=2 in /usr/local/lib/python3.10/dist-packages (from requests->torchtext==0.6.0) (3.3.2)\n",
            "Requirement already satisfied: idna<4,>=2.5 in /usr/local/lib/python3.10/dist-packages (from requests->torchtext==0.6.0) (3.4)\n",
            "Requirement already satisfied: urllib3<3,>=1.21.1 in /usr/local/lib/python3.10/dist-packages (from requests->torchtext==0.6.0) (2.0.7)\n",
            "Requirement already satisfied: certifi>=2017.4.17 in /usr/local/lib/python3.10/dist-packages (from requests->torchtext==0.6.0) (2023.7.22)\n",
            "Requirement already satisfied: filelock in /usr/local/lib/python3.10/dist-packages (from torch->torchtext==0.6.0) (3.13.1)\n",
            "Requirement already satisfied: typing-extensions in /usr/local/lib/python3.10/dist-packages (from torch->torchtext==0.6.0) (4.5.0)\n",
            "Requirement already satisfied: sympy in /usr/local/lib/python3.10/dist-packages (from torch->torchtext==0.6.0) (1.12)\n",
            "Requirement already satisfied: networkx in /usr/local/lib/python3.10/dist-packages (from torch->torchtext==0.6.0) (3.2.1)\n",
            "Requirement already satisfied: jinja2 in /usr/local/lib/python3.10/dist-packages (from torch->torchtext==0.6.0) (3.1.2)\n",
            "Requirement already satisfied: fsspec in /usr/local/lib/python3.10/dist-packages (from torch->torchtext==0.6.0) (2023.6.0)\n",
            "Requirement already satisfied: triton==2.1.0 in /usr/local/lib/python3.10/dist-packages (from torch->torchtext==0.6.0) (2.1.0)\n",
            "Requirement already satisfied: MarkupSafe>=2.0 in /usr/local/lib/python3.10/dist-packages (from jinja2->torch->torchtext==0.6.0) (2.1.3)\n",
            "Requirement already satisfied: mpmath>=0.19 in /usr/local/lib/python3.10/dist-packages (from sympy->torch->torchtext==0.6.0) (1.3.0)\n",
            "Installing collected packages: sentencepiece, torchtext\n",
            "  Attempting uninstall: torchtext\n",
            "    Found existing installation: torchtext 0.16.0\n",
            "    Uninstalling torchtext-0.16.0:\n",
            "      Successfully uninstalled torchtext-0.16.0\n",
            "Successfully installed sentencepiece-0.1.99 torchtext-0.6.0\n",
            "2023-11-14 13:52:13.118218: E tensorflow/compiler/xla/stream_executor/cuda/cuda_dnn.cc:9342] Unable to register cuDNN factory: Attempting to register factory for plugin cuDNN when one has already been registered\n",
            "2023-11-14 13:52:13.118276: E tensorflow/compiler/xla/stream_executor/cuda/cuda_fft.cc:609] Unable to register cuFFT factory: Attempting to register factory for plugin cuFFT when one has already been registered\n",
            "2023-11-14 13:52:13.118307: E tensorflow/compiler/xla/stream_executor/cuda/cuda_blas.cc:1518] Unable to register cuBLAS factory: Attempting to register factory for plugin cuBLAS when one has already been registered\n",
            "2023-11-14 13:52:13.125775: I tensorflow/core/platform/cpu_feature_guard.cc:182] This TensorFlow binary is optimized to use available CPU instructions in performance-critical operations.\n",
            "To enable the following instructions: AVX2 AVX512F FMA, in other operations, rebuild TensorFlow with the appropriate compiler flags.\n",
            "2023-11-14 13:52:14.266415: W tensorflow/compiler/tf2tensorrt/utils/py_utils.cc:38] TF-TRT Warning: Could not find TensorRT\n",
            "2023-11-14 13:52:15.727432: I tensorflow/compiler/xla/stream_executor/cuda/cuda_gpu_executor.cc:894] successful NUMA node read from SysFS had negative value (-1), but there must be at least one NUMA node, so returning NUMA node zero. See more at https://github.com/torvalds/linux/blob/v6.0/Documentation/ABI/testing/sysfs-bus-pci#L344-L355\n",
            "2023-11-14 13:52:15.727982: I tensorflow/compiler/xla/stream_executor/cuda/cuda_gpu_executor.cc:894] successful NUMA node read from SysFS had negative value (-1), but there must be at least one NUMA node, so returning NUMA node zero. See more at https://github.com/torvalds/linux/blob/v6.0/Documentation/ABI/testing/sysfs-bus-pci#L344-L355\n",
            "2023-11-14 13:52:15.728173: I tensorflow/compiler/xla/stream_executor/cuda/cuda_gpu_executor.cc:894] successful NUMA node read from SysFS had negative value (-1), but there must be at least one NUMA node, so returning NUMA node zero. See more at https://github.com/torvalds/linux/blob/v6.0/Documentation/ABI/testing/sysfs-bus-pci#L344-L355\n",
            "\u001b[38;5;3m⚠ As of spaCy v3.0, shortcuts like 'en' are deprecated. Please use the\n",
            "full pipeline package name 'en_core_web_sm' instead.\u001b[0m\n",
            "Collecting en-core-web-sm==3.6.0\n",
            "  Downloading https://github.com/explosion/spacy-models/releases/download/en_core_web_sm-3.6.0/en_core_web_sm-3.6.0-py3-none-any.whl (12.8 MB)\n",
            "\u001b[2K     \u001b[90m━━━━━━━━━━━━━━━━━━━━━━━━━━━━━━━━━━━━━━━━\u001b[0m \u001b[32m12.8/12.8 MB\u001b[0m \u001b[31m60.5 MB/s\u001b[0m eta \u001b[36m0:00:00\u001b[0m\n",
            "\u001b[?25hRequirement already satisfied: spacy<3.7.0,>=3.6.0 in /usr/local/lib/python3.10/dist-packages (from en-core-web-sm==3.6.0) (3.6.1)\n",
            "Requirement already satisfied: spacy-legacy<3.1.0,>=3.0.11 in /usr/local/lib/python3.10/dist-packages (from spacy<3.7.0,>=3.6.0->en-core-web-sm==3.6.0) (3.0.12)\n",
            "Requirement already satisfied: spacy-loggers<2.0.0,>=1.0.0 in /usr/local/lib/python3.10/dist-packages (from spacy<3.7.0,>=3.6.0->en-core-web-sm==3.6.0) (1.0.5)\n",
            "Requirement already satisfied: murmurhash<1.1.0,>=0.28.0 in /usr/local/lib/python3.10/dist-packages (from spacy<3.7.0,>=3.6.0->en-core-web-sm==3.6.0) (1.0.10)\n",
            "Requirement already satisfied: cymem<2.1.0,>=2.0.2 in /usr/local/lib/python3.10/dist-packages (from spacy<3.7.0,>=3.6.0->en-core-web-sm==3.6.0) (2.0.8)\n",
            "Requirement already satisfied: preshed<3.1.0,>=3.0.2 in /usr/local/lib/python3.10/dist-packages (from spacy<3.7.0,>=3.6.0->en-core-web-sm==3.6.0) (3.0.9)\n",
            "Requirement already satisfied: thinc<8.2.0,>=8.1.8 in /usr/local/lib/python3.10/dist-packages (from spacy<3.7.0,>=3.6.0->en-core-web-sm==3.6.0) (8.1.12)\n",
            "Requirement already satisfied: wasabi<1.2.0,>=0.9.1 in /usr/local/lib/python3.10/dist-packages (from spacy<3.7.0,>=3.6.0->en-core-web-sm==3.6.0) (1.1.2)\n",
            "Requirement already satisfied: srsly<3.0.0,>=2.4.3 in /usr/local/lib/python3.10/dist-packages (from spacy<3.7.0,>=3.6.0->en-core-web-sm==3.6.0) (2.4.8)\n",
            "Requirement already satisfied: catalogue<2.1.0,>=2.0.6 in /usr/local/lib/python3.10/dist-packages (from spacy<3.7.0,>=3.6.0->en-core-web-sm==3.6.0) (2.0.10)\n",
            "Requirement already satisfied: typer<0.10.0,>=0.3.0 in /usr/local/lib/python3.10/dist-packages (from spacy<3.7.0,>=3.6.0->en-core-web-sm==3.6.0) (0.9.0)\n",
            "Requirement already satisfied: pathy>=0.10.0 in /usr/local/lib/python3.10/dist-packages (from spacy<3.7.0,>=3.6.0->en-core-web-sm==3.6.0) (0.10.3)\n",
            "Requirement already satisfied: smart-open<7.0.0,>=5.2.1 in /usr/local/lib/python3.10/dist-packages (from spacy<3.7.0,>=3.6.0->en-core-web-sm==3.6.0) (6.4.0)\n",
            "Requirement already satisfied: tqdm<5.0.0,>=4.38.0 in /usr/local/lib/python3.10/dist-packages (from spacy<3.7.0,>=3.6.0->en-core-web-sm==3.6.0) (4.66.1)\n",
            "Requirement already satisfied: numpy>=1.15.0 in /usr/local/lib/python3.10/dist-packages (from spacy<3.7.0,>=3.6.0->en-core-web-sm==3.6.0) (1.23.5)\n",
            "Requirement already satisfied: requests<3.0.0,>=2.13.0 in /usr/local/lib/python3.10/dist-packages (from spacy<3.7.0,>=3.6.0->en-core-web-sm==3.6.0) (2.31.0)\n",
            "Requirement already satisfied: pydantic!=1.8,!=1.8.1,<3.0.0,>=1.7.4 in /usr/local/lib/python3.10/dist-packages (from spacy<3.7.0,>=3.6.0->en-core-web-sm==3.6.0) (1.10.13)\n",
            "Requirement already satisfied: jinja2 in /usr/local/lib/python3.10/dist-packages (from spacy<3.7.0,>=3.6.0->en-core-web-sm==3.6.0) (3.1.2)\n",
            "Requirement already satisfied: setuptools in /usr/local/lib/python3.10/dist-packages (from spacy<3.7.0,>=3.6.0->en-core-web-sm==3.6.0) (67.7.2)\n",
            "Requirement already satisfied: packaging>=20.0 in /usr/local/lib/python3.10/dist-packages (from spacy<3.7.0,>=3.6.0->en-core-web-sm==3.6.0) (23.2)\n",
            "Requirement already satisfied: langcodes<4.0.0,>=3.2.0 in /usr/local/lib/python3.10/dist-packages (from spacy<3.7.0,>=3.6.0->en-core-web-sm==3.6.0) (3.3.0)\n",
            "Requirement already satisfied: typing-extensions>=4.2.0 in /usr/local/lib/python3.10/dist-packages (from pydantic!=1.8,!=1.8.1,<3.0.0,>=1.7.4->spacy<3.7.0,>=3.6.0->en-core-web-sm==3.6.0) (4.5.0)\n",
            "Requirement already satisfied: charset-normalizer<4,>=2 in /usr/local/lib/python3.10/dist-packages (from requests<3.0.0,>=2.13.0->spacy<3.7.0,>=3.6.0->en-core-web-sm==3.6.0) (3.3.2)\n",
            "Requirement already satisfied: idna<4,>=2.5 in /usr/local/lib/python3.10/dist-packages (from requests<3.0.0,>=2.13.0->spacy<3.7.0,>=3.6.0->en-core-web-sm==3.6.0) (3.4)\n",
            "Requirement already satisfied: urllib3<3,>=1.21.1 in /usr/local/lib/python3.10/dist-packages (from requests<3.0.0,>=2.13.0->spacy<3.7.0,>=3.6.0->en-core-web-sm==3.6.0) (2.0.7)\n",
            "Requirement already satisfied: certifi>=2017.4.17 in /usr/local/lib/python3.10/dist-packages (from requests<3.0.0,>=2.13.0->spacy<3.7.0,>=3.6.0->en-core-web-sm==3.6.0) (2023.7.22)\n",
            "Requirement already satisfied: blis<0.8.0,>=0.7.8 in /usr/local/lib/python3.10/dist-packages (from thinc<8.2.0,>=8.1.8->spacy<3.7.0,>=3.6.0->en-core-web-sm==3.6.0) (0.7.11)\n",
            "Requirement already satisfied: confection<1.0.0,>=0.0.1 in /usr/local/lib/python3.10/dist-packages (from thinc<8.2.0,>=8.1.8->spacy<3.7.0,>=3.6.0->en-core-web-sm==3.6.0) (0.1.3)\n",
            "Requirement already satisfied: click<9.0.0,>=7.1.1 in /usr/local/lib/python3.10/dist-packages (from typer<0.10.0,>=0.3.0->spacy<3.7.0,>=3.6.0->en-core-web-sm==3.6.0) (8.1.7)\n",
            "Requirement already satisfied: MarkupSafe>=2.0 in /usr/local/lib/python3.10/dist-packages (from jinja2->spacy<3.7.0,>=3.6.0->en-core-web-sm==3.6.0) (2.1.3)\n",
            "\u001b[38;5;2m✔ Download and installation successful\u001b[0m\n",
            "You can now load the package via spacy.load('en_core_web_sm')\n",
            "2023-11-14 13:52:28.151871: E tensorflow/compiler/xla/stream_executor/cuda/cuda_dnn.cc:9342] Unable to register cuDNN factory: Attempting to register factory for plugin cuDNN when one has already been registered\n",
            "2023-11-14 13:52:28.151945: E tensorflow/compiler/xla/stream_executor/cuda/cuda_fft.cc:609] Unable to register cuFFT factory: Attempting to register factory for plugin cuFFT when one has already been registered\n",
            "2023-11-14 13:52:28.151983: E tensorflow/compiler/xla/stream_executor/cuda/cuda_blas.cc:1518] Unable to register cuBLAS factory: Attempting to register factory for plugin cuBLAS when one has already been registered\n",
            "2023-11-14 13:52:28.159709: I tensorflow/core/platform/cpu_feature_guard.cc:182] This TensorFlow binary is optimized to use available CPU instructions in performance-critical operations.\n",
            "To enable the following instructions: AVX2 AVX512F FMA, in other operations, rebuild TensorFlow with the appropriate compiler flags.\n",
            "2023-11-14 13:52:29.294950: W tensorflow/compiler/tf2tensorrt/utils/py_utils.cc:38] TF-TRT Warning: Could not find TensorRT\n",
            "2023-11-14 13:52:30.772947: I tensorflow/compiler/xla/stream_executor/cuda/cuda_gpu_executor.cc:894] successful NUMA node read from SysFS had negative value (-1), but there must be at least one NUMA node, so returning NUMA node zero. See more at https://github.com/torvalds/linux/blob/v6.0/Documentation/ABI/testing/sysfs-bus-pci#L344-L355\n",
            "2023-11-14 13:52:30.773360: I tensorflow/compiler/xla/stream_executor/cuda/cuda_gpu_executor.cc:894] successful NUMA node read from SysFS had negative value (-1), but there must be at least one NUMA node, so returning NUMA node zero. See more at https://github.com/torvalds/linux/blob/v6.0/Documentation/ABI/testing/sysfs-bus-pci#L344-L355\n",
            "2023-11-14 13:52:30.773532: I tensorflow/compiler/xla/stream_executor/cuda/cuda_gpu_executor.cc:894] successful NUMA node read from SysFS had negative value (-1), but there must be at least one NUMA node, so returning NUMA node zero. See more at https://github.com/torvalds/linux/blob/v6.0/Documentation/ABI/testing/sysfs-bus-pci#L344-L355\n",
            "\u001b[38;5;3m⚠ As of spaCy v3.0, shortcuts like 'de' are deprecated. Please use the\n",
            "full pipeline package name 'de_core_news_sm' instead.\u001b[0m\n",
            "Collecting de-core-news-sm==3.6.0\n",
            "  Downloading https://github.com/explosion/spacy-models/releases/download/de_core_news_sm-3.6.0/de_core_news_sm-3.6.0-py3-none-any.whl (14.6 MB)\n",
            "\u001b[2K     \u001b[90m━━━━━━━━━━━━━━━━━━━━━━━━━━━━━━━━━━━━━━━━\u001b[0m \u001b[32m14.6/14.6 MB\u001b[0m \u001b[31m64.6 MB/s\u001b[0m eta \u001b[36m0:00:00\u001b[0m\n",
            "\u001b[?25hRequirement already satisfied: spacy<3.7.0,>=3.6.0 in /usr/local/lib/python3.10/dist-packages (from de-core-news-sm==3.6.0) (3.6.1)\n",
            "Requirement already satisfied: spacy-legacy<3.1.0,>=3.0.11 in /usr/local/lib/python3.10/dist-packages (from spacy<3.7.0,>=3.6.0->de-core-news-sm==3.6.0) (3.0.12)\n",
            "Requirement already satisfied: spacy-loggers<2.0.0,>=1.0.0 in /usr/local/lib/python3.10/dist-packages (from spacy<3.7.0,>=3.6.0->de-core-news-sm==3.6.0) (1.0.5)\n",
            "Requirement already satisfied: murmurhash<1.1.0,>=0.28.0 in /usr/local/lib/python3.10/dist-packages (from spacy<3.7.0,>=3.6.0->de-core-news-sm==3.6.0) (1.0.10)\n",
            "Requirement already satisfied: cymem<2.1.0,>=2.0.2 in /usr/local/lib/python3.10/dist-packages (from spacy<3.7.0,>=3.6.0->de-core-news-sm==3.6.0) (2.0.8)\n",
            "Requirement already satisfied: preshed<3.1.0,>=3.0.2 in /usr/local/lib/python3.10/dist-packages (from spacy<3.7.0,>=3.6.0->de-core-news-sm==3.6.0) (3.0.9)\n",
            "Requirement already satisfied: thinc<8.2.0,>=8.1.8 in /usr/local/lib/python3.10/dist-packages (from spacy<3.7.0,>=3.6.0->de-core-news-sm==3.6.0) (8.1.12)\n",
            "Requirement already satisfied: wasabi<1.2.0,>=0.9.1 in /usr/local/lib/python3.10/dist-packages (from spacy<3.7.0,>=3.6.0->de-core-news-sm==3.6.0) (1.1.2)\n",
            "Requirement already satisfied: srsly<3.0.0,>=2.4.3 in /usr/local/lib/python3.10/dist-packages (from spacy<3.7.0,>=3.6.0->de-core-news-sm==3.6.0) (2.4.8)\n",
            "Requirement already satisfied: catalogue<2.1.0,>=2.0.6 in /usr/local/lib/python3.10/dist-packages (from spacy<3.7.0,>=3.6.0->de-core-news-sm==3.6.0) (2.0.10)\n",
            "Requirement already satisfied: typer<0.10.0,>=0.3.0 in /usr/local/lib/python3.10/dist-packages (from spacy<3.7.0,>=3.6.0->de-core-news-sm==3.6.0) (0.9.0)\n",
            "Requirement already satisfied: pathy>=0.10.0 in /usr/local/lib/python3.10/dist-packages (from spacy<3.7.0,>=3.6.0->de-core-news-sm==3.6.0) (0.10.3)\n",
            "Requirement already satisfied: smart-open<7.0.0,>=5.2.1 in /usr/local/lib/python3.10/dist-packages (from spacy<3.7.0,>=3.6.0->de-core-news-sm==3.6.0) (6.4.0)\n",
            "Requirement already satisfied: tqdm<5.0.0,>=4.38.0 in /usr/local/lib/python3.10/dist-packages (from spacy<3.7.0,>=3.6.0->de-core-news-sm==3.6.0) (4.66.1)\n",
            "Requirement already satisfied: numpy>=1.15.0 in /usr/local/lib/python3.10/dist-packages (from spacy<3.7.0,>=3.6.0->de-core-news-sm==3.6.0) (1.23.5)\n",
            "Requirement already satisfied: requests<3.0.0,>=2.13.0 in /usr/local/lib/python3.10/dist-packages (from spacy<3.7.0,>=3.6.0->de-core-news-sm==3.6.0) (2.31.0)\n",
            "Requirement already satisfied: pydantic!=1.8,!=1.8.1,<3.0.0,>=1.7.4 in /usr/local/lib/python3.10/dist-packages (from spacy<3.7.0,>=3.6.0->de-core-news-sm==3.6.0) (1.10.13)\n",
            "Requirement already satisfied: jinja2 in /usr/local/lib/python3.10/dist-packages (from spacy<3.7.0,>=3.6.0->de-core-news-sm==3.6.0) (3.1.2)\n",
            "Requirement already satisfied: setuptools in /usr/local/lib/python3.10/dist-packages (from spacy<3.7.0,>=3.6.0->de-core-news-sm==3.6.0) (67.7.2)\n",
            "Requirement already satisfied: packaging>=20.0 in /usr/local/lib/python3.10/dist-packages (from spacy<3.7.0,>=3.6.0->de-core-news-sm==3.6.0) (23.2)\n",
            "Requirement already satisfied: langcodes<4.0.0,>=3.2.0 in /usr/local/lib/python3.10/dist-packages (from spacy<3.7.0,>=3.6.0->de-core-news-sm==3.6.0) (3.3.0)\n",
            "Requirement already satisfied: typing-extensions>=4.2.0 in /usr/local/lib/python3.10/dist-packages (from pydantic!=1.8,!=1.8.1,<3.0.0,>=1.7.4->spacy<3.7.0,>=3.6.0->de-core-news-sm==3.6.0) (4.5.0)\n",
            "Requirement already satisfied: charset-normalizer<4,>=2 in /usr/local/lib/python3.10/dist-packages (from requests<3.0.0,>=2.13.0->spacy<3.7.0,>=3.6.0->de-core-news-sm==3.6.0) (3.3.2)\n",
            "Requirement already satisfied: idna<4,>=2.5 in /usr/local/lib/python3.10/dist-packages (from requests<3.0.0,>=2.13.0->spacy<3.7.0,>=3.6.0->de-core-news-sm==3.6.0) (3.4)\n",
            "Requirement already satisfied: urllib3<3,>=1.21.1 in /usr/local/lib/python3.10/dist-packages (from requests<3.0.0,>=2.13.0->spacy<3.7.0,>=3.6.0->de-core-news-sm==3.6.0) (2.0.7)\n",
            "Requirement already satisfied: certifi>=2017.4.17 in /usr/local/lib/python3.10/dist-packages (from requests<3.0.0,>=2.13.0->spacy<3.7.0,>=3.6.0->de-core-news-sm==3.6.0) (2023.7.22)\n",
            "Requirement already satisfied: blis<0.8.0,>=0.7.8 in /usr/local/lib/python3.10/dist-packages (from thinc<8.2.0,>=8.1.8->spacy<3.7.0,>=3.6.0->de-core-news-sm==3.6.0) (0.7.11)\n",
            "Requirement already satisfied: confection<1.0.0,>=0.0.1 in /usr/local/lib/python3.10/dist-packages (from thinc<8.2.0,>=8.1.8->spacy<3.7.0,>=3.6.0->de-core-news-sm==3.6.0) (0.1.3)\n",
            "Requirement already satisfied: click<9.0.0,>=7.1.1 in /usr/local/lib/python3.10/dist-packages (from typer<0.10.0,>=0.3.0->spacy<3.7.0,>=3.6.0->de-core-news-sm==3.6.0) (8.1.7)\n",
            "Requirement already satisfied: MarkupSafe>=2.0 in /usr/local/lib/python3.10/dist-packages (from jinja2->spacy<3.7.0,>=3.6.0->de-core-news-sm==3.6.0) (2.1.3)\n",
            "Installing collected packages: de-core-news-sm\n",
            "Successfully installed de-core-news-sm-3.6.0\n",
            "\u001b[38;5;2m✔ Download and installation successful\u001b[0m\n",
            "You can now load the package via spacy.load('de_core_news_sm')\n"
          ]
        }
      ],
      "source": [
        "!apt install python3.7\n",
        "!pip install -U torchtext==0.6.0\n",
        "!python -m spacy download en\n",
        "!python -m spacy download de"
      ]
    },
    {
      "cell_type": "code",
      "execution_count": 2,
      "metadata": {
        "collapsed": true,
        "id": "nBkMc4etDUkv"
      },
      "outputs": [],
      "source": [
        "import torch\n",
        "import torch.nn as nn\n",
        "import torch.optim as optim\n",
        "\n",
        "from torchtext.datasets import Multi30k\n",
        "from torchtext.data import Field, BucketIterator\n",
        "\n",
        "from gensim.models import KeyedVectors\n",
        "\n",
        "import spacy\n",
        "import numpy as np\n",
        "\n",
        "import random\n",
        "import math\n",
        "import time\n",
        "\n",
        "SEED = 1234\n",
        "\n",
        "random.seed(SEED)\n",
        "np.random.seed(SEED)\n",
        "torch.manual_seed(SEED)\n",
        "torch.cuda.manual_seed(SEED)\n",
        "torch.backends.cudnn.deterministic = True"
      ]
    },
    {
      "cell_type": "markdown",
      "metadata": {
        "id": "tqFAK7duDUkw"
      },
      "source": [
        "### **Tokenizers**\n",
        "- We convert sentences to individual tokens by using tokenizers.\n",
        "  - e.g. \"good morning!\" becomes [\"good\", \"morning\", \"!\"]\n",
        "- We will use python package `spaCy` for this"
      ]
    },
    {
      "cell_type": "code",
      "execution_count": 3,
      "metadata": {
        "collapsed": true,
        "id": "66U5-aDfDUkw"
      },
      "outputs": [],
      "source": [
        "spacy_de = spacy.load('de_core_news_sm')\n",
        "spacy_en = spacy.load('en_core_web_sm')"
      ]
    },
    {
      "cell_type": "code",
      "execution_count": 4,
      "metadata": {
        "collapsed": true,
        "id": "HrZEZLWMDUkw"
      },
      "outputs": [],
      "source": [
        "def tokenize_de(text):\n",
        "  return [tok.text for tok in spacy_de.tokenizer(text)]\n",
        "\n",
        "def tokenize_en(text):\n",
        "  return [tok.text for tok in spacy_en.tokenizer(text)]"
      ]
    },
    {
      "cell_type": "markdown",
      "metadata": {
        "id": "xXHbEFjVDUkw"
      },
      "source": [
        "We use Field library to process data. By setting batch_first = True, we set the batch dimension comes first."
      ]
    },
    {
      "cell_type": "code",
      "execution_count": 5,
      "metadata": {
        "collapsed": true,
        "id": "cy7ZtxuHDUkw"
      },
      "outputs": [],
      "source": [
        "SRC = Field(tokenize= tokenize_de,\n",
        "            init_token = '<sos>',\n",
        "            eos_token = '<eos>',\n",
        "            lower = True,\n",
        "            batch_first = True)\n",
        "\n",
        "TRG = Field(tokenize= tokenize_en,\n",
        "            init_token = '<sos>',\n",
        "            eos_token = '<eos>',\n",
        "            lower = True,\n",
        "            batch_first = True)"
      ]
    },
    {
      "cell_type": "markdown",
      "metadata": {
        "id": "ixT6hsO-DUkx"
      },
      "source": [
        "We use Multi30k dataset of about 30k English, Deutch, and French sentences, and each sentence has 12 words. We set exts as the langauges for source and target languages."
      ]
    },
    {
      "cell_type": "code",
      "source": [
        "url_base = 'https://raw.githubusercontent.com/multi30k/dataset/master/data/task1/raw/'\n",
        "train_urls = ('train.de.gz', 'train.en.gz')\n",
        "val_urls = ('val.de.gz', 'val.en.gz')\n",
        "test_urls = ('test_2016_flickr.de.gz', 'test_2016_flickr.en.gz')"
      ],
      "metadata": {
        "id": "-CizBgGgHdZn"
      },
      "execution_count": 6,
      "outputs": []
    },
    {
      "cell_type": "code",
      "source": [
        "!wget https://raw.githubusercontent.com/multi30k/dataset/master/data/task1/raw/train.de.gz -P ./data/multi30k\n",
        "!wget https://raw.githubusercontent.com/multi30k/dataset/master/data/task1/raw/train.en.gz -P ./data/multi30k\n",
        "!wget https://raw.githubusercontent.com/multi30k/dataset/master/data/task1/raw/val.de.gz -P ./data/multi30k\n",
        "!wget https://raw.githubusercontent.com/multi30k/dataset/master/data/task1/raw/val.en.gz -P ./data/multi30k\n",
        "!wget https://raw.githubusercontent.com/multi30k/dataset/master/data/task1/raw/test_2016_flickr.de.gz -P ./data/multi30k\n",
        "!wget https://raw.githubusercontent.com/multi30k/dataset/master/data/task1/raw/test_2016_flickr.en.gz -P ./data/multi30k"
      ],
      "metadata": {
        "colab": {
          "base_uri": "https://localhost:8080/"
        },
        "id": "J2eIQFZAHiGQ",
        "outputId": "7415c06f-ea15-4c7c-c797-d0b790ed4229"
      },
      "execution_count": 7,
      "outputs": [
        {
          "output_type": "stream",
          "name": "stdout",
          "text": [
            "--2023-11-14 13:52:53--  https://raw.githubusercontent.com/multi30k/dataset/master/data/task1/raw/train.de.gz\n",
            "Resolving raw.githubusercontent.com (raw.githubusercontent.com)... 185.199.111.133, 185.199.109.133, 185.199.108.133, ...\n",
            "Connecting to raw.githubusercontent.com (raw.githubusercontent.com)|185.199.111.133|:443... connected.\n",
            "HTTP request sent, awaiting response... 200 OK\n",
            "Length: 637044 (622K) [application/octet-stream]\n",
            "Saving to: ‘./data/multi30k/train.de.gz’\n",
            "\n",
            "train.de.gz         100%[===================>] 622.11K  --.-KB/s    in 0.02s   \n",
            "\n",
            "2023-11-14 13:52:54 (32.2 MB/s) - ‘./data/multi30k/train.de.gz’ saved [637044/637044]\n",
            "\n",
            "--2023-11-14 13:52:54--  https://raw.githubusercontent.com/multi30k/dataset/master/data/task1/raw/train.en.gz\n",
            "Resolving raw.githubusercontent.com (raw.githubusercontent.com)... 185.199.111.133, 185.199.109.133, 185.199.108.133, ...\n",
            "Connecting to raw.githubusercontent.com (raw.githubusercontent.com)|185.199.111.133|:443... connected.\n",
            "HTTP request sent, awaiting response... 200 OK\n",
            "Length: 568929 (556K) [application/octet-stream]\n",
            "Saving to: ‘./data/multi30k/train.en.gz’\n",
            "\n",
            "train.en.gz         100%[===================>] 555.59K  --.-KB/s    in 0.02s   \n",
            "\n",
            "2023-11-14 13:52:54 (28.6 MB/s) - ‘./data/multi30k/train.en.gz’ saved [568929/568929]\n",
            "\n",
            "--2023-11-14 13:52:54--  https://raw.githubusercontent.com/multi30k/dataset/master/data/task1/raw/val.de.gz\n",
            "Resolving raw.githubusercontent.com (raw.githubusercontent.com)... 185.199.108.133, 185.199.109.133, 185.199.110.133, ...\n",
            "Connecting to raw.githubusercontent.com (raw.githubusercontent.com)|185.199.108.133|:443... connected.\n",
            "HTTP request sent, awaiting response... 200 OK\n",
            "Length: 24681 (24K) [application/octet-stream]\n",
            "Saving to: ‘./data/multi30k/val.de.gz’\n",
            "\n",
            "val.de.gz           100%[===================>]  24.10K  --.-KB/s    in 0s      \n",
            "\n",
            "2023-11-14 13:52:54 (113 MB/s) - ‘./data/multi30k/val.de.gz’ saved [24681/24681]\n",
            "\n",
            "--2023-11-14 13:52:54--  https://raw.githubusercontent.com/multi30k/dataset/master/data/task1/raw/val.en.gz\n",
            "Resolving raw.githubusercontent.com (raw.githubusercontent.com)... 185.199.108.133, 185.199.111.133, 185.199.110.133, ...\n",
            "Connecting to raw.githubusercontent.com (raw.githubusercontent.com)|185.199.108.133|:443... connected.\n",
            "HTTP request sent, awaiting response... 200 OK\n",
            "Length: 21650 (21K) [application/octet-stream]\n",
            "Saving to: ‘./data/multi30k/val.en.gz’\n",
            "\n",
            "val.en.gz           100%[===================>]  21.14K  --.-KB/s    in 0s      \n",
            "\n",
            "2023-11-14 13:52:54 (93.0 MB/s) - ‘./data/multi30k/val.en.gz’ saved [21650/21650]\n",
            "\n",
            "--2023-11-14 13:52:54--  https://raw.githubusercontent.com/multi30k/dataset/master/data/task1/raw/test_2016_flickr.de.gz\n",
            "Resolving raw.githubusercontent.com (raw.githubusercontent.com)... 185.199.111.133, 185.199.109.133, 185.199.108.133, ...\n",
            "Connecting to raw.githubusercontent.com (raw.githubusercontent.com)|185.199.111.133|:443... connected.\n",
            "HTTP request sent, awaiting response... 200 OK\n",
            "Length: 22890 (22K) [application/octet-stream]\n",
            "Saving to: ‘./data/multi30k/test_2016_flickr.de.gz’\n",
            "\n",
            "test_2016_flickr.de 100%[===================>]  22.35K  --.-KB/s    in 0s      \n",
            "\n",
            "2023-11-14 13:52:55 (154 MB/s) - ‘./data/multi30k/test_2016_flickr.de.gz’ saved [22890/22890]\n",
            "\n",
            "--2023-11-14 13:52:55--  https://raw.githubusercontent.com/multi30k/dataset/master/data/task1/raw/test_2016_flickr.en.gz\n",
            "Resolving raw.githubusercontent.com (raw.githubusercontent.com)... 185.199.108.133, 185.199.109.133, 185.199.110.133, ...\n",
            "Connecting to raw.githubusercontent.com (raw.githubusercontent.com)|185.199.108.133|:443... connected.\n",
            "HTTP request sent, awaiting response... 200 OK\n",
            "Length: 21077 (21K) [application/octet-stream]\n",
            "Saving to: ‘./data/multi30k/test_2016_flickr.en.gz’\n",
            "\n",
            "test_2016_flickr.en 100%[===================>]  20.58K  --.-KB/s    in 0s      \n",
            "\n",
            "2023-11-14 13:52:55 (43.0 MB/s) - ‘./data/multi30k/test_2016_flickr.en.gz’ saved [21077/21077]\n",
            "\n"
          ]
        }
      ]
    },
    {
      "cell_type": "code",
      "source": [
        "!gzip -d ./data/multi30k/train.de.gz\n",
        "!gzip -d ./data/multi30k/train.en.gz\n",
        "!gzip -d ./data/multi30k/val.de.gz\n",
        "!gzip -d ./data/multi30k/val.en.gz\n",
        "!gzip -d ./data/multi30k/test_2016_flickr.en.gz\n",
        "!gzip -d ./data/multi30k/test_2016_flickr.de.gz"
      ],
      "metadata": {
        "id": "-mhAvJtQHq41"
      },
      "execution_count": 8,
      "outputs": []
    },
    {
      "cell_type": "code",
      "source": [
        "!mv ./data/multi30k/test_2016_flickr.de ./data/multi30k/test2016.de\n",
        "!mv ./data/multi30k/test_2016_flickr.en ./data/multi30k/test2016.en"
      ],
      "metadata": {
        "id": "6RwhwTngHvYg"
      },
      "execution_count": 9,
      "outputs": []
    },
    {
      "cell_type": "code",
      "execution_count": 10,
      "metadata": {
        "collapsed": true,
        "id": "7ciCsr6EDUkx"
      },
      "outputs": [],
      "source": [
        "train_data, valid_data, test_data = Multi30k.splits(exts= ('.de', '.en'),\n",
        "                                                    fields = (SRC, TRG), root = './data')"
      ]
    },
    {
      "cell_type": "code",
      "execution_count": 11,
      "metadata": {
        "collapsed": true,
        "colab": {
          "base_uri": "https://localhost:8080/"
        },
        "id": "dVyB6mWADUkx",
        "outputId": "2f9f5fa6-5068-4221-fe39-4f63b7f6b6fe"
      },
      "outputs": [
        {
          "output_type": "stream",
          "name": "stdout",
          "text": [
            "Number of training examples: 29000\n",
            "Number of validation examples: 1014\n",
            "Number of testing examples: 1000\n"
          ]
        }
      ],
      "source": [
        "print(f\"Number of training examples: {len(train_data.examples)}\")\n",
        "print(f\"Number of validation examples: {len(valid_data.examples)}\")\n",
        "print(f\"Number of testing examples: {len(test_data.examples)}\")"
      ]
    },
    {
      "cell_type": "code",
      "execution_count": 12,
      "metadata": {
        "collapsed": true,
        "colab": {
          "base_uri": "https://localhost:8080/"
        },
        "id": "Zr2m5iRDDUky",
        "outputId": "ef6debf0-8de8-413b-a627-f236e28ea9c9"
      },
      "outputs": [
        {
          "output_type": "stream",
          "name": "stdout",
          "text": [
            "13\n",
            "8\n",
            "{'src': ['zwei', 'junge', 'weiße', 'männer', 'sind', 'im', 'freien', 'in', 'der', 'nähe', 'vieler', 'büsche', '.'], 'trg': ['two', 'young', ',', 'white', 'males', 'are', 'outside', 'near', 'many', 'bushes', '.']}\n",
            "{'src': ['mehrere', 'männer', 'mit', 'schutzhelmen', 'bedienen', 'ein', 'antriebsradsystem', '.'], 'trg': ['several', 'men', 'in', 'hard', 'hats', 'are', 'operating', 'a', 'giant', 'pulley', 'system', '.']}\n"
          ]
        }
      ],
      "source": [
        "print(len(vars(train_data.examples[0])['src']))\n",
        "print(len(vars(train_data.examples[1])['src']))\n",
        "\n",
        "print(vars(train_data.examples[0]))\n",
        "print(vars(train_data.examples[1]))"
      ]
    },
    {
      "cell_type": "markdown",
      "metadata": {
        "id": "83FFmICaDUky"
      },
      "source": [
        "## **Build Vocabulary**\n",
        "- We use `build_vocab` function to get indexing of tokens. Note that the vocabularies of source and target are different.\n",
        "- We use `min_freq` to have words that appear at least twice in the corpus to add to the vocabulary. So the word that apears only once will convert to <unk> token.\n",
        "- Note that we have to use only training set to build the vocabulary, neither validation nor test set."
      ]
    },
    {
      "cell_type": "code",
      "execution_count": 13,
      "metadata": {
        "collapsed": true,
        "id": "pvdSM1y-DUky"
      },
      "outputs": [],
      "source": [
        "SRC.build_vocab(train_data, min_freq = 2)\n",
        "TRG.build_vocab(train_data, min_freq = 2)"
      ]
    },
    {
      "cell_type": "code",
      "execution_count": 14,
      "metadata": {
        "collapsed": true,
        "colab": {
          "base_uri": "https://localhost:8080/"
        },
        "id": "qBz_TCbcDUky",
        "outputId": "c728406e-b159-4670-fa72-ee7c93f8ca2c"
      },
      "outputs": [
        {
          "output_type": "stream",
          "name": "stdout",
          "text": [
            "Unique tokens in source (de) vocabulary: 7853\n",
            "Unique tokens in target (en) vocabulary: 5893\n"
          ]
        }
      ],
      "source": [
        "print(f\"Unique tokens in source (de) vocabulary: {len(SRC.vocab)}\")\n",
        "print(f\"Unique tokens in target (en) vocabulary: {len(TRG.vocab)}\")"
      ]
    },
    {
      "cell_type": "markdown",
      "metadata": {
        "id": "SK0TyDDpDUky"
      },
      "source": [
        "### Create the iterators\n",
        "- we use `BucketIterator` to pack tokens as a batch and convert tokens to indices."
      ]
    },
    {
      "cell_type": "code",
      "execution_count": 15,
      "metadata": {
        "collapsed": true,
        "id": "I4XCaGtGDUkz"
      },
      "outputs": [],
      "source": [
        "# for using GPU\n",
        "device = torch.device('cuda' if torch.cuda.is_available() else 'cpu')"
      ]
    },
    {
      "cell_type": "code",
      "source": [
        "print(device)"
      ],
      "metadata": {
        "colab": {
          "base_uri": "https://localhost:8080/"
        },
        "id": "eSgq98AJlB1o",
        "outputId": "24406466-c86c-48e3-c340-536e75c214e9"
      },
      "execution_count": 16,
      "outputs": [
        {
          "output_type": "stream",
          "name": "stdout",
          "text": [
            "cuda\n"
          ]
        }
      ]
    },
    {
      "cell_type": "code",
      "execution_count": 17,
      "metadata": {
        "collapsed": true,
        "id": "ZUAibIz9DUkz"
      },
      "outputs": [],
      "source": [
        "BATCH_SIZE = 128\n",
        "\n",
        "train_iterator, valid_iterator, test_iterator = BucketIterator.splits(\n",
        "    (train_data, valid_data, test_data),\n",
        "    batch_size = BATCH_SIZE,\n",
        "    device = device\n",
        ")"
      ]
    },
    {
      "cell_type": "code",
      "source": [
        "next(iter(train_iterator))"
      ],
      "metadata": {
        "colab": {
          "base_uri": "https://localhost:8080/"
        },
        "id": "6K0lHnY_jj3Y",
        "outputId": "5e154227-dfff-4f14-a85c-8f7078d5d864"
      },
      "execution_count": 18,
      "outputs": [
        {
          "output_type": "execute_result",
          "data": {
            "text/plain": [
              "\n",
              "[torchtext.data.batch.Batch of size 128 from MULTI30K]\n",
              "\t[.src]:[torch.cuda.LongTensor of size 128x23 (GPU 0)]\n",
              "\t[.trg]:[torch.cuda.LongTensor of size 128x21 (GPU 0)]"
            ]
          },
          "metadata": {},
          "execution_count": 18
        }
      ]
    },
    {
      "cell_type": "markdown",
      "metadata": {
        "id": "4EKMvBRTDUkz"
      },
      "source": [
        "## **Building the Model**"
      ]
    },
    {
      "cell_type": "markdown",
      "metadata": {
        "id": "O8Yw4ULSDUkz"
      },
      "source": [
        "### Encoder"
      ]
    },
    {
      "cell_type": "code",
      "execution_count": 19,
      "metadata": {
        "collapsed": true,
        "id": "9NmefPSnDUkz"
      },
      "outputs": [],
      "source": [
        "class LSTM_Encoder(nn.Module):\n",
        "    def __init__(self, vocab_size, embed_size, hidden_size, num_layers, dropout, bidirectional=False, pretrained_embeddings = None):\n",
        "        super().__init__()\n",
        "\n",
        "        ## TODO: define your model here\n",
        "\n",
        "        self.embeddings = nn.Embedding(vocab_size, embed_size)\n",
        "\n",
        "        if pretrained_embeddings is not None:\n",
        "          self.embeddings.weight.data.copy_(torch.from_numpy(pretrained_embeddings.vector))\n",
        "\n",
        "        self.lstm = nn.LSTM(embed_size, hidden_size,\n",
        "                            bidirectional = bidirectional, num_layers = num_layers, dropout = dropout, batch_first = True)\n",
        "        self.dropout = nn.Dropout(dropout)\n",
        "\n",
        "        self.bidirectional = bidirectional\n",
        "        self.num_layers = num_layers\n",
        "\n",
        "        if bidirectional:\n",
        "          self.projection1 = nn.Linear(hidden_size * 2, hidden_size)\n",
        "          self.projection2 = nn.Linear(hidden_size * 2, hidden_size)\n",
        "\n",
        "    def forward(self, x):\n",
        "\n",
        "        ## TODO: write down the forward step\n",
        "        # x shape: [batch_size, seq_len]\n",
        "\n",
        "        embed = self.dropout(self.embeddings(x)) # [batch_size, seq_len, hidden_size]\n",
        "        output, (hidden, cell) = self.lstm(embed)\n",
        "\n",
        "        # output: [batch_size, seq_len, hidden_size * num_directions],\n",
        "        # hidden: [num_directions * num_layers, batch_size, hidden_size],\n",
        "        # cell: [num_directions * num_layers, batch_size, hidden_size]]\n",
        "\n",
        "\n",
        "        if self.bidirectional:\n",
        "\n",
        "          output = torch.tanh(self.projection1(output)) # [batch_size, seq_len, hidden_size]\n",
        "\n",
        "          hidden = self.projection2(torch.cat((hidden[-2,:,:], hidden[-1,:,:]), dim = 1)) # contact the last forward and backward hidden states\n",
        "          hidden = torch.tanh(hidden) # nonlinearity\n",
        "\n",
        "          # hidden: [batch_size, hidden_size]\n",
        "\n",
        "          cell = self.projection2(torch.cat((cell[-2,:,:], cell[-1,:,:]), dim = 1)) # contact the last forward and backward cell states\n",
        "          cell = torch.tanh(cell) # nonlinearity\n",
        "\n",
        "          # cell: [batch_size, hidden_size]\n",
        "          return output, hidden.unsqueeze(0), cell.unsqueeze(0)\n",
        "\n",
        "        return output, hidden, cell"
      ]
    },
    {
      "cell_type": "markdown",
      "metadata": {
        "id": "CzHbN9WtDUkz"
      },
      "source": [
        "### Decoder with attention"
      ]
    },
    {
      "cell_type": "code",
      "source": [
        "class Attention(nn.Module):\n",
        "    def __init__(self, hidden_size, attention_type = 'vanilla'):\n",
        "        super().__init__()\n",
        "\n",
        "        self.attention_type = attention_type\n",
        "        self.softmax = nn.Softmax(dim=1)\n",
        "\n",
        "        if attention_type == 'additive':\n",
        "          self.projection = nn.Linear(hidden_size * 2, hidden_size, bias=False)\n",
        "          self.v = nn.Linear(hidden_size, 1, bias = False)\n",
        "\n",
        "    def forward(self, decoder_hidden, enc_states, mask):\n",
        "\n",
        "        # decoder_hidden: [batch_size, hidden_size]\n",
        "        # enc_states: [batch_size, seq_len, hidden_size]\n",
        "\n",
        "        if self.attention_type == 'vanilla':\n",
        "          decoder_hidden = decoder_hidden.unsqueeze(2)\n",
        "          attention_values = torch.bmm(enc_states, decoder_hidden).squeeze(2) # [batch_size, seq_len, hidden_size] x [batch_size, hidden_size, 1] -> [batch_size, seq_len, 1]\n",
        "          attention_values = attention_values.masked_fill(mask == 0, -1e10) # [batch_size, seq_len]\n",
        "\n",
        "        elif self.attention_type == 'additive':\n",
        "          src_length = enc_states.shape[1]\n",
        "          decoder_hidden = decoder_hidden.unsqueeze(1).repeat(1, src_length, 1) # [batch_size, seq_len, hidden_size]\n",
        "          attention_values = self.v(torch.tanh(self.projection(torch.cat((decoder_hidden, enc_states), dim = 2)))).squeeze(2)\n",
        "          attention_values = attention_values.masked_fill(mask == 0, -1e10) # [batch_size, seq_len]\n",
        "\n",
        "        return self.softmax(attention_values)"
      ],
      "metadata": {
        "id": "ake6vr2X5tgN"
      },
      "execution_count": 20,
      "outputs": []
    },
    {
      "cell_type": "code",
      "execution_count": 21,
      "metadata": {
        "collapsed": true,
        "id": "bt-8q5nEDUk0"
      },
      "outputs": [],
      "source": [
        "class LSTM_Decoder(nn.Module):\n",
        "    def __init__(self, output_dim, embed_size, hidden_size, num_layers, attention, dropout, pretrained_embeddings = None):\n",
        "        super().__init__()\n",
        "\n",
        "        ## TODO: define your model here\n",
        "\n",
        "        self.output_dim = output_dim\n",
        "        self.num_layers = num_layers\n",
        "        self.attention = attention\n",
        "        self.embeddings = nn.Embedding(output_dim, embed_size)\n",
        "\n",
        "        if pretrained_embeddings is not None:\n",
        "          self.embeddings.weight.data.copy_(torch.from_numpy(pretrained_embeddings.vector))\n",
        "\n",
        "\n",
        "        self.lstm = nn.LSTM(hidden_size + embed_size, hidden_size,\n",
        "                            num_layers = num_layers, dropout=dropout, batch_first = True)\n",
        "        self.fc_out = nn.Linear(hidden_size * 2, output_dim)\n",
        "\n",
        "        self.dropout = nn.Dropout(dropout)\n",
        "\n",
        "    def forward(self, x, hidden, cell, enc_states, mask):\n",
        "\n",
        "        ## TODO: write down the forward step\n",
        "        last_hidden = hidden[-1]\n",
        "        embed = self.dropout(self.embeddings(x.unsqueeze(1))) # [batch_size, 1, hidden_size]\n",
        "        # attention distribution\n",
        "        attention_dist = self.attention(last_hidden, enc_states, mask).unsqueeze(1) # [batch_size, 1, seq_len]\n",
        "\n",
        "        # context vector\n",
        "        context = torch.bmm(attention_dist, enc_states) # [batch_size, 1, seq_len] x [batch_size, seq_len, hidden_size] -> [batch_size, 1, hidden_size]\n",
        "        rnn_input = torch.cat((embed, context), dim = 2) # [batch_size, 1, hidden_size + embed_size]\n",
        "\n",
        "        if hidden.shape[0] != self.num_layers:\n",
        "          hidden = hidden.repeat(self.num_layers, 1, 1) # replicate last encoder hidden\n",
        "          cell = cell.repeat(self.num_layers, 1, 1) # replicate las cell hidden\n",
        "\n",
        "        output, (hidden, cell) = self.lstm(rnn_input, (hidden, cell)) # output shape: [batch_size, 1, hidden_size]\n",
        "        output, context = output.squeeze(1), context.squeeze(1)\n",
        "        output = self.fc_out(torch.cat((output, context), dim = 1))\n",
        "\n",
        "        return output, hidden, cell, attention_dist.squeeze(1)"
      ]
    },
    {
      "cell_type": "markdown",
      "metadata": {
        "id": "CnxafZNfDUk0"
      },
      "source": [
        "### Sequence-to-sequence model"
      ]
    },
    {
      "cell_type": "code",
      "execution_count": 22,
      "metadata": {
        "collapsed": true,
        "id": "ljU1ehlkDUk0"
      },
      "outputs": [],
      "source": [
        "class Seq2Seq(nn.Module):\n",
        "    def __init__(self,\n",
        "                 encoder,\n",
        "                 decoder,\n",
        "                 src_pad_idx,\n",
        "                 trg_pad_idx,\n",
        "                 device):\n",
        "        super().__init__()\n",
        "\n",
        "        self.encoder = encoder\n",
        "        self.decoder = decoder\n",
        "        self.src_pad_idx = src_pad_idx\n",
        "        self.trg_pad_idx = trg_pad_idx\n",
        "        self.device = device\n",
        "\n",
        "    def generate_mask(self, src):\n",
        "        mask = (src != self.src_pad_idx)\n",
        "        return mask\n",
        "\n",
        "    def forward(self, src, trg, teacher_forcing_ratio=0.7):\n",
        "\n",
        "        src = src\n",
        "        trg = trg\n",
        "\n",
        "        ## TODO: write down the forward step\n",
        "        batch_size = trg.shape[0]\n",
        "        trg_len = trg.shape[1]\n",
        "        trg_output_dim = self.decoder.output_dim\n",
        "\n",
        "\n",
        "        predictions = torch.zeros(trg_len, batch_size, trg_output_dim).to(self.device)\n",
        "        enc_states, hidden, cell = self.encoder(src)\n",
        "\n",
        "        trg = trg.transpose(0,1)\n",
        "        mask = self.generate_mask(src)\n",
        "        # first input is the <sos> token\n",
        "        input = trg[0,:]\n",
        "\n",
        "        for idx in range(1, trg_len):\n",
        "\n",
        "            output, hidden, cell, attention = self.decoder(input, hidden, cell, enc_states, mask)\n",
        "            predictions[idx] = output\n",
        "            teacher_force = random.random() < teacher_forcing_ratio\n",
        "            top = output.argmax(1)\n",
        "            input = trg[idx] if teacher_force else top\n",
        "\n",
        "        return predictions, attention"
      ]
    },
    {
      "cell_type": "markdown",
      "metadata": {
        "id": "QUWWZn-bDUk0"
      },
      "source": [
        "### Training the Seq2Seq Model"
      ]
    },
    {
      "cell_type": "code",
      "execution_count": null,
      "metadata": {
        "colab": {
          "base_uri": "https://localhost:8080/"
        },
        "id": "kLTxAYrkDUk0",
        "outputId": "ab2a8015-8d68-4562-fac1-45b5b8415175"
      },
      "outputs": [
        {
          "output_type": "stream",
          "name": "stdout",
          "text": [
            "7853\n",
            "5893\n"
          ]
        }
      ],
      "source": [
        "INPUT_DIM = len(SRC.vocab)\n",
        "OUTPUT_DIM = len(TRG.vocab)\n",
        "print(INPUT_DIM)\n",
        "print(OUTPUT_DIM)\n",
        "# define your hyperparameters here\n",
        "\n",
        "embed_size = 128\n",
        "hidden_size = 256\n",
        "num_layers = 1\n",
        "dropout = 0.1\n",
        "bidirectional = False\n",
        "\n",
        "attention = Attention(hidden_size, 'vanilla')\n",
        "enc = LSTM_Encoder(INPUT_DIM, embed_size, hidden_size, num_layers, dropout, bidirectional)\n",
        "dec = LSTM_Decoder(OUTPUT_DIM, embed_size, hidden_size, num_layers, attention, dropout)"
      ]
    },
    {
      "cell_type": "code",
      "execution_count": null,
      "metadata": {
        "collapsed": true,
        "id": "sN18j7dSDUk1"
      },
      "outputs": [],
      "source": [
        "SRC_PAD_IDX = SRC.vocab.stoi[SRC.pad_token]\n",
        "TRG_PAD_IDX = TRG.vocab.stoi[TRG.pad_token]\n",
        "\n",
        "model = Seq2Seq(enc, dec, SRC_PAD_IDX, TRG_PAD_IDX, device).to(device)"
      ]
    },
    {
      "cell_type": "markdown",
      "metadata": {
        "id": "90oelYqBDUk1"
      },
      "source": [
        "We initialize model weights"
      ]
    },
    {
      "cell_type": "code",
      "execution_count": null,
      "metadata": {
        "collapsed": true,
        "id": "kJxD36PpDUk1"
      },
      "outputs": [],
      "source": [
        "def initialize_weights(m):\n",
        "    if hasattr(m, 'weight') and m.weight.dim() > 1:\n",
        "        nn.init.xavier_uniform_(m.weight.data)\n",
        "\n",
        "model.apply(initialize_weights);"
      ]
    },
    {
      "cell_type": "markdown",
      "metadata": {
        "id": "Hg4Vc5tsDUk1"
      },
      "source": [
        "We use Adam as our optimizer and CrossEntropyLoss. Also we set to ignore <pad> token in calculating loss"
      ]
    },
    {
      "cell_type": "code",
      "execution_count": null,
      "metadata": {
        "collapsed": true,
        "id": "4N-_pHKgDUk1"
      },
      "outputs": [],
      "source": [
        "LEARNING_RATE = 0.0005\n",
        "\n",
        "optimizer = torch.optim.Adam(model.parameters(), lr = LEARNING_RATE)"
      ]
    },
    {
      "cell_type": "code",
      "execution_count": null,
      "metadata": {
        "collapsed": true,
        "id": "oYbdmXFhDUk1"
      },
      "outputs": [],
      "source": [
        "criterion = nn.CrossEntropyLoss(ignore_index = TRG_PAD_IDX)"
      ]
    },
    {
      "cell_type": "markdown",
      "metadata": {
        "id": "QmItMA2eDUk2"
      },
      "source": [
        "### Training"
      ]
    },
    {
      "cell_type": "code",
      "execution_count": null,
      "metadata": {
        "collapsed": true,
        "id": "uVGH8O4FDUk2"
      },
      "outputs": [],
      "source": [
        "def train(model, iterator, optimizer, criterion):\n",
        "\n",
        "    model.train()\n",
        "\n",
        "    epoch_loss = 0\n",
        "\n",
        "    for i, batch in enumerate(iterator):\n",
        "\n",
        "        src = batch.src\n",
        "        trg = batch.trg\n",
        "\n",
        "        optimizer.zero_grad()\n",
        "\n",
        "        # TODO: write down your training code here\n",
        "\n",
        "        predictions, _ = model(src, trg)\n",
        "        output_dim = predictions.shape[-1]\n",
        "\n",
        "        trg = trg.transpose(0,1)\n",
        "        trg = trg[1:].reshape(-1)\n",
        "        preds = predictions[1:].reshape(-1, output_dim)\n",
        "        loss = criterion(preds, trg)\n",
        "\n",
        "        loss.backward()\n",
        "        optimizer.step()\n",
        "\n",
        "        epoch_loss += loss.item()\n",
        "\n",
        "    return epoch_loss / len(iterator)"
      ]
    },
    {
      "cell_type": "markdown",
      "metadata": {
        "id": "NCUFOts4DUk2"
      },
      "source": [
        "### Evaluation"
      ]
    },
    {
      "cell_type": "code",
      "execution_count": null,
      "metadata": {
        "collapsed": true,
        "id": "Xq1U5hHIDUk2"
      },
      "outputs": [],
      "source": [
        "def evaluate(model, iterator, criterion):\n",
        "\n",
        "    model.eval()\n",
        "\n",
        "    epoch_loss = 0\n",
        "\n",
        "    with torch.no_grad():\n",
        "\n",
        "        for i, batch in enumerate(iterator):\n",
        "\n",
        "            src = batch.src\n",
        "            trg = batch.trg\n",
        "\n",
        "            # TODO: write down your training code here\n",
        "\n",
        "            predictions,_ = model(src, trg, 0) # no teacher forcing as we are in eval mode\n",
        "            output_dim = predictions.shape[-1]\n",
        "            preds = predictions[1:].reshape(-1, output_dim)\n",
        "\n",
        "            trg = trg.transpose(0,1)\n",
        "            trg = trg[1:].reshape(-1)\n",
        "\n",
        "            loss = criterion(preds, trg)\n",
        "            epoch_loss += loss.item()\n",
        "\n",
        "    return epoch_loss / len(iterator)"
      ]
    },
    {
      "cell_type": "code",
      "execution_count": null,
      "metadata": {
        "collapsed": true,
        "id": "tr_1ORALDUk3"
      },
      "outputs": [],
      "source": [
        "def epoch_time(start_time, end_time):\n",
        "    elapsed_time = end_time - start_time\n",
        "    elapsed_mins = int(elapsed_time / 60)\n",
        "    elapsed_secs = int(elapsed_time - (elapsed_mins * 60))\n",
        "    return elapsed_mins, elapsed_secs"
      ]
    },
    {
      "cell_type": "markdown",
      "metadata": {
        "id": "pii217CJDUk8"
      },
      "source": [
        "### Train the model through multiple epochs"
      ]
    },
    {
      "cell_type": "code",
      "source": [
        "device"
      ],
      "metadata": {
        "colab": {
          "base_uri": "https://localhost:8080/"
        },
        "id": "OdE1JBMLk1lg",
        "outputId": "87216629-e62e-4c46-c620-47263b580cd2"
      },
      "execution_count": null,
      "outputs": [
        {
          "output_type": "execute_result",
          "data": {
            "text/plain": [
              "device(type='cuda')"
            ]
          },
          "metadata": {},
          "execution_count": 191
        }
      ]
    },
    {
      "cell_type": "code",
      "execution_count": null,
      "metadata": {
        "colab": {
          "base_uri": "https://localhost:8080/"
        },
        "id": "xbVRXZi8DUk8",
        "outputId": "14561642-b25a-43de-8440-06c5bce0be8a"
      },
      "outputs": [
        {
          "output_type": "stream",
          "name": "stdout",
          "text": [
            "Epoch: 01 | Time: 0m 39s\n",
            "\tTrain Loss: 5.385\n",
            "\t Val. Loss: 4.917\n",
            "Epoch: 02 | Time: 0m 39s\n",
            "\tTrain Loss: 4.612\n",
            "\t Val. Loss: 5.020\n",
            "Epoch: 03 | Time: 0m 41s\n",
            "\tTrain Loss: 4.300\n",
            "\t Val. Loss: 4.951\n",
            "Epoch: 04 | Time: 0m 39s\n",
            "\tTrain Loss: 4.038\n",
            "\t Val. Loss: 4.848\n",
            "Epoch: 05 | Time: 0m 39s\n",
            "\tTrain Loss: 3.872\n",
            "\t Val. Loss: 4.877\n",
            "Epoch: 06 | Time: 0m 39s\n",
            "\tTrain Loss: 3.738\n",
            "\t Val. Loss: 4.810\n",
            "Epoch: 07 | Time: 0m 38s\n",
            "\tTrain Loss: 3.610\n",
            "\t Val. Loss: 4.641\n",
            "Epoch: 08 | Time: 0m 41s\n",
            "\tTrain Loss: 3.466\n",
            "\t Val. Loss: 4.523\n",
            "Epoch: 09 | Time: 0m 38s\n",
            "\tTrain Loss: 3.298\n",
            "\t Val. Loss: 4.478\n",
            "Epoch: 10 | Time: 0m 38s\n",
            "\tTrain Loss: 3.198\n",
            "\t Val. Loss: 4.340\n"
          ]
        }
      ],
      "source": [
        "N_EPOCHS = 10\n",
        "\n",
        "best_valid_loss = float('inf')\n",
        "\n",
        "for epoch in range(N_EPOCHS):\n",
        "\n",
        "    start_time = time.time()\n",
        "\n",
        "    train_loss = train(model, train_iterator, optimizer, criterion)\n",
        "    valid_loss = evaluate(model, valid_iterator, criterion)\n",
        "\n",
        "    end_time = time.time()\n",
        "\n",
        "    epoch_mins, epoch_secs = epoch_time(start_time, end_time)\n",
        "\n",
        "    if valid_loss < best_valid_loss:\n",
        "        best_valid_loss = valid_loss\n",
        "        torch.save(model.state_dict(), 'my-model.pt')\n",
        "\n",
        "    print(f'Epoch: {epoch+1:02} | Time: {epoch_mins}m {epoch_secs}s')\n",
        "    print(f'\\tTrain Loss: {train_loss:.3f}')\n",
        "    print(f'\\t Val. Loss: {valid_loss:.3f}')"
      ]
    },
    {
      "cell_type": "code",
      "execution_count": null,
      "metadata": {
        "colab": {
          "base_uri": "https://localhost:8080/"
        },
        "id": "SPGJg7cMDUk9",
        "outputId": "8ee850a9-8dc7-49e7-9f86-de0858865920"
      },
      "outputs": [
        {
          "output_type": "stream",
          "name": "stdout",
          "text": [
            "| Test Loss: 4.322\n"
          ]
        }
      ],
      "source": [
        "# model.load_state_dict(torch.load('my-model.pt'))\n",
        "\n",
        "test_loss = evaluate(model, test_iterator, criterion)\n",
        "\n",
        "print(f'| Test Loss: {test_loss:.3f}')"
      ]
    },
    {
      "cell_type": "markdown",
      "metadata": {
        "id": "HlVZ7ULJDUk9"
      },
      "source": [
        "### Inference and attention visualization"
      ]
    },
    {
      "cell_type": "code",
      "execution_count": null,
      "metadata": {
        "collapsed": true,
        "id": "QQ3XyMqsDUk9"
      },
      "outputs": [],
      "source": [
        "import matplotlib.pyplot as plt\n",
        "import matplotlib.ticker as ticker"
      ]
    },
    {
      "cell_type": "code",
      "execution_count": null,
      "metadata": {
        "collapsed": true,
        "id": "dwTVWWQKDUk9"
      },
      "outputs": [],
      "source": [
        "def translate_sentence(sentence, src_field, trg_field, model, device, max_len = 20):\n",
        "\n",
        "    model.eval()\n",
        "\n",
        "    # TODO: write your code\n",
        "    # Add start and end tokens to the source sentence\n",
        "    src_tokens = sentence.copy()\n",
        "    src_tokens.insert(0, src_field.init_token)\n",
        "    src_tokens.append(src_field.eos_token)\n",
        "\n",
        "    token_indices = [src_field.vocab.stoi[token] for token in src_tokens]\n",
        "    src = torch.LongTensor(token_indices).unsqueeze(0).to(device)\n",
        "    with torch.no_grad():\n",
        "        outputs_encoder, hidden, cell = model.encoder(src)\n",
        "\n",
        "    mask = model.generate_mask(src)\n",
        "\n",
        "    trg_indices = [trg_field.vocab.stoi[\"<sos>\"]]\n",
        "    decoder_attentions = torch.zeros(max_len, 1, len(token_indices)).to(device)\n",
        "    for i in range(max_len):\n",
        "        trg_w = torch.LongTensor([trg_indices[-1]]).to(device)\n",
        "        with torch.no_grad():\n",
        "            output, hidden, cell, attention = model.decoder(\n",
        "                trg_w, hidden, cell, outputs_encoder, mask\n",
        "            )\n",
        "        decoder_attentions[i] = attention\n",
        "        best_guess = output.argmax(1)\n",
        "\n",
        "        trg_indices.append(best_guess)\n",
        "\n",
        "        if output.argmax(1) == trg_field.vocab.stoi[\"<eos>\"]:\n",
        "            break\n",
        "\n",
        "    decoded_words = [trg_field.vocab.itos[idx] for idx in trg_indices]\n",
        "    decoded_words = decoded_words[1:]\n",
        "    decoder_attentions = decoder_attentions[:len(trg_indices)-1]\n",
        "    return decoded_words, decoder_attentions.cpu()"
      ]
    },
    {
      "cell_type": "code",
      "execution_count": null,
      "metadata": {
        "collapsed": true,
        "id": "u3W46A2jDUk9"
      },
      "outputs": [],
      "source": [
        "def display_attention(sentence, translation, attention):\n",
        "    # Set up figure with colorbar\n",
        "    fig = plt.figure(figsize=(6,8))\n",
        "\n",
        "    ax = fig.add_subplot(111)\n",
        "\n",
        "    cax = ax.matshow(attention.squeeze(1).numpy(), cmap='bone')\n",
        "\n",
        "    # Set up axes\n",
        "    ax.tick_params(labelsize=12)\n",
        "    ax.set_xticklabels(['']+['<sos>']+[t.lower() for t in sentence]+['<eos>'],\n",
        "                           rotation=45)\n",
        "    ax.set_yticklabels(['']+translation)\n",
        "\n",
        "    # Show label at every tick\n",
        "    ax.xaxis.set_major_locator(ticker.MultipleLocator(1))\n",
        "    ax.yaxis.set_major_locator(ticker.MultipleLocator(1))\n",
        "\n",
        "    plt.show()\n",
        "    plt.close()\n",
        "\n"
      ]
    },
    {
      "cell_type": "markdown",
      "source": [
        "## Example 1"
      ],
      "metadata": {
        "id": "FQSxjrKpfeLd"
      }
    },
    {
      "cell_type": "code",
      "execution_count": null,
      "metadata": {
        "collapsed": true,
        "colab": {
          "base_uri": "https://localhost:8080/"
        },
        "id": "VqaVUpbqDUk-",
        "outputId": "21a75870-3a63-42f6-998c-3dd52dda5833"
      },
      "outputs": [
        {
          "output_type": "stream",
          "name": "stdout",
          "text": [
            "src = ['ein', 'brauner', 'hund', 'rennt', 'dem', 'schwarzen', 'hund', 'hinterher', '.']\n",
            "trg = ['a', 'brown', 'dog', 'is', 'running', 'after', 'the', 'black', 'dog', '.']\n"
          ]
        }
      ],
      "source": [
        "example_idx = 6\n",
        "\n",
        "src = vars(valid_data.examples[example_idx])['src']\n",
        "trg = vars(valid_data.examples[example_idx])['trg']\n",
        "\n",
        "print(f'src = {src}')\n",
        "print(f'trg = {trg}')"
      ]
    },
    {
      "cell_type": "code",
      "execution_count": null,
      "metadata": {
        "collapsed": true,
        "colab": {
          "base_uri": "https://localhost:8080/"
        },
        "id": "090Cn8PPDUk-",
        "outputId": "a23465a7-63d1-4526-d297-e90893f0d0f3"
      },
      "outputs": [
        {
          "output_type": "stream",
          "name": "stdout",
          "text": [
            "predicted trg = ['the', 'brown', 'dog', 'and', 'white', 'dog', 'is', 'playing', '.', '<eos>']\n"
          ]
        }
      ],
      "source": [
        "translation, attention = translate_sentence(src, SRC, TRG, model, device)\n",
        "\n",
        "print(f'predicted trg = {translation}')"
      ]
    },
    {
      "cell_type": "code",
      "execution_count": null,
      "metadata": {
        "colab": {
          "base_uri": "https://localhost:8080/",
          "height": 623
        },
        "id": "1xbB8GHIDUk-",
        "outputId": "5f56d913-1f3e-4de1-b230-6822ebab43ee"
      },
      "outputs": [
        {
          "output_type": "stream",
          "name": "stderr",
          "text": [
            "<ipython-input-196-fc7bbcf42805>:11: UserWarning: FixedFormatter should only be used together with FixedLocator\n",
            "  ax.set_xticklabels(['']+['<sos>']+[t.lower() for t in sentence]+['<eos>'],\n",
            "<ipython-input-196-fc7bbcf42805>:13: UserWarning: FixedFormatter should only be used together with FixedLocator\n",
            "  ax.set_yticklabels(['']+translation)\n"
          ]
        },
        {
          "output_type": "display_data",
          "data": {
            "text/plain": [
              "<Figure size 600x800 with 1 Axes>"
            ],
            "image/png": "[encoded data removed]"
          },
          "metadata": {}
        }
      ],
      "source": [
        "display_attention(src, translation, attention)"
      ]
    },
    {
      "cell_type": "markdown",
      "source": [
        "## Example 2"
      ],
      "metadata": {
        "id": "E3gtKzDKgJo0"
      }
    },
    {
      "cell_type": "code",
      "source": [
        "example_idx = 1\n",
        "\n",
        "src = vars(valid_data.examples[example_idx])['src']\n",
        "trg = vars(valid_data.examples[example_idx])['trg']\n",
        "\n",
        "print(f'src = {src}')\n",
        "print(f'trg = {trg}')"
      ],
      "metadata": {
        "colab": {
          "base_uri": "https://localhost:8080/"
        },
        "id": "vQ0N-CTygNkH",
        "outputId": "80208124-6136-46e1-9dc9-0b2c8389affb"
      },
      "execution_count": null,
      "outputs": [
        {
          "output_type": "stream",
          "name": "stdout",
          "text": [
            "src = ['ein', 'mann', 'schläft', 'in', 'einem', 'grünen', 'raum', 'auf', 'einem', 'sofa', '.']\n",
            "trg = ['a', 'man', 'sleeping', 'in', 'a', 'green', 'room', 'on', 'a', 'couch', '.']\n"
          ]
        }
      ]
    },
    {
      "cell_type": "code",
      "source": [
        "translation, attention = translate_sentence(src, SRC, TRG, model, device)\n",
        "print(f'predicted trg = {translation}')"
      ],
      "metadata": {
        "colab": {
          "base_uri": "https://localhost:8080/"
        },
        "id": "whTz5PjVgSt3",
        "outputId": "99c1d77c-ea81-478a-c981-f4977e820e53"
      },
      "execution_count": null,
      "outputs": [
        {
          "output_type": "stream",
          "name": "stdout",
          "text": [
            "predicted trg = ['a', 'man', 'in', 'a', 'blue', 'shirt', 'is', 'playing', 'a', 'a', '.', '.', '<eos>']\n"
          ]
        }
      ]
    },
    {
      "cell_type": "code",
      "source": [
        "display_attention(src, translation, attention)"
      ],
      "metadata": {
        "colab": {
          "base_uri": "https://localhost:8080/",
          "height": 645
        },
        "id": "pZ38C_05gZa2",
        "outputId": "8555535f-2d83-4a14-9593-086f37090683"
      },
      "execution_count": null,
      "outputs": [
        {
          "output_type": "stream",
          "name": "stderr",
          "text": [
            "<ipython-input-196-fc7bbcf42805>:11: UserWarning: FixedFormatter should only be used together with FixedLocator\n",
            "  ax.set_xticklabels(['']+['<sos>']+[t.lower() for t in sentence]+['<eos>'],\n",
            "<ipython-input-196-fc7bbcf42805>:13: UserWarning: FixedFormatter should only be used together with FixedLocator\n",
            "  ax.set_yticklabels(['']+translation)\n"
          ]
        },
        {
          "output_type": "display_data",
          "data": {
            "text/plain": [
              "<Figure size 600x800 with 1 Axes>"
            ],
            "image/png": "[encoded data removed]"
          },
          "metadata": {}
        }
      ]
    },
    {
      "cell_type": "markdown",
      "source": [
        "## Example 3"
      ],
      "metadata": {
        "id": "tGAxjjfnnHk3"
      }
    },
    {
      "cell_type": "code",
      "source": [
        "example_idx = 3\n",
        "\n",
        "src = vars(valid_data.examples[example_idx])['src']\n",
        "trg = vars(valid_data.examples[example_idx])['trg']\n",
        "\n",
        "print(f'src = {src}')\n",
        "print(f'trg = {trg}')"
      ],
      "metadata": {
        "colab": {
          "base_uri": "https://localhost:8080/"
        },
        "id": "nu0fiVrcnK5D",
        "outputId": "c88c3f2b-7c97-460d-e630-842d8f551b2b"
      },
      "execution_count": null,
      "outputs": [
        {
          "output_type": "stream",
          "name": "stdout",
          "text": [
            "src = ['zwei', 'männer', 'bauen', 'eine', 'blaue', 'eisfischerhütte', 'auf', 'einem', 'zugefrorenen', 'see', 'auf']\n",
            "trg = ['two', 'men', 'setting', 'up', 'a', 'blue', 'ice', 'fishing', 'hut', 'on', 'an', 'iced', 'over', 'lake']\n"
          ]
        }
      ]
    },
    {
      "cell_type": "code",
      "source": [
        "translation, attention = translate_sentence(src, SRC, TRG, model, device)\n",
        "print(f'predicted trg = {translation}')"
      ],
      "metadata": {
        "colab": {
          "base_uri": "https://localhost:8080/"
        },
        "id": "0f7XopFKnPJk",
        "outputId": "f7989b65-0f2d-4395-bdab-fb9b20ea7ef4"
      },
      "execution_count": null,
      "outputs": [
        {
          "output_type": "stream",
          "name": "stdout",
          "text": [
            "predicted trg = ['two', 'men', 'in', 'a', 'red', ',', 'one', 'is', 'on', 'a', 'dirt', '.', '<eos>']\n"
          ]
        }
      ]
    },
    {
      "cell_type": "code",
      "source": [
        "display_attention(src, translation, attention)"
      ],
      "metadata": {
        "colab": {
          "base_uri": "https://localhost:8080/",
          "height": 690
        },
        "id": "38a_Tx_hnSuU",
        "outputId": "09a5386a-60fc-4e3f-8148-657e7bac90a8"
      },
      "execution_count": null,
      "outputs": [
        {
          "output_type": "stream",
          "name": "stderr",
          "text": [
            "<ipython-input-196-fc7bbcf42805>:11: UserWarning: FixedFormatter should only be used together with FixedLocator\n",
            "  ax.set_xticklabels(['']+['<sos>']+[t.lower() for t in sentence]+['<eos>'],\n",
            "<ipython-input-196-fc7bbcf42805>:13: UserWarning: FixedFormatter should only be used together with FixedLocator\n",
            "  ax.set_yticklabels(['']+translation)\n"
          ]
        },
        {
          "output_type": "display_data",
          "data": {
            "text/plain": [
              "<Figure size 600x800 with 1 Axes>"
            ],
            "image/png": "[encoded data removed]"
          },
          "metadata": {}
        }
      ]
    },
    {
      "cell_type": "markdown",
      "metadata": {
        "id": "gFdu-mLGDUk_"
      },
      "source": [
        "### BLEU\n",
        "- Calculate BLEU for test set"
      ]
    },
    {
      "cell_type": "code",
      "execution_count": null,
      "metadata": {
        "collapsed": true,
        "id": "yLiNdyCRDUk_"
      },
      "outputs": [],
      "source": [
        "from torchtext.data.metrics import bleu_score\n",
        "\n",
        "def calculate_bleu(data, src_field, trg_field, model, device, max_len = 50):\n",
        "\n",
        "    trgs = []\n",
        "    pred_trgs = []\n",
        "\n",
        "    for datum in data:\n",
        "\n",
        "        src = vars(datum)['src']\n",
        "        trg = vars(datum)['trg']\n",
        "\n",
        "        pred_trg, _ = translate_sentence(src, src_field, trg_field, model, device, max_len)\n",
        "\n",
        "        #cut off <eos> token\n",
        "        pred_trg = pred_trg[:-1]\n",
        "\n",
        "        pred_trgs.append(pred_trg)\n",
        "        trgs.append([trg])\n",
        "\n",
        "    return bleu_score(pred_trgs, trgs)"
      ]
    },
    {
      "cell_type": "code",
      "execution_count": null,
      "metadata": {
        "collapsed": true,
        "colab": {
          "base_uri": "https://localhost:8080/"
        },
        "id": "OJfp73AWDUk_",
        "outputId": "9cc0c60e-d6a8-4d7e-9eb7-cf179ab0ab01"
      },
      "outputs": [
        {
          "output_type": "stream",
          "name": "stdout",
          "text": [
            "BLEU score = 10.09\n"
          ]
        }
      ],
      "source": [
        "bleu_score = calculate_bleu(test_data, SRC, TRG, model, device)\n",
        "\n",
        "print(f'BLEU score = {bleu_score*100:.2f}')"
      ]
    },
    {
      "cell_type": "markdown",
      "source": [
        "## Tuned Seq2Seq Model with Attention"
      ],
      "metadata": {
        "id": "TaytekQ_n5dl"
      }
    },
    {
      "cell_type": "code",
      "source": [
        "embed_size = 256\n",
        "hidden_size = 512\n",
        "num_layers = 2\n",
        "dropout = 0.1\n",
        "bidirectional = False\n",
        "\n",
        "attention = Attention(hidden_size, 'vanilla')\n",
        "enc = LSTM_Encoder(INPUT_DIM, embed_size, hidden_size, num_layers, dropout, bidirectional)\n",
        "dec = LSTM_Decoder(OUTPUT_DIM, embed_size, hidden_size, num_layers, attention, dropout)"
      ],
      "metadata": {
        "id": "kBl8ouEeoGuM"
      },
      "execution_count": null,
      "outputs": []
    },
    {
      "cell_type": "code",
      "execution_count": null,
      "metadata": {
        "collapsed": true,
        "id": "ygrkc1L-oYZV"
      },
      "outputs": [],
      "source": [
        "SRC_PAD_IDX = SRC.vocab.stoi[SRC.pad_token]\n",
        "TRG_PAD_IDX = TRG.vocab.stoi[TRG.pad_token]\n",
        "\n",
        "tuned_model = Seq2Seq(enc, dec, SRC_PAD_IDX, TRG_PAD_IDX, device).to(device)"
      ]
    },
    {
      "cell_type": "markdown",
      "metadata": {
        "id": "W347rJxPoYZW"
      },
      "source": [
        "We initialize model weights"
      ]
    },
    {
      "cell_type": "code",
      "execution_count": null,
      "metadata": {
        "collapsed": true,
        "id": "UH8YskgyoYZW"
      },
      "outputs": [],
      "source": [
        "def initialize_weights(m):\n",
        "    if hasattr(m, 'weight') and m.weight.dim() > 1:\n",
        "        nn.init.xavier_uniform_(m.weight.data)\n",
        "\n",
        "tuned_model.apply(initialize_weights);"
      ]
    },
    {
      "cell_type": "markdown",
      "metadata": {
        "id": "-skElCMroYZW"
      },
      "source": [
        "We use Adam as our optimizer and CrossEntropyLoss. Also we set to ignore <pad> token in calculating loss"
      ]
    },
    {
      "cell_type": "code",
      "execution_count": null,
      "metadata": {
        "collapsed": true,
        "id": "FYmX2mTloYZW"
      },
      "outputs": [],
      "source": [
        "LEARNING_RATE = 0.0005\n",
        "\n",
        "optimizer = torch.optim.Adam(tuned_model.parameters(), lr = LEARNING_RATE)"
      ]
    },
    {
      "cell_type": "code",
      "execution_count": null,
      "metadata": {
        "collapsed": true,
        "id": "7yeIpt43oYZW"
      },
      "outputs": [],
      "source": [
        "criterion = nn.CrossEntropyLoss(ignore_index = TRG_PAD_IDX)"
      ]
    },
    {
      "cell_type": "code",
      "source": [
        "N_EPOCHS = 10\n",
        "\n",
        "best_valid_loss = float('inf')\n",
        "\n",
        "for epoch in range(N_EPOCHS):\n",
        "\n",
        "    start_time = time.time()\n",
        "\n",
        "    train_loss = train(tuned_model, train_iterator, optimizer, criterion)\n",
        "    valid_loss = evaluate(tuned_model, valid_iterator, criterion)\n",
        "\n",
        "    end_time = time.time()\n",
        "\n",
        "    epoch_mins, epoch_secs = epoch_time(start_time, end_time)\n",
        "\n",
        "    if valid_loss < best_valid_loss:\n",
        "        best_valid_loss = valid_loss\n",
        "        torch.save(tuned_model.state_dict(), 'my-tuned-model.pt')\n",
        "\n",
        "    print(f'Epoch: {epoch+1:02} | Time: {epoch_mins}m {epoch_secs}s')\n",
        "    print(f'\\tTrain Loss: {train_loss:.3f}')\n",
        "    print(f'\\t Val. Loss: {valid_loss:.3f}')"
      ],
      "metadata": {
        "colab": {
          "base_uri": "https://localhost:8080/"
        },
        "id": "Mxuyv8QoonjV",
        "outputId": "b361e96b-f1d3-4b26-b855-d44f6e427c98"
      },
      "execution_count": null,
      "outputs": [
        {
          "output_type": "stream",
          "name": "stdout",
          "text": [
            "Epoch: 01 | Time: 0m 53s\n",
            "\tTrain Loss: 5.171\n",
            "\t Val. Loss: 5.098\n",
            "Epoch: 02 | Time: 0m 54s\n",
            "\tTrain Loss: 4.556\n",
            "\t Val. Loss: 4.894\n",
            "Epoch: 03 | Time: 0m 53s\n",
            "\tTrain Loss: 4.137\n",
            "\t Val. Loss: 4.857\n",
            "Epoch: 04 | Time: 0m 52s\n",
            "\tTrain Loss: 3.894\n",
            "\t Val. Loss: 4.819\n",
            "Epoch: 05 | Time: 0m 54s\n",
            "\tTrain Loss: 3.711\n",
            "\t Val. Loss: 4.734\n",
            "Epoch: 06 | Time: 0m 53s\n",
            "\tTrain Loss: 3.518\n",
            "\t Val. Loss: 4.676\n",
            "Epoch: 07 | Time: 0m 53s\n",
            "\tTrain Loss: 3.320\n",
            "\t Val. Loss: 4.590\n",
            "Epoch: 08 | Time: 0m 52s\n",
            "\tTrain Loss: 3.142\n",
            "\t Val. Loss: 4.501\n",
            "Epoch: 09 | Time: 0m 53s\n",
            "\tTrain Loss: 2.946\n",
            "\t Val. Loss: 4.325\n",
            "Epoch: 10 | Time: 0m 54s\n",
            "\tTrain Loss: 2.792\n",
            "\t Val. Loss: 4.216\n"
          ]
        }
      ]
    },
    {
      "cell_type": "code",
      "source": [
        "from torchtext.data.metrics import bleu_score\n",
        "\n",
        "bleu_score = calculate_bleu(test_data, SRC, TRG, tuned_model, device)\n",
        "\n",
        "print(f'BLEU score = {bleu_score*100:.2f}')"
      ],
      "metadata": {
        "colab": {
          "base_uri": "https://localhost:8080/"
        },
        "id": "Nr_7TJ_OoqNU",
        "outputId": "cd4dae51-f16e-455d-a348-8744671afac5"
      },
      "execution_count": null,
      "outputs": [
        {
          "output_type": "stream",
          "name": "stdout",
          "text": [
            "BLEU score = 13.44\n"
          ]
        }
      ]
    },
    {
      "cell_type": "markdown",
      "source": [
        "## Bidirectional Se2Seq LSTM with Attention"
      ],
      "metadata": {
        "id": "VVe-jmfApIwW"
      }
    },
    {
      "cell_type": "code",
      "source": [
        "embed_size = 256\n",
        "hidden_size = 512\n",
        "num_layers = 2\n",
        "dropout = 0.1\n",
        "bidirectional = True\n",
        "\n",
        "attention = Attention(hidden_size, 'vanilla')\n",
        "enc = LSTM_Encoder(INPUT_DIM, embed_size, hidden_size, num_layers, dropout, bidirectional)\n",
        "dec = LSTM_Decoder(OUTPUT_DIM, embed_size, hidden_size, num_layers, attention, dropout)"
      ],
      "metadata": {
        "id": "no9rnZ9qpT-Z"
      },
      "execution_count": null,
      "outputs": []
    },
    {
      "cell_type": "code",
      "execution_count": null,
      "metadata": {
        "collapsed": true,
        "id": "1DYH03bqpT-i"
      },
      "outputs": [],
      "source": [
        "SRC_PAD_IDX = SRC.vocab.stoi[SRC.pad_token]\n",
        "TRG_PAD_IDX = TRG.vocab.stoi[TRG.pad_token]\n",
        "\n",
        "bidirectional_lstm_enc_model = Seq2Seq(enc, dec, SRC_PAD_IDX, TRG_PAD_IDX, device).to(device)"
      ]
    },
    {
      "cell_type": "markdown",
      "metadata": {
        "id": "bLkkMqThpT-i"
      },
      "source": [
        "We initialize model weights"
      ]
    },
    {
      "cell_type": "code",
      "execution_count": null,
      "metadata": {
        "collapsed": true,
        "id": "TLZhAvUEpT-i"
      },
      "outputs": [],
      "source": [
        "def initialize_weights(m):\n",
        "    if hasattr(m, 'weight') and m.weight.dim() > 1:\n",
        "        nn.init.xavier_uniform_(m.weight.data)\n",
        "\n",
        "bidirectional_lstm_enc_model.apply(initialize_weights);"
      ]
    },
    {
      "cell_type": "markdown",
      "metadata": {
        "id": "kPesxOTqpT-i"
      },
      "source": [
        "We use Adam as our optimizer and CrossEntropyLoss. Also we set to ignore <pad> token in calculating loss"
      ]
    },
    {
      "cell_type": "code",
      "execution_count": null,
      "metadata": {
        "collapsed": true,
        "id": "6uBk7zfFpT-i"
      },
      "outputs": [],
      "source": [
        "LEARNING_RATE = 0.0005\n",
        "\n",
        "optimizer = torch.optim.Adam(bidirectional_lstm_enc_model.parameters(), lr = LEARNING_RATE)"
      ]
    },
    {
      "cell_type": "code",
      "execution_count": null,
      "metadata": {
        "collapsed": true,
        "id": "NPumMF6YpT-i"
      },
      "outputs": [],
      "source": [
        "criterion = nn.CrossEntropyLoss(ignore_index = TRG_PAD_IDX)"
      ]
    },
    {
      "cell_type": "code",
      "source": [
        "N_EPOCHS = 10\n",
        "\n",
        "best_valid_loss = float('inf')\n",
        "\n",
        "for epoch in range(N_EPOCHS):\n",
        "\n",
        "    start_time = time.time()\n",
        "\n",
        "    train_loss = train(bidirectional_lstm_enc_model, train_iterator, optimizer, criterion)\n",
        "    valid_loss = evaluate(bidirectional_lstm_enc_model, valid_iterator, criterion)\n",
        "\n",
        "    end_time = time.time()\n",
        "\n",
        "    epoch_mins, epoch_secs = epoch_time(start_time, end_time)\n",
        "\n",
        "    if valid_loss < best_valid_loss:\n",
        "        best_valid_loss = valid_loss\n",
        "        torch.save(bidirectional_lstm_enc_model.state_dict(), 'bidirectional_lstm_enc_model.pt')\n",
        "\n",
        "    print(f'Epoch: {epoch+1:02} | Time: {epoch_mins}m {epoch_secs}s')\n",
        "    print(f'\\tTrain Loss: {train_loss:.3f}')\n",
        "    print(f'\\t Val. Loss: {valid_loss:.3f}')"
      ],
      "metadata": {
        "colab": {
          "base_uri": "https://localhost:8080/"
        },
        "outputId": "f6f664a2-8a55-41f3-ed00-be464fdf2105",
        "id": "hoPEtvUGpT-i"
      },
      "execution_count": null,
      "outputs": [
        {
          "output_type": "stream",
          "name": "stdout",
          "text": [
            "Epoch: 01 | Time: 1m 4s\n",
            "\tTrain Loss: 5.121\n",
            "\t Val. Loss: 5.065\n",
            "Epoch: 02 | Time: 1m 5s\n",
            "\tTrain Loss: 4.520\n",
            "\t Val. Loss: 5.311\n",
            "Epoch: 03 | Time: 1m 0s\n",
            "\tTrain Loss: 4.194\n",
            "\t Val. Loss: 5.280\n",
            "Epoch: 04 | Time: 1m 0s\n",
            "\tTrain Loss: 3.986\n",
            "\t Val. Loss: 5.073\n",
            "Epoch: 05 | Time: 1m 2s\n",
            "\tTrain Loss: 3.796\n",
            "\t Val. Loss: 4.742\n",
            "Epoch: 06 | Time: 0m 59s\n",
            "\tTrain Loss: 3.607\n",
            "\t Val. Loss: 4.761\n",
            "Epoch: 07 | Time: 1m 0s\n",
            "\tTrain Loss: 3.412\n",
            "\t Val. Loss: 4.575\n",
            "Epoch: 08 | Time: 1m 1s\n",
            "\tTrain Loss: 3.207\n",
            "\t Val. Loss: 4.464\n",
            "Epoch: 09 | Time: 1m 1s\n",
            "\tTrain Loss: 3.003\n",
            "\t Val. Loss: 4.348\n",
            "Epoch: 10 | Time: 1m 1s\n",
            "\tTrain Loss: 2.829\n",
            "\t Val. Loss: 4.131\n"
          ]
        }
      ]
    },
    {
      "cell_type": "code",
      "source": [
        "from torchtext.data.metrics import bleu_score\n",
        "\n",
        "bleu_score = calculate_bleu(test_data, SRC, TRG, bidirectional_lstm_enc_model, device)\n",
        "\n",
        "print(f'BLEU score = {bleu_score*100:.2f}')"
      ],
      "metadata": {
        "colab": {
          "base_uri": "https://localhost:8080/"
        },
        "id": "1hgg_eJspT-i",
        "outputId": "c1caefa7-d5df-44ce-bb84-5dceaba7eaa3"
      },
      "execution_count": null,
      "outputs": [
        {
          "output_type": "stream",
          "name": "stdout",
          "text": [
            "BLEU score = 16.42\n"
          ]
        }
      ]
    },
    {
      "cell_type": "markdown",
      "source": [
        "## Seq2Seeq LSTM Model with Additive Attention"
      ],
      "metadata": {
        "id": "N4q6eTwQpaSE"
      }
    },
    {
      "cell_type": "code",
      "source": [
        "embed_size = 128\n",
        "hidden_size = 256\n",
        "num_layers = 1\n",
        "dropout = 0.1\n",
        "bidirectional = False\n",
        "\n",
        "attention = Attention(hidden_size, 'additive')\n",
        "enc = LSTM_Encoder(INPUT_DIM, embed_size, hidden_size, num_layers, dropout, bidirectional)\n",
        "dec = LSTM_Decoder(OUTPUT_DIM, embed_size, hidden_size, num_layers, attention, dropout)"
      ],
      "metadata": {
        "colab": {
          "base_uri": "https://localhost:8080/"
        },
        "id": "Q7blbCVfpsTI",
        "outputId": "eaa14e73-bd03-4aa3-9995-70417a23413f"
      },
      "execution_count": null,
      "outputs": [
        {
          "output_type": "stream",
          "name": "stderr",
          "text": [
            "/usr/local/lib/python3.10/dist-packages/torch/nn/modules/rnn.py:82: UserWarning: dropout option adds dropout after all but last recurrent layer, so non-zero dropout expects num_layers greater than 1, but got dropout=0.1 and num_layers=1\n",
            "  warnings.warn(\"dropout option adds dropout after all but last \"\n"
          ]
        }
      ]
    },
    {
      "cell_type": "code",
      "execution_count": null,
      "metadata": {
        "collapsed": true,
        "id": "-fkvndlApsTQ"
      },
      "outputs": [],
      "source": [
        "SRC_PAD_IDX = SRC.vocab.stoi[SRC.pad_token]\n",
        "TRG_PAD_IDX = TRG.vocab.stoi[TRG.pad_token]\n",
        "\n",
        "additive_attn_model = Seq2Seq(enc, dec, SRC_PAD_IDX, TRG_PAD_IDX, device).to(device)"
      ]
    },
    {
      "cell_type": "markdown",
      "metadata": {
        "id": "wdqd6TVFpsTQ"
      },
      "source": [
        "We initialize model weights"
      ]
    },
    {
      "cell_type": "code",
      "execution_count": null,
      "metadata": {
        "collapsed": true,
        "id": "5Qqf6MfGpsTQ"
      },
      "outputs": [],
      "source": [
        "def initialize_weights(m):\n",
        "    if hasattr(m, 'weight') and m.weight.dim() > 1:\n",
        "        nn.init.xavier_uniform_(m.weight.data)\n",
        "\n",
        "additive_attn_model.apply(initialize_weights);"
      ]
    },
    {
      "cell_type": "markdown",
      "metadata": {
        "id": "C5uz48rkpsTQ"
      },
      "source": [
        "We use Adam as our optimizer and CrossEntropyLoss. Also we set to ignore <pad> token in calculating loss"
      ]
    },
    {
      "cell_type": "code",
      "execution_count": null,
      "metadata": {
        "collapsed": true,
        "id": "xAUw25OlpsTQ"
      },
      "outputs": [],
      "source": [
        "LEARNING_RATE = 0.0005\n",
        "\n",
        "optimizer = torch.optim.Adam(additive_attn_model.parameters(), lr = LEARNING_RATE)"
      ]
    },
    {
      "cell_type": "code",
      "execution_count": null,
      "metadata": {
        "collapsed": true,
        "id": "L6dC-7ZCpsTQ"
      },
      "outputs": [],
      "source": [
        "criterion = nn.CrossEntropyLoss(ignore_index = TRG_PAD_IDX)"
      ]
    },
    {
      "cell_type": "code",
      "source": [
        "N_EPOCHS = 10\n",
        "\n",
        "best_valid_loss = float('inf')\n",
        "\n",
        "for epoch in range(N_EPOCHS):\n",
        "\n",
        "    start_time = time.time()\n",
        "\n",
        "    train_loss = train(additive_attn_model, train_iterator, optimizer, criterion)\n",
        "    valid_loss = evaluate(additive_attn_model, valid_iterator, criterion)\n",
        "\n",
        "    end_time = time.time()\n",
        "\n",
        "    epoch_mins, epoch_secs = epoch_time(start_time, end_time)\n",
        "\n",
        "    if valid_loss < best_valid_loss:\n",
        "        best_valid_loss = valid_loss\n",
        "        torch.save(additive_attn_model.state_dict(), 'additive_attn_model.pt')\n",
        "\n",
        "    print(f'Epoch: {epoch+1:02} | Time: {epoch_mins}m {epoch_secs}s')\n",
        "    print(f'\\tTrain Loss: {train_loss:.3f}')\n",
        "    print(f'\\t Val. Loss: {valid_loss:.3f}')"
      ],
      "metadata": {
        "colab": {
          "base_uri": "https://localhost:8080/"
        },
        "outputId": "874cbb46-426f-4e8b-f374-1923139862fd",
        "id": "4au4AVuZpsTQ"
      },
      "execution_count": null,
      "outputs": [
        {
          "output_type": "stream",
          "name": "stdout",
          "text": [
            "Epoch: 01 | Time: 0m 41s\n",
            "\tTrain Loss: 5.340\n",
            "\t Val. Loss: 4.888\n",
            "Epoch: 02 | Time: 0m 40s\n",
            "\tTrain Loss: 4.627\n",
            "\t Val. Loss: 4.982\n",
            "Epoch: 03 | Time: 0m 40s\n",
            "\tTrain Loss: 4.321\n",
            "\t Val. Loss: 4.932\n",
            "Epoch: 04 | Time: 0m 42s\n",
            "\tTrain Loss: 4.104\n",
            "\t Val. Loss: 4.970\n",
            "Epoch: 05 | Time: 0m 41s\n",
            "\tTrain Loss: 3.955\n",
            "\t Val. Loss: 4.869\n",
            "Epoch: 06 | Time: 0m 41s\n",
            "\tTrain Loss: 3.806\n",
            "\t Val. Loss: 4.860\n",
            "Epoch: 07 | Time: 0m 40s\n",
            "\tTrain Loss: 3.676\n",
            "\t Val. Loss: 4.876\n",
            "Epoch: 08 | Time: 0m 40s\n",
            "\tTrain Loss: 3.540\n",
            "\t Val. Loss: 4.767\n",
            "Epoch: 09 | Time: 0m 40s\n",
            "\tTrain Loss: 3.432\n",
            "\t Val. Loss: 4.646\n",
            "Epoch: 10 | Time: 0m 42s\n",
            "\tTrain Loss: 3.276\n",
            "\t Val. Loss: 4.546\n"
          ]
        }
      ]
    },
    {
      "cell_type": "code",
      "source": [
        "from torchtext.data.metrics import bleu_score\n",
        "\n",
        "bleu_score = calculate_bleu(test_data, SRC, TRG, additive_attn_model, device)\n",
        "\n",
        "print(f'BLEU score = {bleu_score*100:.2f}')"
      ],
      "metadata": {
        "colab": {
          "base_uri": "https://localhost:8080/"
        },
        "id": "jV3OlnIUpsTQ",
        "outputId": "268216d7-37ef-4c6b-d388-52e08e7f514c"
      },
      "execution_count": null,
      "outputs": [
        {
          "output_type": "stream",
          "name": "stdout",
          "text": [
            "BLEU score = 8.38\n"
          ]
        }
      ]
    }
  ],
  "metadata": {
    "kernelspec": {
      "display_name": "Python 3",
      "name": "python3"
    },
    "language_info": {
      "codemirror_mode": {
        "name": "ipython",
        "version": 3
      },
      "file_extension": ".py",
      "mimetype": "text/x-python",
      "name": "python",
      "nbconvert_exporter": "python",
      "pygments_lexer": "ipython3",
      "version": "3.6.8"
    },
    "colab": {
      "provenance": [],
      "gpuType": "T4"
    },
    "accelerator": "GPU"
  },
  "nbformat": 4,
  "nbformat_minor": 0
}