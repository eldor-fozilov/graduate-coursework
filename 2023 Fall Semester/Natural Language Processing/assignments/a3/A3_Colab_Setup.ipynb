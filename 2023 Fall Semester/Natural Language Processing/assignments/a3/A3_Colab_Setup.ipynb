{
 "cells": [
  {
   "cell_type": "markdown",
   "metadata": {
    "id": "hyX-uxPIo7Qa"
   },
   "source": [
    "# Assignment 3\n",
    "## Note: DON'T RUN THIS UNTIL YOU HAVE MADE SURE YOUR CODE WORKS LOCALLY; THIS NOTEBOOK TAKES **~2-3 HOUR TO RUN**.\n",
    "\n",
    "## See https://edstem.org/us/courses/33056/discussion/2523780 For a guide to use Colab GPUs.\n",
    "\n",
    "Please make a copy of this Colab notebook in your own Google Drive to edit it.\n",
    "\n",
    "This serves as an Azure alternative in case we have a dreadful case of GPU shortage. Feel free to copy this setup for other assignments."
   ]
  },
  {
   "cell_type": "markdown",
   "metadata": {
    "id": "Dxsy3M-YpFWA"
   },
   "source": [
    "## 1. Upload your files"
   ]
  },
  {
   "cell_type": "markdown",
   "metadata": {
    "id": "uE0rGVDlq_2b"
   },
   "source": [
    "### Option 1: Upload your files to your Google Drive, and mount the drive\n",
    "You can upload your files to your own Google drive. This is the ''safest'' way to set up the Colab, since your files are stored in your Google Drive instead of the Colab Runtime, which may terminate if you leave it on for too long (~8 hours, or if you put your laptop to sleep mode) and lose your files."
   ]
  },
  {
   "cell_type": "code",
   "execution_count": null,
   "metadata": {
    "collapsed": true,
    "id": "6Z0FgJnDrNpz"
   },
   "outputs": [],
   "source": [
    "from google.colab import drive\n",
    "drive.mount('/content/drive')"
   ]
  },
  {
   "cell_type": "markdown",
   "metadata": {
    "id": "rSqOgenpGFG-"
   },
   "source": [
    "### Option 2: Zip your folder, upload, then unzip\n",
    "Zip your code folder. Upload the folder of your code to the runtime (drag and drop) so that the structure of Files would look like the following:\n",
    "- ..\n",
    "- sample_data\n",
    "- your_folder.zip\n",
    "\n",
    "Then run the following code block to unzip the file.\n",
    "\n",
    "NOTE THAT IF YOU LEAVE YOUR COLAB NOTEBOOK ALONE FOR TOO LONG, THERE IS A RISK THAT YOU WILL LOSE YOUR FILES."
   ]
  },
  {
   "cell_type": "code",
   "execution_count": null,
   "metadata": {
    "collapsed": true,
    "id": "jAbGRHZIEFhl"
   },
   "outputs": [],
   "source": [
    "! unzip solution.zip # replace this with the name of your zip file"
   ]
  },
  {
   "cell_type": "markdown",
   "metadata": {
    "id": "d9AVj8wKEYDD"
   },
   "source": [
    "## 2. Relocate to your code directory"
   ]
  },
  {
   "cell_type": "code",
   "execution_count": null,
   "metadata": {
    "collapsed": true,
    "id": "CLJeBmWgEcxP"
   },
   "outputs": [],
   "source": [
    "%cd solution\n",
    "! ls # verify that you are in the right directory"
   ]
  },
  {
   "cell_type": "markdown",
   "metadata": {
    "id": "9AXw039SE0Ml"
   },
   "source": [
    "## 3. Run assignment-specific commands"
   ]
  },
  {
   "cell_type": "markdown",
   "metadata": {
    "id": "FMlxFOX7Hskt"
   },
   "source": [
    "To run on GPU, please make sure your runtime type is using the GPU accelerator! To do so, click on:\n",
    "\n",
    "![colab1.PNG](data:image/png;base64,iVBORw0KGgoAAAANSUhEUgAAAIYAAAAzCAYAAABSfnBXAAAAAXNSR0IArs4c6QAAAARnQU1BAACxjwv8YQUAAAAJcEhZcwAAFiUAABYlAUlSJPAAAARCSURBVHhe7ZzPahtXFIf9CH2EvkHfYVYDhgEXrQxxBYGQxdBFRMCiUGPIEEg2VgI2XdSG4EXQwqgbFYwMRllEJUalBEFxQoOwQDQgYphgKir49R7NlTQzuh5J6aQal98HB2aO/ix8P5977r2DVkCIAYpBjFAMYoRiECMUgxihGMQIxSBGKAYxQjGIkZXz83MwGPFgxSBGKAYxQjGIEYpBjFAMYmQ5YnQrcC0L1ihWcygcNOEP9OtDfNQ2LTg/tPT9iCZK6jPObjyv0N/rHnV14npOTk5uRCyLJYpRUkOsuXyDH10bWye+Tih6VRTWHDhre2hFhAnEsGwP9Sud0rSf52Hb9txi7O/vRyJrUAxF98iFtTPJ9H4uYP1ZU1UNB3uvdXKIiOHBe2jDe9HXOaGFvTUXpR2XYqRARitGFxVXCaFmC/+4CDskTCBGCY3Xe3DuV9HTWej7xrN1ipEC2egxrBy2jt6orkLTLiMvU4hcX9ZQjEwbQcWo+1IhCqgOzeijritIc2f+HoNiXE8GKkZQHUpnk2mhrf7rJ01nD9X7FrzT0esihouKGnvpKfLP28BVHd5qIA/FSIdMTCX9Fx5st6IUEaQShKuJjs2arigTMYbfc+sQDdWPjFYpFCMdPosY7/76U19dQ7zHGLRxeFs3mdIrxFciskKxRtNGSIxhNZGVSx5lVTgEipEOqYvxzdsn+OLVLfz68Q+dMRAXQyGrEEs1jy93nWB6iBD0EMGAh8XQ1eZ2GaNPLCLGTYhlkaoYIsXKy6/x1W/38OHvjzpLbiKpiUEp/l+kIgalyBadTgfb29uJIe9J4l+LQSmyycXFBTY2NqZWd5KT12YxUwwZ+Pzbp/ouCqXINnE55pVCSBRDBlsGXQY/Lsd/JsWVj37kEI0swkiORaQQZlYMkxxpSiHLy3Gpk+P33QZ6YxFkn8LG1mno1HUK2TmdLF/nxbQ0zGKkgQixiBTCXD1GWI4vm3dTrRSRfYd+F7WHOdgP6pNzk5l8uhjxDa6sbXKlJcanMHfzGZYjLSmEqQ2pgWyJR3cyS2fBdffYQ35VqouN/IMausPKEhajj+bTHHI7jdhDP9NQjGTmFkMQGWQaSUsKwbRTOcz9FByoj8V4X4G79hiNS3U96KL6nY3isdSViRj+WQnr31a0MMlQjGQWEuNzcK0YOjcWY3j87uKw1Ys1o4EY5V+UOOslNOecgyhGMtkVI14xFP7vVTy+p3qQqanEQe77LRTzqqJQjFTInhgJPcaYQQ/1R46WR8S4g3JHiXPqIfdI9RfBuxKhGMlkSwzDqmQkRvDMRhlteV5n4KMREWPUfPZQ27ThJS5vAyhGMpkQY7KPkUfxILyPEa4YPloHBeQSVyWKThmuPAo4ww35o9+EWBZLF4NkE4pBjFAMYoRiECMUgxihGMQIf4OLYQxWDGKEYhAjFIMYoRjECMUgBoB/AFmUbgFoGPesAAAAAElFTkSuQmCC)\n",
    "\n",
    "on the upper-right hand corner, then click \"Change runtime type\" in the bottom-left of the popped-up panel, then select \"GPU\" as your hardware accelerator."
   ]
  },
  {
   "cell_type": "markdown",
   "metadata": {
    "id": "0HS7OfiZFZ9f"
   },
   "source": [
    "Now you can directly run the commands specified by the assignment files in the following code blocks."
   ]
  },
  {
   "cell_type": "markdown",
   "metadata": {
    "id": "4t9flXje7qhm"
   },
   "source": [
    "Q 2d) Make predictions (without pretraining).\n",
    "\n"
   ]
  },
  {
   "cell_type": "code",
   "execution_count": null,
   "metadata": {
    "collapsed": true,
    "id": "XtafSjURwW0a"
   },
   "outputs": [],
   "source": [
    "! bash scripts/run_vanilla_no_pretraining.sh"
   ]
  },
  {
   "cell_type": "markdown",
   "metadata": {
    "id": "KvosRNlqwyIh"
   },
   "source": [
    "Q 2f) Pretrain, finetune, and make predictions.\n",
    "\n"
   ]
  },
  {
   "cell_type": "code",
   "execution_count": null,
   "metadata": {
    "collapsed": true,
    "id": "HICuFxL8Bnvl"
   },
   "outputs": [],
   "source": [
    "! bash scripts/run_vanilla.sh"
   ]
  },
  {
   "cell_type": "markdown",
   "metadata": {
    "id": "gGPO479PxFmE"
   },
   "source": [
    "Q 2g) Research! Write and try out a more efficient variant of Attention\n"
   ]
  },
  {
   "cell_type": "code",
   "execution_count": null,
   "metadata": {
    "collapsed": true,
    "id": "fnAS6t7GHxIV"
   },
   "outputs": [],
   "source": [
    "! bash scripts/run_perceiver.sh"
   ]
  },
  {
   "cell_type": "markdown",
   "metadata": {
    "id": "fy9Ny98mz-Kw"
   },
   "source": [
    "#### After you have verified that everything works, you can collect your submission\n"
   ]
  },
  {
   "cell_type": "code",
   "execution_count": null,
   "metadata": {
    "collapsed": true,
    "id": "7oPYwSDVAI29"
   },
   "outputs": [],
   "source": [
    "! sh collect_submission.sh"
   ]
  },
  {
   "cell_type": "code",
   "execution_count": null,
   "metadata": {
    "collapsed": true,
    "id": "KD9B9IbBrPRK"
   },
   "outputs": [],
   "source": []
  },
  {
   "cell_type": "markdown",
   "metadata": {
    "id": "TiwHMGNlFhK_"
   },
   "source": [
    "## 5. Download your files\n",
    "If you used Option 2, where your files are not directly in your Google drive, you would need to download the files you have generated in the process. You can zip the entire folder and download the whole folder in the following cell block:"
   ]
  },
  {
   "cell_type": "code",
   "execution_count": null,
   "metadata": {
    "collapsed": true,
    "id": "QIO3ftjEFxDX"
   },
   "outputs": [],
   "source": [
    "!zip folder_name downloading.zip\n",
    "from google.colab import files\n",
    "files.download('downloading.zip')"
   ]
  },
  {
   "cell_type": "code",
   "execution_count": null,
   "metadata": {
    "collapsed": true,
    "id": "2tkEd8Gq7akI"
   },
   "outputs": [],
   "source": []
  }
 ],
 "metadata": {
  "accelerator": "GPU",
  "colab": {
   "provenance": []
  },
  "gpuClass": "standard",
  "kernelspec": {
   "display_name": "Python 3",
   "language": "python",
   "name": "python3"
  },
  "language_info": {
   "codemirror_mode": {
    "name": "ipython",
    "version": 3
   },
   "file_extension": ".py",
   "mimetype": "text/x-python",
   "name": "python",
   "nbconvert_exporter": "python",
   "pygments_lexer": "ipython3",
   "version": "3.6.8"
  }
 },
 "nbformat": 4,
 "nbformat_minor": 1
}
